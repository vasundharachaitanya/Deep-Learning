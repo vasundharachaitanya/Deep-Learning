{
 "cells": [
  {
   "cell_type": "markdown",
   "id": "63821759",
   "metadata": {},
   "source": [
    "## Importing Libraries "
   ]
  },
  {
   "cell_type": "code",
   "execution_count": 1,
   "id": "026414a5",
   "metadata": {},
   "outputs": [],
   "source": [
    "import numpy as np\n",
    "import pandas as pd  \n",
    "from sklearn.preprocessing import StandardScaler\n",
    "from sklearn.model_selection import train_test_split\n",
    "from keras import Sequential \n",
    "from keras.layers import Dense \n",
    "from keras.regularizers import L1,L2,L1L2 \n",
    "from keras.optimizers import SGD  \n",
    "import matplotlib.pyplot as plt \n",
    "import seaborn as sns  "
   ]
  },
  {
   "cell_type": "markdown",
   "id": "93377503",
   "metadata": {},
   "source": [
    "## Importing the CSV file"
   ]
  },
  {
   "cell_type": "code",
   "execution_count": 2,
   "id": "9b86371a",
   "metadata": {},
   "outputs": [
    {
     "data": {
      "text/html": [
       "<div>\n",
       "<style scoped>\n",
       "    .dataframe tbody tr th:only-of-type {\n",
       "        vertical-align: middle;\n",
       "    }\n",
       "\n",
       "    .dataframe tbody tr th {\n",
       "        vertical-align: top;\n",
       "    }\n",
       "\n",
       "    .dataframe thead th {\n",
       "        text-align: right;\n",
       "    }\n",
       "</style>\n",
       "<table border=\"1\" class=\"dataframe\">\n",
       "  <thead>\n",
       "    <tr style=\"text-align: right;\">\n",
       "      <th></th>\n",
       "      <th>0</th>\n",
       "      <th>1</th>\n",
       "      <th>2</th>\n",
       "    </tr>\n",
       "  </thead>\n",
       "  <tbody>\n",
       "    <tr>\n",
       "      <th>0</th>\n",
       "      <td>7.0</td>\n",
       "      <td>3.2</td>\n",
       "      <td>0</td>\n",
       "    </tr>\n",
       "    <tr>\n",
       "      <th>1</th>\n",
       "      <td>6.4</td>\n",
       "      <td>3.2</td>\n",
       "      <td>0</td>\n",
       "    </tr>\n",
       "    <tr>\n",
       "      <th>2</th>\n",
       "      <td>6.9</td>\n",
       "      <td>3.1</td>\n",
       "      <td>0</td>\n",
       "    </tr>\n",
       "    <tr>\n",
       "      <th>3</th>\n",
       "      <td>5.5</td>\n",
       "      <td>2.3</td>\n",
       "      <td>0</td>\n",
       "    </tr>\n",
       "    <tr>\n",
       "      <th>4</th>\n",
       "      <td>6.5</td>\n",
       "      <td>2.8</td>\n",
       "      <td>0</td>\n",
       "    </tr>\n",
       "  </tbody>\n",
       "</table>\n",
       "</div>"
      ],
      "text/plain": [
       "     0    1  2\n",
       "0  7.0  3.2  0\n",
       "1  6.4  3.2  0\n",
       "2  6.9  3.1  0\n",
       "3  5.5  2.3  0\n",
       "4  6.5  2.8  0"
      ]
     },
     "execution_count": 2,
     "metadata": {},
     "output_type": "execute_result"
    }
   ],
   "source": [
    "df=pd.read_csv(r\"C:\\Users\\sss\\Downloads\\Deep_Learning related\\DL_CLASS\\ASSIGNMENT_4\\Multiple CSV\\6.overlap.csv\",header=None) \n",
    "df.head() "
   ]
  },
  {
   "cell_type": "code",
   "execution_count": 3,
   "id": "2353642a",
   "metadata": {},
   "outputs": [
    {
     "name": "stdout",
     "output_type": "stream",
     "text": [
      "<class 'pandas.core.frame.DataFrame'>\n",
      "RangeIndex: 100 entries, 0 to 99\n",
      "Data columns (total 3 columns):\n",
      " #   Column  Non-Null Count  Dtype  \n",
      "---  ------  --------------  -----  \n",
      " 0   0       100 non-null    float64\n",
      " 1   1       100 non-null    float64\n",
      " 2   2       100 non-null    int64  \n",
      "dtypes: float64(2), int64(1)\n",
      "memory usage: 2.5 KB\n"
     ]
    }
   ],
   "source": [
    "df.info()  "
   ]
  },
  {
   "cell_type": "code",
   "execution_count": 4,
   "id": "31c482d4",
   "metadata": {},
   "outputs": [
    {
     "data": {
      "text/plain": [
       "2\n",
       "0    50\n",
       "1    50\n",
       "Name: count, dtype: int64"
      ]
     },
     "execution_count": 4,
     "metadata": {},
     "output_type": "execute_result"
    }
   ],
   "source": [
    "df[2].value_counts()  "
   ]
  },
  {
   "cell_type": "markdown",
   "id": "0259457d",
   "metadata": {},
   "source": [
    "## checking outliers "
   ]
  },
  {
   "cell_type": "code",
   "execution_count": 5,
   "id": "c51a27d9",
   "metadata": {},
   "outputs": [
    {
     "data": {
      "text/plain": [
       "<Axes: >"
      ]
     },
     "execution_count": 5,
     "metadata": {},
     "output_type": "execute_result"
    },
    {
     "data": {
      "image/png": "[encoded data removed]",
      "text/plain": [
       "<Figure size 640x480 with 1 Axes>"
      ]
     },
     "metadata": {},
     "output_type": "display_data"
    }
   ],
   "source": [
    "sns.boxplot(df[0])  "
   ]
  },
  {
   "cell_type": "code",
   "execution_count": 6,
   "id": "9875ee44",
   "metadata": {},
   "outputs": [
    {
     "data": {
      "text/plain": [
       "<Axes: >"
      ]
     },
     "execution_count": 6,
     "metadata": {},
     "output_type": "execute_result"
    },
    {
     "data": {
      "image/png": "[encoded data removed]",
      "text/plain": [
       "<Figure size 640x480 with 1 Axes>"
      ]
     },
     "metadata": {},
     "output_type": "display_data"
    }
   ],
   "source": [
    "sns.boxplot(df[1]) "
   ]
  },
  {
   "cell_type": "code",
   "execution_count": 7,
   "id": "5a240123",
   "metadata": {},
   "outputs": [],
   "source": [
    "## removing the outlier datapoints\n",
    "df=df[(df[1]<3.50)&(df[1]>2.25)]  "
   ]
  },
  {
   "cell_type": "code",
   "execution_count": 8,
   "id": "81d0e429",
   "metadata": {},
   "outputs": [
    {
     "name": "stdout",
     "output_type": "stream",
     "text": [
      "<class 'pandas.core.frame.DataFrame'>\n",
      "Index: 93 entries, 0 to 99\n",
      "Data columns (total 3 columns):\n",
      " #   Column  Non-Null Count  Dtype  \n",
      "---  ------  --------------  -----  \n",
      " 0   0       93 non-null     float64\n",
      " 1   1       93 non-null     float64\n",
      " 2   2       93 non-null     int64  \n",
      "dtypes: float64(2), int64(1)\n",
      "memory usage: 2.9 KB\n"
     ]
    }
   ],
   "source": [
    "df.info() "
   ]
  },
  {
   "cell_type": "code",
   "execution_count": 9,
   "id": "73387b35",
   "metadata": {},
   "outputs": [
    {
     "data": {
      "text/plain": [
       "<Axes: >"
      ]
     },
     "execution_count": 9,
     "metadata": {},
     "output_type": "execute_result"
    },
    {
     "data": {
      "image/png": "[encoded data removed]",
      "text/plain": [
       "<Figure size 640x480 with 1 Axes>"
      ]
     },
     "metadata": {},
     "output_type": "display_data"
    }
   ],
   "source": [
    "sns.boxplot(df[1])  "
   ]
  },
  {
   "cell_type": "markdown",
   "id": "f0c7d6ad",
   "metadata": {},
   "source": [
    "## Seperating the Input and Output Features"
   ]
  },
  {
   "cell_type": "code",
   "execution_count": 10,
   "id": "97772e3b",
   "metadata": {},
   "outputs": [],
   "source": [
    "x=df.iloc[:,0:2]\n",
    "y=df.iloc[:,2]  "
   ]
  },
  {
   "cell_type": "code",
   "execution_count": 11,
   "id": "4ccefe81",
   "metadata": {},
   "outputs": [
    {
     "data": {
      "text/html": [
       "<div>\n",
       "<style scoped>\n",
       "    .dataframe tbody tr th:only-of-type {\n",
       "        vertical-align: middle;\n",
       "    }\n",
       "\n",
       "    .dataframe tbody tr th {\n",
       "        vertical-align: top;\n",
       "    }\n",
       "\n",
       "    .dataframe thead th {\n",
       "        text-align: right;\n",
       "    }\n",
       "</style>\n",
       "<table border=\"1\" class=\"dataframe\">\n",
       "  <thead>\n",
       "    <tr style=\"text-align: right;\">\n",
       "      <th></th>\n",
       "      <th>0</th>\n",
       "      <th>1</th>\n",
       "    </tr>\n",
       "  </thead>\n",
       "  <tbody>\n",
       "    <tr>\n",
       "      <th>0</th>\n",
       "      <td>7.0</td>\n",
       "      <td>3.2</td>\n",
       "    </tr>\n",
       "    <tr>\n",
       "      <th>1</th>\n",
       "      <td>6.4</td>\n",
       "      <td>3.2</td>\n",
       "    </tr>\n",
       "    <tr>\n",
       "      <th>2</th>\n",
       "      <td>6.9</td>\n",
       "      <td>3.1</td>\n",
       "    </tr>\n",
       "    <tr>\n",
       "      <th>3</th>\n",
       "      <td>5.5</td>\n",
       "      <td>2.3</td>\n",
       "    </tr>\n",
       "    <tr>\n",
       "      <th>4</th>\n",
       "      <td>6.5</td>\n",
       "      <td>2.8</td>\n",
       "    </tr>\n",
       "  </tbody>\n",
       "</table>\n",
       "</div>"
      ],
      "text/plain": [
       "     0    1\n",
       "0  7.0  3.2\n",
       "1  6.4  3.2\n",
       "2  6.9  3.1\n",
       "3  5.5  2.3\n",
       "4  6.5  2.8"
      ]
     },
     "execution_count": 11,
     "metadata": {},
     "output_type": "execute_result"
    }
   ],
   "source": [
    "x.head()  "
   ]
  },
  {
   "cell_type": "code",
   "execution_count": 12,
   "id": "a8b589aa",
   "metadata": {},
   "outputs": [
    {
     "data": {
      "text/plain": [
       "0    0\n",
       "1    0\n",
       "2    0\n",
       "3    0\n",
       "4    0\n",
       "Name: 2, dtype: int64"
      ]
     },
     "execution_count": 12,
     "metadata": {},
     "output_type": "execute_result"
    }
   ],
   "source": [
    "y.head() "
   ]
  },
  {
   "cell_type": "markdown",
   "id": "7085c160",
   "metadata": {},
   "source": [
    "## Split the data into train and test"
   ]
  },
  {
   "cell_type": "code",
   "execution_count": 13,
   "id": "165195b9",
   "metadata": {},
   "outputs": [],
   "source": [
    "x_train,x_test,y_train,y_test=train_test_split(x,y,test_size=0.1) "
   ]
  },
  {
   "cell_type": "code",
   "execution_count": 14,
   "id": "3803995e",
   "metadata": {},
   "outputs": [
    {
     "data": {
      "text/plain": [
       "(83, 2)"
      ]
     },
     "execution_count": 14,
     "metadata": {},
     "output_type": "execute_result"
    }
   ],
   "source": [
    "x_train.shape  "
   ]
  },
  {
   "cell_type": "code",
   "execution_count": 15,
   "id": "f9d503e3",
   "metadata": {},
   "outputs": [
    {
     "data": {
      "text/plain": [
       "(10, 2)"
      ]
     },
     "execution_count": 15,
     "metadata": {},
     "output_type": "execute_result"
    }
   ],
   "source": [
    "x_test.shape  "
   ]
  },
  {
   "cell_type": "markdown",
   "id": "68c957a8",
   "metadata": {},
   "source": [
    "## Standardising input features "
   ]
  },
  {
   "cell_type": "code",
   "execution_count": 16,
   "id": "f7de64bb",
   "metadata": {},
   "outputs": [],
   "source": [
    "std=StandardScaler()\n",
    "x_train=std.fit_transform(x_train)\n",
    "x_test=std.transform(x_test) "
   ]
  },
  {
   "cell_type": "markdown",
   "id": "cd39ff11",
   "metadata": {},
   "source": [
    "## Build the Logical Structure "
   ]
  },
  {
   "cell_type": "code",
   "execution_count": 17,
   "id": "6eefa6c3",
   "metadata": {},
   "outputs": [],
   "source": [
    "model=Sequential()\n",
    "model.add(Dense(12,activation=\"relu\",kernel_regularizer=L1(0.1),input_dim=2))\n",
    "model.add(Dense(8,activation=\"relu\",kernel_regularizer=L1(0.1)))\n",
    "model.add(Dense(1,activation=\"sigmoid\"))  "
   ]
  },
  {
   "cell_type": "code",
   "execution_count": 18,
   "id": "7c47044d",
   "metadata": {},
   "outputs": [
    {
     "name": "stdout",
     "output_type": "stream",
     "text": [
      "Model: \"sequential\"\n",
      "_________________________________________________________________\n",
      " Layer (type)                Output Shape              Param #   \n",
      "=================================================================\n",
      " dense (Dense)               (None, 12)                36        \n",
      "                                                                 \n",
      " dense_1 (Dense)             (None, 8)                 104       \n",
      "                                                                 \n",
      " dense_2 (Dense)             (None, 1)                 9         \n",
      "                                                                 \n",
      "=================================================================\n",
      "Total params: 149 (596.00 Byte)\n",
      "Trainable params: 149 (596.00 Byte)\n",
      "Non-trainable params: 0 (0.00 Byte)\n",
      "_________________________________________________________________\n"
     ]
    }
   ],
   "source": [
    "model.summary() "
   ]
  },
  {
   "cell_type": "markdown",
   "id": "8c9101e2",
   "metadata": {},
   "source": [
    "## compiling the model"
   ]
  },
  {
   "cell_type": "code",
   "execution_count": 19,
   "id": "59cf5dde",
   "metadata": {},
   "outputs": [
    {
     "name": "stdout",
     "output_type": "stream",
     "text": [
      "Epoch 1/35\n",
      "8/8 [==============================] - 1s 50ms/step - loss: 4.2181 - accuracy: 0.5405 - val_loss: 4.1571 - val_accuracy: 0.6667\n",
      "Epoch 2/35\n",
      "8/8 [==============================] - 0s 10ms/step - loss: 4.1204 - accuracy: 0.5676 - val_loss: 4.0636 - val_accuracy: 0.5556\n",
      "Epoch 3/35\n",
      "8/8 [==============================] - 0s 9ms/step - loss: 4.0233 - accuracy: 0.5946 - val_loss: 3.9696 - val_accuracy: 0.5556\n",
      "Epoch 4/35\n",
      "8/8 [==============================] - 0s 10ms/step - loss: 3.9267 - accuracy: 0.5946 - val_loss: 3.8763 - val_accuracy: 0.5556\n",
      "Epoch 5/35\n",
      "8/8 [==============================] - 0s 9ms/step - loss: 3.8309 - accuracy: 0.5946 - val_loss: 3.7841 - val_accuracy: 0.5556\n",
      "Epoch 6/35\n",
      "8/8 [==============================] - 0s 10ms/step - loss: 3.7369 - accuracy: 0.6081 - val_loss: 3.6933 - val_accuracy: 0.5556\n",
      "Epoch 7/35\n",
      "8/8 [==============================] - 0s 9ms/step - loss: 3.6444 - accuracy: 0.5946 - val_loss: 3.6046 - val_accuracy: 0.5556\n",
      "Epoch 8/35\n",
      "8/8 [==============================] - 0s 10ms/step - loss: 3.5529 - accuracy: 0.5946 - val_loss: 3.5164 - val_accuracy: 0.5556\n",
      "Epoch 9/35\n",
      "8/8 [==============================] - 0s 9ms/step - loss: 3.4626 - accuracy: 0.6081 - val_loss: 3.4307 - val_accuracy: 0.5556\n",
      "Epoch 10/35\n",
      "8/8 [==============================] - 0s 10ms/step - loss: 3.3753 - accuracy: 0.5946 - val_loss: 3.3472 - val_accuracy: 0.5556\n",
      "Epoch 11/35\n",
      "8/8 [==============================] - 0s 10ms/step - loss: 3.2903 - accuracy: 0.6081 - val_loss: 3.2652 - val_accuracy: 0.5556\n",
      "Epoch 12/35\n",
      "8/8 [==============================] - 0s 9ms/step - loss: 3.2068 - accuracy: 0.6351 - val_loss: 3.1851 - val_accuracy: 0.5556\n",
      "Epoch 13/35\n",
      "8/8 [==============================] - 0s 10ms/step - loss: 3.1255 - accuracy: 0.6351 - val_loss: 3.1060 - val_accuracy: 0.5556\n",
      "Epoch 14/35\n",
      "8/8 [==============================] - 0s 9ms/step - loss: 3.0456 - accuracy: 0.6351 - val_loss: 3.0277 - val_accuracy: 0.5556\n",
      "Epoch 15/35\n",
      "8/8 [==============================] - 0s 10ms/step - loss: 2.9666 - accuracy: 0.6351 - val_loss: 2.9519 - val_accuracy: 0.5556\n",
      "Epoch 16/35\n",
      "8/8 [==============================] - 0s 9ms/step - loss: 2.8895 - accuracy: 0.6351 - val_loss: 2.8761 - val_accuracy: 0.5556\n",
      "Epoch 17/35\n",
      "8/8 [==============================] - 0s 10ms/step - loss: 2.8138 - accuracy: 0.6351 - val_loss: 2.8024 - val_accuracy: 0.5556\n",
      "Epoch 18/35\n",
      "8/8 [==============================] - 0s 9ms/step - loss: 2.7392 - accuracy: 0.6486 - val_loss: 2.7287 - val_accuracy: 0.5556\n",
      "Epoch 19/35\n",
      "8/8 [==============================] - 0s 10ms/step - loss: 2.6655 - accuracy: 0.6486 - val_loss: 2.6559 - val_accuracy: 0.5556\n",
      "Epoch 20/35\n",
      "8/8 [==============================] - 0s 9ms/step - loss: 2.5923 - accuracy: 0.6622 - val_loss: 2.5834 - val_accuracy: 0.5556\n",
      "Epoch 21/35\n",
      "8/8 [==============================] - 0s 10ms/step - loss: 2.5204 - accuracy: 0.6622 - val_loss: 2.5125 - val_accuracy: 0.5556\n",
      "Epoch 22/35\n",
      "8/8 [==============================] - 0s 9ms/step - loss: 2.4499 - accuracy: 0.6622 - val_loss: 2.4416 - val_accuracy: 0.5556\n",
      "Epoch 23/35\n",
      "8/8 [==============================] - 0s 10ms/step - loss: 2.3796 - accuracy: 0.6622 - val_loss: 2.3719 - val_accuracy: 0.5556\n",
      "Epoch 24/35\n",
      "8/8 [==============================] - 0s 9ms/step - loss: 2.3099 - accuracy: 0.6622 - val_loss: 2.3022 - val_accuracy: 0.5556\n",
      "Epoch 25/35\n",
      "8/8 [==============================] - 0s 10ms/step - loss: 2.2420 - accuracy: 0.6486 - val_loss: 2.2354 - val_accuracy: 0.5556\n",
      "Epoch 26/35\n",
      "8/8 [==============================] - 0s 9ms/step - loss: 2.1752 - accuracy: 0.6622 - val_loss: 2.1682 - val_accuracy: 0.5556\n",
      "Epoch 27/35\n",
      "8/8 [==============================] - 0s 10ms/step - loss: 2.1090 - accuracy: 0.6622 - val_loss: 2.1020 - val_accuracy: 0.5556\n",
      "Epoch 28/35\n",
      "8/8 [==============================] - 0s 10ms/step - loss: 2.0432 - accuracy: 0.6622 - val_loss: 2.0356 - val_accuracy: 0.5556\n",
      "Epoch 29/35\n",
      "8/8 [==============================] - 0s 9ms/step - loss: 1.9778 - accuracy: 0.6622 - val_loss: 1.9704 - val_accuracy: 0.5556\n",
      "Epoch 30/35\n",
      "8/8 [==============================] - 0s 10ms/step - loss: 1.9139 - accuracy: 0.6622 - val_loss: 1.9068 - val_accuracy: 0.5556\n",
      "Epoch 31/35\n",
      "8/8 [==============================] - 0s 9ms/step - loss: 1.8527 - accuracy: 0.6622 - val_loss: 1.8469 - val_accuracy: 0.5556\n",
      "Epoch 32/35\n",
      "8/8 [==============================] - 0s 10ms/step - loss: 1.7936 - accuracy: 0.6757 - val_loss: 1.7873 - val_accuracy: 0.5556\n",
      "Epoch 33/35\n",
      "8/8 [==============================] - 0s 10ms/step - loss: 1.7359 - accuracy: 0.6757 - val_loss: 1.7298 - val_accuracy: 0.5556\n",
      "Epoch 34/35\n",
      "8/8 [==============================] - 0s 9ms/step - loss: 1.6790 - accuracy: 0.6757 - val_loss: 1.6734 - val_accuracy: 0.5556\n",
      "Epoch 35/35\n",
      "8/8 [==============================] - 0s 10ms/step - loss: 1.6237 - accuracy: 0.6757 - val_loss: 1.6189 - val_accuracy: 0.5556\n"
     ]
    }
   ],
   "source": [
    "model.compile(loss=\"binary_crossentropy\",optimizer=SGD(0.01),metrics=[\"accuracy\"])\n",
    "history=model.fit(x_train,y_train,batch_size=10,epochs=35,validation_split=0.1) "
   ]
  },
  {
   "cell_type": "code",
   "execution_count": 20,
   "id": "11c69036",
   "metadata": {},
   "outputs": [
    {
     "data": {
      "text/plain": [
       "<matplotlib.legend.Legend at 0x11aac983400>"
      ]
     },
     "execution_count": 20,
     "metadata": {},
     "output_type": "execute_result"
    },
    {
     "data": {
      "image/png": "[encoded data removed]",
      "text/plain": [
       "<Figure size 640x480 with 1 Axes>"
      ]
     },
     "metadata": {},
     "output_type": "display_data"
    }
   ],
   "source": [
    "plt.plot(range(1,36),history.history[\"loss\"],label=\"train_loss\")\n",
    "plt.plot(range(1,36),history.history[\"val_loss\"],label=\"test_loss\") \n",
    "plt.legend()  "
   ]
  },
  {
   "cell_type": "markdown",
   "id": "54c8512b",
   "metadata": {},
   "source": [
    "## Predicting the model "
   ]
  },
  {
   "cell_type": "code",
   "execution_count": 21,
   "id": "e759e790",
   "metadata": {},
   "outputs": [
    {
     "name": "stdout",
     "output_type": "stream",
     "text": [
      "1/1 [==============================] - 0s 124ms/step\n"
     ]
    },
    {
     "data": {
      "text/plain": [
       "array([[0.48025563],\n",
       "       [0.5098254 ],\n",
       "       [0.46025398],\n",
       "       [0.4711588 ],\n",
       "       [0.48109424],\n",
       "       [0.50787735],\n",
       "       [0.5272134 ],\n",
       "       [0.4711588 ],\n",
       "       [0.52799404],\n",
       "       [0.53139216]], dtype=float32)"
      ]
     },
     "execution_count": 21,
     "metadata": {},
     "output_type": "execute_result"
    }
   ],
   "source": [
    "predicted=model.predict(x_test) \n",
    "predicted  "
   ]
  },
  {
   "cell_type": "code",
   "execution_count": 22,
   "id": "a4b7305b",
   "metadata": {},
   "outputs": [
    {
     "data": {
      "text/plain": [
       "array([[0],\n",
       "       [1],\n",
       "       [0],\n",
       "       [0],\n",
       "       [0],\n",
       "       [1],\n",
       "       [1],\n",
       "       [0],\n",
       "       [1],\n",
       "       [1]])"
      ]
     },
     "execution_count": 22,
     "metadata": {},
     "output_type": "execute_result"
    }
   ],
   "source": [
    "predicted=np.where(predicted>0.5,1,0)\n",
    "predicted  "
   ]
  },
  {
   "cell_type": "markdown",
   "id": "fb83a151",
   "metadata": {},
   "source": [
    "## Evaluating the model"
   ]
  },
  {
   "cell_type": "code",
   "execution_count": 23,
   "id": "6ccbee42",
   "metadata": {},
   "outputs": [
    {
     "name": "stdout",
     "output_type": "stream",
     "text": [
      "0.8\n"
     ]
    },
    {
     "data": {
      "image/png": "[encoded data removed]",
      "text/plain": [
       "<Figure size 640x480 with 2 Axes>"
      ]
     },
     "metadata": {},
     "output_type": "display_data"
    }
   ],
   "source": [
    "from sklearn.metrics import accuracy_score,confusion_matrix,ConfusionMatrixDisplay\n",
    "print(accuracy_score(y_test,predicted))\n",
    "cm=confusion_matrix(y_test,predicted)\n",
    "va=ConfusionMatrixDisplay(cm)\n",
    "va.plot() \n",
    "plt.show() "
   ]
  },
  {
   "cell_type": "markdown",
   "id": "6c9ec729",
   "metadata": {},
   "source": [
    "## PLOTING THE DECISION SURFACE"
   ]
  },
  {
   "cell_type": "code",
   "execution_count": 24,
   "id": "dfefccd5",
   "metadata": {},
   "outputs": [],
   "source": [
    "from mlxtend.plotting  import plot_decision_regions "
   ]
  },
  {
   "cell_type": "code",
   "execution_count": 25,
   "id": "97a6c8d1",
   "metadata": {},
   "outputs": [
    {
     "name": "stdout",
     "output_type": "stream",
     "text": [
      "9600/9600 [==============================] - 20s 2ms/step\n"
     ]
    },
    {
     "data": {
      "text/plain": [
       "<Axes: >"
      ]
     },
     "execution_count": 25,
     "metadata": {},
     "output_type": "execute_result"
    },
    {
     "data": {
      "image/png": "[encoded data removed]",
      "text/plain": [
       "<Figure size 640x480 with 1 Axes>"
      ]
     },
     "metadata": {},
     "output_type": "display_data"
    }
   ],
   "source": [
    "plot_decision_regions(x_train,y_train.values,clf=model)  "
   ]
  },
  {
   "cell_type": "code",
   "execution_count": 26,
   "id": "29817b68",
   "metadata": {},
   "outputs": [
    {
     "name": "stdout",
     "output_type": "stream",
     "text": [
      "9600/9600 [==============================] - 21s 2ms/step\n"
     ]
    },
    {
     "data": {
      "text/plain": [
       "<Axes: >"
      ]
     },
     "execution_count": 26,
     "metadata": {},
     "output_type": "execute_result"
    },
    {
     "data": {
      "image/png": "[encoded data removed]",
      "text/plain": [
       "<Figure size 640x480 with 1 Axes>"
      ]
     },
     "metadata": {},
     "output_type": "display_data"
    }
   ],
   "source": [
    "plot_decision_regions(x_test,y_test.values,clf=model)"
   ]
  },
  {
   "cell_type": "markdown",
   "id": "df91bf4f",
   "metadata": {},
   "source": [
    "## Conclusions:\n",
    "\n",
    "###### This neural network model achieves an accuracy of 60%. The model architecture consists of 2 hidden layers with the following specifications:\n",
    "\n",
    "- In the first hidden layer, there are 12 neurons with the Relu activation function an L1 regularizer with a strength of 0.1\n",
    "- In the second hidden layer, there are 8 neurons with the Relu activation function an L1 regularizer with a strength of 0.1\n",
    "\n",
    "###### The output layer uses the sigmoid activation function.\n",
    "\n",
    "##### For model compilation, the following settings were used:\n",
    "\n",
    "###### Loss function: Binary cross-entropy.\n",
    "- Optimizer: Stochastic Gradient Descent (SGD) with a batch size of 10 and a learning rate of 0.01.\n",
    "- The model was trained for 35 epochs.\n",
    " \n",
    "###### Overall, this neural network model architecture and training configuration achieve an accuracy of 60%.   "
   ]
  },
  {
   "cell_type": "code",
   "execution_count": null,
   "id": "355183b4",
   "metadata": {},
   "outputs": [],
   "source": []
  }
 ],
 "metadata": {
  "kernelspec": {
   "display_name": "Python 3 (ipykernel)",
   "language": "python",
   "name": "python3"
  },
  "language_info": {
   "codemirror_mode": {
    "name": "ipython",
    "version": 3
   },
   "file_extension": ".py",
   "mimetype": "text/x-python",
   "name": "python",
   "nbconvert_exporter": "python",
   "pygments_lexer": "ipython3",
   "version": "3.9.13"
  }
 },
 "nbformat": 4,
 "nbformat_minor": 5
}
