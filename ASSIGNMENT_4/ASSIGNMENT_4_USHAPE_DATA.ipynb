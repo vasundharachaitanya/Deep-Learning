{
 "cells": [
  {
   "cell_type": "markdown",
   "id": "4f93cff5",
   "metadata": {},
   "source": [
    "## Importing Libraries"
   ]
  },
  {
   "cell_type": "code",
   "execution_count": 1,
   "id": "ff0d8e67",
   "metadata": {},
   "outputs": [],
   "source": [
    "import numpy as np\n",
    "import pandas as pd  \n",
    "from sklearn.preprocessing import StandardScaler\n",
    "from sklearn.model_selection import train_test_split\n",
    "from keras import Sequential \n",
    "from keras.layers import Dense \n",
    "from keras.regularizers import L1,L2,L1L2 \n",
    "from keras.optimizers import SGD  \n",
    "import matplotlib.pyplot as plt "
   ]
  },
  {
   "cell_type": "markdown",
   "id": "47ef5a51",
   "metadata": {},
   "source": [
    "## Importing the CSV file"
   ]
  },
  {
   "cell_type": "code",
   "execution_count": 2,
   "id": "cbdded52",
   "metadata": {},
   "outputs": [
    {
     "data": {
      "text/html": [
       "<div>\n",
       "<style scoped>\n",
       "    .dataframe tbody tr th:only-of-type {\n",
       "        vertical-align: middle;\n",
       "    }\n",
       "\n",
       "    .dataframe tbody tr th {\n",
       "        vertical-align: top;\n",
       "    }\n",
       "\n",
       "    .dataframe thead th {\n",
       "        text-align: right;\n",
       "    }\n",
       "</style>\n",
       "<table border=\"1\" class=\"dataframe\">\n",
       "  <thead>\n",
       "    <tr style=\"text-align: right;\">\n",
       "      <th></th>\n",
       "      <th>0</th>\n",
       "      <th>1</th>\n",
       "      <th>2</th>\n",
       "    </tr>\n",
       "  </thead>\n",
       "  <tbody>\n",
       "    <tr>\n",
       "      <th>0</th>\n",
       "      <td>0.031595</td>\n",
       "      <td>0.986988</td>\n",
       "      <td>0.0</td>\n",
       "    </tr>\n",
       "    <tr>\n",
       "      <th>1</th>\n",
       "      <td>2.115098</td>\n",
       "      <td>-0.046244</td>\n",
       "      <td>1.0</td>\n",
       "    </tr>\n",
       "    <tr>\n",
       "      <th>2</th>\n",
       "      <td>0.882490</td>\n",
       "      <td>-0.075756</td>\n",
       "      <td>0.0</td>\n",
       "    </tr>\n",
       "    <tr>\n",
       "      <th>3</th>\n",
       "      <td>-0.055144</td>\n",
       "      <td>-0.037332</td>\n",
       "      <td>1.0</td>\n",
       "    </tr>\n",
       "    <tr>\n",
       "      <th>4</th>\n",
       "      <td>0.829545</td>\n",
       "      <td>-0.539321</td>\n",
       "      <td>1.0</td>\n",
       "    </tr>\n",
       "  </tbody>\n",
       "</table>\n",
       "</div>"
      ],
      "text/plain": [
       "          0         1    2\n",
       "0  0.031595  0.986988  0.0\n",
       "1  2.115098 -0.046244  1.0\n",
       "2  0.882490 -0.075756  0.0\n",
       "3 -0.055144 -0.037332  1.0\n",
       "4  0.829545 -0.539321  1.0"
      ]
     },
     "execution_count": 2,
     "metadata": {},
     "output_type": "execute_result"
    }
   ],
   "source": [
    "df=pd.read_csv(r\"C:\\Users\\sss\\Downloads\\Deep_Learning related\\DL_CLASS\\ASSIGNMENT_4\\Multiple CSV\\1.ushape.csv\",header=None) \n",
    "df.head() "
   ]
  },
  {
   "cell_type": "markdown",
   "id": "97e974ab",
   "metadata": {},
   "source": [
    "### Seperating the Input and Output Features"
   ]
  },
  {
   "cell_type": "code",
   "execution_count": 3,
   "id": "17c7b60a",
   "metadata": {},
   "outputs": [],
   "source": [
    "x=df.iloc[:,0:2]\n",
    "y=df.iloc[:,2].astype(int) "
   ]
  },
  {
   "cell_type": "code",
   "execution_count": 4,
   "id": "238da76f",
   "metadata": {},
   "outputs": [
    {
     "data": {
      "text/html": [
       "<div>\n",
       "<style scoped>\n",
       "    .dataframe tbody tr th:only-of-type {\n",
       "        vertical-align: middle;\n",
       "    }\n",
       "\n",
       "    .dataframe tbody tr th {\n",
       "        vertical-align: top;\n",
       "    }\n",
       "\n",
       "    .dataframe thead th {\n",
       "        text-align: right;\n",
       "    }\n",
       "</style>\n",
       "<table border=\"1\" class=\"dataframe\">\n",
       "  <thead>\n",
       "    <tr style=\"text-align: right;\">\n",
       "      <th></th>\n",
       "      <th>0</th>\n",
       "      <th>1</th>\n",
       "    </tr>\n",
       "  </thead>\n",
       "  <tbody>\n",
       "    <tr>\n",
       "      <th>0</th>\n",
       "      <td>0.031595</td>\n",
       "      <td>0.986988</td>\n",
       "    </tr>\n",
       "    <tr>\n",
       "      <th>1</th>\n",
       "      <td>2.115098</td>\n",
       "      <td>-0.046244</td>\n",
       "    </tr>\n",
       "    <tr>\n",
       "      <th>2</th>\n",
       "      <td>0.882490</td>\n",
       "      <td>-0.075756</td>\n",
       "    </tr>\n",
       "    <tr>\n",
       "      <th>3</th>\n",
       "      <td>-0.055144</td>\n",
       "      <td>-0.037332</td>\n",
       "    </tr>\n",
       "    <tr>\n",
       "      <th>4</th>\n",
       "      <td>0.829545</td>\n",
       "      <td>-0.539321</td>\n",
       "    </tr>\n",
       "  </tbody>\n",
       "</table>\n",
       "</div>"
      ],
      "text/plain": [
       "          0         1\n",
       "0  0.031595  0.986988\n",
       "1  2.115098 -0.046244\n",
       "2  0.882490 -0.075756\n",
       "3 -0.055144 -0.037332\n",
       "4  0.829545 -0.539321"
      ]
     },
     "execution_count": 4,
     "metadata": {},
     "output_type": "execute_result"
    }
   ],
   "source": [
    "x.head() "
   ]
  },
  {
   "cell_type": "code",
   "execution_count": 5,
   "id": "c6f479b8",
   "metadata": {},
   "outputs": [
    {
     "data": {
      "text/plain": [
       "0    0\n",
       "1    1\n",
       "2    0\n",
       "3    1\n",
       "4    1\n",
       "Name: 2, dtype: int32"
      ]
     },
     "execution_count": 5,
     "metadata": {},
     "output_type": "execute_result"
    }
   ],
   "source": [
    "y.head()"
   ]
  },
  {
   "cell_type": "markdown",
   "id": "c9b9afbd",
   "metadata": {},
   "source": [
    "### Split the data into train and test"
   ]
  },
  {
   "cell_type": "code",
   "execution_count": 6,
   "id": "864c2f81",
   "metadata": {},
   "outputs": [],
   "source": [
    "x_train,x_test,y_train,y_test=train_test_split(x,y,test_size=0.1)"
   ]
  },
  {
   "cell_type": "code",
   "execution_count": 7,
   "id": "47f62c70",
   "metadata": {},
   "outputs": [
    {
     "data": {
      "text/plain": [
       "(90, 2)"
      ]
     },
     "execution_count": 7,
     "metadata": {},
     "output_type": "execute_result"
    }
   ],
   "source": [
    "x_train.shape"
   ]
  },
  {
   "cell_type": "code",
   "execution_count": 8,
   "id": "2d5204e1",
   "metadata": {},
   "outputs": [
    {
     "data": {
      "text/plain": [
       "(10, 2)"
      ]
     },
     "execution_count": 8,
     "metadata": {},
     "output_type": "execute_result"
    }
   ],
   "source": [
    "x_test.shape "
   ]
  },
  {
   "cell_type": "markdown",
   "id": "dfd6cec0",
   "metadata": {},
   "source": [
    "### Standardising input features"
   ]
  },
  {
   "cell_type": "code",
   "execution_count": 9,
   "id": "12dedab1",
   "metadata": {},
   "outputs": [],
   "source": [
    "std=StandardScaler()\n",
    "x_train=std.fit_transform(x_train)\n",
    "x_test=std.transform(x_test) "
   ]
  },
  {
   "cell_type": "markdown",
   "id": "c79b8b52",
   "metadata": {},
   "source": [
    "### Build the Logical Structure"
   ]
  },
  {
   "cell_type": "code",
   "execution_count": 10,
   "id": "3ef4d952",
   "metadata": {},
   "outputs": [],
   "source": [
    "model=Sequential()\n",
    "model.add(Dense(18,activation=\"relu\",kernel_regularizer=L2(0.001),bias_regularizer=L2(0.001),input_dim=2))\n",
    "model.add(Dense(16,activation=\"relu\",kernel_regularizer=L2(0.001),bias_regularizer=L2(0.001)))\n",
    "model.add(Dense(12,activation=\"relu\",kernel_regularizer=L2(0.001),bias_regularizer=L2(0.001)))\n",
    "model.add(Dense(8,activation=\"relu\",kernel_regularizer=L2(0.001),bias_regularizer=L2(0.001)))\n",
    "model.add(Dense(1,activation=\"sigmoid\",kernel_regularizer=L2(0.001),bias_regularizer=L2(0.001)))  "
   ]
  },
  {
   "cell_type": "code",
   "execution_count": 11,
   "id": "6a3b0eaf",
   "metadata": {},
   "outputs": [
    {
     "name": "stdout",
     "output_type": "stream",
     "text": [
      "Model: \"sequential\"\n",
      "_________________________________________________________________\n",
      " Layer (type)                Output Shape              Param #   \n",
      "=================================================================\n",
      " dense (Dense)               (None, 18)                54        \n",
      "                                                                 \n",
      " dense_1 (Dense)             (None, 16)                304       \n",
      "                                                                 \n",
      " dense_2 (Dense)             (None, 12)                204       \n",
      "                                                                 \n",
      " dense_3 (Dense)             (None, 8)                 104       \n",
      "                                                                 \n",
      " dense_4 (Dense)             (None, 1)                 9         \n",
      "                                                                 \n",
      "=================================================================\n",
      "Total params: 675 (2.64 KB)\n",
      "Trainable params: 675 (2.64 KB)\n",
      "Non-trainable params: 0 (0.00 Byte)\n",
      "_________________________________________________________________\n"
     ]
    }
   ],
   "source": [
    "model.summary() "
   ]
  },
  {
   "cell_type": "markdown",
   "id": "91aac4c1",
   "metadata": {},
   "source": [
    "### Compling the model"
   ]
  },
  {
   "cell_type": "code",
   "execution_count": 12,
   "id": "a86dfac1",
   "metadata": {},
   "outputs": [],
   "source": [
    "model.compile(loss=\"binary_crossentropy\",optimizer=SGD(0.1),metrics=[\"accuracy\"])"
   ]
  },
  {
   "cell_type": "code",
   "execution_count": 13,
   "id": "ab74dc15",
   "metadata": {},
   "outputs": [
    {
     "name": "stdout",
     "output_type": "stream",
     "text": [
      "Epoch 1/45\n",
      "17/17 [==============================] - 2s 27ms/step - loss: 0.6704 - accuracy: 0.7037 - val_loss: 0.5259 - val_accuracy: 0.8889\n",
      "Epoch 2/45\n",
      "17/17 [==============================] - 0s 6ms/step - loss: 0.4914 - accuracy: 0.8148 - val_loss: 0.4122 - val_accuracy: 0.8889\n",
      "Epoch 3/45\n",
      "17/17 [==============================] - 0s 6ms/step - loss: 0.4392 - accuracy: 0.8148 - val_loss: 0.4284 - val_accuracy: 0.7778\n",
      "Epoch 4/45\n",
      "17/17 [==============================] - 0s 6ms/step - loss: 0.4326 - accuracy: 0.8272 - val_loss: 0.3685 - val_accuracy: 0.8889\n",
      "Epoch 5/45\n",
      "17/17 [==============================] - 0s 6ms/step - loss: 0.4169 - accuracy: 0.8519 - val_loss: 0.3628 - val_accuracy: 0.8889\n",
      "Epoch 6/45\n",
      "17/17 [==============================] - 0s 6ms/step - loss: 0.4030 - accuracy: 0.8272 - val_loss: 0.3735 - val_accuracy: 0.8889\n",
      "Epoch 7/45\n",
      "17/17 [==============================] - 0s 6ms/step - loss: 0.3928 - accuracy: 0.8395 - val_loss: 0.3910 - val_accuracy: 0.8889\n",
      "Epoch 8/45\n",
      "17/17 [==============================] - 0s 6ms/step - loss: 0.3794 - accuracy: 0.8642 - val_loss: 0.3878 - val_accuracy: 0.8889\n",
      "Epoch 9/45\n",
      "17/17 [==============================] - 0s 6ms/step - loss: 0.3849 - accuracy: 0.8395 - val_loss: 0.3585 - val_accuracy: 0.8889\n",
      "Epoch 10/45\n",
      "17/17 [==============================] - 0s 7ms/step - loss: 0.3592 - accuracy: 0.8765 - val_loss: 0.3022 - val_accuracy: 0.8889\n",
      "Epoch 11/45\n",
      "17/17 [==============================] - 0s 7ms/step - loss: 0.3760 - accuracy: 0.8519 - val_loss: 0.2527 - val_accuracy: 0.8889\n",
      "Epoch 12/45\n",
      "17/17 [==============================] - 0s 6ms/step - loss: 0.3668 - accuracy: 0.8642 - val_loss: 0.3580 - val_accuracy: 0.8889\n",
      "Epoch 13/45\n",
      "17/17 [==============================] - 0s 6ms/step - loss: 0.3434 - accuracy: 0.8519 - val_loss: 0.3285 - val_accuracy: 0.8889\n",
      "Epoch 14/45\n",
      "17/17 [==============================] - 0s 6ms/step - loss: 0.3401 - accuracy: 0.8642 - val_loss: 0.2750 - val_accuracy: 0.8889\n",
      "Epoch 15/45\n",
      "17/17 [==============================] - 0s 6ms/step - loss: 0.3297 - accuracy: 0.8889 - val_loss: 0.2108 - val_accuracy: 1.0000\n",
      "Epoch 16/45\n",
      "17/17 [==============================] - 0s 6ms/step - loss: 0.3571 - accuracy: 0.8765 - val_loss: 0.2461 - val_accuracy: 0.8889\n",
      "Epoch 17/45\n",
      "17/17 [==============================] - 0s 8ms/step - loss: 0.2743 - accuracy: 0.9012 - val_loss: 0.5457 - val_accuracy: 0.8889\n",
      "Epoch 18/45\n",
      "17/17 [==============================] - 0s 10ms/step - loss: 0.4153 - accuracy: 0.8395 - val_loss: 0.2528 - val_accuracy: 0.8889\n",
      "Epoch 19/45\n",
      "17/17 [==============================] - 0s 6ms/step - loss: 0.2808 - accuracy: 0.9259 - val_loss: 0.3111 - val_accuracy: 0.8889\n",
      "Epoch 20/45\n",
      "17/17 [==============================] - 0s 6ms/step - loss: 0.2949 - accuracy: 0.8889 - val_loss: 0.2485 - val_accuracy: 0.8889\n",
      "Epoch 21/45\n",
      "17/17 [==============================] - 0s 6ms/step - loss: 0.2781 - accuracy: 0.8889 - val_loss: 0.2941 - val_accuracy: 0.8889\n",
      "Epoch 22/45\n",
      "17/17 [==============================] - 0s 6ms/step - loss: 0.2726 - accuracy: 0.9012 - val_loss: 0.2123 - val_accuracy: 0.8889\n",
      "Epoch 23/45\n",
      "17/17 [==============================] - 0s 6ms/step - loss: 0.2415 - accuracy: 0.9136 - val_loss: 0.2016 - val_accuracy: 0.8889\n",
      "Epoch 24/45\n",
      "17/17 [==============================] - 0s 6ms/step - loss: 0.2822 - accuracy: 0.9136 - val_loss: 0.2621 - val_accuracy: 0.8889\n",
      "Epoch 25/45\n",
      "17/17 [==============================] - 0s 6ms/step - loss: 0.2529 - accuracy: 0.9136 - val_loss: 0.3577 - val_accuracy: 0.7778\n",
      "Epoch 26/45\n",
      "17/17 [==============================] - 0s 6ms/step - loss: 0.3208 - accuracy: 0.9012 - val_loss: 0.2152 - val_accuracy: 0.8889\n",
      "Epoch 27/45\n",
      "17/17 [==============================] - 0s 6ms/step - loss: 0.2446 - accuracy: 0.9259 - val_loss: 0.2072 - val_accuracy: 0.8889\n",
      "Epoch 28/45\n",
      "17/17 [==============================] - 0s 7ms/step - loss: 0.2142 - accuracy: 0.9630 - val_loss: 0.2564 - val_accuracy: 0.8889\n",
      "Epoch 29/45\n",
      "17/17 [==============================] - 0s 5ms/step - loss: 0.1942 - accuracy: 0.9753 - val_loss: 0.2911 - val_accuracy: 0.8889\n",
      "Epoch 30/45\n",
      "17/17 [==============================] - 0s 6ms/step - loss: 0.2850 - accuracy: 0.9136 - val_loss: 0.3845 - val_accuracy: 0.8889\n",
      "Epoch 31/45\n",
      "17/17 [==============================] - 0s 6ms/step - loss: 0.2161 - accuracy: 0.9383 - val_loss: 0.3136 - val_accuracy: 0.8889\n",
      "Epoch 32/45\n",
      "17/17 [==============================] - 0s 6ms/step - loss: 0.1967 - accuracy: 0.9506 - val_loss: 0.1010 - val_accuracy: 1.0000\n",
      "Epoch 33/45\n",
      "17/17 [==============================] - 0s 6ms/step - loss: 0.2133 - accuracy: 0.9506 - val_loss: 0.6784 - val_accuracy: 0.8889\n",
      "Epoch 34/45\n",
      "17/17 [==============================] - 0s 6ms/step - loss: 0.3352 - accuracy: 0.9259 - val_loss: 0.2233 - val_accuracy: 0.8889\n",
      "Epoch 35/45\n",
      "17/17 [==============================] - 0s 6ms/step - loss: 0.2290 - accuracy: 0.9259 - val_loss: 0.4030 - val_accuracy: 0.8889\n",
      "Epoch 36/45\n",
      "17/17 [==============================] - 0s 6ms/step - loss: 0.2592 - accuracy: 0.9136 - val_loss: 0.2892 - val_accuracy: 0.8889\n",
      "Epoch 37/45\n",
      "17/17 [==============================] - 0s 6ms/step - loss: 0.2061 - accuracy: 0.9383 - val_loss: 0.1393 - val_accuracy: 1.0000\n",
      "Epoch 38/45\n",
      "17/17 [==============================] - 0s 5ms/step - loss: 0.2478 - accuracy: 0.9012 - val_loss: 0.1407 - val_accuracy: 1.0000\n",
      "Epoch 39/45\n",
      "17/17 [==============================] - 0s 5ms/step - loss: 0.1843 - accuracy: 0.9506 - val_loss: 0.1247 - val_accuracy: 1.0000\n",
      "Epoch 40/45\n",
      "17/17 [==============================] - 0s 5ms/step - loss: 0.2679 - accuracy: 0.8889 - val_loss: 0.2236 - val_accuracy: 0.8889\n",
      "Epoch 41/45\n",
      "17/17 [==============================] - 0s 6ms/step - loss: 0.2016 - accuracy: 0.9630 - val_loss: 0.1079 - val_accuracy: 1.0000\n",
      "Epoch 42/45\n",
      "17/17 [==============================] - 0s 6ms/step - loss: 0.2358 - accuracy: 0.9383 - val_loss: 0.0969 - val_accuracy: 1.0000\n",
      "Epoch 43/45\n",
      "17/17 [==============================] - 0s 5ms/step - loss: 0.3030 - accuracy: 0.9259 - val_loss: 0.2524 - val_accuracy: 0.8889\n",
      "Epoch 44/45\n",
      "17/17 [==============================] - 0s 6ms/step - loss: 0.1927 - accuracy: 0.9506 - val_loss: 0.3958 - val_accuracy: 0.8889\n",
      "Epoch 45/45\n",
      "17/17 [==============================] - 0s 6ms/step - loss: 0.2178 - accuracy: 0.9506 - val_loss: 0.6102 - val_accuracy: 0.8889\n"
     ]
    }
   ],
   "source": [
    "history=model.fit(x_train,y_train,batch_size=5,epochs=45,validation_split=0.1)"
   ]
  },
  {
   "cell_type": "code",
   "execution_count": 14,
   "id": "18f852e1",
   "metadata": {},
   "outputs": [
    {
     "data": {
      "text/plain": [
       "<matplotlib.legend.Legend at 0x1f04f38fd00>"
      ]
     },
     "execution_count": 14,
     "metadata": {},
     "output_type": "execute_result"
    },
    {
     "data": {
      "image/png": "[encoded data removed]",
      "text/plain": [
       "<Figure size 640x480 with 1 Axes>"
      ]
     },
     "metadata": {},
     "output_type": "display_data"
    }
   ],
   "source": [
    "plt.plot(range(1,46),history.history[\"loss\"],label=\"train_loss\")\n",
    "plt.plot(range(1,46),history.history[\"val_loss\"],label=\"test_loss\") \n",
    "plt.legend() "
   ]
  },
  {
   "cell_type": "markdown",
   "id": "459d3ab0",
   "metadata": {},
   "source": [
    "### Predicting the model\n"
   ]
  },
  {
   "cell_type": "code",
   "execution_count": 15,
   "id": "ac6e5175",
   "metadata": {},
   "outputs": [
    {
     "name": "stdout",
     "output_type": "stream",
     "text": [
      "1/1 [==============================] - 0s 146ms/step\n"
     ]
    },
    {
     "data": {
      "text/plain": [
       "array([[1.4330712e-01],\n",
       "       [9.3423414e-01],\n",
       "       [2.6257007e-04],\n",
       "       [8.6608948e-04],\n",
       "       [8.9512678e-04],\n",
       "       [9.5437384e-01],\n",
       "       [7.9678476e-01],\n",
       "       [9.5611715e-01],\n",
       "       [6.7544504e-05],\n",
       "       [7.8644753e-01]], dtype=float32)"
      ]
     },
     "execution_count": 15,
     "metadata": {},
     "output_type": "execute_result"
    }
   ],
   "source": [
    "predicted=model.predict(x_test) \n",
    "predicted "
   ]
  },
  {
   "cell_type": "code",
   "execution_count": 16,
   "id": "00ff2a87",
   "metadata": {},
   "outputs": [
    {
     "data": {
      "text/plain": [
       "array([[0],\n",
       "       [1],\n",
       "       [0],\n",
       "       [0],\n",
       "       [0],\n",
       "       [1],\n",
       "       [1],\n",
       "       [1],\n",
       "       [0],\n",
       "       [1]])"
      ]
     },
     "execution_count": 16,
     "metadata": {},
     "output_type": "execute_result"
    }
   ],
   "source": [
    "predicted=np.where(predicted>0.5,1,0)\n",
    "predicted  "
   ]
  },
  {
   "cell_type": "markdown",
   "id": "4c222511",
   "metadata": {},
   "source": [
    "### Evaluating the model "
   ]
  },
  {
   "cell_type": "code",
   "execution_count": 17,
   "id": "d95042c5",
   "metadata": {},
   "outputs": [
    {
     "name": "stdout",
     "output_type": "stream",
     "text": [
      "0.9\n"
     ]
    },
    {
     "data": {
      "image/png": "[encoded data removed]",
      "text/plain": [
       "<Figure size 640x480 with 2 Axes>"
      ]
     },
     "metadata": {},
     "output_type": "display_data"
    }
   ],
   "source": [
    "from sklearn.metrics import accuracy_score,confusion_matrix,ConfusionMatrixDisplay\n",
    "print(accuracy_score(y_test,predicted))\n",
    "cm=confusion_matrix(y_test,predicted)\n",
    "va=ConfusionMatrixDisplay(cm)\n",
    "va.plot() \n",
    "plt.show() "
   ]
  },
  {
   "cell_type": "markdown",
   "id": "df82e05c",
   "metadata": {},
   "source": [
    "### PLOTING THE DECISION SURFACE"
   ]
  },
  {
   "cell_type": "code",
   "execution_count": 18,
   "id": "9339a069",
   "metadata": {},
   "outputs": [],
   "source": [
    "from mlxtend.plotting  import plot_decision_regions "
   ]
  },
  {
   "cell_type": "code",
   "execution_count": 19,
   "id": "e295f772",
   "metadata": {},
   "outputs": [
    {
     "name": "stdout",
     "output_type": "stream",
     "text": [
      "9600/9600 [==============================] - 22s 2ms/step\n"
     ]
    },
    {
     "data": {
      "text/plain": [
       "<Axes: >"
      ]
     },
     "execution_count": 19,
     "metadata": {},
     "output_type": "execute_result"
    },
    {
     "data": {
      "image/png": "[encoded data removed]",
      "text/plain": [
       "<Figure size 640x480 with 1 Axes>"
      ]
     },
     "metadata": {},
     "output_type": "display_data"
    }
   ],
   "source": [
    "plot_decision_regions(x_train,y_train.values,clf=model) "
   ]
  },
  {
   "cell_type": "code",
   "execution_count": 20,
   "id": "63eb6fe3",
   "metadata": {},
   "outputs": [
    {
     "name": "stdout",
     "output_type": "stream",
     "text": [
      "9600/9600 [==============================] - 20s 2ms/step\n"
     ]
    },
    {
     "data": {
      "text/plain": [
       "<Axes: >"
      ]
     },
     "execution_count": 20,
     "metadata": {},
     "output_type": "execute_result"
    },
    {
     "data": {
      "image/png": "[encoded data removed]",
      "text/plain": [
       "<Figure size 640x480 with 1 Axes>"
      ]
     },
     "metadata": {},
     "output_type": "display_data"
    }
   ],
   "source": [
    "plot_decision_regions(x_test,y_test.values,clf=model) "
   ]
  },
  {
   "cell_type": "markdown",
   "id": "c37af396",
   "metadata": {},
   "source": [
    "### Conclusions:"
   ]
  },
  {
   "cell_type": "markdown",
   "id": "75366b74",
   "metadata": {},
   "source": [
    "###### This neural network model achieves an accuracy of 90%. The model architecture consists of 4 hidden layers with the following specifications:\n",
    "\n",
    "- In the first hidden layer, there are 18 neurons with the ReLU activation function and an L2 regularizer with a strength of 0.001.\n",
    "- In the second hidden layer, there are 16 neurons with the ReLU activation function and an L2 regularizer with a strength of 0.001.\n",
    "- In the third hidden layer, there are 12 neurons with the ReLU activation function and an L2 regularizer with a strength of 0.001.\n",
    "- In the fourth hidden layer, there are 8 neurons with the ReLU activation function and an L2 regularizer with a strength of 0.001.\n",
    "\n",
    "###### The output layer uses the sigmoid activation function.\n",
    "\n",
    "##### For model compilation, the following settings were used:\n",
    "\n",
    "###### Loss function: Binary cross-entropy.\n",
    "- Optimizer: Stochastic Gradient Descent (SGD) with a batch size of 5 and a learning rate of 0.01.\n",
    "- The model was trained for 50 epochs.\n",
    "\n",
    "###### Overall, this neural network model architecture and training configuration achieve an accuracy of 90%."
   ]
  },
  {
   "cell_type": "code",
   "execution_count": null,
   "id": "fd1f09a5",
   "metadata": {},
   "outputs": [],
   "source": [
    "`"
   ]
  }
 ],
 "metadata": {
  "kernelspec": {
   "display_name": "Python 3 (ipykernel)",
   "language": "python",
   "name": "python3"
  },
  "language_info": {
   "codemirror_mode": {
    "name": "ipython",
    "version": 3
   },
   "file_extension": ".py",
   "mimetype": "text/x-python",
   "name": "python",
   "nbconvert_exporter": "python",
   "pygments_lexer": "ipython3",
   "version": "3.9.13"
  }
 },
 "nbformat": 4,
 "nbformat_minor": 5
}
