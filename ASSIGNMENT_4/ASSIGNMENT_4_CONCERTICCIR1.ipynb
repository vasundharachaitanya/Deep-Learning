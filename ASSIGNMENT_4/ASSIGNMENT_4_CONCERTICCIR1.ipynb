{
 "cells": [
  {
   "cell_type": "markdown",
   "id": "f56e71fb",
   "metadata": {},
   "source": [
    "## Importing Libraries "
   ]
  },
  {
   "cell_type": "code",
   "execution_count": 1,
   "id": "756ecf44",
   "metadata": {},
   "outputs": [],
   "source": [
    "import numpy as np\n",
    "import pandas as pd  \n",
    "from sklearn.preprocessing import StandardScaler\n",
    "from sklearn.model_selection import train_test_split\n",
    "from keras import Sequential \n",
    "from keras.layers import Dense \n",
    "from keras.regularizers import L1,L2,L1L2 \n",
    "from keras.optimizers import SGD  \n",
    "import matplotlib.pyplot as plt "
   ]
  },
  {
   "cell_type": "markdown",
   "id": "30390514",
   "metadata": {},
   "source": [
    "## Importing the CSV file "
   ]
  },
  {
   "cell_type": "code",
   "execution_count": 2,
   "id": "a044e743",
   "metadata": {},
   "outputs": [
    {
     "data": {
      "text/html": [
       "<div>\n",
       "<style scoped>\n",
       "    .dataframe tbody tr th:only-of-type {\n",
       "        vertical-align: middle;\n",
       "    }\n",
       "\n",
       "    .dataframe tbody tr th {\n",
       "        vertical-align: top;\n",
       "    }\n",
       "\n",
       "    .dataframe thead th {\n",
       "        text-align: right;\n",
       "    }\n",
       "</style>\n",
       "<table border=\"1\" class=\"dataframe\">\n",
       "  <thead>\n",
       "    <tr style=\"text-align: right;\">\n",
       "      <th></th>\n",
       "      <th>0</th>\n",
       "      <th>1</th>\n",
       "      <th>2</th>\n",
       "    </tr>\n",
       "  </thead>\n",
       "  <tbody>\n",
       "    <tr>\n",
       "      <th>0</th>\n",
       "      <td>-0.382891</td>\n",
       "      <td>-0.090840</td>\n",
       "      <td>1.0</td>\n",
       "    </tr>\n",
       "    <tr>\n",
       "      <th>1</th>\n",
       "      <td>-0.020962</td>\n",
       "      <td>-0.477874</td>\n",
       "      <td>1.0</td>\n",
       "    </tr>\n",
       "    <tr>\n",
       "      <th>2</th>\n",
       "      <td>-0.396116</td>\n",
       "      <td>-1.289427</td>\n",
       "      <td>0.0</td>\n",
       "    </tr>\n",
       "    <tr>\n",
       "      <th>3</th>\n",
       "      <td>-0.618130</td>\n",
       "      <td>-0.063837</td>\n",
       "      <td>1.0</td>\n",
       "    </tr>\n",
       "    <tr>\n",
       "      <th>4</th>\n",
       "      <td>0.703478</td>\n",
       "      <td>-0.187038</td>\n",
       "      <td>1.0</td>\n",
       "    </tr>\n",
       "  </tbody>\n",
       "</table>\n",
       "</div>"
      ],
      "text/plain": [
       "          0         1    2\n",
       "0 -0.382891 -0.090840  1.0\n",
       "1 -0.020962 -0.477874  1.0\n",
       "2 -0.396116 -1.289427  0.0\n",
       "3 -0.618130 -0.063837  1.0\n",
       "4  0.703478 -0.187038  1.0"
      ]
     },
     "execution_count": 2,
     "metadata": {},
     "output_type": "execute_result"
    }
   ],
   "source": [
    "df=pd.read_csv(r\"C:\\Users\\sss\\Downloads\\Deep_Learning related\\DL_CLASS\\ASSIGNMENT_4\\Multiple CSV\\2.concerticcir1.csv\",header=None) \n",
    "df.head()   "
   ]
  },
  {
   "cell_type": "code",
   "execution_count": 3,
   "id": "5edd5186",
   "metadata": {},
   "outputs": [
    {
     "name": "stdout",
     "output_type": "stream",
     "text": [
      "<class 'pandas.core.frame.DataFrame'>\n",
      "RangeIndex: 100 entries, 0 to 99\n",
      "Data columns (total 3 columns):\n",
      " #   Column  Non-Null Count  Dtype  \n",
      "---  ------  --------------  -----  \n",
      " 0   0       100 non-null    float64\n",
      " 1   1       100 non-null    float64\n",
      " 2   2       100 non-null    float64\n",
      "dtypes: float64(3)\n",
      "memory usage: 2.5 KB\n"
     ]
    }
   ],
   "source": [
    "df.info() "
   ]
  },
  {
   "cell_type": "code",
   "execution_count": 4,
   "id": "0fb07a19",
   "metadata": {},
   "outputs": [
    {
     "data": {
      "text/plain": [
       "2\n",
       "1.0    50\n",
       "0.0    50\n",
       "Name: count, dtype: int64"
      ]
     },
     "execution_count": 4,
     "metadata": {},
     "output_type": "execute_result"
    }
   ],
   "source": [
    "df[2].value_counts() "
   ]
  },
  {
   "cell_type": "markdown",
   "id": "13f5b0f5",
   "metadata": {},
   "source": [
    "### Seperating the Input and Output Features"
   ]
  },
  {
   "cell_type": "code",
   "execution_count": 5,
   "id": "742672c9",
   "metadata": {},
   "outputs": [],
   "source": [
    "x=df.iloc[:,0:2]\n",
    "y=df.iloc[:,2].astype(int) "
   ]
  },
  {
   "cell_type": "code",
   "execution_count": 6,
   "id": "7301a154",
   "metadata": {},
   "outputs": [
    {
     "data": {
      "text/html": [
       "<div>\n",
       "<style scoped>\n",
       "    .dataframe tbody tr th:only-of-type {\n",
       "        vertical-align: middle;\n",
       "    }\n",
       "\n",
       "    .dataframe tbody tr th {\n",
       "        vertical-align: top;\n",
       "    }\n",
       "\n",
       "    .dataframe thead th {\n",
       "        text-align: right;\n",
       "    }\n",
       "</style>\n",
       "<table border=\"1\" class=\"dataframe\">\n",
       "  <thead>\n",
       "    <tr style=\"text-align: right;\">\n",
       "      <th></th>\n",
       "      <th>0</th>\n",
       "      <th>1</th>\n",
       "    </tr>\n",
       "  </thead>\n",
       "  <tbody>\n",
       "    <tr>\n",
       "      <th>0</th>\n",
       "      <td>-0.382891</td>\n",
       "      <td>-0.090840</td>\n",
       "    </tr>\n",
       "    <tr>\n",
       "      <th>1</th>\n",
       "      <td>-0.020962</td>\n",
       "      <td>-0.477874</td>\n",
       "    </tr>\n",
       "    <tr>\n",
       "      <th>2</th>\n",
       "      <td>-0.396116</td>\n",
       "      <td>-1.289427</td>\n",
       "    </tr>\n",
       "    <tr>\n",
       "      <th>3</th>\n",
       "      <td>-0.618130</td>\n",
       "      <td>-0.063837</td>\n",
       "    </tr>\n",
       "    <tr>\n",
       "      <th>4</th>\n",
       "      <td>0.703478</td>\n",
       "      <td>-0.187038</td>\n",
       "    </tr>\n",
       "  </tbody>\n",
       "</table>\n",
       "</div>"
      ],
      "text/plain": [
       "          0         1\n",
       "0 -0.382891 -0.090840\n",
       "1 -0.020962 -0.477874\n",
       "2 -0.396116 -1.289427\n",
       "3 -0.618130 -0.063837\n",
       "4  0.703478 -0.187038"
      ]
     },
     "execution_count": 6,
     "metadata": {},
     "output_type": "execute_result"
    }
   ],
   "source": [
    "x.head() "
   ]
  },
  {
   "cell_type": "code",
   "execution_count": 7,
   "id": "b941d064",
   "metadata": {},
   "outputs": [
    {
     "data": {
      "text/plain": [
       "0    1\n",
       "1    1\n",
       "2    0\n",
       "3    1\n",
       "4    1\n",
       "Name: 2, dtype: int32"
      ]
     },
     "execution_count": 7,
     "metadata": {},
     "output_type": "execute_result"
    }
   ],
   "source": [
    "y.head() "
   ]
  },
  {
   "cell_type": "markdown",
   "id": "25ea1eb6",
   "metadata": {},
   "source": [
    "### Split the data into train and test "
   ]
  },
  {
   "cell_type": "code",
   "execution_count": 8,
   "id": "a4475097",
   "metadata": {},
   "outputs": [],
   "source": [
    "x_train,x_test,y_train,y_test=train_test_split(x,y,test_size=0.1) "
   ]
  },
  {
   "cell_type": "code",
   "execution_count": 9,
   "id": "49050428",
   "metadata": {},
   "outputs": [
    {
     "data": {
      "text/plain": [
       "(90, 2)"
      ]
     },
     "execution_count": 9,
     "metadata": {},
     "output_type": "execute_result"
    }
   ],
   "source": [
    "x_train.shape "
   ]
  },
  {
   "cell_type": "code",
   "execution_count": 10,
   "id": "8c3446a9",
   "metadata": {},
   "outputs": [
    {
     "data": {
      "text/plain": [
       "(10, 2)"
      ]
     },
     "execution_count": 10,
     "metadata": {},
     "output_type": "execute_result"
    }
   ],
   "source": [
    "x_test.shape "
   ]
  },
  {
   "cell_type": "markdown",
   "id": "6c912cf4",
   "metadata": {},
   "source": [
    "### Standardising input features"
   ]
  },
  {
   "cell_type": "code",
   "execution_count": 11,
   "id": "80f5dc5e",
   "metadata": {},
   "outputs": [],
   "source": [
    "std=StandardScaler()\n",
    "x_train=std.fit_transform(x_train)\n",
    "x_test=std.transform(x_test)  "
   ]
  },
  {
   "cell_type": "markdown",
   "id": "e4e42b2f",
   "metadata": {},
   "source": [
    "### Build the Logical Structure"
   ]
  },
  {
   "cell_type": "code",
   "execution_count": 12,
   "id": "c418f0f8",
   "metadata": {},
   "outputs": [],
   "source": [
    "model=Sequential()\n",
    "model.add(Dense(18,activation=\"relu\",kernel_regularizer=L1(0.001),bias_regularizer=L1(0.001),input_dim=2))\n",
    "model.add(Dense(16,activation=\"relu\",kernel_regularizer=L1(0.001),bias_regularizer=L1(0.001)))\n",
    "model.add(Dense(10,activation=\"relu\",kernel_regularizer=L1(0.001),bias_regularizer=L1(0.001)))\n",
    "model.add(Dense(1,activation=\"sigmoid\"))  \n"
   ]
  },
  {
   "cell_type": "code",
   "execution_count": 13,
   "id": "aec08cfb",
   "metadata": {},
   "outputs": [
    {
     "name": "stdout",
     "output_type": "stream",
     "text": [
      "Model: \"sequential\"\n",
      "_________________________________________________________________\n",
      " Layer (type)                Output Shape              Param #   \n",
      "=================================================================\n",
      " dense (Dense)               (None, 18)                54        \n",
      "                                                                 \n",
      " dense_1 (Dense)             (None, 16)                304       \n",
      "                                                                 \n",
      " dense_2 (Dense)             (None, 10)                170       \n",
      "                                                                 \n",
      " dense_3 (Dense)             (None, 1)                 11        \n",
      "                                                                 \n",
      "=================================================================\n",
      "Total params: 539 (2.11 KB)\n",
      "Trainable params: 539 (2.11 KB)\n",
      "Non-trainable params: 0 (0.00 Byte)\n",
      "_________________________________________________________________\n"
     ]
    }
   ],
   "source": [
    "model.summary()"
   ]
  },
  {
   "cell_type": "markdown",
   "id": "6c875aa0",
   "metadata": {},
   "source": [
    "### compiling the model "
   ]
  },
  {
   "cell_type": "code",
   "execution_count": 14,
   "id": "3d3e948c",
   "metadata": {},
   "outputs": [
    {
     "name": "stdout",
     "output_type": "stream",
     "text": [
      "Epoch 1/250\n",
      "9/9 [==============================] - 2s 57ms/step - loss: 0.7964 - accuracy: 0.4691 - val_loss: 0.8069 - val_accuracy: 0.3333\n",
      "Epoch 2/250\n",
      "9/9 [==============================] - 0s 8ms/step - loss: 0.7950 - accuracy: 0.5309 - val_loss: 0.8055 - val_accuracy: 0.3333\n",
      "Epoch 3/250\n",
      "9/9 [==============================] - 0s 8ms/step - loss: 0.7937 - accuracy: 0.5802 - val_loss: 0.8040 - val_accuracy: 0.4444\n",
      "Epoch 4/250\n",
      "9/9 [==============================] - 0s 8ms/step - loss: 0.7929 - accuracy: 0.6420 - val_loss: 0.8024 - val_accuracy: 0.4444\n",
      "Epoch 5/250\n",
      "9/9 [==============================] - 0s 8ms/step - loss: 0.7914 - accuracy: 0.7160 - val_loss: 0.8013 - val_accuracy: 0.4444\n",
      "Epoch 6/250\n",
      "9/9 [==============================] - 0s 8ms/step - loss: 0.7905 - accuracy: 0.7037 - val_loss: 0.7987 - val_accuracy: 0.5556\n",
      "Epoch 7/250\n",
      "9/9 [==============================] - 0s 8ms/step - loss: 0.7892 - accuracy: 0.7407 - val_loss: 0.7951 - val_accuracy: 0.5556\n",
      "Epoch 8/250\n",
      "9/9 [==============================] - 0s 9ms/step - loss: 0.7872 - accuracy: 0.6420 - val_loss: 0.7947 - val_accuracy: 0.5556\n",
      "Epoch 9/250\n",
      "9/9 [==============================] - 0s 8ms/step - loss: 0.7862 - accuracy: 0.6296 - val_loss: 0.7935 - val_accuracy: 0.5556\n",
      "Epoch 10/250\n",
      "9/9 [==============================] - 0s 8ms/step - loss: 0.7848 - accuracy: 0.5802 - val_loss: 0.7914 - val_accuracy: 0.4444\n",
      "Epoch 11/250\n",
      "9/9 [==============================] - 0s 8ms/step - loss: 0.7837 - accuracy: 0.5926 - val_loss: 0.7905 - val_accuracy: 0.4444\n",
      "Epoch 12/250\n",
      "9/9 [==============================] - 0s 9ms/step - loss: 0.7828 - accuracy: 0.5802 - val_loss: 0.7894 - val_accuracy: 0.4444\n",
      "Epoch 13/250\n",
      "9/9 [==============================] - 0s 9ms/step - loss: 0.7820 - accuracy: 0.5802 - val_loss: 0.7883 - val_accuracy: 0.5556\n",
      "Epoch 14/250\n",
      "9/9 [==============================] - 0s 9ms/step - loss: 0.7809 - accuracy: 0.6049 - val_loss: 0.7884 - val_accuracy: 0.5556\n",
      "Epoch 15/250\n",
      "9/9 [==============================] - 0s 8ms/step - loss: 0.7798 - accuracy: 0.5926 - val_loss: 0.7860 - val_accuracy: 0.5556\n",
      "Epoch 16/250\n",
      "9/9 [==============================] - 0s 8ms/step - loss: 0.7789 - accuracy: 0.5802 - val_loss: 0.7861 - val_accuracy: 0.5556\n",
      "Epoch 17/250\n",
      "9/9 [==============================] - 0s 7ms/step - loss: 0.7783 - accuracy: 0.6667 - val_loss: 0.7829 - val_accuracy: 0.5556\n",
      "Epoch 18/250\n",
      "9/9 [==============================] - 0s 8ms/step - loss: 0.7766 - accuracy: 0.6173 - val_loss: 0.7827 - val_accuracy: 0.5556\n",
      "Epoch 19/250\n",
      "9/9 [==============================] - 0s 8ms/step - loss: 0.7759 - accuracy: 0.6914 - val_loss: 0.7828 - val_accuracy: 0.5556\n",
      "Epoch 20/250\n",
      "9/9 [==============================] - 0s 9ms/step - loss: 0.7751 - accuracy: 0.6173 - val_loss: 0.7803 - val_accuracy: 0.5556\n",
      "Epoch 21/250\n",
      "9/9 [==============================] - 0s 10ms/step - loss: 0.7738 - accuracy: 0.6049 - val_loss: 0.7796 - val_accuracy: 0.5556\n",
      "Epoch 22/250\n",
      "9/9 [==============================] - 0s 9ms/step - loss: 0.7728 - accuracy: 0.6420 - val_loss: 0.7787 - val_accuracy: 0.5556\n",
      "Epoch 23/250\n",
      "9/9 [==============================] - 0s 8ms/step - loss: 0.7720 - accuracy: 0.6667 - val_loss: 0.7775 - val_accuracy: 0.5556\n",
      "Epoch 24/250\n",
      "9/9 [==============================] - 0s 9ms/step - loss: 0.7708 - accuracy: 0.6914 - val_loss: 0.7779 - val_accuracy: 0.5556\n",
      "Epoch 25/250\n",
      "9/9 [==============================] - 0s 9ms/step - loss: 0.7707 - accuracy: 0.7037 - val_loss: 0.7779 - val_accuracy: 0.6667\n",
      "Epoch 26/250\n",
      "9/9 [==============================] - 0s 9ms/step - loss: 0.7698 - accuracy: 0.7160 - val_loss: 0.7782 - val_accuracy: 0.6667\n",
      "Epoch 27/250\n",
      "9/9 [==============================] - 0s 9ms/step - loss: 0.7694 - accuracy: 0.7037 - val_loss: 0.7753 - val_accuracy: 0.6667\n",
      "Epoch 28/250\n",
      "9/9 [==============================] - 0s 8ms/step - loss: 0.7687 - accuracy: 0.6914 - val_loss: 0.7755 - val_accuracy: 0.6667\n",
      "Epoch 29/250\n",
      "9/9 [==============================] - 0s 7ms/step - loss: 0.7675 - accuracy: 0.7037 - val_loss: 0.7731 - val_accuracy: 0.6667\n",
      "Epoch 30/250\n",
      "9/9 [==============================] - 0s 10ms/step - loss: 0.7663 - accuracy: 0.7037 - val_loss: 0.7733 - val_accuracy: 0.6667\n",
      "Epoch 31/250\n",
      "9/9 [==============================] - 0s 7ms/step - loss: 0.7653 - accuracy: 0.7407 - val_loss: 0.7731 - val_accuracy: 0.6667\n",
      "Epoch 32/250\n",
      "9/9 [==============================] - 0s 7ms/step - loss: 0.7644 - accuracy: 0.7037 - val_loss: 0.7732 - val_accuracy: 0.6667\n",
      "Epoch 33/250\n",
      "9/9 [==============================] - 0s 12ms/step - loss: 0.7636 - accuracy: 0.7160 - val_loss: 0.7733 - val_accuracy: 0.5556\n",
      "Epoch 34/250\n",
      "9/9 [==============================] - 0s 8ms/step - loss: 0.7625 - accuracy: 0.6914 - val_loss: 0.7720 - val_accuracy: 0.5556\n",
      "Epoch 35/250\n",
      "9/9 [==============================] - 0s 7ms/step - loss: 0.7619 - accuracy: 0.6790 - val_loss: 0.7722 - val_accuracy: 0.5556\n",
      "Epoch 36/250\n",
      "9/9 [==============================] - 0s 8ms/step - loss: 0.7606 - accuracy: 0.6790 - val_loss: 0.7727 - val_accuracy: 0.5556\n",
      "Epoch 37/250\n",
      "9/9 [==============================] - 0s 8ms/step - loss: 0.7597 - accuracy: 0.6667 - val_loss: 0.7699 - val_accuracy: 0.5556\n",
      "Epoch 38/250\n",
      "9/9 [==============================] - 0s 8ms/step - loss: 0.7583 - accuracy: 0.6667 - val_loss: 0.7682 - val_accuracy: 0.5556\n",
      "Epoch 39/250\n",
      "9/9 [==============================] - 0s 8ms/step - loss: 0.7572 - accuracy: 0.6667 - val_loss: 0.7682 - val_accuracy: 0.5556\n",
      "Epoch 40/250\n",
      "9/9 [==============================] - 0s 8ms/step - loss: 0.7564 - accuracy: 0.6667 - val_loss: 0.7673 - val_accuracy: 0.5556\n",
      "Epoch 41/250\n",
      "9/9 [==============================] - 0s 9ms/step - loss: 0.7556 - accuracy: 0.6667 - val_loss: 0.7670 - val_accuracy: 0.5556\n",
      "Epoch 42/250\n",
      "9/9 [==============================] - 0s 9ms/step - loss: 0.7549 - accuracy: 0.6790 - val_loss: 0.7659 - val_accuracy: 0.5556\n",
      "Epoch 43/250\n",
      "9/9 [==============================] - 0s 9ms/step - loss: 0.7540 - accuracy: 0.6790 - val_loss: 0.7649 - val_accuracy: 0.5556\n",
      "Epoch 44/250\n",
      "9/9 [==============================] - 0s 8ms/step - loss: 0.7531 - accuracy: 0.6543 - val_loss: 0.7650 - val_accuracy: 0.5556\n",
      "Epoch 45/250\n",
      "9/9 [==============================] - 0s 8ms/step - loss: 0.7527 - accuracy: 0.6790 - val_loss: 0.7656 - val_accuracy: 0.5556\n",
      "Epoch 46/250\n",
      "9/9 [==============================] - 0s 9ms/step - loss: 0.7512 - accuracy: 0.6790 - val_loss: 0.7650 - val_accuracy: 0.5556\n",
      "Epoch 47/250\n",
      "9/9 [==============================] - 0s 9ms/step - loss: 0.7510 - accuracy: 0.6667 - val_loss: 0.7621 - val_accuracy: 0.6667\n",
      "Epoch 48/250\n",
      "9/9 [==============================] - 0s 7ms/step - loss: 0.7496 - accuracy: 0.6790 - val_loss: 0.7602 - val_accuracy: 0.5556\n",
      "Epoch 49/250\n",
      "9/9 [==============================] - 0s 7ms/step - loss: 0.7487 - accuracy: 0.6790 - val_loss: 0.7568 - val_accuracy: 0.6667\n",
      "Epoch 50/250\n",
      "9/9 [==============================] - 0s 8ms/step - loss: 0.7477 - accuracy: 0.7160 - val_loss: 0.7546 - val_accuracy: 0.6667\n",
      "Epoch 51/250\n",
      "9/9 [==============================] - 0s 8ms/step - loss: 0.7467 - accuracy: 0.7037 - val_loss: 0.7515 - val_accuracy: 0.6667\n",
      "Epoch 52/250\n",
      "9/9 [==============================] - 0s 8ms/step - loss: 0.7453 - accuracy: 0.7284 - val_loss: 0.7498 - val_accuracy: 0.6667\n",
      "Epoch 53/250\n",
      "9/9 [==============================] - 0s 8ms/step - loss: 0.7441 - accuracy: 0.7284 - val_loss: 0.7492 - val_accuracy: 0.6667\n",
      "Epoch 54/250\n",
      "9/9 [==============================] - 0s 8ms/step - loss: 0.7435 - accuracy: 0.7284 - val_loss: 0.7498 - val_accuracy: 0.6667\n",
      "Epoch 55/250\n",
      "9/9 [==============================] - 0s 8ms/step - loss: 0.7425 - accuracy: 0.7160 - val_loss: 0.7509 - val_accuracy: 0.6667\n",
      "Epoch 56/250\n",
      "9/9 [==============================] - 0s 8ms/step - loss: 0.7410 - accuracy: 0.7160 - val_loss: 0.7518 - val_accuracy: 0.6667\n",
      "Epoch 57/250\n",
      "9/9 [==============================] - 0s 8ms/step - loss: 0.7402 - accuracy: 0.7037 - val_loss: 0.7488 - val_accuracy: 0.6667\n",
      "Epoch 58/250\n",
      "9/9 [==============================] - 0s 8ms/step - loss: 0.7390 - accuracy: 0.7037 - val_loss: 0.7477 - val_accuracy: 0.6667\n",
      "Epoch 59/250\n",
      "9/9 [==============================] - 0s 8ms/step - loss: 0.7383 - accuracy: 0.7160 - val_loss: 0.7478 - val_accuracy: 0.6667\n",
      "Epoch 60/250\n",
      "9/9 [==============================] - 0s 8ms/step - loss: 0.7374 - accuracy: 0.7160 - val_loss: 0.7456 - val_accuracy: 0.6667\n",
      "Epoch 61/250\n",
      "9/9 [==============================] - 0s 8ms/step - loss: 0.7362 - accuracy: 0.7407 - val_loss: 0.7430 - val_accuracy: 0.6667\n",
      "Epoch 62/250\n",
      "9/9 [==============================] - 0s 8ms/step - loss: 0.7348 - accuracy: 0.7407 - val_loss: 0.7412 - val_accuracy: 0.6667\n",
      "Epoch 63/250\n",
      "9/9 [==============================] - 0s 8ms/step - loss: 0.7342 - accuracy: 0.7284 - val_loss: 0.7423 - val_accuracy: 0.6667\n",
      "Epoch 64/250\n",
      "9/9 [==============================] - 0s 8ms/step - loss: 0.7331 - accuracy: 0.7160 - val_loss: 0.7432 - val_accuracy: 0.6667\n",
      "Epoch 65/250\n",
      "9/9 [==============================] - 0s 9ms/step - loss: 0.7323 - accuracy: 0.7037 - val_loss: 0.7398 - val_accuracy: 0.6667\n",
      "Epoch 66/250\n",
      "9/9 [==============================] - 0s 8ms/step - loss: 0.7308 - accuracy: 0.7284 - val_loss: 0.7395 - val_accuracy: 0.6667\n",
      "Epoch 67/250\n",
      "9/9 [==============================] - 0s 8ms/step - loss: 0.7303 - accuracy: 0.7284 - val_loss: 0.7404 - val_accuracy: 0.6667\n",
      "Epoch 68/250\n",
      "9/9 [==============================] - 0s 8ms/step - loss: 0.7288 - accuracy: 0.7284 - val_loss: 0.7393 - val_accuracy: 0.6667\n",
      "Epoch 69/250\n",
      "9/9 [==============================] - 0s 9ms/step - loss: 0.7277 - accuracy: 0.7531 - val_loss: 0.7400 - val_accuracy: 0.6667\n",
      "Epoch 70/250\n",
      "9/9 [==============================] - 0s 11ms/step - loss: 0.7271 - accuracy: 0.7407 - val_loss: 0.7383 - val_accuracy: 0.6667\n",
      "Epoch 71/250\n",
      "9/9 [==============================] - 0s 8ms/step - loss: 0.7256 - accuracy: 0.7284 - val_loss: 0.7357 - val_accuracy: 0.6667\n",
      "Epoch 72/250\n",
      "9/9 [==============================] - 0s 8ms/step - loss: 0.7244 - accuracy: 0.7531 - val_loss: 0.7317 - val_accuracy: 0.6667\n",
      "Epoch 73/250\n",
      "9/9 [==============================] - 0s 8ms/step - loss: 0.7234 - accuracy: 0.7407 - val_loss: 0.7285 - val_accuracy: 0.6667\n",
      "Epoch 74/250\n",
      "9/9 [==============================] - 0s 8ms/step - loss: 0.7220 - accuracy: 0.7407 - val_loss: 0.7257 - val_accuracy: 0.6667\n",
      "Epoch 75/250\n",
      "9/9 [==============================] - 0s 8ms/step - loss: 0.7209 - accuracy: 0.7531 - val_loss: 0.7220 - val_accuracy: 0.7778\n",
      "Epoch 76/250\n",
      "9/9 [==============================] - 0s 8ms/step - loss: 0.7201 - accuracy: 0.7284 - val_loss: 0.7233 - val_accuracy: 0.7778\n",
      "Epoch 77/250\n",
      "9/9 [==============================] - 0s 8ms/step - loss: 0.7193 - accuracy: 0.7284 - val_loss: 0.7232 - val_accuracy: 0.7778\n",
      "Epoch 78/250\n",
      "9/9 [==============================] - 0s 8ms/step - loss: 0.7185 - accuracy: 0.7407 - val_loss: 0.7216 - val_accuracy: 0.7778\n",
      "Epoch 79/250\n",
      "9/9 [==============================] - 0s 8ms/step - loss: 0.7173 - accuracy: 0.7160 - val_loss: 0.7231 - val_accuracy: 0.7778\n",
      "Epoch 80/250\n",
      "9/9 [==============================] - 0s 8ms/step - loss: 0.7165 - accuracy: 0.7407 - val_loss: 0.7209 - val_accuracy: 0.7778\n",
      "Epoch 81/250\n",
      "9/9 [==============================] - 0s 8ms/step - loss: 0.7153 - accuracy: 0.7037 - val_loss: 0.7178 - val_accuracy: 0.7778\n",
      "Epoch 82/250\n",
      "9/9 [==============================] - 0s 8ms/step - loss: 0.7140 - accuracy: 0.7284 - val_loss: 0.7146 - val_accuracy: 0.6667\n",
      "Epoch 83/250\n",
      "9/9 [==============================] - 0s 10ms/step - loss: 0.7127 - accuracy: 0.7284 - val_loss: 0.7155 - val_accuracy: 0.7778\n",
      "Epoch 84/250\n",
      "9/9 [==============================] - 0s 8ms/step - loss: 0.7112 - accuracy: 0.7407 - val_loss: 0.7125 - val_accuracy: 0.7778\n",
      "Epoch 85/250\n",
      "9/9 [==============================] - 0s 8ms/step - loss: 0.7101 - accuracy: 0.7531 - val_loss: 0.7115 - val_accuracy: 0.7778\n",
      "Epoch 86/250\n",
      "9/9 [==============================] - 0s 7ms/step - loss: 0.7092 - accuracy: 0.7531 - val_loss: 0.7084 - val_accuracy: 0.7778\n",
      "Epoch 87/250\n",
      "9/9 [==============================] - 0s 8ms/step - loss: 0.7076 - accuracy: 0.7654 - val_loss: 0.7072 - val_accuracy: 0.7778\n",
      "Epoch 88/250\n",
      "9/9 [==============================] - 0s 8ms/step - loss: 0.7061 - accuracy: 0.7654 - val_loss: 0.7030 - val_accuracy: 0.6667\n",
      "Epoch 89/250\n",
      "9/9 [==============================] - 0s 8ms/step - loss: 0.7055 - accuracy: 0.7284 - val_loss: 0.7047 - val_accuracy: 0.7778\n",
      "Epoch 90/250\n",
      "9/9 [==============================] - 0s 8ms/step - loss: 0.7040 - accuracy: 0.7654 - val_loss: 0.7040 - val_accuracy: 0.7778\n",
      "Epoch 91/250\n",
      "9/9 [==============================] - 0s 8ms/step - loss: 0.7028 - accuracy: 0.7654 - val_loss: 0.7012 - val_accuracy: 0.7778\n",
      "Epoch 92/250\n",
      "9/9 [==============================] - 0s 8ms/step - loss: 0.7014 - accuracy: 0.7901 - val_loss: 0.6988 - val_accuracy: 0.7778\n",
      "Epoch 93/250\n",
      "9/9 [==============================] - 0s 8ms/step - loss: 0.7006 - accuracy: 0.7654 - val_loss: 0.6982 - val_accuracy: 0.7778\n",
      "Epoch 94/250\n",
      "9/9 [==============================] - 0s 8ms/step - loss: 0.6999 - accuracy: 0.7778 - val_loss: 0.7001 - val_accuracy: 0.7778\n",
      "Epoch 95/250\n",
      "9/9 [==============================] - 0s 8ms/step - loss: 0.6981 - accuracy: 0.7778 - val_loss: 0.6985 - val_accuracy: 0.7778\n",
      "Epoch 96/250\n",
      "9/9 [==============================] - 0s 8ms/step - loss: 0.6974 - accuracy: 0.7654 - val_loss: 0.6973 - val_accuracy: 0.7778\n",
      "Epoch 97/250\n",
      "9/9 [==============================] - 0s 8ms/step - loss: 0.6953 - accuracy: 0.7778 - val_loss: 0.6991 - val_accuracy: 0.7778\n",
      "Epoch 98/250\n",
      "9/9 [==============================] - 0s 8ms/step - loss: 0.6947 - accuracy: 0.7654 - val_loss: 0.6955 - val_accuracy: 0.7778\n",
      "Epoch 99/250\n",
      "9/9 [==============================] - 0s 8ms/step - loss: 0.6930 - accuracy: 0.7778 - val_loss: 0.6924 - val_accuracy: 0.7778\n",
      "Epoch 100/250\n",
      "9/9 [==============================] - 0s 8ms/step - loss: 0.6913 - accuracy: 0.7778 - val_loss: 0.6924 - val_accuracy: 0.7778\n",
      "Epoch 101/250\n",
      "9/9 [==============================] - 0s 8ms/step - loss: 0.6905 - accuracy: 0.7654 - val_loss: 0.6907 - val_accuracy: 0.7778\n",
      "Epoch 102/250\n",
      "9/9 [==============================] - 0s 8ms/step - loss: 0.6888 - accuracy: 0.7778 - val_loss: 0.6883 - val_accuracy: 0.7778\n",
      "Epoch 103/250\n",
      "9/9 [==============================] - 0s 8ms/step - loss: 0.6878 - accuracy: 0.7654 - val_loss: 0.6835 - val_accuracy: 0.7778\n",
      "Epoch 104/250\n",
      "9/9 [==============================] - 0s 8ms/step - loss: 0.6862 - accuracy: 0.7654 - val_loss: 0.6827 - val_accuracy: 0.7778\n",
      "Epoch 105/250\n",
      "9/9 [==============================] - 0s 8ms/step - loss: 0.6845 - accuracy: 0.7654 - val_loss: 0.6844 - val_accuracy: 0.7778\n",
      "Epoch 106/250\n",
      "9/9 [==============================] - 0s 8ms/step - loss: 0.6828 - accuracy: 0.7654 - val_loss: 0.6829 - val_accuracy: 0.7778\n",
      "Epoch 107/250\n",
      "9/9 [==============================] - 0s 8ms/step - loss: 0.6812 - accuracy: 0.7654 - val_loss: 0.6843 - val_accuracy: 0.7778\n",
      "Epoch 108/250\n",
      "9/9 [==============================] - 0s 9ms/step - loss: 0.6795 - accuracy: 0.7531 - val_loss: 0.6819 - val_accuracy: 0.7778\n",
      "Epoch 109/250\n",
      "9/9 [==============================] - 0s 8ms/step - loss: 0.6770 - accuracy: 0.7901 - val_loss: 0.6827 - val_accuracy: 0.7778\n",
      "Epoch 110/250\n",
      "9/9 [==============================] - 0s 8ms/step - loss: 0.6759 - accuracy: 0.7407 - val_loss: 0.6822 - val_accuracy: 0.8889\n",
      "Epoch 111/250\n",
      "9/9 [==============================] - 0s 8ms/step - loss: 0.6742 - accuracy: 0.7407 - val_loss: 0.6775 - val_accuracy: 0.7778\n",
      "Epoch 112/250\n",
      "9/9 [==============================] - 0s 8ms/step - loss: 0.6728 - accuracy: 0.7654 - val_loss: 0.6802 - val_accuracy: 0.6667\n",
      "Epoch 113/250\n",
      "9/9 [==============================] - 0s 8ms/step - loss: 0.6713 - accuracy: 0.7531 - val_loss: 0.6788 - val_accuracy: 0.8889\n",
      "Epoch 114/250\n",
      "9/9 [==============================] - 0s 8ms/step - loss: 0.6694 - accuracy: 0.7407 - val_loss: 0.6787 - val_accuracy: 0.8889\n",
      "Epoch 115/250\n",
      "9/9 [==============================] - 0s 9ms/step - loss: 0.6676 - accuracy: 0.7531 - val_loss: 0.6803 - val_accuracy: 0.8889\n",
      "Epoch 116/250\n",
      "9/9 [==============================] - 0s 8ms/step - loss: 0.6669 - accuracy: 0.7407 - val_loss: 0.6745 - val_accuracy: 0.8889\n",
      "Epoch 117/250\n"
     ]
    },
    {
     "name": "stdout",
     "output_type": "stream",
     "text": [
      "9/9 [==============================] - 0s 7ms/step - loss: 0.6656 - accuracy: 0.7654 - val_loss: 0.6767 - val_accuracy: 0.8889\n",
      "Epoch 118/250\n",
      "9/9 [==============================] - 0s 8ms/step - loss: 0.6646 - accuracy: 0.7654 - val_loss: 0.6701 - val_accuracy: 0.8889\n",
      "Epoch 119/250\n",
      "9/9 [==============================] - 0s 8ms/step - loss: 0.6615 - accuracy: 0.7654 - val_loss: 0.6655 - val_accuracy: 0.8889\n",
      "Epoch 120/250\n",
      "9/9 [==============================] - 0s 8ms/step - loss: 0.6598 - accuracy: 0.7531 - val_loss: 0.6663 - val_accuracy: 0.8889\n",
      "Epoch 121/250\n",
      "9/9 [==============================] - 0s 8ms/step - loss: 0.6576 - accuracy: 0.7778 - val_loss: 0.6694 - val_accuracy: 0.7778\n",
      "Epoch 122/250\n",
      "9/9 [==============================] - 0s 8ms/step - loss: 0.6567 - accuracy: 0.7531 - val_loss: 0.6674 - val_accuracy: 0.7778\n",
      "Epoch 123/250\n",
      "9/9 [==============================] - 0s 8ms/step - loss: 0.6550 - accuracy: 0.7654 - val_loss: 0.6710 - val_accuracy: 0.8889\n",
      "Epoch 124/250\n",
      "9/9 [==============================] - 0s 8ms/step - loss: 0.6540 - accuracy: 0.7531 - val_loss: 0.6675 - val_accuracy: 0.8889\n",
      "Epoch 125/250\n",
      "9/9 [==============================] - 0s 8ms/step - loss: 0.6519 - accuracy: 0.7531 - val_loss: 0.6612 - val_accuracy: 0.8889\n",
      "Epoch 126/250\n",
      "9/9 [==============================] - 0s 9ms/step - loss: 0.6500 - accuracy: 0.7407 - val_loss: 0.6601 - val_accuracy: 0.8889\n",
      "Epoch 127/250\n",
      "9/9 [==============================] - 0s 8ms/step - loss: 0.6476 - accuracy: 0.7654 - val_loss: 0.6549 - val_accuracy: 0.8889\n",
      "Epoch 128/250\n",
      "9/9 [==============================] - 0s 8ms/step - loss: 0.6463 - accuracy: 0.7654 - val_loss: 0.6479 - val_accuracy: 0.8889\n",
      "Epoch 129/250\n",
      "9/9 [==============================] - 0s 8ms/step - loss: 0.6444 - accuracy: 0.7901 - val_loss: 0.6534 - val_accuracy: 0.8889\n",
      "Epoch 130/250\n",
      "9/9 [==============================] - 0s 8ms/step - loss: 0.6439 - accuracy: 0.7778 - val_loss: 0.6439 - val_accuracy: 0.8889\n",
      "Epoch 131/250\n",
      "9/9 [==============================] - 0s 8ms/step - loss: 0.6420 - accuracy: 0.7531 - val_loss: 0.6404 - val_accuracy: 0.8889\n",
      "Epoch 132/250\n",
      "9/9 [==============================] - 0s 7ms/step - loss: 0.6408 - accuracy: 0.7901 - val_loss: 0.6358 - val_accuracy: 0.8889\n",
      "Epoch 133/250\n",
      "9/9 [==============================] - 0s 8ms/step - loss: 0.6390 - accuracy: 0.7901 - val_loss: 0.6369 - val_accuracy: 0.8889\n",
      "Epoch 134/250\n",
      "9/9 [==============================] - 0s 8ms/step - loss: 0.6364 - accuracy: 0.7901 - val_loss: 0.6315 - val_accuracy: 0.8889\n",
      "Epoch 135/250\n",
      "9/9 [==============================] - 0s 8ms/step - loss: 0.6353 - accuracy: 0.7778 - val_loss: 0.6243 - val_accuracy: 0.8889\n",
      "Epoch 136/250\n",
      "9/9 [==============================] - 0s 8ms/step - loss: 0.6332 - accuracy: 0.7901 - val_loss: 0.6243 - val_accuracy: 0.8889\n",
      "Epoch 137/250\n",
      "9/9 [==============================] - 0s 8ms/step - loss: 0.6311 - accuracy: 0.7901 - val_loss: 0.6187 - val_accuracy: 0.8889\n",
      "Epoch 138/250\n",
      "9/9 [==============================] - 0s 8ms/step - loss: 0.6307 - accuracy: 0.7778 - val_loss: 0.6141 - val_accuracy: 0.8889\n",
      "Epoch 139/250\n",
      "9/9 [==============================] - 0s 8ms/step - loss: 0.6278 - accuracy: 0.7778 - val_loss: 0.6194 - val_accuracy: 0.8889\n",
      "Epoch 140/250\n",
      "9/9 [==============================] - 0s 8ms/step - loss: 0.6263 - accuracy: 0.7901 - val_loss: 0.6231 - val_accuracy: 0.8889\n",
      "Epoch 141/250\n",
      "9/9 [==============================] - 0s 8ms/step - loss: 0.6251 - accuracy: 0.7901 - val_loss: 0.6185 - val_accuracy: 0.8889\n",
      "Epoch 142/250\n",
      "9/9 [==============================] - 0s 9ms/step - loss: 0.6240 - accuracy: 0.7901 - val_loss: 0.6150 - val_accuracy: 0.7778\n",
      "Epoch 143/250\n",
      "9/9 [==============================] - 0s 8ms/step - loss: 0.6227 - accuracy: 0.8025 - val_loss: 0.6202 - val_accuracy: 0.8889\n",
      "Epoch 144/250\n",
      "9/9 [==============================] - 0s 8ms/step - loss: 0.6196 - accuracy: 0.7901 - val_loss: 0.6184 - val_accuracy: 0.7778\n",
      "Epoch 145/250\n",
      "9/9 [==============================] - 0s 10ms/step - loss: 0.6180 - accuracy: 0.7901 - val_loss: 0.6134 - val_accuracy: 0.8889\n",
      "Epoch 146/250\n",
      "9/9 [==============================] - 0s 8ms/step - loss: 0.6158 - accuracy: 0.7901 - val_loss: 0.6136 - val_accuracy: 0.8889\n",
      "Epoch 147/250\n",
      "9/9 [==============================] - 0s 8ms/step - loss: 0.6130 - accuracy: 0.7901 - val_loss: 0.6158 - val_accuracy: 0.7778\n",
      "Epoch 148/250\n",
      "9/9 [==============================] - 0s 8ms/step - loss: 0.6126 - accuracy: 0.7901 - val_loss: 0.6168 - val_accuracy: 0.7778\n",
      "Epoch 149/250\n",
      "9/9 [==============================] - 0s 8ms/step - loss: 0.6109 - accuracy: 0.7901 - val_loss: 0.6188 - val_accuracy: 0.7778\n",
      "Epoch 150/250\n",
      "9/9 [==============================] - 0s 8ms/step - loss: 0.6093 - accuracy: 0.7778 - val_loss: 0.6153 - val_accuracy: 0.7778\n",
      "Epoch 151/250\n",
      "9/9 [==============================] - 0s 8ms/step - loss: 0.6065 - accuracy: 0.7901 - val_loss: 0.6053 - val_accuracy: 0.8889\n",
      "Epoch 152/250\n",
      "9/9 [==============================] - 0s 8ms/step - loss: 0.6053 - accuracy: 0.8025 - val_loss: 0.6145 - val_accuracy: 0.8889\n",
      "Epoch 153/250\n",
      "9/9 [==============================] - 0s 8ms/step - loss: 0.6040 - accuracy: 0.8272 - val_loss: 0.6113 - val_accuracy: 0.8889\n",
      "Epoch 154/250\n",
      "9/9 [==============================] - 0s 8ms/step - loss: 0.6021 - accuracy: 0.8272 - val_loss: 0.6065 - val_accuracy: 0.8889\n",
      "Epoch 155/250\n",
      "9/9 [==============================] - 0s 8ms/step - loss: 0.5994 - accuracy: 0.8272 - val_loss: 0.5963 - val_accuracy: 0.8889\n",
      "Epoch 156/250\n",
      "9/9 [==============================] - 0s 8ms/step - loss: 0.5979 - accuracy: 0.8025 - val_loss: 0.5871 - val_accuracy: 0.8889\n",
      "Epoch 157/250\n",
      "9/9 [==============================] - 0s 8ms/step - loss: 0.5951 - accuracy: 0.8025 - val_loss: 0.5829 - val_accuracy: 0.8889\n",
      "Epoch 158/250\n",
      "9/9 [==============================] - 0s 8ms/step - loss: 0.5933 - accuracy: 0.7901 - val_loss: 0.5812 - val_accuracy: 0.7778\n",
      "Epoch 159/250\n",
      "9/9 [==============================] - 0s 8ms/step - loss: 0.5919 - accuracy: 0.8025 - val_loss: 0.5774 - val_accuracy: 0.8889\n",
      "Epoch 160/250\n",
      "9/9 [==============================] - 0s 8ms/step - loss: 0.5910 - accuracy: 0.8025 - val_loss: 0.5699 - val_accuracy: 0.8889\n",
      "Epoch 161/250\n",
      "9/9 [==============================] - 0s 8ms/step - loss: 0.5878 - accuracy: 0.7901 - val_loss: 0.5648 - val_accuracy: 0.8889\n",
      "Epoch 162/250\n",
      "9/9 [==============================] - 0s 8ms/step - loss: 0.5856 - accuracy: 0.8025 - val_loss: 0.5685 - val_accuracy: 0.8889\n",
      "Epoch 163/250\n",
      "9/9 [==============================] - 0s 8ms/step - loss: 0.5835 - accuracy: 0.8148 - val_loss: 0.5687 - val_accuracy: 0.8889\n",
      "Epoch 164/250\n",
      "9/9 [==============================] - 0s 8ms/step - loss: 0.5821 - accuracy: 0.8148 - val_loss: 0.5602 - val_accuracy: 0.8889\n",
      "Epoch 165/250\n",
      "9/9 [==============================] - 0s 8ms/step - loss: 0.5794 - accuracy: 0.8148 - val_loss: 0.5636 - val_accuracy: 0.8889\n",
      "Epoch 166/250\n",
      "9/9 [==============================] - 0s 8ms/step - loss: 0.5767 - accuracy: 0.8395 - val_loss: 0.5556 - val_accuracy: 0.8889\n",
      "Epoch 167/250\n",
      "9/9 [==============================] - 0s 8ms/step - loss: 0.5754 - accuracy: 0.8148 - val_loss: 0.5616 - val_accuracy: 0.8889\n",
      "Epoch 168/250\n",
      "9/9 [==============================] - 0s 8ms/step - loss: 0.5733 - accuracy: 0.8272 - val_loss: 0.5521 - val_accuracy: 0.8889\n",
      "Epoch 169/250\n",
      "9/9 [==============================] - 0s 8ms/step - loss: 0.5716 - accuracy: 0.8395 - val_loss: 0.5597 - val_accuracy: 0.7778\n",
      "Epoch 170/250\n",
      "9/9 [==============================] - 0s 8ms/step - loss: 0.5695 - accuracy: 0.8272 - val_loss: 0.5535 - val_accuracy: 0.7778\n",
      "Epoch 171/250\n",
      "9/9 [==============================] - 0s 8ms/step - loss: 0.5677 - accuracy: 0.8272 - val_loss: 0.5450 - val_accuracy: 0.7778\n",
      "Epoch 172/250\n",
      "9/9 [==============================] - 0s 8ms/step - loss: 0.5678 - accuracy: 0.8395 - val_loss: 0.5498 - val_accuracy: 0.7778\n",
      "Epoch 173/250\n",
      "9/9 [==============================] - 0s 8ms/step - loss: 0.5645 - accuracy: 0.8272 - val_loss: 0.5489 - val_accuracy: 0.7778\n",
      "Epoch 174/250\n",
      "9/9 [==============================] - 0s 8ms/step - loss: 0.5614 - accuracy: 0.8395 - val_loss: 0.5439 - val_accuracy: 0.7778\n",
      "Epoch 175/250\n",
      "9/9 [==============================] - 0s 8ms/step - loss: 0.5591 - accuracy: 0.8395 - val_loss: 0.5534 - val_accuracy: 0.8889\n",
      "Epoch 176/250\n",
      "9/9 [==============================] - 0s 7ms/step - loss: 0.5569 - accuracy: 0.8395 - val_loss: 0.5501 - val_accuracy: 0.8889\n",
      "Epoch 177/250\n",
      "9/9 [==============================] - 0s 8ms/step - loss: 0.5564 - accuracy: 0.8395 - val_loss: 0.5374 - val_accuracy: 0.7778\n",
      "Epoch 178/250\n",
      "9/9 [==============================] - 0s 9ms/step - loss: 0.5526 - accuracy: 0.8395 - val_loss: 0.5318 - val_accuracy: 0.7778\n",
      "Epoch 179/250\n",
      "9/9 [==============================] - 0s 8ms/step - loss: 0.5506 - accuracy: 0.8395 - val_loss: 0.5334 - val_accuracy: 0.7778\n",
      "Epoch 180/250\n",
      "9/9 [==============================] - 0s 8ms/step - loss: 0.5479 - accuracy: 0.8395 - val_loss: 0.5246 - val_accuracy: 0.7778\n",
      "Epoch 181/250\n",
      "9/9 [==============================] - 0s 8ms/step - loss: 0.5461 - accuracy: 0.8519 - val_loss: 0.5174 - val_accuracy: 0.7778\n",
      "Epoch 182/250\n",
      "9/9 [==============================] - 0s 8ms/step - loss: 0.5442 - accuracy: 0.8642 - val_loss: 0.5157 - val_accuracy: 0.8889\n",
      "Epoch 183/250\n",
      "9/9 [==============================] - 0s 9ms/step - loss: 0.5416 - accuracy: 0.8395 - val_loss: 0.5108 - val_accuracy: 0.7778\n",
      "Epoch 184/250\n",
      "9/9 [==============================] - 0s 8ms/step - loss: 0.5419 - accuracy: 0.8642 - val_loss: 0.5111 - val_accuracy: 0.8889\n",
      "Epoch 185/250\n",
      "9/9 [==============================] - 0s 8ms/step - loss: 0.5374 - accuracy: 0.8519 - val_loss: 0.5330 - val_accuracy: 0.8889\n",
      "Epoch 186/250\n",
      "9/9 [==============================] - 0s 8ms/step - loss: 0.5366 - accuracy: 0.8395 - val_loss: 0.5399 - val_accuracy: 0.8889\n",
      "Epoch 187/250\n",
      "9/9 [==============================] - 0s 8ms/step - loss: 0.5353 - accuracy: 0.8519 - val_loss: 0.5624 - val_accuracy: 0.8889\n",
      "Epoch 188/250\n",
      "9/9 [==============================] - 0s 8ms/step - loss: 0.5377 - accuracy: 0.8519 - val_loss: 0.5578 - val_accuracy: 0.8889\n",
      "Epoch 189/250\n",
      "9/9 [==============================] - 0s 7ms/step - loss: 0.5339 - accuracy: 0.8642 - val_loss: 0.5694 - val_accuracy: 0.8889\n",
      "Epoch 190/250\n",
      "9/9 [==============================] - 0s 8ms/step - loss: 0.5348 - accuracy: 0.8519 - val_loss: 0.5395 - val_accuracy: 0.8889\n",
      "Epoch 191/250\n",
      "9/9 [==============================] - 0s 8ms/step - loss: 0.5257 - accuracy: 0.8519 - val_loss: 0.5219 - val_accuracy: 0.8889\n",
      "Epoch 192/250\n",
      "9/9 [==============================] - 0s 8ms/step - loss: 0.5229 - accuracy: 0.8519 - val_loss: 0.5161 - val_accuracy: 0.8889\n",
      "Epoch 193/250\n",
      "9/9 [==============================] - 0s 8ms/step - loss: 0.5196 - accuracy: 0.8519 - val_loss: 0.5265 - val_accuracy: 0.6667\n",
      "Epoch 194/250\n",
      "9/9 [==============================] - 0s 8ms/step - loss: 0.5196 - accuracy: 0.8642 - val_loss: 0.5219 - val_accuracy: 0.6667\n",
      "Epoch 195/250\n",
      "9/9 [==============================] - 0s 8ms/step - loss: 0.5154 - accuracy: 0.8642 - val_loss: 0.5122 - val_accuracy: 0.7778\n",
      "Epoch 196/250\n",
      "9/9 [==============================] - 0s 8ms/step - loss: 0.5128 - accuracy: 0.8519 - val_loss: 0.5006 - val_accuracy: 0.8889\n",
      "Epoch 197/250\n",
      "9/9 [==============================] - 0s 8ms/step - loss: 0.5104 - accuracy: 0.8519 - val_loss: 0.4942 - val_accuracy: 0.8889\n",
      "Epoch 198/250\n",
      "9/9 [==============================] - 0s 8ms/step - loss: 0.5082 - accuracy: 0.8395 - val_loss: 0.4928 - val_accuracy: 0.8889\n",
      "Epoch 199/250\n",
      "9/9 [==============================] - 0s 8ms/step - loss: 0.5071 - accuracy: 0.8395 - val_loss: 0.4804 - val_accuracy: 0.8889\n",
      "Epoch 200/250\n",
      "9/9 [==============================] - 0s 8ms/step - loss: 0.5036 - accuracy: 0.8642 - val_loss: 0.4789 - val_accuracy: 0.8889\n",
      "Epoch 201/250\n",
      "9/9 [==============================] - 0s 8ms/step - loss: 0.5033 - accuracy: 0.8642 - val_loss: 0.4783 - val_accuracy: 1.0000\n",
      "Epoch 202/250\n",
      "9/9 [==============================] - 0s 8ms/step - loss: 0.5007 - accuracy: 0.8395 - val_loss: 0.5044 - val_accuracy: 0.8889\n",
      "Epoch 203/250\n",
      "9/9 [==============================] - 0s 8ms/step - loss: 0.5007 - accuracy: 0.8395 - val_loss: 0.4876 - val_accuracy: 0.8889\n",
      "Epoch 204/250\n",
      "9/9 [==============================] - 0s 8ms/step - loss: 0.4960 - accuracy: 0.8642 - val_loss: 0.4753 - val_accuracy: 0.8889\n",
      "Epoch 205/250\n",
      "9/9 [==============================] - 0s 8ms/step - loss: 0.4922 - accuracy: 0.8519 - val_loss: 0.4790 - val_accuracy: 1.0000\n",
      "Epoch 206/250\n",
      "9/9 [==============================] - 0s 8ms/step - loss: 0.4904 - accuracy: 0.8519 - val_loss: 0.4710 - val_accuracy: 0.8889\n",
      "Epoch 207/250\n",
      "9/9 [==============================] - 0s 8ms/step - loss: 0.4885 - accuracy: 0.8395 - val_loss: 0.4719 - val_accuracy: 0.8889\n",
      "Epoch 208/250\n",
      "9/9 [==============================] - 0s 9ms/step - loss: 0.4872 - accuracy: 0.8395 - val_loss: 0.4853 - val_accuracy: 0.8889\n",
      "Epoch 209/250\n",
      "9/9 [==============================] - 0s 8ms/step - loss: 0.4852 - accuracy: 0.8519 - val_loss: 0.4998 - val_accuracy: 0.7778\n",
      "Epoch 210/250\n",
      "9/9 [==============================] - 0s 8ms/step - loss: 0.4827 - accuracy: 0.8765 - val_loss: 0.4809 - val_accuracy: 0.8889\n",
      "Epoch 211/250\n",
      "9/9 [==============================] - 0s 8ms/step - loss: 0.4823 - accuracy: 0.8765 - val_loss: 0.4877 - val_accuracy: 0.8889\n",
      "Epoch 212/250\n",
      "9/9 [==============================] - 0s 8ms/step - loss: 0.4803 - accuracy: 0.8642 - val_loss: 0.4719 - val_accuracy: 0.7778\n",
      "Epoch 213/250\n",
      "9/9 [==============================] - 0s 8ms/step - loss: 0.4761 - accuracy: 0.8642 - val_loss: 0.4629 - val_accuracy: 0.8889\n",
      "Epoch 214/250\n",
      "9/9 [==============================] - 0s 8ms/step - loss: 0.4749 - accuracy: 0.8519 - val_loss: 0.4663 - val_accuracy: 0.8889\n",
      "Epoch 215/250\n",
      "9/9 [==============================] - 0s 9ms/step - loss: 0.4719 - accuracy: 0.8395 - val_loss: 0.4584 - val_accuracy: 0.8889\n",
      "Epoch 216/250\n",
      "9/9 [==============================] - 0s 8ms/step - loss: 0.4709 - accuracy: 0.8395 - val_loss: 0.4594 - val_accuracy: 0.8889\n",
      "Epoch 217/250\n",
      "9/9 [==============================] - 0s 8ms/step - loss: 0.4714 - accuracy: 0.8519 - val_loss: 0.4634 - val_accuracy: 0.8889\n",
      "Epoch 218/250\n",
      "9/9 [==============================] - 0s 8ms/step - loss: 0.4683 - accuracy: 0.8519 - val_loss: 0.4648 - val_accuracy: 0.7778\n",
      "Epoch 219/250\n",
      "9/9 [==============================] - 0s 8ms/step - loss: 0.4642 - accuracy: 0.8642 - val_loss: 0.4483 - val_accuracy: 0.8889\n",
      "Epoch 220/250\n",
      "9/9 [==============================] - 0s 8ms/step - loss: 0.4663 - accuracy: 0.8519 - val_loss: 0.4459 - val_accuracy: 0.8889\n",
      "Epoch 221/250\n",
      "9/9 [==============================] - 0s 8ms/step - loss: 0.4608 - accuracy: 0.8519 - val_loss: 0.4618 - val_accuracy: 0.8889\n",
      "Epoch 222/250\n",
      "9/9 [==============================] - 0s 8ms/step - loss: 0.4594 - accuracy: 0.8642 - val_loss: 0.4428 - val_accuracy: 0.7778\n",
      "Epoch 223/250\n",
      "9/9 [==============================] - 0s 8ms/step - loss: 0.4569 - accuracy: 0.8642 - val_loss: 0.4337 - val_accuracy: 0.8889\n",
      "Epoch 224/250\n",
      "9/9 [==============================] - 0s 8ms/step - loss: 0.4580 - accuracy: 0.8519 - val_loss: 0.4773 - val_accuracy: 0.8889\n",
      "Epoch 225/250\n",
      "9/9 [==============================] - 0s 8ms/step - loss: 0.4594 - accuracy: 0.8642 - val_loss: 0.4697 - val_accuracy: 0.7778\n",
      "Epoch 226/250\n",
      "9/9 [==============================] - 0s 8ms/step - loss: 0.4518 - accuracy: 0.8642 - val_loss: 0.4708 - val_accuracy: 0.7778\n",
      "Epoch 227/250\n",
      "9/9 [==============================] - 0s 8ms/step - loss: 0.4502 - accuracy: 0.8519 - val_loss: 0.4704 - val_accuracy: 0.7778\n",
      "Epoch 228/250\n",
      "9/9 [==============================] - 0s 8ms/step - loss: 0.4485 - accuracy: 0.8642 - val_loss: 0.4649 - val_accuracy: 0.7778\n",
      "Epoch 229/250\n",
      "9/9 [==============================] - 0s 8ms/step - loss: 0.4475 - accuracy: 0.8642 - val_loss: 0.4650 - val_accuracy: 0.7778\n",
      "Epoch 230/250\n",
      "9/9 [==============================] - 0s 8ms/step - loss: 0.4437 - accuracy: 0.8642 - val_loss: 0.4654 - val_accuracy: 0.7778\n",
      "Epoch 231/250\n",
      "9/9 [==============================] - 0s 8ms/step - loss: 0.4416 - accuracy: 0.8765 - val_loss: 0.4923 - val_accuracy: 0.7778\n",
      "Epoch 232/250\n",
      "9/9 [==============================] - 0s 8ms/step - loss: 0.4435 - accuracy: 0.8889 - val_loss: 0.4822 - val_accuracy: 0.7778\n",
      "Epoch 233/250\n"
     ]
    },
    {
     "name": "stdout",
     "output_type": "stream",
     "text": [
      "9/9 [==============================] - 0s 7ms/step - loss: 0.4412 - accuracy: 0.8889 - val_loss: 0.4782 - val_accuracy: 0.7778\n",
      "Epoch 234/250\n",
      "9/9 [==============================] - 0s 8ms/step - loss: 0.4391 - accuracy: 0.8889 - val_loss: 0.4594 - val_accuracy: 0.8889\n",
      "Epoch 235/250\n",
      "9/9 [==============================] - 0s 8ms/step - loss: 0.4380 - accuracy: 0.8642 - val_loss: 0.4592 - val_accuracy: 0.7778\n",
      "Epoch 236/250\n",
      "9/9 [==============================] - 0s 8ms/step - loss: 0.4376 - accuracy: 0.8765 - val_loss: 0.4495 - val_accuracy: 0.7778\n",
      "Epoch 237/250\n",
      "9/9 [==============================] - 0s 8ms/step - loss: 0.4336 - accuracy: 0.8765 - val_loss: 0.4648 - val_accuracy: 0.7778\n",
      "Epoch 238/250\n",
      "9/9 [==============================] - 0s 8ms/step - loss: 0.4346 - accuracy: 0.8642 - val_loss: 0.4596 - val_accuracy: 0.7778\n",
      "Epoch 239/250\n",
      "9/9 [==============================] - 0s 9ms/step - loss: 0.4315 - accuracy: 0.8642 - val_loss: 0.4468 - val_accuracy: 0.8889\n",
      "Epoch 240/250\n",
      "9/9 [==============================] - 0s 8ms/step - loss: 0.4307 - accuracy: 0.8765 - val_loss: 0.4310 - val_accuracy: 0.8889\n",
      "Epoch 241/250\n",
      "9/9 [==============================] - 0s 8ms/step - loss: 0.4308 - accuracy: 0.8889 - val_loss: 0.4258 - val_accuracy: 0.8889\n",
      "Epoch 242/250\n",
      "9/9 [==============================] - 0s 7ms/step - loss: 0.4280 - accuracy: 0.8642 - val_loss: 0.4295 - val_accuracy: 0.7778\n",
      "Epoch 243/250\n",
      "9/9 [==============================] - 0s 7ms/step - loss: 0.4271 - accuracy: 0.8642 - val_loss: 0.4341 - val_accuracy: 0.8889\n",
      "Epoch 244/250\n",
      "9/9 [==============================] - 0s 8ms/step - loss: 0.4239 - accuracy: 0.8765 - val_loss: 0.4218 - val_accuracy: 0.8889\n",
      "Epoch 245/250\n",
      "9/9 [==============================] - 0s 8ms/step - loss: 0.4267 - accuracy: 0.8889 - val_loss: 0.4326 - val_accuracy: 0.8889\n",
      "Epoch 246/250\n",
      "9/9 [==============================] - 0s 8ms/step - loss: 0.4211 - accuracy: 0.8889 - val_loss: 0.4241 - val_accuracy: 0.8889\n",
      "Epoch 247/250\n",
      "9/9 [==============================] - 0s 8ms/step - loss: 0.4243 - accuracy: 0.9136 - val_loss: 0.4294 - val_accuracy: 0.8889\n",
      "Epoch 248/250\n",
      "9/9 [==============================] - 0s 8ms/step - loss: 0.4213 - accuracy: 0.9012 - val_loss: 0.4882 - val_accuracy: 0.8889\n",
      "Epoch 249/250\n",
      "9/9 [==============================] - 0s 8ms/step - loss: 0.4246 - accuracy: 0.9136 - val_loss: 0.5015 - val_accuracy: 0.7778\n",
      "Epoch 250/250\n",
      "9/9 [==============================] - 0s 8ms/step - loss: 0.4344 - accuracy: 0.8889 - val_loss: 0.4721 - val_accuracy: 0.8889\n"
     ]
    }
   ],
   "source": [
    "model.compile(loss=\"binary_crossentropy\",optimizer=SGD(0.01),metrics=[\"accuracy\"])\n",
    "history=model.fit(x_train,y_train,batch_size=10,epochs=250,validation_split=0.1) "
   ]
  },
  {
   "cell_type": "code",
   "execution_count": 15,
   "id": "f264010e",
   "metadata": {},
   "outputs": [
    {
     "data": {
      "text/plain": [
       "<matplotlib.legend.Legend at 0x16648742100>"
      ]
     },
     "execution_count": 15,
     "metadata": {},
     "output_type": "execute_result"
    },
    {
     "data": {
      "image/png": "[encoded data removed]",
      "text/plain": [
       "<Figure size 640x480 with 1 Axes>"
      ]
     },
     "metadata": {},
     "output_type": "display_data"
    }
   ],
   "source": [
    "plt.plot(range(1,251),history.history[\"loss\"],label=\"train_loss\")\n",
    "plt.plot(range(1,251),history.history[\"val_loss\"],label=\"test_loss\") \n",
    "plt.legend()"
   ]
  },
  {
   "cell_type": "markdown",
   "id": "bb0e957f",
   "metadata": {},
   "source": [
    "### Predicting the model "
   ]
  },
  {
   "cell_type": "code",
   "execution_count": 16,
   "id": "55eca951",
   "metadata": {},
   "outputs": [
    {
     "name": "stdout",
     "output_type": "stream",
     "text": [
      "1/1 [==============================] - 0s 143ms/step\n"
     ]
    },
    {
     "data": {
      "text/plain": [
       "array([[0.06475859],\n",
       "       [0.83319086],\n",
       "       [0.91928613],\n",
       "       [0.16709366],\n",
       "       [0.18805405],\n",
       "       [0.17468198],\n",
       "       [0.91204894],\n",
       "       [0.41915622],\n",
       "       [0.87988776],\n",
       "       [0.75237083]], dtype=float32)"
      ]
     },
     "execution_count": 16,
     "metadata": {},
     "output_type": "execute_result"
    }
   ],
   "source": [
    "predicted=model.predict(x_test) \n",
    "predicted "
   ]
  },
  {
   "cell_type": "code",
   "execution_count": 17,
   "id": "438b972e",
   "metadata": {},
   "outputs": [
    {
     "data": {
      "text/plain": [
       "array([[0],\n",
       "       [1],\n",
       "       [1],\n",
       "       [0],\n",
       "       [0],\n",
       "       [0],\n",
       "       [1],\n",
       "       [0],\n",
       "       [1],\n",
       "       [1]])"
      ]
     },
     "execution_count": 17,
     "metadata": {},
     "output_type": "execute_result"
    }
   ],
   "source": [
    "predicted=np.where(predicted>0.5,1,0)\n",
    "predicted  "
   ]
  },
  {
   "cell_type": "markdown",
   "id": "1cdca40d",
   "metadata": {},
   "source": [
    "### Evaluating the model"
   ]
  },
  {
   "cell_type": "code",
   "execution_count": 18,
   "id": "e5665761",
   "metadata": {},
   "outputs": [
    {
     "name": "stdout",
     "output_type": "stream",
     "text": [
      "1.0\n"
     ]
    },
    {
     "data": {
      "image/png": "[encoded data removed]",
      "text/plain": [
       "<Figure size 640x480 with 2 Axes>"
      ]
     },
     "metadata": {},
     "output_type": "display_data"
    }
   ],
   "source": [
    "from sklearn.metrics import accuracy_score,confusion_matrix,ConfusionMatrixDisplay\n",
    "print(accuracy_score(y_test,predicted))\n",
    "cm=confusion_matrix(y_test,predicted)\n",
    "va=ConfusionMatrixDisplay(cm)\n",
    "va.plot() \n",
    "plt.show()"
   ]
  },
  {
   "cell_type": "markdown",
   "id": "e29e3ce8",
   "metadata": {},
   "source": [
    "### PLOTING THE DECISION SURFACE"
   ]
  },
  {
   "cell_type": "code",
   "execution_count": 19,
   "id": "fa6c3eb2",
   "metadata": {},
   "outputs": [],
   "source": [
    "from mlxtend.plotting  import plot_decision_regions  "
   ]
  },
  {
   "cell_type": "code",
   "execution_count": 20,
   "id": "ffffa104",
   "metadata": {},
   "outputs": [
    {
     "name": "stdout",
     "output_type": "stream",
     "text": [
      "9600/9600 [==============================] - 20s 2ms/step\n"
     ]
    },
    {
     "data": {
      "text/plain": [
       "<Axes: >"
      ]
     },
     "execution_count": 20,
     "metadata": {},
     "output_type": "execute_result"
    },
    {
     "data": {
      "image/png": "[encoded data removed]",
      "text/plain": [
       "<Figure size 640x480 with 1 Axes>"
      ]
     },
     "metadata": {},
     "output_type": "display_data"
    }
   ],
   "source": [
    "plot_decision_regions(x_train,y_train.values,clf=model) "
   ]
  },
  {
   "cell_type": "code",
   "execution_count": 21,
   "id": "d8e35fb0",
   "metadata": {},
   "outputs": [
    {
     "name": "stdout",
     "output_type": "stream",
     "text": [
      "9600/9600 [==============================] - 24s 2ms/step\n"
     ]
    },
    {
     "data": {
      "text/plain": [
       "<Axes: >"
      ]
     },
     "execution_count": 21,
     "metadata": {},
     "output_type": "execute_result"
    },
    {
     "data": {
      "image/png": "[encoded data removed]",
      "text/plain": [
       "<Figure size 640x480 with 1 Axes>"
      ]
     },
     "metadata": {},
     "output_type": "display_data"
    }
   ],
   "source": [
    "plot_decision_regions(x_test,y_test.values,clf=model)  "
   ]
  },
  {
   "cell_type": "markdown",
   "id": "f8e19e71",
   "metadata": {},
   "source": [
    "### Conclusions:\n",
    "###### This neural network model achieves an accuracy of 90%. The model architecture consists of 3 hidden layers with the following specifications:\n",
    "\n",
    "- In the first hidden layer, there are 18 neurons with the ReLU activation function and an L1 regularizer with a strength of 0.001.\n",
    "- In the second hidden layer, there are 16 neurons with the ReLU activation function and an L1 regularizer with a strength of 0.001.\n",
    "- In the third hidden layer, there are 10 neurons with the ReLU activation function and an L1 regularizer with a strength of 0.001.\n",
    "\n",
    "###### The output layer uses the sigmoid activation function.\n",
    "\n",
    "##### For model compilation, the following settings were used:\n",
    "\n",
    "###### Loss function: Binary cross-entropy.\n",
    "- Optimizer: Stochastic Gradient Descent (SGD) with a batch size of 10 and a learning rate of 0.01.\n",
    "- The model was trained for 250 epochs.\n",
    " \n",
    "###### Overall, this neural network model architecture and training configuration achieve an accuracy of 90%."
   ]
  },
  {
   "cell_type": "code",
   "execution_count": null,
   "id": "29447001",
   "metadata": {},
   "outputs": [],
   "source": []
  }
 ],
 "metadata": {
  "kernelspec": {
   "display_name": "Python 3 (ipykernel)",
   "language": "python",
   "name": "python3"
  },
  "language_info": {
   "codemirror_mode": {
    "name": "ipython",
    "version": 3
   },
   "file_extension": ".py",
   "mimetype": "text/x-python",
   "name": "python",
   "nbconvert_exporter": "python",
   "pygments_lexer": "ipython3",
   "version": "3.9.13"
  }
 },
 "nbformat": 4,
 "nbformat_minor": 5
}
