{
 "cells": [
  {
   "cell_type": "markdown",
   "id": "4554ade2",
   "metadata": {},
   "source": [
    "## Importing Libraries"
   ]
  },
  {
   "cell_type": "code",
   "execution_count": 1,
   "id": "38694f14",
   "metadata": {},
   "outputs": [],
   "source": [
    "import numpy as np\n",
    "import pandas as pd  \n",
    "from sklearn.preprocessing import StandardScaler\n",
    "from sklearn.model_selection import train_test_split\n",
    "from keras import Sequential \n",
    "from keras.layers import Dense \n",
    "from keras.regularizers import L1,L2,L1L2 \n",
    "from keras.optimizers import SGD  \n",
    "import matplotlib.pyplot as plt  "
   ]
  },
  {
   "cell_type": "markdown",
   "id": "d82346e5",
   "metadata": {},
   "source": [
    "## Importing the CSV file"
   ]
  },
  {
   "cell_type": "code",
   "execution_count": 2,
   "id": "bb67035c",
   "metadata": {},
   "outputs": [
    {
     "data": {
      "text/html": [
       "<div>\n",
       "<style scoped>\n",
       "    .dataframe tbody tr th:only-of-type {\n",
       "        vertical-align: middle;\n",
       "    }\n",
       "\n",
       "    .dataframe tbody tr th {\n",
       "        vertical-align: top;\n",
       "    }\n",
       "\n",
       "    .dataframe thead th {\n",
       "        text-align: right;\n",
       "    }\n",
       "</style>\n",
       "<table border=\"1\" class=\"dataframe\">\n",
       "  <thead>\n",
       "    <tr style=\"text-align: right;\">\n",
       "      <th></th>\n",
       "      <th>0</th>\n",
       "      <th>1</th>\n",
       "      <th>2</th>\n",
       "    </tr>\n",
       "  </thead>\n",
       "  <tbody>\n",
       "    <tr>\n",
       "      <th>0</th>\n",
       "      <td>0.700335</td>\n",
       "      <td>-0.247068</td>\n",
       "      <td>0.0</td>\n",
       "    </tr>\n",
       "    <tr>\n",
       "      <th>1</th>\n",
       "      <td>-3.950019</td>\n",
       "      <td>2.740080</td>\n",
       "      <td>1.0</td>\n",
       "    </tr>\n",
       "    <tr>\n",
       "      <th>2</th>\n",
       "      <td>0.150222</td>\n",
       "      <td>-2.157638</td>\n",
       "      <td>1.0</td>\n",
       "    </tr>\n",
       "    <tr>\n",
       "      <th>3</th>\n",
       "      <td>-1.672050</td>\n",
       "      <td>-0.941519</td>\n",
       "      <td>1.0</td>\n",
       "    </tr>\n",
       "    <tr>\n",
       "      <th>4</th>\n",
       "      <td>2.560483</td>\n",
       "      <td>-1.846577</td>\n",
       "      <td>1.0</td>\n",
       "    </tr>\n",
       "  </tbody>\n",
       "</table>\n",
       "</div>"
      ],
      "text/plain": [
       "          0         1    2\n",
       "0  0.700335 -0.247068  0.0\n",
       "1 -3.950019  2.740080  1.0\n",
       "2  0.150222 -2.157638  1.0\n",
       "3 -1.672050 -0.941519  1.0\n",
       "4  2.560483 -1.846577  1.0"
      ]
     },
     "execution_count": 2,
     "metadata": {},
     "output_type": "execute_result"
    }
   ],
   "source": [
    "df=pd.read_csv(r\"C:\\Users\\sss\\Downloads\\Deep_Learning related\\DL_CLASS\\ASSIGNMENT_4\\Multiple CSV\\3.concertriccir2.csv\",header=None) \n",
    "df.head() "
   ]
  },
  {
   "cell_type": "code",
   "execution_count": 3,
   "id": "9543d42a",
   "metadata": {},
   "outputs": [
    {
     "name": "stdout",
     "output_type": "stream",
     "text": [
      "<class 'pandas.core.frame.DataFrame'>\n",
      "RangeIndex: 500 entries, 0 to 499\n",
      "Data columns (total 3 columns):\n",
      " #   Column  Non-Null Count  Dtype  \n",
      "---  ------  --------------  -----  \n",
      " 0   0       500 non-null    float64\n",
      " 1   1       500 non-null    float64\n",
      " 2   2       500 non-null    float64\n",
      "dtypes: float64(3)\n",
      "memory usage: 11.8 KB\n"
     ]
    }
   ],
   "source": [
    "df.info() "
   ]
  },
  {
   "cell_type": "code",
   "execution_count": 4,
   "id": "6ed6ed49",
   "metadata": {},
   "outputs": [
    {
     "data": {
      "text/plain": [
       "2\n",
       "0.0    250\n",
       "1.0    250\n",
       "Name: count, dtype: int64"
      ]
     },
     "execution_count": 4,
     "metadata": {},
     "output_type": "execute_result"
    }
   ],
   "source": [
    "df[2].value_counts()  "
   ]
  },
  {
   "cell_type": "markdown",
   "id": "ee0a0804",
   "metadata": {},
   "source": [
    "## Seperating the Input and Output Features"
   ]
  },
  {
   "cell_type": "code",
   "execution_count": 5,
   "id": "8bd0fe64",
   "metadata": {},
   "outputs": [],
   "source": [
    "x=df.iloc[:,0:2]\n",
    "y=df.iloc[:,2].astype(int) "
   ]
  },
  {
   "cell_type": "code",
   "execution_count": 6,
   "id": "cd031598",
   "metadata": {},
   "outputs": [
    {
     "data": {
      "text/html": [
       "<div>\n",
       "<style scoped>\n",
       "    .dataframe tbody tr th:only-of-type {\n",
       "        vertical-align: middle;\n",
       "    }\n",
       "\n",
       "    .dataframe tbody tr th {\n",
       "        vertical-align: top;\n",
       "    }\n",
       "\n",
       "    .dataframe thead th {\n",
       "        text-align: right;\n",
       "    }\n",
       "</style>\n",
       "<table border=\"1\" class=\"dataframe\">\n",
       "  <thead>\n",
       "    <tr style=\"text-align: right;\">\n",
       "      <th></th>\n",
       "      <th>0</th>\n",
       "      <th>1</th>\n",
       "    </tr>\n",
       "  </thead>\n",
       "  <tbody>\n",
       "    <tr>\n",
       "      <th>0</th>\n",
       "      <td>0.700335</td>\n",
       "      <td>-0.247068</td>\n",
       "    </tr>\n",
       "    <tr>\n",
       "      <th>1</th>\n",
       "      <td>-3.950019</td>\n",
       "      <td>2.740080</td>\n",
       "    </tr>\n",
       "    <tr>\n",
       "      <th>2</th>\n",
       "      <td>0.150222</td>\n",
       "      <td>-2.157638</td>\n",
       "    </tr>\n",
       "    <tr>\n",
       "      <th>3</th>\n",
       "      <td>-1.672050</td>\n",
       "      <td>-0.941519</td>\n",
       "    </tr>\n",
       "    <tr>\n",
       "      <th>4</th>\n",
       "      <td>2.560483</td>\n",
       "      <td>-1.846577</td>\n",
       "    </tr>\n",
       "  </tbody>\n",
       "</table>\n",
       "</div>"
      ],
      "text/plain": [
       "          0         1\n",
       "0  0.700335 -0.247068\n",
       "1 -3.950019  2.740080\n",
       "2  0.150222 -2.157638\n",
       "3 -1.672050 -0.941519\n",
       "4  2.560483 -1.846577"
      ]
     },
     "execution_count": 6,
     "metadata": {},
     "output_type": "execute_result"
    }
   ],
   "source": [
    "x.head()  "
   ]
  },
  {
   "cell_type": "code",
   "execution_count": 7,
   "id": "96e8beaa",
   "metadata": {},
   "outputs": [
    {
     "data": {
      "text/plain": [
       "0    0\n",
       "1    1\n",
       "2    1\n",
       "3    1\n",
       "4    1\n",
       "Name: 2, dtype: int32"
      ]
     },
     "execution_count": 7,
     "metadata": {},
     "output_type": "execute_result"
    }
   ],
   "source": [
    "y.head()  "
   ]
  },
  {
   "cell_type": "markdown",
   "id": "14a6e89b",
   "metadata": {},
   "source": [
    "## Split the data into train and test "
   ]
  },
  {
   "cell_type": "code",
   "execution_count": 8,
   "id": "17267076",
   "metadata": {},
   "outputs": [],
   "source": [
    "x_train,x_test,y_train,y_test=train_test_split(x,y,test_size=0.1)"
   ]
  },
  {
   "cell_type": "code",
   "execution_count": 9,
   "id": "e9f429fc",
   "metadata": {},
   "outputs": [
    {
     "data": {
      "text/plain": [
       "(450, 2)"
      ]
     },
     "execution_count": 9,
     "metadata": {},
     "output_type": "execute_result"
    }
   ],
   "source": [
    "x_train.shape  "
   ]
  },
  {
   "cell_type": "code",
   "execution_count": 10,
   "id": "3d820ebf",
   "metadata": {},
   "outputs": [
    {
     "data": {
      "text/plain": [
       "(50, 2)"
      ]
     },
     "execution_count": 10,
     "metadata": {},
     "output_type": "execute_result"
    }
   ],
   "source": [
    "x_test.shape  "
   ]
  },
  {
   "cell_type": "markdown",
   "id": "0a202fa1",
   "metadata": {},
   "source": [
    "### Standardising input features "
   ]
  },
  {
   "cell_type": "code",
   "execution_count": 11,
   "id": "dc22f9ef",
   "metadata": {},
   "outputs": [],
   "source": [
    "std=StandardScaler()\n",
    "x_train=std.fit_transform(x_train)\n",
    "x_test=std.transform(x_test)  "
   ]
  },
  {
   "cell_type": "markdown",
   "id": "5b555985",
   "metadata": {},
   "source": [
    "### Build the Logical Structure"
   ]
  },
  {
   "cell_type": "code",
   "execution_count": 12,
   "id": "780292be",
   "metadata": {},
   "outputs": [],
   "source": [
    "model=Sequential()\n",
    "model.add(Dense(18,activation=\"relu\",kernel_regularizer=L1(0.001),bias_regularizer=L1(0.001),input_dim=2))\n",
    "model.add(Dense(16,activation=\"relu\",kernel_regularizer=L1(0.001),bias_regularizer=L1(0.001)))\n",
    "model.add(Dense(10,activation=\"relu\",kernel_regularizer=L1(0.001),bias_regularizer=L1(0.001)))\n",
    "model.add(Dense(1,activation=\"sigmoid\"))  "
   ]
  },
  {
   "cell_type": "code",
   "execution_count": 13,
   "id": "20fe0b8a",
   "metadata": {},
   "outputs": [
    {
     "name": "stdout",
     "output_type": "stream",
     "text": [
      "Model: \"sequential\"\n",
      "_________________________________________________________________\n",
      " Layer (type)                Output Shape              Param #   \n",
      "=================================================================\n",
      " dense (Dense)               (None, 18)                54        \n",
      "                                                                 \n",
      " dense_1 (Dense)             (None, 16)                304       \n",
      "                                                                 \n",
      " dense_2 (Dense)             (None, 10)                170       \n",
      "                                                                 \n",
      " dense_3 (Dense)             (None, 1)                 11        \n",
      "                                                                 \n",
      "=================================================================\n",
      "Total params: 539 (2.11 KB)\n",
      "Trainable params: 539 (2.11 KB)\n",
      "Non-trainable params: 0 (0.00 Byte)\n",
      "_________________________________________________________________\n"
     ]
    }
   ],
   "source": [
    "model.summary() "
   ]
  },
  {
   "cell_type": "markdown",
   "id": "a3d2bdad",
   "metadata": {},
   "source": [
    "### compiling the model "
   ]
  },
  {
   "cell_type": "code",
   "execution_count": 14,
   "id": "86129a1c",
   "metadata": {},
   "outputs": [
    {
     "name": "stdout",
     "output_type": "stream",
     "text": [
      "Epoch 1/300\n",
      "41/41 [==============================] - 2s 12ms/step - loss: 0.8092 - accuracy: 0.4963 - val_loss: 0.8277 - val_accuracy: 0.4222\n",
      "Epoch 2/300\n",
      "41/41 [==============================] - 0s 4ms/step - loss: 0.8022 - accuracy: 0.5457 - val_loss: 0.8188 - val_accuracy: 0.4667\n",
      "Epoch 3/300\n",
      "41/41 [==============================] - 0s 4ms/step - loss: 0.7980 - accuracy: 0.6099 - val_loss: 0.8126 - val_accuracy: 0.5556\n",
      "Epoch 4/300\n",
      "41/41 [==============================] - 0s 4ms/step - loss: 0.7952 - accuracy: 0.6914 - val_loss: 0.8096 - val_accuracy: 0.6222\n",
      "Epoch 5/300\n",
      "41/41 [==============================] - 0s 4ms/step - loss: 0.7928 - accuracy: 0.7062 - val_loss: 0.8070 - val_accuracy: 0.5556\n",
      "Epoch 6/300\n",
      "41/41 [==============================] - 0s 4ms/step - loss: 0.7909 - accuracy: 0.7062 - val_loss: 0.8044 - val_accuracy: 0.5556\n",
      "Epoch 7/300\n",
      "41/41 [==============================] - 0s 4ms/step - loss: 0.7894 - accuracy: 0.6914 - val_loss: 0.8034 - val_accuracy: 0.5556\n",
      "Epoch 8/300\n",
      "41/41 [==============================] - 0s 4ms/step - loss: 0.7883 - accuracy: 0.6765 - val_loss: 0.8024 - val_accuracy: 0.5556\n",
      "Epoch 9/300\n",
      "41/41 [==============================] - 0s 4ms/step - loss: 0.7871 - accuracy: 0.6840 - val_loss: 0.8007 - val_accuracy: 0.5778\n",
      "Epoch 10/300\n",
      "41/41 [==============================] - 0s 4ms/step - loss: 0.7859 - accuracy: 0.6741 - val_loss: 0.7992 - val_accuracy: 0.5556\n",
      "Epoch 11/300\n",
      "41/41 [==============================] - 0s 4ms/step - loss: 0.7850 - accuracy: 0.6642 - val_loss: 0.7989 - val_accuracy: 0.5556\n",
      "Epoch 12/300\n",
      "41/41 [==============================] - 0s 5ms/step - loss: 0.7841 - accuracy: 0.6568 - val_loss: 0.7986 - val_accuracy: 0.5556\n",
      "Epoch 13/300\n",
      "41/41 [==============================] - 0s 4ms/step - loss: 0.7832 - accuracy: 0.6642 - val_loss: 0.7982 - val_accuracy: 0.5778\n",
      "Epoch 14/300\n",
      "41/41 [==============================] - 0s 5ms/step - loss: 0.7823 - accuracy: 0.6642 - val_loss: 0.7982 - val_accuracy: 0.5778\n",
      "Epoch 15/300\n",
      "41/41 [==============================] - 0s 4ms/step - loss: 0.7814 - accuracy: 0.6568 - val_loss: 0.7978 - val_accuracy: 0.6000\n",
      "Epoch 16/300\n",
      "41/41 [==============================] - 0s 5ms/step - loss: 0.7804 - accuracy: 0.6617 - val_loss: 0.7978 - val_accuracy: 0.6000\n",
      "Epoch 17/300\n",
      "41/41 [==============================] - 0s 4ms/step - loss: 0.7796 - accuracy: 0.6469 - val_loss: 0.7971 - val_accuracy: 0.5778\n",
      "Epoch 18/300\n",
      "41/41 [==============================] - 0s 4ms/step - loss: 0.7787 - accuracy: 0.6321 - val_loss: 0.7974 - val_accuracy: 0.5778\n",
      "Epoch 19/300\n",
      "41/41 [==============================] - 0s 4ms/step - loss: 0.7779 - accuracy: 0.6444 - val_loss: 0.7966 - val_accuracy: 0.5556\n",
      "Epoch 20/300\n",
      "41/41 [==============================] - 0s 4ms/step - loss: 0.7769 - accuracy: 0.6321 - val_loss: 0.7965 - val_accuracy: 0.5556\n",
      "Epoch 21/300\n",
      "41/41 [==============================] - 0s 4ms/step - loss: 0.7759 - accuracy: 0.6321 - val_loss: 0.7968 - val_accuracy: 0.5778\n",
      "Epoch 22/300\n",
      "41/41 [==============================] - 0s 4ms/step - loss: 0.7750 - accuracy: 0.6617 - val_loss: 0.7962 - val_accuracy: 0.5556\n",
      "Epoch 23/300\n",
      "41/41 [==============================] - 0s 4ms/step - loss: 0.7741 - accuracy: 0.6346 - val_loss: 0.7958 - val_accuracy: 0.5556\n",
      "Epoch 24/300\n",
      "41/41 [==============================] - 0s 4ms/step - loss: 0.7729 - accuracy: 0.6370 - val_loss: 0.7958 - val_accuracy: 0.5556\n",
      "Epoch 25/300\n",
      "41/41 [==============================] - 0s 4ms/step - loss: 0.7718 - accuracy: 0.6568 - val_loss: 0.7948 - val_accuracy: 0.5556\n",
      "Epoch 26/300\n",
      "41/41 [==============================] - 0s 4ms/step - loss: 0.7708 - accuracy: 0.6395 - val_loss: 0.7946 - val_accuracy: 0.5556\n",
      "Epoch 27/300\n",
      "41/41 [==============================] - 0s 5ms/step - loss: 0.7697 - accuracy: 0.6519 - val_loss: 0.7937 - val_accuracy: 0.5556\n",
      "Epoch 28/300\n",
      "41/41 [==============================] - 0s 5ms/step - loss: 0.7687 - accuracy: 0.6420 - val_loss: 0.7933 - val_accuracy: 0.5556\n",
      "Epoch 29/300\n",
      "41/41 [==============================] - 0s 5ms/step - loss: 0.7676 - accuracy: 0.6346 - val_loss: 0.7930 - val_accuracy: 0.5556\n",
      "Epoch 30/300\n",
      "41/41 [==============================] - 0s 5ms/step - loss: 0.7665 - accuracy: 0.6741 - val_loss: 0.7925 - val_accuracy: 0.5556\n",
      "Epoch 31/300\n",
      "41/41 [==============================] - 0s 5ms/step - loss: 0.7654 - accuracy: 0.6716 - val_loss: 0.7912 - val_accuracy: 0.5556\n",
      "Epoch 32/300\n",
      "41/41 [==============================] - 0s 5ms/step - loss: 0.7641 - accuracy: 0.6790 - val_loss: 0.7896 - val_accuracy: 0.5556\n",
      "Epoch 33/300\n",
      "41/41 [==============================] - 0s 5ms/step - loss: 0.7628 - accuracy: 0.6691 - val_loss: 0.7889 - val_accuracy: 0.5556\n",
      "Epoch 34/300\n",
      "41/41 [==============================] - 0s 6ms/step - loss: 0.7615 - accuracy: 0.6790 - val_loss: 0.7887 - val_accuracy: 0.5556\n",
      "Epoch 35/300\n",
      "41/41 [==============================] - 0s 5ms/step - loss: 0.7605 - accuracy: 0.6963 - val_loss: 0.7874 - val_accuracy: 0.5556\n",
      "Epoch 36/300\n",
      "41/41 [==============================] - 0s 5ms/step - loss: 0.7590 - accuracy: 0.6790 - val_loss: 0.7857 - val_accuracy: 0.5778\n",
      "Epoch 37/300\n",
      "41/41 [==============================] - 0s 5ms/step - loss: 0.7575 - accuracy: 0.6864 - val_loss: 0.7844 - val_accuracy: 0.5778\n",
      "Epoch 38/300\n",
      "41/41 [==============================] - 0s 4ms/step - loss: 0.7564 - accuracy: 0.6815 - val_loss: 0.7827 - val_accuracy: 0.5778\n",
      "Epoch 39/300\n",
      "41/41 [==============================] - 0s 5ms/step - loss: 0.7551 - accuracy: 0.6938 - val_loss: 0.7820 - val_accuracy: 0.6000\n",
      "Epoch 40/300\n",
      "41/41 [==============================] - 0s 4ms/step - loss: 0.7537 - accuracy: 0.6938 - val_loss: 0.7828 - val_accuracy: 0.6000\n",
      "Epoch 41/300\n",
      "41/41 [==============================] - 0s 5ms/step - loss: 0.7524 - accuracy: 0.6815 - val_loss: 0.7815 - val_accuracy: 0.6444\n",
      "Epoch 42/300\n",
      "41/41 [==============================] - 0s 5ms/step - loss: 0.7509 - accuracy: 0.6864 - val_loss: 0.7793 - val_accuracy: 0.6000\n",
      "Epoch 43/300\n",
      "41/41 [==============================] - 0s 4ms/step - loss: 0.7495 - accuracy: 0.6938 - val_loss: 0.7778 - val_accuracy: 0.6000\n",
      "Epoch 44/300\n",
      "41/41 [==============================] - 0s 5ms/step - loss: 0.7481 - accuracy: 0.7037 - val_loss: 0.7775 - val_accuracy: 0.6444\n",
      "Epoch 45/300\n",
      "41/41 [==============================] - 0s 4ms/step - loss: 0.7466 - accuracy: 0.6938 - val_loss: 0.7763 - val_accuracy: 0.6444\n",
      "Epoch 46/300\n",
      "41/41 [==============================] - 0s 5ms/step - loss: 0.7452 - accuracy: 0.6988 - val_loss: 0.7736 - val_accuracy: 0.6222\n",
      "Epoch 47/300\n",
      "41/41 [==============================] - 0s 5ms/step - loss: 0.7438 - accuracy: 0.6840 - val_loss: 0.7718 - val_accuracy: 0.6222\n",
      "Epoch 48/300\n",
      "41/41 [==============================] - 0s 5ms/step - loss: 0.7422 - accuracy: 0.6840 - val_loss: 0.7710 - val_accuracy: 0.6222\n",
      "Epoch 49/300\n",
      "41/41 [==============================] - 0s 4ms/step - loss: 0.7405 - accuracy: 0.6938 - val_loss: 0.7694 - val_accuracy: 0.6222\n",
      "Epoch 50/300\n",
      "41/41 [==============================] - 0s 4ms/step - loss: 0.7390 - accuracy: 0.6815 - val_loss: 0.7682 - val_accuracy: 0.6667\n",
      "Epoch 51/300\n",
      "41/41 [==============================] - 0s 5ms/step - loss: 0.7372 - accuracy: 0.7062 - val_loss: 0.7670 - val_accuracy: 0.6444\n",
      "Epoch 52/300\n",
      "41/41 [==============================] - 0s 4ms/step - loss: 0.7354 - accuracy: 0.6938 - val_loss: 0.7637 - val_accuracy: 0.6667\n",
      "Epoch 53/300\n",
      "41/41 [==============================] - 0s 4ms/step - loss: 0.7339 - accuracy: 0.7111 - val_loss: 0.7640 - val_accuracy: 0.6667\n",
      "Epoch 54/300\n",
      "41/41 [==============================] - 0s 5ms/step - loss: 0.7320 - accuracy: 0.6938 - val_loss: 0.7608 - val_accuracy: 0.6444\n",
      "Epoch 55/300\n",
      "41/41 [==============================] - 0s 4ms/step - loss: 0.7302 - accuracy: 0.6815 - val_loss: 0.7603 - val_accuracy: 0.6667\n",
      "Epoch 56/300\n",
      "41/41 [==============================] - 0s 5ms/step - loss: 0.7286 - accuracy: 0.7086 - val_loss: 0.7593 - val_accuracy: 0.6667\n",
      "Epoch 57/300\n",
      "41/41 [==============================] - 0s 4ms/step - loss: 0.7264 - accuracy: 0.7062 - val_loss: 0.7557 - val_accuracy: 0.6667\n",
      "Epoch 58/300\n",
      "41/41 [==============================] - 0s 4ms/step - loss: 0.7247 - accuracy: 0.7111 - val_loss: 0.7533 - val_accuracy: 0.6667\n"
     ]
    },
    {
     "name": "stdout",
     "output_type": "stream",
     "text": [
      "Epoch 59/300\n",
      "41/41 [==============================] - 0s 4ms/step - loss: 0.7229 - accuracy: 0.7012 - val_loss: 0.7537 - val_accuracy: 0.6667\n",
      "Epoch 60/300\n",
      "41/41 [==============================] - 0s 4ms/step - loss: 0.7204 - accuracy: 0.7136 - val_loss: 0.7526 - val_accuracy: 0.6889\n",
      "Epoch 61/300\n",
      "41/41 [==============================] - 0s 4ms/step - loss: 0.7184 - accuracy: 0.7111 - val_loss: 0.7494 - val_accuracy: 0.6889\n",
      "Epoch 62/300\n",
      "41/41 [==============================] - 0s 4ms/step - loss: 0.7160 - accuracy: 0.7235 - val_loss: 0.7465 - val_accuracy: 0.6667\n",
      "Epoch 63/300\n",
      "41/41 [==============================] - 0s 4ms/step - loss: 0.7142 - accuracy: 0.7062 - val_loss: 0.7435 - val_accuracy: 0.6667\n",
      "Epoch 64/300\n",
      "41/41 [==============================] - 0s 4ms/step - loss: 0.7120 - accuracy: 0.7136 - val_loss: 0.7432 - val_accuracy: 0.6889\n",
      "Epoch 65/300\n",
      "41/41 [==============================] - 0s 4ms/step - loss: 0.7098 - accuracy: 0.7333 - val_loss: 0.7411 - val_accuracy: 0.6889\n",
      "Epoch 66/300\n",
      "41/41 [==============================] - 0s 4ms/step - loss: 0.7076 - accuracy: 0.7259 - val_loss: 0.7380 - val_accuracy: 0.6889\n",
      "Epoch 67/300\n",
      "41/41 [==============================] - 0s 4ms/step - loss: 0.7051 - accuracy: 0.7136 - val_loss: 0.7389 - val_accuracy: 0.6889\n",
      "Epoch 68/300\n",
      "41/41 [==============================] - 0s 4ms/step - loss: 0.7031 - accuracy: 0.7309 - val_loss: 0.7370 - val_accuracy: 0.6889\n",
      "Epoch 69/300\n",
      "41/41 [==============================] - 0s 4ms/step - loss: 0.7009 - accuracy: 0.7333 - val_loss: 0.7340 - val_accuracy: 0.6889\n",
      "Epoch 70/300\n",
      "41/41 [==============================] - 0s 4ms/step - loss: 0.6980 - accuracy: 0.7432 - val_loss: 0.7302 - val_accuracy: 0.6889\n",
      "Epoch 71/300\n",
      "41/41 [==============================] - 0s 4ms/step - loss: 0.6962 - accuracy: 0.7309 - val_loss: 0.7273 - val_accuracy: 0.6889\n",
      "Epoch 72/300\n",
      "41/41 [==============================] - 0s 4ms/step - loss: 0.6937 - accuracy: 0.7235 - val_loss: 0.7265 - val_accuracy: 0.6889\n",
      "Epoch 73/300\n",
      "41/41 [==============================] - 0s 4ms/step - loss: 0.6916 - accuracy: 0.7383 - val_loss: 0.7220 - val_accuracy: 0.7111\n",
      "Epoch 74/300\n",
      "41/41 [==============================] - 0s 4ms/step - loss: 0.6884 - accuracy: 0.7358 - val_loss: 0.7181 - val_accuracy: 0.7333\n",
      "Epoch 75/300\n",
      "41/41 [==============================] - 0s 4ms/step - loss: 0.6860 - accuracy: 0.7358 - val_loss: 0.7162 - val_accuracy: 0.7111\n",
      "Epoch 76/300\n",
      "41/41 [==============================] - 0s 4ms/step - loss: 0.6835 - accuracy: 0.7457 - val_loss: 0.7139 - val_accuracy: 0.7111\n",
      "Epoch 77/300\n",
      "41/41 [==============================] - 0s 4ms/step - loss: 0.6807 - accuracy: 0.7506 - val_loss: 0.7162 - val_accuracy: 0.7333\n",
      "Epoch 78/300\n",
      "41/41 [==============================] - 0s 4ms/step - loss: 0.6782 - accuracy: 0.7481 - val_loss: 0.7128 - val_accuracy: 0.7556\n",
      "Epoch 79/300\n",
      "41/41 [==============================] - 0s 4ms/step - loss: 0.6750 - accuracy: 0.7605 - val_loss: 0.7079 - val_accuracy: 0.7111\n",
      "Epoch 80/300\n",
      "41/41 [==============================] - 0s 4ms/step - loss: 0.6725 - accuracy: 0.7481 - val_loss: 0.7074 - val_accuracy: 0.7556\n",
      "Epoch 81/300\n",
      "41/41 [==============================] - 0s 4ms/step - loss: 0.6697 - accuracy: 0.7358 - val_loss: 0.7028 - val_accuracy: 0.7556\n",
      "Epoch 82/300\n",
      "41/41 [==============================] - 0s 4ms/step - loss: 0.6668 - accuracy: 0.7531 - val_loss: 0.7004 - val_accuracy: 0.7556\n",
      "Epoch 83/300\n",
      "41/41 [==============================] - 0s 4ms/step - loss: 0.6640 - accuracy: 0.7654 - val_loss: 0.6997 - val_accuracy: 0.7556\n",
      "Epoch 84/300\n",
      "41/41 [==============================] - 0s 4ms/step - loss: 0.6608 - accuracy: 0.7679 - val_loss: 0.6942 - val_accuracy: 0.7778\n",
      "Epoch 85/300\n",
      "41/41 [==============================] - 0s 4ms/step - loss: 0.6576 - accuracy: 0.7753 - val_loss: 0.6913 - val_accuracy: 0.8000\n",
      "Epoch 86/300\n",
      "41/41 [==============================] - 0s 4ms/step - loss: 0.6546 - accuracy: 0.7728 - val_loss: 0.6896 - val_accuracy: 0.7556\n",
      "Epoch 87/300\n",
      "41/41 [==============================] - 0s 4ms/step - loss: 0.6514 - accuracy: 0.7753 - val_loss: 0.6898 - val_accuracy: 0.7556\n",
      "Epoch 88/300\n",
      "41/41 [==============================] - 0s 4ms/step - loss: 0.6481 - accuracy: 0.7704 - val_loss: 0.6855 - val_accuracy: 0.7556\n",
      "Epoch 89/300\n",
      "41/41 [==============================] - 0s 4ms/step - loss: 0.6449 - accuracy: 0.7753 - val_loss: 0.6856 - val_accuracy: 0.7556\n",
      "Epoch 90/300\n",
      "41/41 [==============================] - 0s 4ms/step - loss: 0.6419 - accuracy: 0.8025 - val_loss: 0.6772 - val_accuracy: 0.8000\n",
      "Epoch 91/300\n",
      "41/41 [==============================] - 0s 4ms/step - loss: 0.6384 - accuracy: 0.7926 - val_loss: 0.6721 - val_accuracy: 0.7556\n",
      "Epoch 92/300\n",
      "41/41 [==============================] - 0s 4ms/step - loss: 0.6350 - accuracy: 0.7926 - val_loss: 0.6725 - val_accuracy: 0.8000\n",
      "Epoch 93/300\n",
      "41/41 [==============================] - 0s 4ms/step - loss: 0.6319 - accuracy: 0.7951 - val_loss: 0.6683 - val_accuracy: 0.8000\n",
      "Epoch 94/300\n",
      "41/41 [==============================] - 0s 4ms/step - loss: 0.6284 - accuracy: 0.8123 - val_loss: 0.6640 - val_accuracy: 0.8000\n",
      "Epoch 95/300\n",
      "41/41 [==============================] - 0s 4ms/step - loss: 0.6233 - accuracy: 0.8025 - val_loss: 0.6717 - val_accuracy: 0.7556\n",
      "Epoch 96/300\n",
      "41/41 [==============================] - 0s 4ms/step - loss: 0.6210 - accuracy: 0.7951 - val_loss: 0.6601 - val_accuracy: 0.8000\n",
      "Epoch 97/300\n",
      "41/41 [==============================] - 0s 4ms/step - loss: 0.6170 - accuracy: 0.8173 - val_loss: 0.6603 - val_accuracy: 0.7556\n",
      "Epoch 98/300\n",
      "41/41 [==============================] - 0s 4ms/step - loss: 0.6136 - accuracy: 0.8025 - val_loss: 0.6563 - val_accuracy: 0.7778\n",
      "Epoch 99/300\n",
      "41/41 [==============================] - 0s 4ms/step - loss: 0.6086 - accuracy: 0.8049 - val_loss: 0.6517 - val_accuracy: 0.8000\n",
      "Epoch 100/300\n",
      "41/41 [==============================] - 0s 4ms/step - loss: 0.6054 - accuracy: 0.8123 - val_loss: 0.6464 - val_accuracy: 0.8000\n",
      "Epoch 101/300\n",
      "41/41 [==============================] - 0s 4ms/step - loss: 0.6007 - accuracy: 0.8173 - val_loss: 0.6446 - val_accuracy: 0.8000\n",
      "Epoch 102/300\n",
      "41/41 [==============================] - 0s 5ms/step - loss: 0.5954 - accuracy: 0.8198 - val_loss: 0.6516 - val_accuracy: 0.7556\n",
      "Epoch 103/300\n",
      "41/41 [==============================] - 0s 4ms/step - loss: 0.5923 - accuracy: 0.8123 - val_loss: 0.6420 - val_accuracy: 0.7556\n",
      "Epoch 104/300\n",
      "41/41 [==============================] - 0s 4ms/step - loss: 0.5878 - accuracy: 0.8247 - val_loss: 0.6381 - val_accuracy: 0.7556\n",
      "Epoch 105/300\n",
      "41/41 [==============================] - 0s 4ms/step - loss: 0.5839 - accuracy: 0.8296 - val_loss: 0.6335 - val_accuracy: 0.7778\n",
      "Epoch 106/300\n",
      "41/41 [==============================] - 0s 4ms/step - loss: 0.5777 - accuracy: 0.8148 - val_loss: 0.6215 - val_accuracy: 0.8000\n",
      "Epoch 107/300\n",
      "41/41 [==============================] - 0s 4ms/step - loss: 0.5751 - accuracy: 0.8444 - val_loss: 0.6216 - val_accuracy: 0.8000\n",
      "Epoch 108/300\n",
      "41/41 [==============================] - 0s 4ms/step - loss: 0.5701 - accuracy: 0.8346 - val_loss: 0.6267 - val_accuracy: 0.7778\n",
      "Epoch 109/300\n",
      "41/41 [==============================] - 0s 4ms/step - loss: 0.5649 - accuracy: 0.8370 - val_loss: 0.6148 - val_accuracy: 0.8000\n",
      "Epoch 110/300\n",
      "41/41 [==============================] - 0s 4ms/step - loss: 0.5605 - accuracy: 0.8247 - val_loss: 0.6075 - val_accuracy: 0.7778\n",
      "Epoch 111/300\n",
      "41/41 [==============================] - 0s 4ms/step - loss: 0.5552 - accuracy: 0.8444 - val_loss: 0.6063 - val_accuracy: 0.8889\n",
      "Epoch 112/300\n",
      "41/41 [==============================] - 0s 4ms/step - loss: 0.5519 - accuracy: 0.8395 - val_loss: 0.6008 - val_accuracy: 0.8667\n",
      "Epoch 113/300\n",
      "41/41 [==============================] - 0s 4ms/step - loss: 0.5452 - accuracy: 0.8543 - val_loss: 0.6053 - val_accuracy: 0.8444\n",
      "Epoch 114/300\n",
      "41/41 [==============================] - 0s 4ms/step - loss: 0.5413 - accuracy: 0.8420 - val_loss: 0.5889 - val_accuracy: 0.8222\n",
      "Epoch 115/300\n",
      "41/41 [==============================] - 0s 4ms/step - loss: 0.5367 - accuracy: 0.8543 - val_loss: 0.5907 - val_accuracy: 0.8000\n",
      "Epoch 116/300\n",
      "41/41 [==============================] - 0s 4ms/step - loss: 0.5319 - accuracy: 0.8543 - val_loss: 0.5867 - val_accuracy: 0.8444\n",
      "Epoch 117/300\n",
      "41/41 [==============================] - 0s 4ms/step - loss: 0.5277 - accuracy: 0.8568 - val_loss: 0.5807 - val_accuracy: 0.8000\n",
      "Epoch 118/300\n",
      "41/41 [==============================] - 0s 4ms/step - loss: 0.5236 - accuracy: 0.8543 - val_loss: 0.5751 - val_accuracy: 0.7778\n",
      "Epoch 119/300\n",
      "41/41 [==============================] - 0s 4ms/step - loss: 0.5199 - accuracy: 0.8568 - val_loss: 0.5767 - val_accuracy: 0.8667\n",
      "Epoch 120/300\n",
      "41/41 [==============================] - 0s 4ms/step - loss: 0.5152 - accuracy: 0.8765 - val_loss: 0.5744 - val_accuracy: 0.8667\n",
      "Epoch 121/300\n",
      "41/41 [==============================] - 0s 4ms/step - loss: 0.5104 - accuracy: 0.8543 - val_loss: 0.5662 - val_accuracy: 0.8000\n",
      "Epoch 122/300\n",
      "41/41 [==============================] - 0s 4ms/step - loss: 0.5058 - accuracy: 0.8494 - val_loss: 0.5631 - val_accuracy: 0.8000\n",
      "Epoch 123/300\n",
      "41/41 [==============================] - 0s 4ms/step - loss: 0.4997 - accuracy: 0.8617 - val_loss: 0.5612 - val_accuracy: 0.8000\n",
      "Epoch 124/300\n",
      "41/41 [==============================] - 0s 4ms/step - loss: 0.4970 - accuracy: 0.8667 - val_loss: 0.5623 - val_accuracy: 0.8667\n",
      "Epoch 125/300\n",
      "41/41 [==============================] - 0s 4ms/step - loss: 0.4922 - accuracy: 0.8494 - val_loss: 0.5523 - val_accuracy: 0.8000\n",
      "Epoch 126/300\n",
      "41/41 [==============================] - 0s 4ms/step - loss: 0.4903 - accuracy: 0.8543 - val_loss: 0.5494 - val_accuracy: 0.8667\n",
      "Epoch 127/300\n",
      "41/41 [==============================] - 0s 4ms/step - loss: 0.4854 - accuracy: 0.8667 - val_loss: 0.5424 - val_accuracy: 0.8667\n",
      "Epoch 128/300\n",
      "41/41 [==============================] - 0s 4ms/step - loss: 0.4805 - accuracy: 0.8741 - val_loss: 0.5367 - val_accuracy: 0.8444\n",
      "Epoch 129/300\n",
      "41/41 [==============================] - 0s 4ms/step - loss: 0.4784 - accuracy: 0.8741 - val_loss: 0.5418 - val_accuracy: 0.8444\n",
      "Epoch 130/300\n",
      "41/41 [==============================] - 0s 4ms/step - loss: 0.4743 - accuracy: 0.8691 - val_loss: 0.5366 - val_accuracy: 0.8889\n",
      "Epoch 131/300\n",
      "41/41 [==============================] - 0s 4ms/step - loss: 0.4702 - accuracy: 0.8642 - val_loss: 0.5302 - val_accuracy: 0.8222\n",
      "Epoch 132/300\n",
      "41/41 [==============================] - 0s 4ms/step - loss: 0.4658 - accuracy: 0.8667 - val_loss: 0.5353 - val_accuracy: 0.8889\n",
      "Epoch 133/300\n",
      "41/41 [==============================] - 0s 4ms/step - loss: 0.4654 - accuracy: 0.8617 - val_loss: 0.5239 - val_accuracy: 0.8222\n",
      "Epoch 134/300\n",
      "41/41 [==============================] - 0s 4ms/step - loss: 0.4615 - accuracy: 0.8667 - val_loss: 0.5177 - val_accuracy: 0.8444\n",
      "Epoch 135/300\n",
      "41/41 [==============================] - 0s 4ms/step - loss: 0.4561 - accuracy: 0.8691 - val_loss: 0.5252 - val_accuracy: 0.8889\n",
      "Epoch 136/300\n",
      "41/41 [==============================] - 0s 4ms/step - loss: 0.4533 - accuracy: 0.8741 - val_loss: 0.5192 - val_accuracy: 0.8444\n",
      "Epoch 137/300\n",
      "41/41 [==============================] - 0s 4ms/step - loss: 0.4516 - accuracy: 0.8815 - val_loss: 0.5171 - val_accuracy: 0.8222\n",
      "Epoch 138/300\n",
      "41/41 [==============================] - 0s 4ms/step - loss: 0.4483 - accuracy: 0.8691 - val_loss: 0.5211 - val_accuracy: 0.8889\n",
      "Epoch 139/300\n",
      "41/41 [==============================] - 0s 4ms/step - loss: 0.4444 - accuracy: 0.8765 - val_loss: 0.5130 - val_accuracy: 0.8222\n",
      "Epoch 140/300\n",
      "41/41 [==============================] - 0s 4ms/step - loss: 0.4422 - accuracy: 0.8765 - val_loss: 0.5041 - val_accuracy: 0.8222\n",
      "Epoch 141/300\n",
      "41/41 [==============================] - 0s 4ms/step - loss: 0.4403 - accuracy: 0.8741 - val_loss: 0.5048 - val_accuracy: 0.8222\n",
      "Epoch 142/300\n",
      "41/41 [==============================] - 0s 4ms/step - loss: 0.4366 - accuracy: 0.8741 - val_loss: 0.5006 - val_accuracy: 0.8444\n",
      "Epoch 143/300\n",
      "41/41 [==============================] - 0s 4ms/step - loss: 0.4334 - accuracy: 0.8840 - val_loss: 0.5003 - val_accuracy: 0.9111\n",
      "Epoch 144/300\n",
      "41/41 [==============================] - 0s 4ms/step - loss: 0.4335 - accuracy: 0.8815 - val_loss: 0.4977 - val_accuracy: 0.8667\n",
      "Epoch 145/300\n",
      "41/41 [==============================] - 0s 4ms/step - loss: 0.4276 - accuracy: 0.8790 - val_loss: 0.5034 - val_accuracy: 0.9111\n",
      "Epoch 146/300\n",
      "41/41 [==============================] - 0s 4ms/step - loss: 0.4259 - accuracy: 0.8815 - val_loss: 0.4943 - val_accuracy: 0.8444\n",
      "Epoch 147/300\n",
      "41/41 [==============================] - 0s 4ms/step - loss: 0.4245 - accuracy: 0.8716 - val_loss: 0.4948 - val_accuracy: 0.9111\n",
      "Epoch 148/300\n",
      "41/41 [==============================] - 0s 4ms/step - loss: 0.4203 - accuracy: 0.8914 - val_loss: 0.4934 - val_accuracy: 0.8222\n",
      "Epoch 149/300\n",
      "41/41 [==============================] - 0s 4ms/step - loss: 0.4190 - accuracy: 0.8938 - val_loss: 0.4961 - val_accuracy: 0.8222\n",
      "Epoch 150/300\n",
      "41/41 [==============================] - 0s 4ms/step - loss: 0.4161 - accuracy: 0.8840 - val_loss: 0.4841 - val_accuracy: 0.8444\n",
      "Epoch 151/300\n",
      "41/41 [==============================] - 0s 4ms/step - loss: 0.4151 - accuracy: 0.8840 - val_loss: 0.4789 - val_accuracy: 0.8444\n",
      "Epoch 152/300\n",
      "41/41 [==============================] - 0s 4ms/step - loss: 0.4120 - accuracy: 0.8864 - val_loss: 0.4890 - val_accuracy: 0.8667\n",
      "Epoch 153/300\n",
      "41/41 [==============================] - 0s 4ms/step - loss: 0.4137 - accuracy: 0.8938 - val_loss: 0.4865 - val_accuracy: 0.8444\n",
      "Epoch 154/300\n",
      "41/41 [==============================] - 0s 4ms/step - loss: 0.4131 - accuracy: 0.8815 - val_loss: 0.4873 - val_accuracy: 0.8222\n",
      "Epoch 155/300\n",
      "41/41 [==============================] - 0s 4ms/step - loss: 0.4046 - accuracy: 0.8914 - val_loss: 0.5007 - val_accuracy: 0.8889\n",
      "Epoch 156/300\n",
      "41/41 [==============================] - 0s 4ms/step - loss: 0.4048 - accuracy: 0.8988 - val_loss: 0.4844 - val_accuracy: 0.8444\n",
      "Epoch 157/300\n",
      "41/41 [==============================] - 0s 4ms/step - loss: 0.4029 - accuracy: 0.8914 - val_loss: 0.4994 - val_accuracy: 0.8889\n",
      "Epoch 158/300\n",
      "41/41 [==============================] - 0s 5ms/step - loss: 0.4030 - accuracy: 0.8963 - val_loss: 0.4870 - val_accuracy: 0.8222\n",
      "Epoch 159/300\n",
      "41/41 [==============================] - 0s 4ms/step - loss: 0.4013 - accuracy: 0.9012 - val_loss: 0.4783 - val_accuracy: 0.9111\n",
      "Epoch 160/300\n",
      "41/41 [==============================] - 0s 4ms/step - loss: 0.3929 - accuracy: 0.8963 - val_loss: 0.4794 - val_accuracy: 0.8444\n",
      "Epoch 161/300\n",
      "41/41 [==============================] - 0s 4ms/step - loss: 0.3949 - accuracy: 0.9037 - val_loss: 0.4899 - val_accuracy: 0.8222\n",
      "Epoch 162/300\n",
      "41/41 [==============================] - 0s 4ms/step - loss: 0.3943 - accuracy: 0.9062 - val_loss: 0.4830 - val_accuracy: 0.9111\n",
      "Epoch 163/300\n",
      "41/41 [==============================] - 0s 4ms/step - loss: 0.3938 - accuracy: 0.8988 - val_loss: 0.4808 - val_accuracy: 0.8222\n",
      "Epoch 164/300\n",
      "41/41 [==============================] - 0s 4ms/step - loss: 0.3925 - accuracy: 0.9037 - val_loss: 0.4716 - val_accuracy: 0.8444\n",
      "Epoch 165/300\n",
      "41/41 [==============================] - 0s 4ms/step - loss: 0.3885 - accuracy: 0.9012 - val_loss: 0.4818 - val_accuracy: 0.8000\n",
      "Epoch 166/300\n",
      "41/41 [==============================] - 0s 4ms/step - loss: 0.3892 - accuracy: 0.9062 - val_loss: 0.4830 - val_accuracy: 0.9111\n",
      "Epoch 167/300\n",
      "41/41 [==============================] - 0s 4ms/step - loss: 0.3878 - accuracy: 0.9086 - val_loss: 0.4819 - val_accuracy: 0.8444\n",
      "Epoch 168/300\n",
      "41/41 [==============================] - 0s 4ms/step - loss: 0.3860 - accuracy: 0.9037 - val_loss: 0.4786 - val_accuracy: 0.9111\n",
      "Epoch 169/300\n",
      "41/41 [==============================] - 0s 4ms/step - loss: 0.3841 - accuracy: 0.9111 - val_loss: 0.4755 - val_accuracy: 0.8444\n",
      "Epoch 170/300\n",
      "41/41 [==============================] - 0s 4ms/step - loss: 0.3821 - accuracy: 0.9160 - val_loss: 0.4797 - val_accuracy: 0.9111\n",
      "Epoch 171/300\n",
      "41/41 [==============================] - 0s 4ms/step - loss: 0.3814 - accuracy: 0.9062 - val_loss: 0.4718 - val_accuracy: 0.8889\n",
      "Epoch 172/300\n",
      "41/41 [==============================] - 0s 4ms/step - loss: 0.3769 - accuracy: 0.9111 - val_loss: 0.4858 - val_accuracy: 0.8444\n",
      "Epoch 173/300\n"
     ]
    },
    {
     "name": "stdout",
     "output_type": "stream",
     "text": [
      "41/41 [==============================] - 0s 4ms/step - loss: 0.3811 - accuracy: 0.8938 - val_loss: 0.4711 - val_accuracy: 0.8000\n",
      "Epoch 174/300\n",
      "41/41 [==============================] - 0s 4ms/step - loss: 0.3811 - accuracy: 0.8914 - val_loss: 0.4748 - val_accuracy: 0.8222\n",
      "Epoch 175/300\n",
      "41/41 [==============================] - 0s 4ms/step - loss: 0.3772 - accuracy: 0.9086 - val_loss: 0.4656 - val_accuracy: 0.8222\n",
      "Epoch 176/300\n",
      "41/41 [==============================] - 0s 4ms/step - loss: 0.3746 - accuracy: 0.9160 - val_loss: 0.4663 - val_accuracy: 0.9111\n",
      "Epoch 177/300\n",
      "41/41 [==============================] - 0s 4ms/step - loss: 0.3773 - accuracy: 0.9062 - val_loss: 0.4644 - val_accuracy: 0.9111\n",
      "Epoch 178/300\n",
      "41/41 [==============================] - 0s 4ms/step - loss: 0.3704 - accuracy: 0.9160 - val_loss: 0.4705 - val_accuracy: 0.8889\n",
      "Epoch 179/300\n",
      "41/41 [==============================] - 0s 4ms/step - loss: 0.3715 - accuracy: 0.9136 - val_loss: 0.4773 - val_accuracy: 0.8889\n",
      "Epoch 180/300\n",
      "41/41 [==============================] - 0s 4ms/step - loss: 0.3693 - accuracy: 0.9136 - val_loss: 0.4865 - val_accuracy: 0.8444\n",
      "Epoch 181/300\n",
      "41/41 [==============================] - 0s 4ms/step - loss: 0.3738 - accuracy: 0.9037 - val_loss: 0.4629 - val_accuracy: 0.9111\n",
      "Epoch 182/300\n",
      "41/41 [==============================] - 0s 4ms/step - loss: 0.3695 - accuracy: 0.9136 - val_loss: 0.4682 - val_accuracy: 0.8889\n",
      "Epoch 183/300\n",
      "41/41 [==============================] - 0s 4ms/step - loss: 0.3708 - accuracy: 0.9012 - val_loss: 0.4722 - val_accuracy: 0.8889\n",
      "Epoch 184/300\n",
      "41/41 [==============================] - 0s 4ms/step - loss: 0.3706 - accuracy: 0.9136 - val_loss: 0.4736 - val_accuracy: 0.8222\n",
      "Epoch 185/300\n",
      "41/41 [==============================] - 0s 4ms/step - loss: 0.3660 - accuracy: 0.9111 - val_loss: 0.4687 - val_accuracy: 0.9111\n",
      "Epoch 186/300\n",
      "41/41 [==============================] - 0s 4ms/step - loss: 0.3661 - accuracy: 0.9037 - val_loss: 0.4634 - val_accuracy: 0.9111\n",
      "Epoch 187/300\n",
      "41/41 [==============================] - 0s 4ms/step - loss: 0.3662 - accuracy: 0.9160 - val_loss: 0.4741 - val_accuracy: 0.9111\n",
      "Epoch 188/300\n",
      "41/41 [==============================] - 0s 4ms/step - loss: 0.3671 - accuracy: 0.9062 - val_loss: 0.4710 - val_accuracy: 0.8667\n",
      "Epoch 189/300\n",
      "41/41 [==============================] - 0s 4ms/step - loss: 0.3637 - accuracy: 0.9111 - val_loss: 0.4614 - val_accuracy: 0.8889\n",
      "Epoch 190/300\n",
      "41/41 [==============================] - 0s 4ms/step - loss: 0.3682 - accuracy: 0.9012 - val_loss: 0.4716 - val_accuracy: 0.8000\n",
      "Epoch 191/300\n",
      "41/41 [==============================] - 0s 4ms/step - loss: 0.3684 - accuracy: 0.9160 - val_loss: 0.4670 - val_accuracy: 0.8000\n",
      "Epoch 192/300\n",
      "41/41 [==============================] - 0s 4ms/step - loss: 0.3615 - accuracy: 0.9062 - val_loss: 0.4693 - val_accuracy: 0.8889\n",
      "Epoch 193/300\n",
      "41/41 [==============================] - 0s 4ms/step - loss: 0.3602 - accuracy: 0.9136 - val_loss: 0.4717 - val_accuracy: 0.8222\n",
      "Epoch 194/300\n",
      "41/41 [==============================] - 0s 4ms/step - loss: 0.3626 - accuracy: 0.8938 - val_loss: 0.4888 - val_accuracy: 0.8222\n",
      "Epoch 195/300\n",
      "41/41 [==============================] - 0s 4ms/step - loss: 0.3614 - accuracy: 0.9062 - val_loss: 0.4756 - val_accuracy: 0.8667\n",
      "Epoch 196/300\n",
      "41/41 [==============================] - 0s 4ms/step - loss: 0.3627 - accuracy: 0.8938 - val_loss: 0.4622 - val_accuracy: 0.8000\n",
      "Epoch 197/300\n",
      "41/41 [==============================] - 0s 4ms/step - loss: 0.3605 - accuracy: 0.9111 - val_loss: 0.4634 - val_accuracy: 0.8222\n",
      "Epoch 198/300\n",
      "41/41 [==============================] - 0s 4ms/step - loss: 0.3594 - accuracy: 0.9086 - val_loss: 0.4654 - val_accuracy: 0.8222\n",
      "Epoch 199/300\n",
      "41/41 [==============================] - 0s 4ms/step - loss: 0.3598 - accuracy: 0.9086 - val_loss: 0.4708 - val_accuracy: 0.8667\n",
      "Epoch 200/300\n",
      "41/41 [==============================] - 0s 4ms/step - loss: 0.3599 - accuracy: 0.9037 - val_loss: 0.4690 - val_accuracy: 0.8000\n",
      "Epoch 201/300\n",
      "41/41 [==============================] - 0s 5ms/step - loss: 0.3562 - accuracy: 0.9185 - val_loss: 0.4670 - val_accuracy: 0.9111\n",
      "Epoch 202/300\n",
      "41/41 [==============================] - 0s 4ms/step - loss: 0.3583 - accuracy: 0.9111 - val_loss: 0.4615 - val_accuracy: 0.8667\n",
      "Epoch 203/300\n",
      "41/41 [==============================] - 0s 4ms/step - loss: 0.3544 - accuracy: 0.9111 - val_loss: 0.4595 - val_accuracy: 0.8222\n",
      "Epoch 204/300\n",
      "41/41 [==============================] - 0s 4ms/step - loss: 0.3557 - accuracy: 0.9185 - val_loss: 0.4649 - val_accuracy: 0.8000\n",
      "Epoch 205/300\n",
      "41/41 [==============================] - 0s 4ms/step - loss: 0.3558 - accuracy: 0.9160 - val_loss: 0.4696 - val_accuracy: 0.8000\n",
      "Epoch 206/300\n",
      "41/41 [==============================] - 0s 4ms/step - loss: 0.3515 - accuracy: 0.9136 - val_loss: 0.4616 - val_accuracy: 0.8667\n",
      "Epoch 207/300\n",
      "41/41 [==============================] - 0s 4ms/step - loss: 0.3497 - accuracy: 0.9136 - val_loss: 0.4819 - val_accuracy: 0.8222\n",
      "Epoch 208/300\n",
      "41/41 [==============================] - 0s 4ms/step - loss: 0.3506 - accuracy: 0.9210 - val_loss: 0.4740 - val_accuracy: 0.8000\n",
      "Epoch 209/300\n",
      "41/41 [==============================] - 0s 4ms/step - loss: 0.3496 - accuracy: 0.9086 - val_loss: 0.4718 - val_accuracy: 0.8667\n",
      "Epoch 210/300\n",
      "41/41 [==============================] - 0s 4ms/step - loss: 0.3494 - accuracy: 0.9185 - val_loss: 0.4576 - val_accuracy: 0.8444\n",
      "Epoch 211/300\n",
      "41/41 [==============================] - 0s 4ms/step - loss: 0.3507 - accuracy: 0.9062 - val_loss: 0.4925 - val_accuracy: 0.7556\n",
      "Epoch 212/300\n",
      "41/41 [==============================] - 0s 4ms/step - loss: 0.3493 - accuracy: 0.9111 - val_loss: 0.4778 - val_accuracy: 0.7778\n",
      "Epoch 213/300\n",
      "41/41 [==============================] - 0s 4ms/step - loss: 0.3481 - accuracy: 0.9111 - val_loss: 0.4698 - val_accuracy: 0.8000\n",
      "Epoch 214/300\n",
      "41/41 [==============================] - 0s 4ms/step - loss: 0.3470 - accuracy: 0.9210 - val_loss: 0.4902 - val_accuracy: 0.8222\n",
      "Epoch 215/300\n",
      "41/41 [==============================] - 0s 4ms/step - loss: 0.3468 - accuracy: 0.9284 - val_loss: 0.4953 - val_accuracy: 0.8444\n",
      "Epoch 216/300\n",
      "41/41 [==============================] - 0s 4ms/step - loss: 0.3493 - accuracy: 0.9185 - val_loss: 0.4797 - val_accuracy: 0.8444\n",
      "Epoch 217/300\n",
      "41/41 [==============================] - 0s 4ms/step - loss: 0.3462 - accuracy: 0.9160 - val_loss: 0.4830 - val_accuracy: 0.7778\n",
      "Epoch 218/300\n",
      "41/41 [==============================] - 0s 4ms/step - loss: 0.3504 - accuracy: 0.9062 - val_loss: 0.4656 - val_accuracy: 0.8000\n",
      "Epoch 219/300\n",
      "41/41 [==============================] - 0s 4ms/step - loss: 0.3437 - accuracy: 0.9160 - val_loss: 0.4706 - val_accuracy: 0.8000\n",
      "Epoch 220/300\n",
      "41/41 [==============================] - 0s 4ms/step - loss: 0.3465 - accuracy: 0.9086 - val_loss: 0.4612 - val_accuracy: 0.8444\n",
      "Epoch 221/300\n",
      "41/41 [==============================] - 0s 4ms/step - loss: 0.3474 - accuracy: 0.9235 - val_loss: 0.4600 - val_accuracy: 0.8667\n",
      "Epoch 222/300\n",
      "41/41 [==============================] - 0s 4ms/step - loss: 0.3440 - accuracy: 0.9136 - val_loss: 0.4620 - val_accuracy: 0.7778\n",
      "Epoch 223/300\n",
      "41/41 [==============================] - 0s 4ms/step - loss: 0.3420 - accuracy: 0.9111 - val_loss: 0.4928 - val_accuracy: 0.7556\n",
      "Epoch 224/300\n",
      "41/41 [==============================] - 0s 4ms/step - loss: 0.3471 - accuracy: 0.9210 - val_loss: 0.4773 - val_accuracy: 0.8222\n",
      "Epoch 225/300\n",
      "41/41 [==============================] - 0s 4ms/step - loss: 0.3422 - accuracy: 0.9086 - val_loss: 0.4546 - val_accuracy: 0.8667\n",
      "Epoch 226/300\n",
      "41/41 [==============================] - 0s 4ms/step - loss: 0.3464 - accuracy: 0.9037 - val_loss: 0.4811 - val_accuracy: 0.8222\n",
      "Epoch 227/300\n",
      "41/41 [==============================] - 0s 4ms/step - loss: 0.3426 - accuracy: 0.9185 - val_loss: 0.5114 - val_accuracy: 0.8222\n",
      "Epoch 228/300\n",
      "41/41 [==============================] - 0s 4ms/step - loss: 0.3391 - accuracy: 0.9136 - val_loss: 0.4549 - val_accuracy: 0.8667\n",
      "Epoch 229/300\n",
      "41/41 [==============================] - 0s 4ms/step - loss: 0.3412 - accuracy: 0.9136 - val_loss: 0.4722 - val_accuracy: 0.8444\n",
      "Epoch 230/300\n",
      "41/41 [==============================] - 0s 4ms/step - loss: 0.3480 - accuracy: 0.9062 - val_loss: 0.4538 - val_accuracy: 0.8667\n",
      "Epoch 231/300\n",
      "41/41 [==============================] - 0s 4ms/step - loss: 0.3388 - accuracy: 0.9086 - val_loss: 0.4683 - val_accuracy: 0.7556\n",
      "Epoch 232/300\n",
      "41/41 [==============================] - 0s 4ms/step - loss: 0.3411 - accuracy: 0.9185 - val_loss: 0.4570 - val_accuracy: 0.8667\n",
      "Epoch 233/300\n",
      "41/41 [==============================] - 0s 4ms/step - loss: 0.3400 - accuracy: 0.9136 - val_loss: 0.5054 - val_accuracy: 0.8222\n",
      "Epoch 234/300\n",
      "41/41 [==============================] - 0s 4ms/step - loss: 0.3404 - accuracy: 0.9086 - val_loss: 0.4560 - val_accuracy: 0.8444\n",
      "Epoch 235/300\n",
      "41/41 [==============================] - 0s 4ms/step - loss: 0.3368 - accuracy: 0.9037 - val_loss: 0.4996 - val_accuracy: 0.7556\n",
      "Epoch 236/300\n",
      "41/41 [==============================] - 0s 4ms/step - loss: 0.3368 - accuracy: 0.9210 - val_loss: 0.4829 - val_accuracy: 0.7778\n",
      "Epoch 237/300\n",
      "41/41 [==============================] - 0s 4ms/step - loss: 0.3352 - accuracy: 0.9210 - val_loss: 0.4780 - val_accuracy: 0.8222\n",
      "Epoch 238/300\n",
      "41/41 [==============================] - 0s 4ms/step - loss: 0.3396 - accuracy: 0.9160 - val_loss: 0.4714 - val_accuracy: 0.8000\n",
      "Epoch 239/300\n",
      "41/41 [==============================] - 0s 4ms/step - loss: 0.3397 - accuracy: 0.9185 - val_loss: 0.4899 - val_accuracy: 0.8222\n",
      "Epoch 240/300\n",
      "41/41 [==============================] - 0s 4ms/step - loss: 0.3385 - accuracy: 0.9136 - val_loss: 0.4838 - val_accuracy: 0.8000\n",
      "Epoch 241/300\n",
      "41/41 [==============================] - 0s 4ms/step - loss: 0.3335 - accuracy: 0.9062 - val_loss: 0.4732 - val_accuracy: 0.8000\n",
      "Epoch 242/300\n",
      "41/41 [==============================] - 0s 4ms/step - loss: 0.3396 - accuracy: 0.9111 - val_loss: 0.4974 - val_accuracy: 0.8222\n",
      "Epoch 243/300\n",
      "41/41 [==============================] - 0s 4ms/step - loss: 0.3367 - accuracy: 0.9136 - val_loss: 0.4666 - val_accuracy: 0.8444\n",
      "Epoch 244/300\n",
      "41/41 [==============================] - 0s 4ms/step - loss: 0.3359 - accuracy: 0.9160 - val_loss: 0.4776 - val_accuracy: 0.8222\n",
      "Epoch 245/300\n",
      "41/41 [==============================] - 0s 4ms/step - loss: 0.3305 - accuracy: 0.9185 - val_loss: 0.4419 - val_accuracy: 0.8889\n",
      "Epoch 246/300\n",
      "41/41 [==============================] - 0s 4ms/step - loss: 0.3332 - accuracy: 0.9235 - val_loss: 0.4776 - val_accuracy: 0.8000\n",
      "Epoch 247/300\n",
      "41/41 [==============================] - 0s 4ms/step - loss: 0.3343 - accuracy: 0.9185 - val_loss: 0.4458 - val_accuracy: 0.8889\n",
      "Epoch 248/300\n",
      "41/41 [==============================] - 0s 4ms/step - loss: 0.3333 - accuracy: 0.9210 - val_loss: 0.4666 - val_accuracy: 0.8444\n",
      "Epoch 249/300\n",
      "41/41 [==============================] - 0s 4ms/step - loss: 0.3299 - accuracy: 0.9210 - val_loss: 0.4776 - val_accuracy: 0.8222\n",
      "Epoch 250/300\n",
      "41/41 [==============================] - 0s 4ms/step - loss: 0.3331 - accuracy: 0.9235 - val_loss: 0.4609 - val_accuracy: 0.7778\n",
      "Epoch 251/300\n",
      "41/41 [==============================] - 0s 4ms/step - loss: 0.3317 - accuracy: 0.9235 - val_loss: 0.4696 - val_accuracy: 0.8000\n",
      "Epoch 252/300\n",
      "41/41 [==============================] - 0s 4ms/step - loss: 0.3314 - accuracy: 0.9136 - val_loss: 0.4834 - val_accuracy: 0.7556\n",
      "Epoch 253/300\n",
      "41/41 [==============================] - 0s 4ms/step - loss: 0.3316 - accuracy: 0.9235 - val_loss: 0.4815 - val_accuracy: 0.7778\n",
      "Epoch 254/300\n",
      "41/41 [==============================] - 0s 4ms/step - loss: 0.3301 - accuracy: 0.9259 - val_loss: 0.4656 - val_accuracy: 0.8444\n",
      "Epoch 255/300\n",
      "41/41 [==============================] - 0s 4ms/step - loss: 0.3264 - accuracy: 0.9185 - val_loss: 0.4832 - val_accuracy: 0.8444\n",
      "Epoch 256/300\n",
      "41/41 [==============================] - 0s 4ms/step - loss: 0.3294 - accuracy: 0.9235 - val_loss: 0.4992 - val_accuracy: 0.8222\n",
      "Epoch 257/300\n",
      "41/41 [==============================] - 0s 4ms/step - loss: 0.3316 - accuracy: 0.9086 - val_loss: 0.4844 - val_accuracy: 0.8000\n",
      "Epoch 258/300\n",
      "41/41 [==============================] - 0s 5ms/step - loss: 0.3335 - accuracy: 0.9259 - val_loss: 0.4809 - val_accuracy: 0.7333\n",
      "Epoch 259/300\n",
      "41/41 [==============================] - 0s 4ms/step - loss: 0.3271 - accuracy: 0.9259 - val_loss: 0.4544 - val_accuracy: 0.8444\n",
      "Epoch 260/300\n",
      "41/41 [==============================] - 0s 4ms/step - loss: 0.3213 - accuracy: 0.9185 - val_loss: 0.4876 - val_accuracy: 0.8222\n",
      "Epoch 261/300\n",
      "41/41 [==============================] - 0s 4ms/step - loss: 0.3244 - accuracy: 0.9185 - val_loss: 0.4796 - val_accuracy: 0.8444\n",
      "Epoch 262/300\n",
      "41/41 [==============================] - 0s 4ms/step - loss: 0.3336 - accuracy: 0.9086 - val_loss: 0.4694 - val_accuracy: 0.8444\n",
      "Epoch 263/300\n",
      "41/41 [==============================] - 0s 4ms/step - loss: 0.3253 - accuracy: 0.9086 - val_loss: 0.4673 - val_accuracy: 0.7778\n",
      "Epoch 264/300\n",
      "41/41 [==============================] - 0s 4ms/step - loss: 0.3293 - accuracy: 0.9160 - val_loss: 0.4705 - val_accuracy: 0.7778\n",
      "Epoch 265/300\n",
      "41/41 [==============================] - 0s 4ms/step - loss: 0.3300 - accuracy: 0.9210 - val_loss: 0.4743 - val_accuracy: 0.7556\n",
      "Epoch 266/300\n",
      "41/41 [==============================] - 0s 4ms/step - loss: 0.3296 - accuracy: 0.9210 - val_loss: 0.4946 - val_accuracy: 0.8000\n",
      "Epoch 267/300\n",
      "41/41 [==============================] - 0s 4ms/step - loss: 0.3258 - accuracy: 0.9358 - val_loss: 0.4626 - val_accuracy: 0.8222\n",
      "Epoch 268/300\n",
      "41/41 [==============================] - 0s 4ms/step - loss: 0.3207 - accuracy: 0.9210 - val_loss: 0.4895 - val_accuracy: 0.8000\n",
      "Epoch 269/300\n",
      "41/41 [==============================] - 0s 4ms/step - loss: 0.3226 - accuracy: 0.9185 - val_loss: 0.4599 - val_accuracy: 0.8667\n",
      "Epoch 270/300\n",
      "41/41 [==============================] - 0s 4ms/step - loss: 0.3208 - accuracy: 0.9185 - val_loss: 0.4814 - val_accuracy: 0.8222\n",
      "Epoch 271/300\n",
      "41/41 [==============================] - 0s 4ms/step - loss: 0.3225 - accuracy: 0.9358 - val_loss: 0.4714 - val_accuracy: 0.8444\n",
      "Epoch 272/300\n",
      "41/41 [==============================] - 0s 4ms/step - loss: 0.3229 - accuracy: 0.9259 - val_loss: 0.4872 - val_accuracy: 0.7778\n",
      "Epoch 273/300\n",
      "41/41 [==============================] - 0s 4ms/step - loss: 0.3214 - accuracy: 0.9185 - val_loss: 0.4801 - val_accuracy: 0.7778\n",
      "Epoch 274/300\n",
      "41/41 [==============================] - 0s 4ms/step - loss: 0.3237 - accuracy: 0.9185 - val_loss: 0.4869 - val_accuracy: 0.7778\n",
      "Epoch 275/300\n",
      "41/41 [==============================] - 0s 4ms/step - loss: 0.3224 - accuracy: 0.9210 - val_loss: 0.4762 - val_accuracy: 0.8000\n",
      "Epoch 276/300\n",
      "41/41 [==============================] - 0s 4ms/step - loss: 0.3199 - accuracy: 0.9284 - val_loss: 0.5149 - val_accuracy: 0.8000\n",
      "Epoch 277/300\n",
      "41/41 [==============================] - 0s 4ms/step - loss: 0.3231 - accuracy: 0.9284 - val_loss: 0.4516 - val_accuracy: 0.7778\n",
      "Epoch 278/300\n",
      "41/41 [==============================] - 0s 4ms/step - loss: 0.3148 - accuracy: 0.9185 - val_loss: 0.4505 - val_accuracy: 0.8444\n",
      "Epoch 279/300\n",
      "41/41 [==============================] - 0s 4ms/step - loss: 0.3294 - accuracy: 0.9210 - val_loss: 0.4765 - val_accuracy: 0.7778\n",
      "Epoch 280/300\n",
      "41/41 [==============================] - 0s 4ms/step - loss: 0.3220 - accuracy: 0.9284 - val_loss: 0.4605 - val_accuracy: 0.8000\n",
      "Epoch 281/300\n",
      "41/41 [==============================] - 0s 4ms/step - loss: 0.3241 - accuracy: 0.9136 - val_loss: 0.4935 - val_accuracy: 0.8222\n",
      "Epoch 282/300\n",
      "41/41 [==============================] - 0s 4ms/step - loss: 0.3197 - accuracy: 0.9210 - val_loss: 0.4508 - val_accuracy: 0.8444\n",
      "Epoch 283/300\n",
      "41/41 [==============================] - 0s 4ms/step - loss: 0.3186 - accuracy: 0.9160 - val_loss: 0.4374 - val_accuracy: 0.8667\n",
      "Epoch 284/300\n",
      "41/41 [==============================] - 0s 4ms/step - loss: 0.3152 - accuracy: 0.9284 - val_loss: 0.4677 - val_accuracy: 0.7778\n",
      "Epoch 285/300\n",
      "41/41 [==============================] - 0s 4ms/step - loss: 0.3146 - accuracy: 0.9333 - val_loss: 0.4618 - val_accuracy: 0.8222\n",
      "Epoch 286/300\n",
      "41/41 [==============================] - 0s 4ms/step - loss: 0.3191 - accuracy: 0.9259 - val_loss: 0.4781 - val_accuracy: 0.7556\n",
      "Epoch 287/300\n"
     ]
    },
    {
     "name": "stdout",
     "output_type": "stream",
     "text": [
      "41/41 [==============================] - 0s 4ms/step - loss: 0.3114 - accuracy: 0.9309 - val_loss: 0.4469 - val_accuracy: 0.8000\n",
      "Epoch 288/300\n",
      "41/41 [==============================] - 0s 4ms/step - loss: 0.3141 - accuracy: 0.9259 - val_loss: 0.4511 - val_accuracy: 0.8667\n",
      "Epoch 289/300\n",
      "41/41 [==============================] - 0s 4ms/step - loss: 0.3186 - accuracy: 0.9160 - val_loss: 0.4762 - val_accuracy: 0.8222\n",
      "Epoch 290/300\n",
      "41/41 [==============================] - 0s 4ms/step - loss: 0.3158 - accuracy: 0.9235 - val_loss: 0.4859 - val_accuracy: 0.8000\n",
      "Epoch 291/300\n",
      "41/41 [==============================] - 0s 4ms/step - loss: 0.3136 - accuracy: 0.9160 - val_loss: 0.5117 - val_accuracy: 0.7556\n",
      "Epoch 292/300\n",
      "41/41 [==============================] - 0s 4ms/step - loss: 0.3129 - accuracy: 0.9284 - val_loss: 0.4629 - val_accuracy: 0.8444\n",
      "Epoch 293/300\n",
      "41/41 [==============================] - 0s 4ms/step - loss: 0.3124 - accuracy: 0.9309 - val_loss: 0.4607 - val_accuracy: 0.8222\n",
      "Epoch 294/300\n",
      "41/41 [==============================] - 0s 4ms/step - loss: 0.3147 - accuracy: 0.9235 - val_loss: 0.4407 - val_accuracy: 0.8222\n",
      "Epoch 295/300\n",
      "41/41 [==============================] - 0s 4ms/step - loss: 0.3172 - accuracy: 0.9185 - val_loss: 0.4721 - val_accuracy: 0.8000\n",
      "Epoch 296/300\n",
      "41/41 [==============================] - 0s 5ms/step - loss: 0.3147 - accuracy: 0.9210 - val_loss: 0.4833 - val_accuracy: 0.7556\n",
      "Epoch 297/300\n",
      "41/41 [==============================] - 0s 4ms/step - loss: 0.3174 - accuracy: 0.9259 - val_loss: 0.4598 - val_accuracy: 0.8000\n",
      "Epoch 298/300\n",
      "41/41 [==============================] - 0s 4ms/step - loss: 0.3120 - accuracy: 0.9333 - val_loss: 0.5153 - val_accuracy: 0.8000\n",
      "Epoch 299/300\n",
      "41/41 [==============================] - 0s 4ms/step - loss: 0.3173 - accuracy: 0.9235 - val_loss: 0.4518 - val_accuracy: 0.8667\n",
      "Epoch 300/300\n",
      "41/41 [==============================] - 0s 4ms/step - loss: 0.3165 - accuracy: 0.9111 - val_loss: 0.4781 - val_accuracy: 0.7778\n"
     ]
    }
   ],
   "source": [
    "model.compile(loss=\"binary_crossentropy\",optimizer=SGD(0.01),metrics=[\"accuracy\"])\n",
    "history=model.fit(x_train,y_train,batch_size=10,epochs=300,validation_split=0.1)  "
   ]
  },
  {
   "cell_type": "code",
   "execution_count": 15,
   "id": "477cd9f7",
   "metadata": {},
   "outputs": [
    {
     "data": {
      "text/plain": [
       "<matplotlib.legend.Legend at 0x1f30dca51c0>"
      ]
     },
     "execution_count": 15,
     "metadata": {},
     "output_type": "execute_result"
    },
    {
     "data": {
      "image/png": "[encoded data removed]",
      "text/plain": [
       "<Figure size 640x480 with 1 Axes>"
      ]
     },
     "metadata": {},
     "output_type": "display_data"
    }
   ],
   "source": [
    "plt.plot(range(1,301),history.history[\"loss\"],label=\"train_loss\")\n",
    "plt.plot(range(1,301),history.history[\"val_loss\"],label=\"test_loss\") \n",
    "plt.legend() "
   ]
  },
  {
   "cell_type": "markdown",
   "id": "f0fda2cd",
   "metadata": {},
   "source": [
    "## Predicting the model "
   ]
  },
  {
   "cell_type": "code",
   "execution_count": 16,
   "id": "2dde5cec",
   "metadata": {},
   "outputs": [
    {
     "name": "stdout",
     "output_type": "stream",
     "text": [
      "2/2 [==============================] - 0s 5ms/step\n"
     ]
    },
    {
     "data": {
      "text/plain": [
       "array([[9.98366892e-01],\n",
       "       [5.02135694e-01],\n",
       "       [4.88828635e-03],\n",
       "       [9.84875381e-01],\n",
       "       [9.94537115e-01],\n",
       "       [3.17137778e-01],\n",
       "       [5.52393436e-01],\n",
       "       [9.97740328e-01],\n",
       "       [9.80855644e-01],\n",
       "       [6.06127549e-03],\n",
       "       [5.34665817e-03],\n",
       "       [2.82109920e-02],\n",
       "       [8.90862405e-01],\n",
       "       [7.01726958e-06],\n",
       "       [1.02242816e-03],\n",
       "       [1.50682675e-02],\n",
       "       [1.88739914e-02],\n",
       "       [1.18995274e-06],\n",
       "       [4.87047201e-03],\n",
       "       [5.84512830e-01],\n",
       "       [6.89783832e-03],\n",
       "       [2.05741405e-01],\n",
       "       [1.59870490e-01],\n",
       "       [3.33175510e-02],\n",
       "       [4.18485850e-01],\n",
       "       [2.52867714e-02],\n",
       "       [1.42926248e-02],\n",
       "       [9.98033643e-01],\n",
       "       [1.42866746e-02],\n",
       "       [3.30221429e-02],\n",
       "       [1.40754750e-03],\n",
       "       [2.53832415e-02],\n",
       "       [4.93877023e-01],\n",
       "       [8.76021087e-01],\n",
       "       [9.01477754e-01],\n",
       "       [4.56734329e-01],\n",
       "       [1.86383966e-02],\n",
       "       [1.52936056e-01],\n",
       "       [4.94997948e-03],\n",
       "       [7.92786200e-03],\n",
       "       [2.02471539e-01],\n",
       "       [1.57664232e-02],\n",
       "       [1.53453844e-02],\n",
       "       [1.32925436e-03],\n",
       "       [5.43396100e-02],\n",
       "       [2.56264088e-04],\n",
       "       [9.95637476e-01],\n",
       "       [7.87127912e-01],\n",
       "       [7.02605695e-02],\n",
       "       [8.25047314e-01]], dtype=float32)"
      ]
     },
     "execution_count": 16,
     "metadata": {},
     "output_type": "execute_result"
    }
   ],
   "source": [
    "predicted=model.predict(x_test) \n",
    "predicted  "
   ]
  },
  {
   "cell_type": "code",
   "execution_count": 17,
   "id": "a02289ea",
   "metadata": {},
   "outputs": [
    {
     "data": {
      "text/plain": [
       "array([[1],\n",
       "       [1],\n",
       "       [0],\n",
       "       [1],\n",
       "       [1],\n",
       "       [0],\n",
       "       [1],\n",
       "       [1],\n",
       "       [1],\n",
       "       [0],\n",
       "       [0],\n",
       "       [0],\n",
       "       [1],\n",
       "       [0],\n",
       "       [0],\n",
       "       [0],\n",
       "       [0],\n",
       "       [0],\n",
       "       [0],\n",
       "       [1],\n",
       "       [0],\n",
       "       [0],\n",
       "       [0],\n",
       "       [0],\n",
       "       [0],\n",
       "       [0],\n",
       "       [0],\n",
       "       [1],\n",
       "       [0],\n",
       "       [0],\n",
       "       [0],\n",
       "       [0],\n",
       "       [0],\n",
       "       [1],\n",
       "       [1],\n",
       "       [0],\n",
       "       [0],\n",
       "       [0],\n",
       "       [0],\n",
       "       [0],\n",
       "       [0],\n",
       "       [0],\n",
       "       [0],\n",
       "       [0],\n",
       "       [0],\n",
       "       [0],\n",
       "       [1],\n",
       "       [1],\n",
       "       [0],\n",
       "       [1]])"
      ]
     },
     "execution_count": 17,
     "metadata": {},
     "output_type": "execute_result"
    }
   ],
   "source": [
    "predicted=np.where(predicted>0.5,1,0)\n",
    "predicted  "
   ]
  },
  {
   "cell_type": "markdown",
   "id": "99bcc7c8",
   "metadata": {},
   "source": [
    "## Evaluating the model "
   ]
  },
  {
   "cell_type": "code",
   "execution_count": 18,
   "id": "0d0fdeeb",
   "metadata": {},
   "outputs": [
    {
     "name": "stdout",
     "output_type": "stream",
     "text": [
      "0.94\n"
     ]
    },
    {
     "data": {
      "image/png": "[encoded data removed]",
      "text/plain": [
       "<Figure size 640x480 with 2 Axes>"
      ]
     },
     "metadata": {},
     "output_type": "display_data"
    }
   ],
   "source": [
    "from sklearn.metrics import accuracy_score,confusion_matrix,ConfusionMatrixDisplay\n",
    "print(accuracy_score(y_test,predicted))\n",
    "cm=confusion_matrix(y_test,predicted)\n",
    "va=ConfusionMatrixDisplay(cm)\n",
    "va.plot() \n",
    "plt.show() "
   ]
  },
  {
   "cell_type": "markdown",
   "id": "c88a670e",
   "metadata": {},
   "source": [
    "## PLOTING THE DECISION SURFACE "
   ]
  },
  {
   "cell_type": "code",
   "execution_count": 19,
   "id": "5040eb51",
   "metadata": {},
   "outputs": [],
   "source": [
    "from mlxtend.plotting  import plot_decision_regions  "
   ]
  },
  {
   "cell_type": "code",
   "execution_count": 20,
   "id": "b27b0565",
   "metadata": {},
   "outputs": [
    {
     "name": "stdout",
     "output_type": "stream",
     "text": [
      "9600/9600 [==============================] - 21s 2ms/step\n"
     ]
    },
    {
     "data": {
      "text/plain": [
       "<Axes: >"
      ]
     },
     "execution_count": 20,
     "metadata": {},
     "output_type": "execute_result"
    },
    {
     "data": {
      "image/png": "[encoded data removed]",
      "text/plain": [
       "<Figure size 640x480 with 1 Axes>"
      ]
     },
     "metadata": {},
     "output_type": "display_data"
    }
   ],
   "source": [
    "plot_decision_regions(x_train,y_train.values,clf=model)  "
   ]
  },
  {
   "cell_type": "code",
   "execution_count": 21,
   "id": "15b5afe2",
   "metadata": {},
   "outputs": [
    {
     "name": "stdout",
     "output_type": "stream",
     "text": [
      "9600/9600 [==============================] - 21s 2ms/step\n"
     ]
    },
    {
     "data": {
      "text/plain": [
       "<Axes: >"
      ]
     },
     "execution_count": 21,
     "metadata": {},
     "output_type": "execute_result"
    },
    {
     "data": {
      "image/png": "[encoded data removed]",
      "text/plain": [
       "<Figure size 640x480 with 1 Axes>"
      ]
     },
     "metadata": {},
     "output_type": "display_data"
    }
   ],
   "source": [
    "plot_decision_regions(x_test,y_test.values,clf=model) "
   ]
  },
  {
   "cell_type": "markdown",
   "id": "ac319eca",
   "metadata": {},
   "source": [
    "## Conclusions:\n",
    "\n",
    "###### This neural network model achieves an accuracy of 94%. The model architecture consists of 3 hidden layers with the following specifications:\n",
    "\n",
    "- In the first hidden layer, there are 18 neurons with the ReLU activation function and an L1 regularizer with a strength of 0.001.\n",
    "- In the second hidden layer, there are 16 neurons with the ReLU activation function and an L1 regularizer with a strength of 0.001.\n",
    "- In the third hidden layer, there are 10 neurons with the ReLU activation function and an L1 regularizer with a strength of 0.001.\n",
    "\n",
    "###### The output layer uses the sigmoid activation function.\n",
    "\n",
    "##### For model compilation, the following settings were used:\n",
    "\n",
    "###### Loss function: Binary cross-entropy.\n",
    "- Optimizer: Stochastic Gradient Descent (SGD) with a batch size of 10 and a learning rate of 0.01.\n",
    "- The model was trained for 300 epochs.\n",
    " \n",
    "###### Overall, this neural network model architecture and training configuration achieve an accuracy of 94%. "
   ]
  },
  {
   "cell_type": "code",
   "execution_count": null,
   "id": "0ecea9d4",
   "metadata": {},
   "outputs": [],
   "source": []
  }
 ],
 "metadata": {
  "kernelspec": {
   "display_name": "Python 3 (ipykernel)",
   "language": "python",
   "name": "python3"
  },
  "language_info": {
   "codemirror_mode": {
    "name": "ipython",
    "version": 3
   },
   "file_extension": ".py",
   "mimetype": "text/x-python",
   "name": "python",
   "nbconvert_exporter": "python",
   "pygments_lexer": "ipython3",
   "version": "3.9.13"
  }
 },
 "nbformat": 4,
 "nbformat_minor": 5
}
