{
 "cells": [
  {
   "cell_type": "markdown",
   "id": "5be3d139",
   "metadata": {},
   "source": [
    "## Importing Libraries"
   ]
  },
  {
   "cell_type": "code",
   "execution_count": 1,
   "id": "40abc87c",
   "metadata": {},
   "outputs": [],
   "source": [
    "import numpy as np\n",
    "import pandas as pd  \n",
    "from sklearn.preprocessing import StandardScaler\n",
    "from sklearn.model_selection import train_test_split\n",
    "from keras import Sequential \n",
    "from keras.layers import Dense \n",
    "from keras.regularizers import L1,L2,L1L2 \n",
    "from keras.optimizers import SGD  \n",
    "import matplotlib.pyplot as plt \n",
    "import seaborn as sns  "
   ]
  },
  {
   "cell_type": "markdown",
   "id": "437f92c6",
   "metadata": {},
   "source": [
    "## Importing the CSV file "
   ]
  },
  {
   "cell_type": "code",
   "execution_count": 2,
   "id": "a99e2cdc",
   "metadata": {},
   "outputs": [
    {
     "data": {
      "text/html": [
       "<div>\n",
       "<style scoped>\n",
       "    .dataframe tbody tr th:only-of-type {\n",
       "        vertical-align: middle;\n",
       "    }\n",
       "\n",
       "    .dataframe tbody tr th {\n",
       "        vertical-align: top;\n",
       "    }\n",
       "\n",
       "    .dataframe thead th {\n",
       "        text-align: right;\n",
       "    }\n",
       "</style>\n",
       "<table border=\"1\" class=\"dataframe\">\n",
       "  <thead>\n",
       "    <tr style=\"text-align: right;\">\n",
       "      <th></th>\n",
       "      <th>0</th>\n",
       "      <th>1</th>\n",
       "      <th>2</th>\n",
       "    </tr>\n",
       "  </thead>\n",
       "  <tbody>\n",
       "    <tr>\n",
       "      <th>0</th>\n",
       "      <td>-0.177497</td>\n",
       "      <td>0.930496</td>\n",
       "      <td>1.0</td>\n",
       "    </tr>\n",
       "    <tr>\n",
       "      <th>1</th>\n",
       "      <td>1.977424</td>\n",
       "      <td>1.766155</td>\n",
       "      <td>0.0</td>\n",
       "    </tr>\n",
       "    <tr>\n",
       "      <th>2</th>\n",
       "      <td>1.800024</td>\n",
       "      <td>1.700343</td>\n",
       "      <td>0.0</td>\n",
       "    </tr>\n",
       "    <tr>\n",
       "      <th>3</th>\n",
       "      <td>-0.770837</td>\n",
       "      <td>2.359163</td>\n",
       "      <td>1.0</td>\n",
       "    </tr>\n",
       "    <tr>\n",
       "      <th>4</th>\n",
       "      <td>-0.308009</td>\n",
       "      <td>1.594063</td>\n",
       "      <td>1.0</td>\n",
       "    </tr>\n",
       "  </tbody>\n",
       "</table>\n",
       "</div>"
      ],
      "text/plain": [
       "          0         1    2\n",
       "0 -0.177497  0.930496  1.0\n",
       "1  1.977424  1.766155  0.0\n",
       "2  1.800024  1.700343  0.0\n",
       "3 -0.770837  2.359163  1.0\n",
       "4 -0.308009  1.594063  1.0"
      ]
     },
     "execution_count": 2,
     "metadata": {},
     "output_type": "execute_result"
    }
   ],
   "source": [
    "df=pd.read_csv(r\"C:\\Users\\sss\\Downloads\\Deep_Learning related\\DL_CLASS\\ASSIGNMENT_4\\Multiple CSV\\4.linearsep.csv\",header=None) \n",
    "df.head() "
   ]
  },
  {
   "cell_type": "code",
   "execution_count": 3,
   "id": "9b109e72",
   "metadata": {},
   "outputs": [
    {
     "name": "stdout",
     "output_type": "stream",
     "text": [
      "<class 'pandas.core.frame.DataFrame'>\n",
      "RangeIndex: 100 entries, 0 to 99\n",
      "Data columns (total 3 columns):\n",
      " #   Column  Non-Null Count  Dtype  \n",
      "---  ------  --------------  -----  \n",
      " 0   0       100 non-null    float64\n",
      " 1   1       100 non-null    float64\n",
      " 2   2       100 non-null    float64\n",
      "dtypes: float64(3)\n",
      "memory usage: 2.5 KB\n"
     ]
    }
   ],
   "source": [
    "df.info() "
   ]
  },
  {
   "cell_type": "code",
   "execution_count": 4,
   "id": "c446690c",
   "metadata": {},
   "outputs": [
    {
     "data": {
      "text/plain": [
       "2\n",
       "1.0    50\n",
       "0.0    50\n",
       "Name: count, dtype: int64"
      ]
     },
     "execution_count": 4,
     "metadata": {},
     "output_type": "execute_result"
    }
   ],
   "source": [
    "df[2].value_counts()   "
   ]
  },
  {
   "cell_type": "markdown",
   "id": "47048078",
   "metadata": {},
   "source": [
    "## checking outliers"
   ]
  },
  {
   "cell_type": "code",
   "execution_count": 5,
   "id": "d0be3bd7",
   "metadata": {},
   "outputs": [
    {
     "data": {
      "text/plain": [
       "<Axes: >"
      ]
     },
     "execution_count": 5,
     "metadata": {},
     "output_type": "execute_result"
    },
    {
     "data": {
      "image/png": "[encoded data removed]",
      "text/plain": [
       "<Figure size 640x480 with 1 Axes>"
      ]
     },
     "metadata": {},
     "output_type": "display_data"
    }
   ],
   "source": [
    "sns.boxplot(df[0]) "
   ]
  },
  {
   "cell_type": "code",
   "execution_count": 6,
   "id": "6ad54a2c",
   "metadata": {},
   "outputs": [
    {
     "data": {
      "text/plain": [
       "<Axes: >"
      ]
     },
     "execution_count": 6,
     "metadata": {},
     "output_type": "execute_result"
    },
    {
     "data": {
      "image/png": "[encoded data removed]",
      "text/plain": [
       "<Figure size 640x480 with 1 Axes>"
      ]
     },
     "metadata": {},
     "output_type": "display_data"
    }
   ],
   "source": [
    "sns.boxplot(df[1]) "
   ]
  },
  {
   "cell_type": "code",
   "execution_count": 7,
   "id": "018b78c1",
   "metadata": {},
   "outputs": [],
   "source": [
    "## removing the outlier datapoints\n",
    "df=df[df[1]<3.5] "
   ]
  },
  {
   "cell_type": "code",
   "execution_count": 8,
   "id": "d8567821",
   "metadata": {},
   "outputs": [
    {
     "name": "stdout",
     "output_type": "stream",
     "text": [
      "<class 'pandas.core.frame.DataFrame'>\n",
      "Index: 97 entries, 0 to 99\n",
      "Data columns (total 3 columns):\n",
      " #   Column  Non-Null Count  Dtype  \n",
      "---  ------  --------------  -----  \n",
      " 0   0       97 non-null     float64\n",
      " 1   1       97 non-null     float64\n",
      " 2   2       97 non-null     float64\n",
      "dtypes: float64(3)\n",
      "memory usage: 3.0 KB\n"
     ]
    }
   ],
   "source": [
    "df.info() "
   ]
  },
  {
   "cell_type": "code",
   "execution_count": 9,
   "id": "470f2292",
   "metadata": {},
   "outputs": [
    {
     "data": {
      "text/plain": [
       "<Axes: >"
      ]
     },
     "execution_count": 9,
     "metadata": {},
     "output_type": "execute_result"
    },
    {
     "data": {
      "image/png": "[encoded data removed]",
      "text/plain": [
       "<Figure size 640x480 with 1 Axes>"
      ]
     },
     "metadata": {},
     "output_type": "display_data"
    }
   ],
   "source": [
    "sns.boxplot(df[1])  "
   ]
  },
  {
   "cell_type": "markdown",
   "id": "062ae0d6",
   "metadata": {},
   "source": [
    "## Seperating the Input and Output Features"
   ]
  },
  {
   "cell_type": "code",
   "execution_count": 10,
   "id": "c2f1d6c8",
   "metadata": {},
   "outputs": [],
   "source": [
    "x=df.iloc[:,0:2]\n",
    "y=df.iloc[:,2].astype(int)  "
   ]
  },
  {
   "cell_type": "code",
   "execution_count": 11,
   "id": "9077ce71",
   "metadata": {},
   "outputs": [
    {
     "data": {
      "text/html": [
       "<div>\n",
       "<style scoped>\n",
       "    .dataframe tbody tr th:only-of-type {\n",
       "        vertical-align: middle;\n",
       "    }\n",
       "\n",
       "    .dataframe tbody tr th {\n",
       "        vertical-align: top;\n",
       "    }\n",
       "\n",
       "    .dataframe thead th {\n",
       "        text-align: right;\n",
       "    }\n",
       "</style>\n",
       "<table border=\"1\" class=\"dataframe\">\n",
       "  <thead>\n",
       "    <tr style=\"text-align: right;\">\n",
       "      <th></th>\n",
       "      <th>0</th>\n",
       "      <th>1</th>\n",
       "    </tr>\n",
       "  </thead>\n",
       "  <tbody>\n",
       "    <tr>\n",
       "      <th>0</th>\n",
       "      <td>-0.177497</td>\n",
       "      <td>0.930496</td>\n",
       "    </tr>\n",
       "    <tr>\n",
       "      <th>1</th>\n",
       "      <td>1.977424</td>\n",
       "      <td>1.766155</td>\n",
       "    </tr>\n",
       "    <tr>\n",
       "      <th>2</th>\n",
       "      <td>1.800024</td>\n",
       "      <td>1.700343</td>\n",
       "    </tr>\n",
       "    <tr>\n",
       "      <th>3</th>\n",
       "      <td>-0.770837</td>\n",
       "      <td>2.359163</td>\n",
       "    </tr>\n",
       "    <tr>\n",
       "      <th>4</th>\n",
       "      <td>-0.308009</td>\n",
       "      <td>1.594063</td>\n",
       "    </tr>\n",
       "  </tbody>\n",
       "</table>\n",
       "</div>"
      ],
      "text/plain": [
       "          0         1\n",
       "0 -0.177497  0.930496\n",
       "1  1.977424  1.766155\n",
       "2  1.800024  1.700343\n",
       "3 -0.770837  2.359163\n",
       "4 -0.308009  1.594063"
      ]
     },
     "execution_count": 11,
     "metadata": {},
     "output_type": "execute_result"
    }
   ],
   "source": [
    "x.head() "
   ]
  },
  {
   "cell_type": "code",
   "execution_count": 12,
   "id": "bb1ed62f",
   "metadata": {},
   "outputs": [
    {
     "data": {
      "text/plain": [
       "0    1\n",
       "1    0\n",
       "2    0\n",
       "3    1\n",
       "4    1\n",
       "Name: 2, dtype: int32"
      ]
     },
     "execution_count": 12,
     "metadata": {},
     "output_type": "execute_result"
    }
   ],
   "source": [
    "y.head()  "
   ]
  },
  {
   "cell_type": "markdown",
   "id": "bc6aa381",
   "metadata": {},
   "source": [
    "## Split the data into train and test"
   ]
  },
  {
   "cell_type": "code",
   "execution_count": 13,
   "id": "4e66ac17",
   "metadata": {},
   "outputs": [],
   "source": [
    "x_train,x_test,y_train,y_test=train_test_split(x,y,test_size=0.1) "
   ]
  },
  {
   "cell_type": "code",
   "execution_count": 14,
   "id": "8470a805",
   "metadata": {},
   "outputs": [
    {
     "data": {
      "text/plain": [
       "(87, 2)"
      ]
     },
     "execution_count": 14,
     "metadata": {},
     "output_type": "execute_result"
    }
   ],
   "source": [
    "x_train.shape  "
   ]
  },
  {
   "cell_type": "code",
   "execution_count": 15,
   "id": "43d17846",
   "metadata": {},
   "outputs": [
    {
     "data": {
      "text/plain": [
       "(10, 2)"
      ]
     },
     "execution_count": 15,
     "metadata": {},
     "output_type": "execute_result"
    }
   ],
   "source": [
    "x_test.shape "
   ]
  },
  {
   "cell_type": "markdown",
   "id": "9dfd8f22",
   "metadata": {},
   "source": [
    "## Standardising input features "
   ]
  },
  {
   "cell_type": "code",
   "execution_count": 16,
   "id": "01a58ff8",
   "metadata": {},
   "outputs": [],
   "source": [
    "std=StandardScaler()\n",
    "x_train=std.fit_transform(x_train)\n",
    "x_test=std.transform(x_test) "
   ]
  },
  {
   "cell_type": "markdown",
   "id": "b9b620bb",
   "metadata": {},
   "source": [
    "## Build the Logical Structure "
   ]
  },
  {
   "cell_type": "code",
   "execution_count": 17,
   "id": "47e3e141",
   "metadata": {},
   "outputs": [],
   "source": [
    "model=Sequential()\n",
    "model.add(Dense(6,activation=\"tanh\",input_dim=2))\n",
    "model.add(Dense(3,activation=\"tanh\"))\n",
    "model.add(Dense(1,activation=\"sigmoid\")) "
   ]
  },
  {
   "cell_type": "code",
   "execution_count": 18,
   "id": "bf5f1d1b",
   "metadata": {},
   "outputs": [
    {
     "name": "stdout",
     "output_type": "stream",
     "text": [
      "Model: \"sequential\"\n",
      "_________________________________________________________________\n",
      " Layer (type)                Output Shape              Param #   \n",
      "=================================================================\n",
      " dense (Dense)               (None, 6)                 18        \n",
      "                                                                 \n",
      " dense_1 (Dense)             (None, 3)                 21        \n",
      "                                                                 \n",
      " dense_2 (Dense)             (None, 1)                 4         \n",
      "                                                                 \n",
      "=================================================================\n",
      "Total params: 43 (172.00 Byte)\n",
      "Trainable params: 43 (172.00 Byte)\n",
      "Non-trainable params: 0 (0.00 Byte)\n",
      "_________________________________________________________________\n"
     ]
    }
   ],
   "source": [
    "model.summary()  "
   ]
  },
  {
   "cell_type": "markdown",
   "id": "68f49633",
   "metadata": {},
   "source": [
    "## compiling the model "
   ]
  },
  {
   "cell_type": "code",
   "execution_count": 19,
   "id": "651afe9a",
   "metadata": {},
   "outputs": [
    {
     "name": "stdout",
     "output_type": "stream",
     "text": [
      "Epoch 1/35\n",
      "8/8 [==============================] - 1s 49ms/step - loss: 0.9877 - accuracy: 0.0513 - val_loss: 0.9419 - val_accuracy: 0.1111\n",
      "Epoch 2/35\n",
      "8/8 [==============================] - 0s 11ms/step - loss: 0.9604 - accuracy: 0.0513 - val_loss: 0.9207 - val_accuracy: 0.1111\n",
      "Epoch 3/35\n",
      "8/8 [==============================] - 0s 10ms/step - loss: 0.9350 - accuracy: 0.0641 - val_loss: 0.9008 - val_accuracy: 0.1111\n",
      "Epoch 4/35\n",
      "8/8 [==============================] - 0s 10ms/step - loss: 0.9108 - accuracy: 0.0641 - val_loss: 0.8816 - val_accuracy: 0.1111\n",
      "Epoch 5/35\n",
      "8/8 [==============================] - 0s 10ms/step - loss: 0.8866 - accuracy: 0.0641 - val_loss: 0.8629 - val_accuracy: 0.1111\n",
      "Epoch 6/35\n",
      "8/8 [==============================] - 0s 10ms/step - loss: 0.8637 - accuracy: 0.0641 - val_loss: 0.8449 - val_accuracy: 0.1111\n",
      "Epoch 7/35\n",
      "8/8 [==============================] - 0s 16ms/step - loss: 0.8418 - accuracy: 0.0769 - val_loss: 0.8276 - val_accuracy: 0.1111\n",
      "Epoch 8/35\n",
      "8/8 [==============================] - 0s 9ms/step - loss: 0.8206 - accuracy: 0.0769 - val_loss: 0.8107 - val_accuracy: 0.1111\n",
      "Epoch 9/35\n",
      "8/8 [==============================] - 0s 11ms/step - loss: 0.8000 - accuracy: 0.0769 - val_loss: 0.7944 - val_accuracy: 0.1111\n",
      "Epoch 10/35\n",
      "8/8 [==============================] - 0s 11ms/step - loss: 0.7798 - accuracy: 0.0769 - val_loss: 0.7786 - val_accuracy: 0.1111\n",
      "Epoch 11/35\n",
      "8/8 [==============================] - 0s 10ms/step - loss: 0.7607 - accuracy: 0.1538 - val_loss: 0.7631 - val_accuracy: 0.1111\n",
      "Epoch 12/35\n",
      "8/8 [==============================] - 0s 11ms/step - loss: 0.7416 - accuracy: 0.1923 - val_loss: 0.7485 - val_accuracy: 0.1111\n",
      "Epoch 13/35\n",
      "8/8 [==============================] - 0s 11ms/step - loss: 0.7235 - accuracy: 0.2051 - val_loss: 0.7341 - val_accuracy: 0.2222\n",
      "Epoch 14/35\n",
      "8/8 [==============================] - 0s 11ms/step - loss: 0.7057 - accuracy: 0.3590 - val_loss: 0.7202 - val_accuracy: 0.2222\n",
      "Epoch 15/35\n",
      "8/8 [==============================] - 0s 10ms/step - loss: 0.6887 - accuracy: 0.6538 - val_loss: 0.7067 - val_accuracy: 0.4444\n",
      "Epoch 16/35\n",
      "8/8 [==============================] - 0s 11ms/step - loss: 0.6717 - accuracy: 0.7564 - val_loss: 0.6934 - val_accuracy: 0.4444\n",
      "Epoch 17/35\n",
      "8/8 [==============================] - 0s 9ms/step - loss: 0.6556 - accuracy: 0.7821 - val_loss: 0.6809 - val_accuracy: 0.6667\n",
      "Epoch 18/35\n",
      "8/8 [==============================] - 0s 10ms/step - loss: 0.6397 - accuracy: 0.8333 - val_loss: 0.6683 - val_accuracy: 0.6667\n",
      "Epoch 19/35\n",
      "8/8 [==============================] - 0s 10ms/step - loss: 0.6245 - accuracy: 0.8590 - val_loss: 0.6562 - val_accuracy: 0.6667\n",
      "Epoch 20/35\n",
      "8/8 [==============================] - 0s 10ms/step - loss: 0.6098 - accuracy: 0.9231 - val_loss: 0.6444 - val_accuracy: 0.6667\n",
      "Epoch 21/35\n",
      "8/8 [==============================] - 0s 10ms/step - loss: 0.5954 - accuracy: 0.9359 - val_loss: 0.6331 - val_accuracy: 0.6667\n",
      "Epoch 22/35\n",
      "8/8 [==============================] - 0s 12ms/step - loss: 0.5814 - accuracy: 0.9487 - val_loss: 0.6221 - val_accuracy: 0.6667\n",
      "Epoch 23/35\n",
      "8/8 [==============================] - 0s 12ms/step - loss: 0.5681 - accuracy: 0.9615 - val_loss: 0.6114 - val_accuracy: 0.6667\n",
      "Epoch 24/35\n",
      "8/8 [==============================] - 0s 11ms/step - loss: 0.5555 - accuracy: 0.9487 - val_loss: 0.6009 - val_accuracy: 0.6667\n",
      "Epoch 25/35\n",
      "8/8 [==============================] - 0s 10ms/step - loss: 0.5429 - accuracy: 0.9487 - val_loss: 0.5906 - val_accuracy: 0.7778\n",
      "Epoch 26/35\n",
      "8/8 [==============================] - 0s 10ms/step - loss: 0.5307 - accuracy: 0.9487 - val_loss: 0.5810 - val_accuracy: 0.7778\n",
      "Epoch 27/35\n",
      "8/8 [==============================] - 0s 10ms/step - loss: 0.5191 - accuracy: 0.9487 - val_loss: 0.5712 - val_accuracy: 0.7778\n",
      "Epoch 28/35\n",
      "8/8 [==============================] - 0s 10ms/step - loss: 0.5074 - accuracy: 0.9487 - val_loss: 0.5622 - val_accuracy: 0.7778\n",
      "Epoch 29/35\n",
      "8/8 [==============================] - 0s 11ms/step - loss: 0.4965 - accuracy: 0.9487 - val_loss: 0.5531 - val_accuracy: 0.7778\n",
      "Epoch 30/35\n",
      "8/8 [==============================] - 0s 11ms/step - loss: 0.4860 - accuracy: 0.9487 - val_loss: 0.5442 - val_accuracy: 0.7778\n",
      "Epoch 31/35\n",
      "8/8 [==============================] - 0s 12ms/step - loss: 0.4755 - accuracy: 0.9487 - val_loss: 0.5358 - val_accuracy: 0.7778\n",
      "Epoch 32/35\n",
      "8/8 [==============================] - 0s 11ms/step - loss: 0.4657 - accuracy: 0.9487 - val_loss: 0.5274 - val_accuracy: 0.7778\n",
      "Epoch 33/35\n",
      "8/8 [==============================] - 0s 11ms/step - loss: 0.4560 - accuracy: 0.9487 - val_loss: 0.5195 - val_accuracy: 0.7778\n",
      "Epoch 34/35\n",
      "8/8 [==============================] - 0s 11ms/step - loss: 0.4467 - accuracy: 0.9487 - val_loss: 0.5119 - val_accuracy: 0.7778\n",
      "Epoch 35/35\n",
      "8/8 [==============================] - 0s 11ms/step - loss: 0.4377 - accuracy: 0.9487 - val_loss: 0.5045 - val_accuracy: 0.7778\n"
     ]
    }
   ],
   "source": [
    "model.compile(loss=\"binary_crossentropy\",optimizer=SGD(0.01),metrics=[\"accuracy\"])\n",
    "history=model.fit(x_train,y_train,batch_size=10,epochs=35,validation_split=0.1)  "
   ]
  },
  {
   "cell_type": "code",
   "execution_count": 20,
   "id": "4ef5ab05",
   "metadata": {},
   "outputs": [
    {
     "data": {
      "text/plain": [
       "<matplotlib.legend.Legend at 0x21656525e50>"
      ]
     },
     "execution_count": 20,
     "metadata": {},
     "output_type": "execute_result"
    },
    {
     "data": {
      "image/png": "[encoded data removed]",
      "text/plain": [
       "<Figure size 640x480 with 1 Axes>"
      ]
     },
     "metadata": {},
     "output_type": "display_data"
    }
   ],
   "source": [
    "plt.plot(range(1,36),history.history[\"loss\"],label=\"train_loss\")\n",
    "plt.plot(range(1,36),history.history[\"val_loss\"],label=\"test_loss\") \n",
    "plt.legend()  "
   ]
  },
  {
   "cell_type": "markdown",
   "id": "816597eb",
   "metadata": {},
   "source": [
    "## Predicting the model"
   ]
  },
  {
   "cell_type": "code",
   "execution_count": 21,
   "id": "e795194f",
   "metadata": {},
   "outputs": [
    {
     "name": "stdout",
     "output_type": "stream",
     "text": [
      "1/1 [==============================] - 0s 123ms/step\n"
     ]
    },
    {
     "data": {
      "text/plain": [
       "array([[0.5680474 ],\n",
       "       [0.65953434],\n",
       "       [0.46132454],\n",
       "       [0.6875241 ],\n",
       "       [0.51684153],\n",
       "       [0.3750097 ],\n",
       "       [0.59534925],\n",
       "       [0.55897933],\n",
       "       [0.65859634],\n",
       "       [0.27065295]], dtype=float32)"
      ]
     },
     "execution_count": 21,
     "metadata": {},
     "output_type": "execute_result"
    }
   ],
   "source": [
    "predicted=model.predict(x_test) \n",
    "predicted    "
   ]
  },
  {
   "cell_type": "code",
   "execution_count": 22,
   "id": "a661cc60",
   "metadata": {},
   "outputs": [
    {
     "data": {
      "text/plain": [
       "array([[1],\n",
       "       [1],\n",
       "       [0],\n",
       "       [1],\n",
       "       [1],\n",
       "       [0],\n",
       "       [1],\n",
       "       [1],\n",
       "       [1],\n",
       "       [0]])"
      ]
     },
     "execution_count": 22,
     "metadata": {},
     "output_type": "execute_result"
    }
   ],
   "source": [
    "predicted=np.where(predicted>0.5,1,0)\n",
    "predicted "
   ]
  },
  {
   "cell_type": "markdown",
   "id": "8ffd0323",
   "metadata": {},
   "source": [
    "## Evaluating the model"
   ]
  },
  {
   "cell_type": "code",
   "execution_count": 23,
   "id": "c958f17a",
   "metadata": {},
   "outputs": [
    {
     "name": "stdout",
     "output_type": "stream",
     "text": [
      "1.0\n"
     ]
    },
    {
     "data": {
      "image/png": "[encoded data removed]",
      "text/plain": [
       "<Figure size 640x480 with 2 Axes>"
      ]
     },
     "metadata": {},
     "output_type": "display_data"
    }
   ],
   "source": [
    "from sklearn.metrics import accuracy_score,confusion_matrix,ConfusionMatrixDisplay\n",
    "print(accuracy_score(y_test,predicted))\n",
    "cm=confusion_matrix(y_test,predicted)\n",
    "va=ConfusionMatrixDisplay(cm)\n",
    "va.plot() \n",
    "plt.show()  "
   ]
  },
  {
   "cell_type": "markdown",
   "id": "b92d2491",
   "metadata": {},
   "source": [
    "## PLOTING THE DECISION SURFACE "
   ]
  },
  {
   "cell_type": "code",
   "execution_count": 24,
   "id": "0cf2f1a5",
   "metadata": {},
   "outputs": [],
   "source": [
    "from mlxtend.plotting  import plot_decision_regions  "
   ]
  },
  {
   "cell_type": "code",
   "execution_count": 25,
   "id": "a9aba988",
   "metadata": {},
   "outputs": [
    {
     "name": "stdout",
     "output_type": "stream",
     "text": [
      "9600/9600 [==============================] - 21s 2ms/step\n"
     ]
    },
    {
     "data": {
      "text/plain": [
       "<Axes: >"
      ]
     },
     "execution_count": 25,
     "metadata": {},
     "output_type": "execute_result"
    },
    {
     "data": {
      "image/png": "[encoded data removed]",
      "text/plain": [
       "<Figure size 640x480 with 1 Axes>"
      ]
     },
     "metadata": {},
     "output_type": "display_data"
    }
   ],
   "source": [
    "plot_decision_regions(x_train,y_train.values,clf=model)   "
   ]
  },
  {
   "cell_type": "code",
   "execution_count": 26,
   "id": "edee34eb",
   "metadata": {},
   "outputs": [
    {
     "name": "stdout",
     "output_type": "stream",
     "text": [
      "9600/9600 [==============================] - 22s 2ms/step\n"
     ]
    },
    {
     "data": {
      "text/plain": [
       "<Axes: >"
      ]
     },
     "execution_count": 26,
     "metadata": {},
     "output_type": "execute_result"
    },
    {
     "data": {
      "image/png": "[encoded data removed]",
      "text/plain": [
       "<Figure size 640x480 with 1 Axes>"
      ]
     },
     "metadata": {},
     "output_type": "display_data"
    }
   ],
   "source": [
    "plot_decision_regions(x_test,y_test.values,clf=model) "
   ]
  },
  {
   "cell_type": "markdown",
   "id": "769dd5a9",
   "metadata": {},
   "source": [
    "## Conclusions:\n",
    "\n",
    "###### This neural network model achieves an accuracy of  94%. The model architecture consists of 2 hidden layers with the following specifications:\n",
    "\n",
    "- In the first hidden layer, there are 6 neurons with the tanh activation function \n",
    "- In the second hidden layer, there are 3 neurons with the tanh activation function \n",
    "\n",
    "###### The output layer uses the sigmoid activation function.\n",
    "\n",
    "##### For model compilation, the following settings were used:\n",
    "\n",
    "###### Loss function: Binary cross-entropy.\n",
    "- Optimizer: Stochastic Gradient Descent (SGD) with a batch size of 10 and a learning rate of 0.01.\n",
    "- The model was trained for 35 epochs.\n",
    " \n",
    "###### Overall, this neural network model architecture and training configuration achieve an accuracy of 94%.    "
   ]
  },
  {
   "cell_type": "code",
   "execution_count": null,
   "id": "93e10a18",
   "metadata": {},
   "outputs": [],
   "source": []
  }
 ],
 "metadata": {
  "kernelspec": {
   "display_name": "Python 3 (ipykernel)",
   "language": "python",
   "name": "python3"
  },
  "language_info": {
   "codemirror_mode": {
    "name": "ipython",
    "version": 3
   },
   "file_extension": ".py",
   "mimetype": "text/x-python",
   "name": "python",
   "nbconvert_exporter": "python",
   "pygments_lexer": "ipython3",
   "version": "3.9.13"
  }
 },
 "nbformat": 4,
 "nbformat_minor": 5
}
