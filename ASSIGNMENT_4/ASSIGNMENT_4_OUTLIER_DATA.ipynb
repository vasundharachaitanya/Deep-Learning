{
 "cells": [
  {
   "cell_type": "markdown",
   "id": "8e071599",
   "metadata": {},
   "source": [
    "## Importing Libraries"
   ]
  },
  {
   "cell_type": "code",
   "execution_count": 1,
   "id": "30c6edc3",
   "metadata": {},
   "outputs": [],
   "source": [
    "import numpy as np\n",
    "import pandas as pd  \n",
    "from sklearn.preprocessing import StandardScaler\n",
    "from sklearn.model_selection import train_test_split\n",
    "from keras import Sequential \n",
    "from keras.layers import Dense \n",
    "from keras.regularizers import L1,L2,L1L2 \n",
    "from keras.optimizers import SGD  \n",
    "import matplotlib.pyplot as plt \n",
    "import seaborn as sns "
   ]
  },
  {
   "cell_type": "markdown",
   "id": "9ef0c44e",
   "metadata": {},
   "source": [
    "## Importing the CSV file"
   ]
  },
  {
   "cell_type": "code",
   "execution_count": 2,
   "id": "f9e74b9b",
   "metadata": {},
   "outputs": [
    {
     "data": {
      "text/html": [
       "<div>\n",
       "<style scoped>\n",
       "    .dataframe tbody tr th:only-of-type {\n",
       "        vertical-align: middle;\n",
       "    }\n",
       "\n",
       "    .dataframe tbody tr th {\n",
       "        vertical-align: top;\n",
       "    }\n",
       "\n",
       "    .dataframe thead th {\n",
       "        text-align: right;\n",
       "    }\n",
       "</style>\n",
       "<table border=\"1\" class=\"dataframe\">\n",
       "  <thead>\n",
       "    <tr style=\"text-align: right;\">\n",
       "      <th></th>\n",
       "      <th>0</th>\n",
       "      <th>1</th>\n",
       "      <th>2</th>\n",
       "    </tr>\n",
       "  </thead>\n",
       "  <tbody>\n",
       "    <tr>\n",
       "      <th>0</th>\n",
       "      <td>-17.897000</td>\n",
       "      <td>7.662423</td>\n",
       "      <td>0</td>\n",
       "    </tr>\n",
       "    <tr>\n",
       "      <th>1</th>\n",
       "      <td>-26.343161</td>\n",
       "      <td>-3.055257</td>\n",
       "      <td>0</td>\n",
       "    </tr>\n",
       "    <tr>\n",
       "      <th>2</th>\n",
       "      <td>-19.059771</td>\n",
       "      <td>-8.531838</td>\n",
       "      <td>0</td>\n",
       "    </tr>\n",
       "    <tr>\n",
       "      <th>3</th>\n",
       "      <td>-16.383898</td>\n",
       "      <td>-2.352667</td>\n",
       "      <td>0</td>\n",
       "    </tr>\n",
       "    <tr>\n",
       "      <th>4</th>\n",
       "      <td>-12.926541</td>\n",
       "      <td>9.074994</td>\n",
       "      <td>0</td>\n",
       "    </tr>\n",
       "  </tbody>\n",
       "</table>\n",
       "</div>"
      ],
      "text/plain": [
       "           0         1  2\n",
       "0 -17.897000  7.662423  0\n",
       "1 -26.343161 -3.055257  0\n",
       "2 -19.059771 -8.531838  0\n",
       "3 -16.383898 -2.352667  0\n",
       "4 -12.926541  9.074994  0"
      ]
     },
     "execution_count": 2,
     "metadata": {},
     "output_type": "execute_result"
    }
   ],
   "source": [
    "df=pd.read_csv(r\"C:\\Users\\sss\\Downloads\\Deep_Learning related\\DL_CLASS\\ASSIGNMENT_4\\Multiple CSV\\5.outlier.csv\",header=None) \n",
    "df.head() "
   ]
  },
  {
   "cell_type": "code",
   "execution_count": 3,
   "id": "9aca0080",
   "metadata": {},
   "outputs": [
    {
     "name": "stdout",
     "output_type": "stream",
     "text": [
      "<class 'pandas.core.frame.DataFrame'>\n",
      "RangeIndex: 600 entries, 0 to 599\n",
      "Data columns (total 3 columns):\n",
      " #   Column  Non-Null Count  Dtype  \n",
      "---  ------  --------------  -----  \n",
      " 0   0       600 non-null    float64\n",
      " 1   1       600 non-null    float64\n",
      " 2   2       600 non-null    int64  \n",
      "dtypes: float64(2), int64(1)\n",
      "memory usage: 14.2 KB\n"
     ]
    }
   ],
   "source": [
    "df.info() "
   ]
  },
  {
   "cell_type": "code",
   "execution_count": 4,
   "id": "19549d26",
   "metadata": {},
   "outputs": [
    {
     "data": {
      "text/plain": [
       "2\n",
       "0    300\n",
       "1    300\n",
       "Name: count, dtype: int64"
      ]
     },
     "execution_count": 4,
     "metadata": {},
     "output_type": "execute_result"
    }
   ],
   "source": [
    "df[2].value_counts()  "
   ]
  },
  {
   "cell_type": "markdown",
   "id": "52f5bd59",
   "metadata": {},
   "source": [
    "## Seperating the Input and Output Features"
   ]
  },
  {
   "cell_type": "code",
   "execution_count": 5,
   "id": "91300c19",
   "metadata": {},
   "outputs": [],
   "source": [
    "x=df.iloc[:,0:2]\n",
    "y=df.iloc[:,2] "
   ]
  },
  {
   "cell_type": "code",
   "execution_count": 6,
   "id": "ff230132",
   "metadata": {},
   "outputs": [
    {
     "data": {
      "text/html": [
       "<div>\n",
       "<style scoped>\n",
       "    .dataframe tbody tr th:only-of-type {\n",
       "        vertical-align: middle;\n",
       "    }\n",
       "\n",
       "    .dataframe tbody tr th {\n",
       "        vertical-align: top;\n",
       "    }\n",
       "\n",
       "    .dataframe thead th {\n",
       "        text-align: right;\n",
       "    }\n",
       "</style>\n",
       "<table border=\"1\" class=\"dataframe\">\n",
       "  <thead>\n",
       "    <tr style=\"text-align: right;\">\n",
       "      <th></th>\n",
       "      <th>0</th>\n",
       "      <th>1</th>\n",
       "    </tr>\n",
       "  </thead>\n",
       "  <tbody>\n",
       "    <tr>\n",
       "      <th>0</th>\n",
       "      <td>-17.897000</td>\n",
       "      <td>7.662423</td>\n",
       "    </tr>\n",
       "    <tr>\n",
       "      <th>1</th>\n",
       "      <td>-26.343161</td>\n",
       "      <td>-3.055257</td>\n",
       "    </tr>\n",
       "    <tr>\n",
       "      <th>2</th>\n",
       "      <td>-19.059771</td>\n",
       "      <td>-8.531838</td>\n",
       "    </tr>\n",
       "    <tr>\n",
       "      <th>3</th>\n",
       "      <td>-16.383898</td>\n",
       "      <td>-2.352667</td>\n",
       "    </tr>\n",
       "    <tr>\n",
       "      <th>4</th>\n",
       "      <td>-12.926541</td>\n",
       "      <td>9.074994</td>\n",
       "    </tr>\n",
       "  </tbody>\n",
       "</table>\n",
       "</div>"
      ],
      "text/plain": [
       "           0         1\n",
       "0 -17.897000  7.662423\n",
       "1 -26.343161 -3.055257\n",
       "2 -19.059771 -8.531838\n",
       "3 -16.383898 -2.352667\n",
       "4 -12.926541  9.074994"
      ]
     },
     "execution_count": 6,
     "metadata": {},
     "output_type": "execute_result"
    }
   ],
   "source": [
    "x.head() "
   ]
  },
  {
   "cell_type": "code",
   "execution_count": 7,
   "id": "8a1f742c",
   "metadata": {},
   "outputs": [
    {
     "data": {
      "text/plain": [
       "0    0\n",
       "1    0\n",
       "2    0\n",
       "3    0\n",
       "4    0\n",
       "Name: 2, dtype: int64"
      ]
     },
     "execution_count": 7,
     "metadata": {},
     "output_type": "execute_result"
    }
   ],
   "source": [
    "y.head() "
   ]
  },
  {
   "cell_type": "markdown",
   "id": "c5348242",
   "metadata": {},
   "source": [
    "## Split the data into train and test"
   ]
  },
  {
   "cell_type": "code",
   "execution_count": 8,
   "id": "66b9ec60",
   "metadata": {},
   "outputs": [],
   "source": [
    "x_train,x_test,y_train,y_test=train_test_split(x,y,test_size=0.2) "
   ]
  },
  {
   "cell_type": "code",
   "execution_count": 9,
   "id": "8cc7c64c",
   "metadata": {},
   "outputs": [
    {
     "data": {
      "text/plain": [
       "(480, 2)"
      ]
     },
     "execution_count": 9,
     "metadata": {},
     "output_type": "execute_result"
    }
   ],
   "source": [
    "x_train.shape  "
   ]
  },
  {
   "cell_type": "code",
   "execution_count": 10,
   "id": "9090f489",
   "metadata": {},
   "outputs": [
    {
     "data": {
      "text/plain": [
       "(120, 2)"
      ]
     },
     "execution_count": 10,
     "metadata": {},
     "output_type": "execute_result"
    }
   ],
   "source": [
    "x_test.shape "
   ]
  },
  {
   "cell_type": "markdown",
   "id": "9a0c3455",
   "metadata": {},
   "source": [
    "### Standardising input features"
   ]
  },
  {
   "cell_type": "code",
   "execution_count": 11,
   "id": "43abfd75",
   "metadata": {},
   "outputs": [],
   "source": [
    "std=StandardScaler()\n",
    "x_train=std.fit_transform(x_train)\n",
    "x_test=std.transform(x_test)   "
   ]
  },
  {
   "cell_type": "markdown",
   "id": "43287222",
   "metadata": {},
   "source": [
    "### Build the Logical Structure "
   ]
  },
  {
   "cell_type": "code",
   "execution_count": 12,
   "id": "42bc6f22",
   "metadata": {},
   "outputs": [],
   "source": [
    "model=Sequential()\n",
    "model.add(Dense(5,activation=\"tanh\",input_dim=2))\n",
    "model.add(Dense(3,activation=\"tanh\"))\n",
    "model.add(Dense(1,activation=\"sigmoid\"))"
   ]
  },
  {
   "cell_type": "code",
   "execution_count": 13,
   "id": "34f0bde1",
   "metadata": {},
   "outputs": [
    {
     "name": "stdout",
     "output_type": "stream",
     "text": [
      "Model: \"sequential\"\n",
      "_________________________________________________________________\n",
      " Layer (type)                Output Shape              Param #   \n",
      "=================================================================\n",
      " dense (Dense)               (None, 5)                 15        \n",
      "                                                                 \n",
      " dense_1 (Dense)             (None, 3)                 18        \n",
      "                                                                 \n",
      " dense_2 (Dense)             (None, 1)                 4         \n",
      "                                                                 \n",
      "=================================================================\n",
      "Total params: 37 (148.00 Byte)\n",
      "Trainable params: 37 (148.00 Byte)\n",
      "Non-trainable params: 0 (0.00 Byte)\n",
      "_________________________________________________________________\n"
     ]
    }
   ],
   "source": [
    "model.summary() "
   ]
  },
  {
   "cell_type": "markdown",
   "id": "9c566f44",
   "metadata": {},
   "source": [
    "## compiling the model "
   ]
  },
  {
   "cell_type": "code",
   "execution_count": 14,
   "id": "fdce5ab9",
   "metadata": {},
   "outputs": [
    {
     "name": "stdout",
     "output_type": "stream",
     "text": [
      "Epoch 1/20\n",
      "44/44 [==============================] - 2s 13ms/step - loss: 0.8078 - accuracy: 0.2083 - val_loss: 0.6844 - val_accuracy: 0.5417\n",
      "Epoch 2/20\n",
      "44/44 [==============================] - 0s 5ms/step - loss: 0.5957 - accuracy: 0.7384 - val_loss: 0.5038 - val_accuracy: 0.9167\n",
      "Epoch 3/20\n",
      "44/44 [==============================] - 0s 5ms/step - loss: 0.4429 - accuracy: 0.9630 - val_loss: 0.3808 - val_accuracy: 1.0000\n",
      "Epoch 4/20\n",
      "44/44 [==============================] - 0s 5ms/step - loss: 0.3398 - accuracy: 1.0000 - val_loss: 0.2985 - val_accuracy: 1.0000\n",
      "Epoch 5/20\n",
      "44/44 [==============================] - 0s 5ms/step - loss: 0.2699 - accuracy: 1.0000 - val_loss: 0.2414 - val_accuracy: 1.0000\n",
      "Epoch 6/20\n",
      "44/44 [==============================] - 0s 5ms/step - loss: 0.2207 - accuracy: 1.0000 - val_loss: 0.2007 - val_accuracy: 1.0000\n",
      "Epoch 7/20\n",
      "44/44 [==============================] - 0s 5ms/step - loss: 0.1851 - accuracy: 1.0000 - val_loss: 0.1707 - val_accuracy: 1.0000\n",
      "Epoch 8/20\n",
      "44/44 [==============================] - 0s 5ms/step - loss: 0.1586 - accuracy: 1.0000 - val_loss: 0.1477 - val_accuracy: 1.0000\n",
      "Epoch 9/20\n",
      "44/44 [==============================] - 0s 5ms/step - loss: 0.1380 - accuracy: 1.0000 - val_loss: 0.1296 - val_accuracy: 1.0000\n",
      "Epoch 10/20\n",
      "44/44 [==============================] - 0s 5ms/step - loss: 0.1218 - accuracy: 1.0000 - val_loss: 0.1151 - val_accuracy: 1.0000\n",
      "Epoch 11/20\n",
      "44/44 [==============================] - 0s 5ms/step - loss: 0.1086 - accuracy: 1.0000 - val_loss: 0.1032 - val_accuracy: 1.0000\n",
      "Epoch 12/20\n",
      "44/44 [==============================] - 0s 5ms/step - loss: 0.0977 - accuracy: 1.0000 - val_loss: 0.0934 - val_accuracy: 1.0000\n",
      "Epoch 13/20\n",
      "44/44 [==============================] - 0s 5ms/step - loss: 0.0888 - accuracy: 1.0000 - val_loss: 0.0852 - val_accuracy: 1.0000\n",
      "Epoch 14/20\n",
      "44/44 [==============================] - 0s 5ms/step - loss: 0.0812 - accuracy: 1.0000 - val_loss: 0.0782 - val_accuracy: 1.0000\n",
      "Epoch 15/20\n",
      "44/44 [==============================] - 0s 5ms/step - loss: 0.0747 - accuracy: 1.0000 - val_loss: 0.0722 - val_accuracy: 1.0000\n",
      "Epoch 16/20\n",
      "44/44 [==============================] - 0s 5ms/step - loss: 0.0692 - accuracy: 1.0000 - val_loss: 0.0670 - val_accuracy: 1.0000\n",
      "Epoch 17/20\n",
      "44/44 [==============================] - 0s 5ms/step - loss: 0.0643 - accuracy: 1.0000 - val_loss: 0.0624 - val_accuracy: 1.0000\n",
      "Epoch 18/20\n",
      "44/44 [==============================] - 0s 5ms/step - loss: 0.0600 - accuracy: 1.0000 - val_loss: 0.0584 - val_accuracy: 1.0000\n",
      "Epoch 19/20\n",
      "44/44 [==============================] - 0s 5ms/step - loss: 0.0563 - accuracy: 1.0000 - val_loss: 0.0549 - val_accuracy: 1.0000\n",
      "Epoch 20/20\n",
      "44/44 [==============================] - 0s 5ms/step - loss: 0.0529 - accuracy: 1.0000 - val_loss: 0.0517 - val_accuracy: 1.0000\n"
     ]
    }
   ],
   "source": [
    "model.compile(loss=\"binary_crossentropy\",optimizer=SGD(0.01),metrics=[\"accuracy\"])\n",
    "history=model.fit(x_train,y_train,batch_size=10,epochs=20,validation_split=0.1) "
   ]
  },
  {
   "cell_type": "code",
   "execution_count": 15,
   "id": "802e407d",
   "metadata": {},
   "outputs": [
    {
     "data": {
      "text/plain": [
       "<matplotlib.legend.Legend at 0x164426f06a0>"
      ]
     },
     "execution_count": 15,
     "metadata": {},
     "output_type": "execute_result"
    },
    {
     "data": {
      "image/png": "[encoded data removed]",
      "text/plain": [
       "<Figure size 640x480 with 1 Axes>"
      ]
     },
     "metadata": {},
     "output_type": "display_data"
    }
   ],
   "source": [
    "plt.plot(range(1,21),history.history[\"loss\"],label=\"train_loss\")\n",
    "plt.plot(range(1,21),history.history[\"val_loss\"],label=\"test_loss\") \n",
    "plt.legend() "
   ]
  },
  {
   "cell_type": "markdown",
   "id": "5f1d8393",
   "metadata": {},
   "source": [
    "## Predicting the model"
   ]
  },
  {
   "cell_type": "code",
   "execution_count": 16,
   "id": "6e35478f",
   "metadata": {},
   "outputs": [
    {
     "name": "stdout",
     "output_type": "stream",
     "text": [
      "4/4 [==============================] - 0s 4ms/step\n"
     ]
    },
    {
     "data": {
      "text/plain": [
       "array([[0.9578906 ],\n",
       "       [0.04421734],\n",
       "       [0.0738669 ],\n",
       "       [0.94198287],\n",
       "       [0.04395061],\n",
       "       [0.9552263 ],\n",
       "       [0.10130221],\n",
       "       [0.9602761 ],\n",
       "       [0.05872829],\n",
       "       [0.95896405],\n",
       "       [0.03920735],\n",
       "       [0.94655085],\n",
       "       [0.96189284],\n",
       "       [0.04222372],\n",
       "       [0.94579947],\n",
       "       [0.04650014],\n",
       "       [0.9494414 ],\n",
       "       [0.9589562 ],\n",
       "       [0.92588264],\n",
       "       [0.04564335],\n",
       "       [0.94682   ],\n",
       "       [0.06667702],\n",
       "       [0.05284617],\n",
       "       [0.91038257],\n",
       "       [0.93928814],\n",
       "       [0.04432881],\n",
       "       [0.92865986],\n",
       "       [0.9547338 ],\n",
       "       [0.04344739],\n",
       "       [0.9496279 ],\n",
       "       [0.03733588],\n",
       "       [0.9525322 ],\n",
       "       [0.9591415 ],\n",
       "       [0.95527875],\n",
       "       [0.03742219],\n",
       "       [0.08053204],\n",
       "       [0.07185252],\n",
       "       [0.9471848 ],\n",
       "       [0.04265   ],\n",
       "       [0.03768404],\n",
       "       [0.0488698 ],\n",
       "       [0.04495861],\n",
       "       [0.06780911],\n",
       "       [0.03934105],\n",
       "       [0.9451297 ],\n",
       "       [0.95760864],\n",
       "       [0.07527494],\n",
       "       [0.961078  ],\n",
       "       [0.9472348 ],\n",
       "       [0.95131433],\n",
       "       [0.05549008],\n",
       "       [0.9495251 ],\n",
       "       [0.9559216 ],\n",
       "       [0.04373175],\n",
       "       [0.96255124],\n",
       "       [0.95891064],\n",
       "       [0.05912517],\n",
       "       [0.94744515],\n",
       "       [0.9604914 ],\n",
       "       [0.03833191],\n",
       "       [0.93100864],\n",
       "       [0.95323616],\n",
       "       [0.05740253],\n",
       "       [0.9414634 ],\n",
       "       [0.05827181],\n",
       "       [0.9505868 ],\n",
       "       [0.05480063],\n",
       "       [0.08396614],\n",
       "       [0.03838704],\n",
       "       [0.94390076],\n",
       "       [0.93948865],\n",
       "       [0.03809751],\n",
       "       [0.95057833],\n",
       "       [0.96122694],\n",
       "       [0.04733229],\n",
       "       [0.9616256 ],\n",
       "       [0.95575017],\n",
       "       [0.96187824],\n",
       "       [0.96118593],\n",
       "       [0.05201545],\n",
       "       [0.9196206 ],\n",
       "       [0.92518395],\n",
       "       [0.9483765 ],\n",
       "       [0.94882625],\n",
       "       [0.9457697 ],\n",
       "       [0.04919847],\n",
       "       [0.9234034 ],\n",
       "       [0.06040081],\n",
       "       [0.04257638],\n",
       "       [0.05406635],\n",
       "       [0.9178426 ],\n",
       "       [0.03888191],\n",
       "       [0.05566523],\n",
       "       [0.10072248],\n",
       "       [0.04305746],\n",
       "       [0.04028819],\n",
       "       [0.04006256],\n",
       "       [0.05280635],\n",
       "       [0.03722845],\n",
       "       [0.94064885],\n",
       "       [0.04226118],\n",
       "       [0.10137454],\n",
       "       [0.07765786],\n",
       "       [0.8832875 ],\n",
       "       [0.9569397 ],\n",
       "       [0.09506146],\n",
       "       [0.9625402 ],\n",
       "       [0.9610012 ],\n",
       "       [0.05079115],\n",
       "       [0.04596989],\n",
       "       [0.10285699],\n",
       "       [0.0379953 ],\n",
       "       [0.933428  ],\n",
       "       [0.08086561],\n",
       "       [0.04049917],\n",
       "       [0.96039724],\n",
       "       [0.9002834 ],\n",
       "       [0.04465063],\n",
       "       [0.96095407],\n",
       "       [0.9549394 ]], dtype=float32)"
      ]
     },
     "execution_count": 16,
     "metadata": {},
     "output_type": "execute_result"
    }
   ],
   "source": [
    "predicted=model.predict(x_test) \n",
    "predicted   "
   ]
  },
  {
   "cell_type": "code",
   "execution_count": 17,
   "id": "f0ca7a16",
   "metadata": {},
   "outputs": [
    {
     "data": {
      "text/plain": [
       "array([[1],\n",
       "       [0],\n",
       "       [0],\n",
       "       [1],\n",
       "       [0],\n",
       "       [1],\n",
       "       [0],\n",
       "       [1],\n",
       "       [0],\n",
       "       [1],\n",
       "       [0],\n",
       "       [1],\n",
       "       [1],\n",
       "       [0],\n",
       "       [1],\n",
       "       [0],\n",
       "       [1],\n",
       "       [1],\n",
       "       [1],\n",
       "       [0],\n",
       "       [1],\n",
       "       [0],\n",
       "       [0],\n",
       "       [1],\n",
       "       [1],\n",
       "       [0],\n",
       "       [1],\n",
       "       [1],\n",
       "       [0],\n",
       "       [1],\n",
       "       [0],\n",
       "       [1],\n",
       "       [1],\n",
       "       [1],\n",
       "       [0],\n",
       "       [0],\n",
       "       [0],\n",
       "       [1],\n",
       "       [0],\n",
       "       [0],\n",
       "       [0],\n",
       "       [0],\n",
       "       [0],\n",
       "       [0],\n",
       "       [1],\n",
       "       [1],\n",
       "       [0],\n",
       "       [1],\n",
       "       [1],\n",
       "       [1],\n",
       "       [0],\n",
       "       [1],\n",
       "       [1],\n",
       "       [0],\n",
       "       [1],\n",
       "       [1],\n",
       "       [0],\n",
       "       [1],\n",
       "       [1],\n",
       "       [0],\n",
       "       [1],\n",
       "       [1],\n",
       "       [0],\n",
       "       [1],\n",
       "       [0],\n",
       "       [1],\n",
       "       [0],\n",
       "       [0],\n",
       "       [0],\n",
       "       [1],\n",
       "       [1],\n",
       "       [0],\n",
       "       [1],\n",
       "       [1],\n",
       "       [0],\n",
       "       [1],\n",
       "       [1],\n",
       "       [1],\n",
       "       [1],\n",
       "       [0],\n",
       "       [1],\n",
       "       [1],\n",
       "       [1],\n",
       "       [1],\n",
       "       [1],\n",
       "       [0],\n",
       "       [1],\n",
       "       [0],\n",
       "       [0],\n",
       "       [0],\n",
       "       [1],\n",
       "       [0],\n",
       "       [0],\n",
       "       [0],\n",
       "       [0],\n",
       "       [0],\n",
       "       [0],\n",
       "       [0],\n",
       "       [0],\n",
       "       [1],\n",
       "       [0],\n",
       "       [0],\n",
       "       [0],\n",
       "       [1],\n",
       "       [1],\n",
       "       [0],\n",
       "       [1],\n",
       "       [1],\n",
       "       [0],\n",
       "       [0],\n",
       "       [0],\n",
       "       [0],\n",
       "       [1],\n",
       "       [0],\n",
       "       [0],\n",
       "       [1],\n",
       "       [1],\n",
       "       [0],\n",
       "       [1],\n",
       "       [1]])"
      ]
     },
     "execution_count": 17,
     "metadata": {},
     "output_type": "execute_result"
    }
   ],
   "source": [
    "predicted=np.where(predicted>0.5,1,0)\n",
    "predicted "
   ]
  },
  {
   "cell_type": "markdown",
   "id": "523ea463",
   "metadata": {},
   "source": [
    "## Evaluating the model "
   ]
  },
  {
   "cell_type": "code",
   "execution_count": 18,
   "id": "fa76ac83",
   "metadata": {},
   "outputs": [
    {
     "name": "stdout",
     "output_type": "stream",
     "text": [
      "1.0\n"
     ]
    },
    {
     "data": {
      "image/png": "[encoded data removed]",
      "text/plain": [
       "<Figure size 640x480 with 2 Axes>"
      ]
     },
     "metadata": {},
     "output_type": "display_data"
    }
   ],
   "source": [
    "from sklearn.metrics import accuracy_score,confusion_matrix,ConfusionMatrixDisplay\n",
    "print(accuracy_score(y_test,predicted))\n",
    "cm=confusion_matrix(y_test,predicted)\n",
    "va=ConfusionMatrixDisplay(cm)\n",
    "va.plot() \n",
    "plt.show()  "
   ]
  },
  {
   "cell_type": "markdown",
   "id": "de30ed7e",
   "metadata": {},
   "source": [
    "### PLOTING THE DECISION SURFACE "
   ]
  },
  {
   "cell_type": "code",
   "execution_count": 19,
   "id": "e9a2ae8e",
   "metadata": {},
   "outputs": [],
   "source": [
    "from mlxtend.plotting  import plot_decision_regions  "
   ]
  },
  {
   "cell_type": "code",
   "execution_count": 20,
   "id": "e7a1e8f0",
   "metadata": {},
   "outputs": [
    {
     "name": "stdout",
     "output_type": "stream",
     "text": [
      "9600/9600 [==============================] - 27s 3ms/step\n"
     ]
    },
    {
     "data": {
      "text/plain": [
       "<Axes: >"
      ]
     },
     "execution_count": 20,
     "metadata": {},
     "output_type": "execute_result"
    },
    {
     "data": {
      "image/png": "[encoded data removed]",
      "text/plain": [
       "<Figure size 640x480 with 1 Axes>"
      ]
     },
     "metadata": {},
     "output_type": "display_data"
    }
   ],
   "source": [
    "plot_decision_regions(x_train,y_train.values,clf=model)  "
   ]
  },
  {
   "cell_type": "code",
   "execution_count": 21,
   "id": "c5d15b30",
   "metadata": {},
   "outputs": [
    {
     "name": "stdout",
     "output_type": "stream",
     "text": [
      "9600/9600 [==============================] - 27s 3ms/step\n"
     ]
    },
    {
     "data": {
      "text/plain": [
       "<Axes: >"
      ]
     },
     "execution_count": 21,
     "metadata": {},
     "output_type": "execute_result"
    },
    {
     "data": {
      "image/png": "[encoded data removed]",
      "text/plain": [
       "<Figure size 640x480 with 1 Axes>"
      ]
     },
     "metadata": {},
     "output_type": "display_data"
    }
   ],
   "source": [
    "plot_decision_regions(x_test,y_test.values,clf=model)  "
   ]
  },
  {
   "cell_type": "markdown",
   "id": "da915185",
   "metadata": {},
   "source": [
    "## Conclusions:\n",
    "\n",
    "###### This neural network model achieves an accuracy of 100%. The model architecture consists of 2 hidden layers with the following specifications:\n",
    "\n",
    "- In the first hidden layer, there are 18 neurons with the tanh activation function \n",
    "- In the second hidden layer, there are 16 neurons with the tanh activation function \n",
    "\n",
    "###### The output layer uses the sigmoid activation function.\n",
    "\n",
    "##### For model compilation, the following settings were used:\n",
    "\n",
    "###### Loss function: Binary cross-entropy.\n",
    "- Optimizer: Stochastic Gradient Descent (SGD) with a batch size of 10 and a learning rate of 0.01.\n",
    "- The model was trained for 20 epochs.\n",
    " \n",
    "###### Overall, this neural network model architecture and training configuration achieve an accuracy of 100%.  \n",
    "\n"
   ]
  },
  {
   "cell_type": "code",
   "execution_count": null,
   "id": "fd3a0969",
   "metadata": {},
   "outputs": [],
   "source": []
  }
 ],
 "metadata": {
  "kernelspec": {
   "display_name": "Python 3 (ipykernel)",
   "language": "python",
   "name": "python3"
  },
  "language_info": {
   "codemirror_mode": {
    "name": "ipython",
    "version": 3
   },
   "file_extension": ".py",
   "mimetype": "text/x-python",
   "name": "python",
   "nbconvert_exporter": "python",
   "pygments_lexer": "ipython3",
   "version": "3.9.13"
  }
 },
 "nbformat": 4,
 "nbformat_minor": 5
}
