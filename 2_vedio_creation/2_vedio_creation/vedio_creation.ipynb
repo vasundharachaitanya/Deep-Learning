{
 "cells": [
  {
   "cell_type": "code",
   "execution_count": 1,
   "id": "011b6ad4",
   "metadata": {},
   "outputs": [],
   "source": [
    "import cv2 \n",
    "import numpy as np "
   ]
  },
  {
   "cell_type": "code",
   "execution_count": 67,
   "id": "c670ba49",
   "metadata": {},
   "outputs": [],
   "source": [
    "black_image = np.zeros((650,650,3),np.uint8)\n",
    "# rectangle\n",
    "img1 = cv2.rectangle(black_image,(0,0),(650,20),(0,0,255),-1)\n",
    "\n",
    "# draw rectangle\n",
    "img1=cv2.rectangle(black_image,(10,550),(120,590),(255,0,0),-1)\n",
    "img1=cv2.rectangle(black_image,(70,510),(180,550),(255,0,0),-1) \n",
    "img1=cv2.rectangle(black_image,(130,470),(240,510),(255,0,0),-1) \n",
    "img1=cv2.rectangle(black_image,(190,430),(300,470),(255,0,0),-1) \n",
    "img1=cv2.rectangle(black_image,(250,390),(360,430),(255,0,0),-1)\n",
    "img1=cv2.rectangle(black_image,(310,350),(420,390),(255,0,0),-1) \n",
    "img1=cv2.rectangle(black_image,(370,310),(480,350),(255,0,0),-1)\n",
    "img1=cv2.rectangle(black_image,(430,270),(540,310),(255,0,0),-1) \n",
    "img1=cv2.rectangle(black_image,(490,230),(600,270),(255,0,0),-1) \n",
    "# img1=cv2.circle(black_image,(600,109),40,(255,0,0),3) \n",
    "center = (620, 109)\n",
    "axes = (75,100)  # Major and minor axes\n",
    "angle = 0  # Rotation angle \n",
    "\n",
    "color = (0, 0, 255)  # Red\n",
    "cv2.ellipse(img1, center, axes, angle, 0, 360, color, thickness=-1)\n",
    "\n",
    "center = (620, 109)\n",
    "axes = (45,70)  # Major and minor axes\n",
    "angle = 0  # Rotation angle \n",
    "\n",
    "color = (255,255,255)   # white\n",
    "cv2.ellipse(img1, center, axes, angle, 0, 360, color, thickness=-1)\n",
    "\n",
    "center = (620, 109)\n",
    "axes = (25,40)  # Major and minor axes\n",
    "angle = 0  # Rotation angle \n",
    "\n",
    "color = (0,0,255)   # Red\n",
    "cv2.ellipse(img1, center, axes, angle, 0, 360, color, thickness=-1)\n",
    "\n",
    "center = (620, 109)\n",
    "axes = (10,20)  # Major and minor axes\n",
    "angle = 0  # Rotation angle \n",
    "\n",
    "color = (255,255,255)    # white\n",
    "cv2.ellipse(img1, center, axes, angle, 0, 360, color, thickness=-1)\n",
    "\n",
    "cv2.imshow(\"black\",img1) \n",
    "cv2.waitKey()       \n",
    "cv2.destroyAllWindows()   "
   ]
  },
  {
   "cell_type": "code",
   "execution_count": 6,
   "id": "c96488f7",
   "metadata": {},
   "outputs": [
    {
     "data": {
      "text/plain": [
       "True"
      ]
     },
     "execution_count": 6,
     "metadata": {},
     "output_type": "execute_result"
    }
   ],
   "source": [
    "cv2.imwrite(r\"C:\\Users\\sss\\Pictures\\cv_task\\img1.png\",img1)  "
   ]
  },
  {
   "cell_type": "code",
   "execution_count": 68,
   "id": "ee3f0011",
   "metadata": {},
   "outputs": [],
   "source": [
    "img = cv2.imread(r\"FINAL_IMAGES\\i1.png\") \n",
    "#img1=cv2.rectangle(img3,(10,550),(120,590),(0,0,0),-1)\n",
    "# img1 = cv2.putText(img, \"Setting goals is the first step in turning the invisible into the visible.\", (190,470), cv2.FONT_HERSHEY_SIMPLEX,0.75, (128,0,128),2)\n",
    "\n",
    "\n",
    "values = [] \n",
    "def draw(event,x,y,flag,par):              \n",
    "    if event == cv2.EVENT_FLAG_LBUTTON: \n",
    "        cv2.circle(img1,(x,y),1,(128,128,128),-1)  \n",
    "        values.append((x,y))  \n",
    "        if len(values)>=2:  \n",
    "            cv2.line(img1,values[-2],values[-1],(128,128,128),2)\n",
    "            values.clear()\n",
    "    if event == cv2.EVENT_FLAG_RBUTTON:\n",
    "        cv2.circle(img1,(x,y),20,(128,128,128),-1)  \n",
    "cv2.namedWindow('window',cv2.WINDOW_NORMAL) \n",
    "cv2.setMouseCallback('window',draw)  \n",
    "count=1  \n",
    "while True:      \n",
    "    cv2.imshow('window', img1)   \n",
    "    key = cv2.waitKey(1) & 0xFF    \n",
    "\n",
    "    if key == ord('s'):    \n",
    "        filename = r\"C:\\Users\\sss\\Pictures\\FINAL_IMAGES\\img1.png\"\n",
    "        cv2.imwrite(filename, img1)\n",
    "        count += 1 \n",
    "    if key == ord('q'):  \n",
    "        break         \n",
    "cv2.destroyAllWindows()"
   ]
  },
  {
   "cell_type": "code",
   "execution_count": 65,
   "id": "db7a32fa",
   "metadata": {},
   "outputs": [],
   "source": [
    "# img1\n",
    "img = cv2.imread(r\"FINAL_IMAGES/i1.png\")\n",
    "\n",
    "if img is not None:\n",
    "    text1 = \"Setting goals is the first step in\"\n",
    "    text2 = \"turning the invisible into the visible.\"\n",
    "    cv2.putText(img, text1, (125, 580),cv2.FONT_HERSHEY_SIMPLEX, 0.75, (0, 102, 0), 2)\n",
    "    cv2.putText(img, text2, (125, 600),cv2.FONT_HERSHEY_SIMPLEX, 0.75, (0, 102, 0), 2)\n",
    "    cv2.imshow('window', img)\n",
    "\n",
    "    while True:\n",
    "        key = cv2.waitKey(0) & 0xFF\n",
    "\n",
    "        if key == ord('s'):\n",
    "            filename = r\"images\\i1.png\"\n",
    "            cv2.imwrite(filename, img)\n",
    "            print(\"Image saved\")\n",
    "            break\n",
    "\n",
    "        if key == ord('q'):\n",
    "            break\n",
    "\n",
    "    cv2.destroyAllWindows()\n",
    "else:\n",
    "    print(\"Image not loaded. Check the file path or format.\")\n"
   ]
  },
  {
   "cell_type": "code",
   "execution_count": 70,
   "id": "9d3f5e84-40ea-4e5d-b2da-ee978f4cc376",
   "metadata": {},
   "outputs": [
    {
     "name": "stdout",
     "output_type": "stream",
     "text": [
      "Image saved\n"
     ]
    }
   ],
   "source": [
    "# IMG2\n",
    "img = cv2.imread(r\"images/i2.png\")\n",
    "\n",
    "if img is not None:\n",
    "    text1 = \"Setting goals is the first step in\"\n",
    "    text2 = \"turning the invisible into the visible.\"\n",
    "    cv2.putText(img, text1, (125, 580),cv2.FONT_HERSHEY_SIMPLEX, 0.75, (0, 102, 0), 2)\n",
    "    cv2.putText(img, text2, (125, 600),cv2.FONT_HERSHEY_SIMPLEX, 0.75, (0, 102, 0), 2)\n",
    "    cv2.imshow('window', img)\n",
    "\n",
    "    while True:\n",
    "        key = cv2.waitKey(0) & 0xFF\n",
    "\n",
    "        if key == ord('s'):\n",
    "            filename = r\"images\\i2.png\"\n",
    "            cv2.imwrite(filename, img)\n",
    "            print(\"Image saved\")\n",
    "            break\n",
    "\n",
    "        if key == ord('q'):\n",
    "            break\n",
    "\n",
    "    cv2.destroyAllWindows()\n",
    "else:\n",
    "    print(\"Image not loaded. Check the file path or format.\")\n"
   ]
  },
  {
   "cell_type": "code",
   "execution_count": 71,
   "id": "ad1d413c-dfa7-4d11-85ed-0d250b9fb3d3",
   "metadata": {},
   "outputs": [
    {
     "name": "stdout",
     "output_type": "stream",
     "text": [
      "Image saved\n"
     ]
    }
   ],
   "source": [
    "# IMG3\n",
    "img = cv2.imread(r\"images/i3.png\")\n",
    "\n",
    "if img is not None:\n",
    "    text1 = \"Setting goals is the first step in\"\n",
    "    text2 = \"turning the invisible into the visible.\"\n",
    "    cv2.putText(img, text1, (125, 580),cv2.FONT_HERSHEY_SIMPLEX, 0.75, (0, 102, 0), 2)\n",
    "    cv2.putText(img, text2, (125, 600),cv2.FONT_HERSHEY_SIMPLEX, 0.75, (0, 102, 0), 2)\n",
    "    cv2.imshow('window', img)\n",
    "\n",
    "    while True:\n",
    "        key = cv2.waitKey(0) & 0xFF\n",
    "\n",
    "        if key == ord('s'):\n",
    "            filename = r\"images\\i3.png\"\n",
    "            cv2.imwrite(filename, img)\n",
    "            print(\"Image saved\")\n",
    "            break\n",
    "\n",
    "        if key == ord('q'):\n",
    "            break\n",
    "\n",
    "    cv2.destroyAllWindows()\n",
    "else:\n",
    "    print(\"Image not loaded. Check the file path or format.\")\n"
   ]
  },
  {
   "cell_type": "code",
   "execution_count": 40,
   "id": "09f2a41f-e96a-4afe-aa12-d818d4da2e67",
   "metadata": {},
   "outputs": [
    {
     "name": "stdout",
     "output_type": "stream",
     "text": [
      "Image saved\n"
     ]
    }
   ],
   "source": [
    "# IMG16\n",
    "img = cv2.imread(r\"FINAL_IMAGES/i16.png\")\n",
    "\n",
    "if img is not None:\n",
    "    text1 = \"Confidence comes from \"\n",
    "    text2 = \"Being brave and taking action.\"\n",
    "    cv2.putText(img, text1, (250, 500),cv2.FONT_HERSHEY_SIMPLEX, 0.75, (0, 102, 0), 2)\n",
    "    cv2.putText(img, text2, (250, 520),cv2.FONT_HERSHEY_SIMPLEX, 0.75, (0, 102, 0), 2)\n",
    "    cv2.imshow('window', img)\n",
    "\n",
    "    while True:\n",
    "        key = cv2.waitKey(0) & 0xFF\n",
    "\n",
    "        if key == ord('s'):\n",
    "            filename = r\"images\\i16.png\"\n",
    "            cv2.imwrite(filename, img)\n",
    "            print(\"Image saved\")\n",
    "            break\n",
    "\n",
    "        if key == ord('q'):\n",
    "            break\n",
    "\n",
    "    cv2.destroyAllWindows()\n",
    "else:\n",
    "    print(\"Image not loaded. Check the file path or format.\")\n"
   ]
  },
  {
   "cell_type": "code",
   "execution_count": 72,
   "id": "5cbf17cb-b619-4c24-ad6f-540af8032ed4",
   "metadata": {},
   "outputs": [
    {
     "name": "stdout",
     "output_type": "stream",
     "text": [
      "Image saved\n"
     ]
    }
   ],
   "source": [
    "# IMG 17\n",
    "img = cv2.imread(r\"images/i17.png\")\n",
    "\n",
    "if img is not None:\n",
    "    text1 = \"Confidence comes from \"\n",
    "    text2 = \"Being brave and taking action.\"\n",
    "    cv2.putText(img, text1, (250, 500),cv2.FONT_HERSHEY_SIMPLEX, 0.75, (0, 102, 0), 2)\n",
    "    cv2.putText(img, text2, (250, 520),cv2.FONT_HERSHEY_SIMPLEX, 0.75, (0, 102, 0), 2)\n",
    "    cv2.imshow('window', img)\n",
    "\n",
    "    while True:\n",
    "        key = cv2.waitKey(0) & 0xFF\n",
    "\n",
    "        if key == ord('s'):\n",
    "            filename = r\"images\\i17.png\"\n",
    "            cv2.imwrite(filename, img)\n",
    "            print(\"Image saved\")\n",
    "            break\n",
    "\n",
    "        if key == ord('q'):\n",
    "            break\n",
    "\n",
    "    cv2.destroyAllWindows()\n",
    "else:\n",
    "    print(\"Image not loaded. Check the file path or format.\")\n"
   ]
  },
  {
   "cell_type": "code",
   "execution_count": 73,
   "id": "2a9f7ec3-96f1-4682-abf2-3c77b5a140c8",
   "metadata": {},
   "outputs": [
    {
     "name": "stdout",
     "output_type": "stream",
     "text": [
      "Image saved\n"
     ]
    }
   ],
   "source": [
    "# IMG 18\n",
    "img = cv2.imread(r\"images/i18.png\")\n",
    "\n",
    "if img is not None:\n",
    "    text1 = \"Confidence comes from \"\n",
    "    text2 = \"Being brave and taking action.\"\n",
    "    cv2.putText(img, text1, (250, 500),cv2.FONT_HERSHEY_SIMPLEX, 0.75, (0, 102, 0), 2)\n",
    "    cv2.putText(img, text2, (250, 520),cv2.FONT_HERSHEY_SIMPLEX, 0.75, (0, 102, 0), 2)\n",
    "    cv2.imshow('window', img)\n",
    "\n",
    "    while True:\n",
    "        key = cv2.waitKey(0) & 0xFF\n",
    "\n",
    "        if key == ord('s'):\n",
    "            filename = r\"images\\i18.png\"\n",
    "            cv2.imwrite(filename, img)\n",
    "            print(\"Image saved\")\n",
    "            break\n",
    "\n",
    "        if key == ord('q'):\n",
    "            break\n",
    "\n",
    "    cv2.destroyAllWindows()\n",
    "else:\n",
    "    print(\"Image not loaded. Check the file path or format.\")\n"
   ]
  },
  {
   "cell_type": "code",
   "execution_count": 74,
   "id": "a94c8a32-9ba0-430c-aaca-381bebe07f59",
   "metadata": {},
   "outputs": [
    {
     "name": "stdout",
     "output_type": "stream",
     "text": [
      "Image saved\n"
     ]
    }
   ],
   "source": [
    "# IMG 19\n",
    "img = cv2.imread(r\"images/i19.png\")\n",
    "\n",
    "if img is not None:\n",
    "    text1 = \"Confidence comes from \"\n",
    "    text2 = \"Being brave and taking action.\"\n",
    "    cv2.putText(img, text1, (250, 500),cv2.FONT_HERSHEY_SIMPLEX, 0.75, (0, 102, 0), 2)\n",
    "    cv2.putText(img, text2, (250, 520),cv2.FONT_HERSHEY_SIMPLEX, 0.75, (0, 102, 0), 2)\n",
    "    cv2.imshow('window', img)\n",
    "\n",
    "    while True:\n",
    "        key = cv2.waitKey(0) & 0xFF\n",
    "\n",
    "        if key == ord('s'):\n",
    "            filename = r\"images\\i19.png\"\n",
    "            cv2.imwrite(filename, img)\n",
    "            print(\"Image saved\")\n",
    "            break\n",
    "\n",
    "        if key == ord('q'):\n",
    "            break\n",
    "\n",
    "    cv2.destroyAllWindows()\n",
    "else:\n",
    "    print(\"Image not loaded. Check the file path or format.\")\n"
   ]
  },
  {
   "cell_type": "code",
   "execution_count": 75,
   "id": "66d1a13d-9169-4fff-bad6-b888157005c4",
   "metadata": {},
   "outputs": [
    {
     "name": "stdout",
     "output_type": "stream",
     "text": [
      "Image saved\n"
     ]
    }
   ],
   "source": [
    "# IMG 20\n",
    "img = cv2.imread(r\"images/i20.png\")\n",
    "\n",
    "if img is not None:\n",
    "    text1 = \"Confidence comes from \"\n",
    "    text2 = \"Being brave and taking action.\"\n",
    "    cv2.putText(img, text1, (250, 500),cv2.FONT_HERSHEY_SIMPLEX, 0.75, (0, 102, 0), 2)\n",
    "    cv2.putText(img, text2, (250, 520),cv2.FONT_HERSHEY_SIMPLEX, 0.75, (0, 102, 0), 2)\n",
    "    cv2.imshow('window', img)\n",
    "\n",
    "    while True:\n",
    "        key = cv2.waitKey(0) & 0xFF\n",
    "\n",
    "        if key == ord('s'):\n",
    "            filename = r\"images\\i20.png\"\n",
    "            cv2.imwrite(filename, img)\n",
    "            print(\"Image saved\")\n",
    "            break\n",
    "\n",
    "        if key == ord('q'):\n",
    "            break\n",
    "\n",
    "    cv2.destroyAllWindows()\n",
    "else:\n",
    "    print(\"Image not loaded. Check the file path or format.\")\n"
   ]
  },
  {
   "cell_type": "code",
   "execution_count": 50,
   "id": "e79ce82f-5906-4170-8c18-309778abc3ac",
   "metadata": {},
   "outputs": [
    {
     "name": "stdout",
     "output_type": "stream",
     "text": [
      "Image saved\n"
     ]
    }
   ],
   "source": [
    "# IMG 27\n",
    "img = cv2.imread(r\"FINAL_IMAGES/i27.png\")\n",
    "\n",
    "if img is not None:\n",
    "    text1 = \"To lose patience is to\"\n",
    "    text2 = \"Lose the battle.\"\n",
    "    cv2.putText(img, text1, (370, 420),cv2.FONT_HERSHEY_SIMPLEX, 0.75, (0, 102, 0), 2)\n",
    "    cv2.putText(img, text2, (370, 440),cv2.FONT_HERSHEY_SIMPLEX, 0.75, (0, 102, 0), 2)\n",
    "    cv2.imshow('window', img)\n",
    "\n",
    "    while True:\n",
    "        key = cv2.waitKey(0) & 0xFF\n",
    "\n",
    "        if key == ord('s'):\n",
    "            filename = r\"images\\i27.png\"\n",
    "            cv2.imwrite(filename, img)\n",
    "            print(\"Image saved\")\n",
    "            break\n",
    "\n",
    "        if key == ord('q'):\n",
    "            break\n",
    "\n",
    "    cv2.destroyAllWindows()\n",
    "else:\n",
    "    print(\"Image not loaded. Check the file path or format.\")\n"
   ]
  },
  {
   "cell_type": "code",
   "execution_count": 76,
   "id": "a74903ba-fd13-4a17-b508-3fb5a2d26fee",
   "metadata": {},
   "outputs": [
    {
     "name": "stdout",
     "output_type": "stream",
     "text": [
      "Image saved\n"
     ]
    }
   ],
   "source": [
    "# IMG 28\n",
    "img = cv2.imread(r\"images/i28.png\")\n",
    "\n",
    "if img is not None:\n",
    "    text1 = \"To lose patience is to\"\n",
    "    text2 = \"Lose the battle.\"\n",
    "    cv2.putText(img, text1, (370, 420),cv2.FONT_HERSHEY_SIMPLEX, 0.75, (0, 102, 0), 2)\n",
    "    cv2.putText(img, text2, (370, 440),cv2.FONT_HERSHEY_SIMPLEX, 0.75, (0, 102, 0), 2)\n",
    "    cv2.imshow('window', img)\n",
    "\n",
    "    while True:\n",
    "        key = cv2.waitKey(0) & 0xFF\n",
    "\n",
    "        if key == ord('s'):\n",
    "            filename = r\"images\\i28.png\"\n",
    "            cv2.imwrite(filename, img)\n",
    "            print(\"Image saved\")\n",
    "            break\n",
    "\n",
    "        if key == ord('q'):\n",
    "            break\n",
    "\n",
    "    cv2.destroyAllWindows()\n",
    "else:\n",
    "    print(\"Image not loaded. Check the file path or format.\")\n"
   ]
  },
  {
   "cell_type": "code",
   "execution_count": 77,
   "id": "e29ae22a-12c3-48da-b67a-f1816ebde9ba",
   "metadata": {},
   "outputs": [
    {
     "name": "stdout",
     "output_type": "stream",
     "text": [
      "Image saved\n"
     ]
    }
   ],
   "source": [
    "# IMG 29\n",
    "img = cv2.imread(r\"images/i29.png\")\n",
    "\n",
    "if img is not None:\n",
    "    text1 = \"To lose patience is to\"\n",
    "    text2 = \"Lose the battle.\"\n",
    "    cv2.putText(img, text1, (370, 420),cv2.FONT_HERSHEY_SIMPLEX, 0.75, (0, 102, 0), 2)\n",
    "    cv2.putText(img, text2, (370, 440),cv2.FONT_HERSHEY_SIMPLEX, 0.75, (0, 102, 0), 2)\n",
    "    cv2.imshow('window', img)\n",
    "\n",
    "    while True:\n",
    "        key = cv2.waitKey(0) & 0xFF\n",
    "\n",
    "        if key == ord('s'):\n",
    "            filename = r\"images\\i29.png\"\n",
    "            cv2.imwrite(filename, img)\n",
    "            print(\"Image saved\")\n",
    "            break\n",
    "\n",
    "        if key == ord('q'):\n",
    "            break\n",
    "\n",
    "    cv2.destroyAllWindows()\n",
    "else:\n",
    "    print(\"Image not loaded. Check the file path or format.\")\n"
   ]
  },
  {
   "cell_type": "code",
   "execution_count": 78,
   "id": "a65ead24-1b31-4a2d-9368-d70626986e52",
   "metadata": {},
   "outputs": [
    {
     "name": "stdout",
     "output_type": "stream",
     "text": [
      "Image saved\n"
     ]
    }
   ],
   "source": [
    "# IMG 30\n",
    "# IMG 28\n",
    "img = cv2.imread(r\"images/i30.png\")\n",
    "\n",
    "if img is not None:\n",
    "    text1 = \"To lose patience is to\"\n",
    "    text2 = \"Lose the battle.\"\n",
    "    cv2.putText(img, text1, (370, 420),cv2.FONT_HERSHEY_SIMPLEX, 0.75, (0, 102, 0), 2)\n",
    "    cv2.putText(img, text2, (370, 440),cv2.FONT_HERSHEY_SIMPLEX, 0.75, (0, 102, 0), 2)\n",
    "    cv2.imshow('window', img)\n",
    "\n",
    "    while True:\n",
    "        key = cv2.waitKey(0) & 0xFF\n",
    "\n",
    "        if key == ord('s'):\n",
    "            filename = r\"images\\i30.png\"\n",
    "            cv2.imwrite(filename, img)\n",
    "            print(\"Image saved\")\n",
    "            break\n",
    "\n",
    "        if key == ord('q'):\n",
    "            break\n",
    "\n",
    "    cv2.destroyAllWindows()\n",
    "else:\n",
    "    print(\"Image not loaded. Check the file path or format.\")\n"
   ]
  },
  {
   "cell_type": "code",
   "execution_count": 79,
   "id": "8a286ff9-4e8d-40fb-86ed-a290a9f0d312",
   "metadata": {},
   "outputs": [
    {
     "name": "stdout",
     "output_type": "stream",
     "text": [
      "Image saved\n"
     ]
    }
   ],
   "source": [
    "# IMG 31\n",
    "img = cv2.imread(r\"images/i31.png\")\n",
    "\n",
    "if img is not None:\n",
    "    text1 = \"To lose patience is to\"\n",
    "    text2 = \"Lose the battle.\"\n",
    "    cv2.putText(img, text1, (370, 420),cv2.FONT_HERSHEY_SIMPLEX, 0.75, (0, 102, 0), 2)\n",
    "    cv2.putText(img, text2, (370, 440),cv2.FONT_HERSHEY_SIMPLEX, 0.75, (0, 102, 0), 2)\n",
    "    cv2.imshow('window', img)\n",
    "\n",
    "    while True:\n",
    "        key = cv2.waitKey(0) & 0xFF\n",
    "\n",
    "        if key == ord('s'):\n",
    "            filename = r\"images\\i31.png\"\n",
    "            cv2.imwrite(filename, img)\n",
    "            print(\"Image saved\")\n",
    "            break\n",
    "\n",
    "        if key == ord('q'):\n",
    "            break\n",
    "\n",
    "    cv2.destroyAllWindows()\n",
    "else:\n",
    "    print(\"Image not loaded. Check the file path or format.\")\n"
   ]
  },
  {
   "cell_type": "code",
   "execution_count": 80,
   "id": "782645bc-73cd-46a9-94b7-66afd300175e",
   "metadata": {},
   "outputs": [
    {
     "name": "stdout",
     "output_type": "stream",
     "text": [
      "Image saved\n"
     ]
    }
   ],
   "source": [
    "# IMG 32\n",
    "img = cv2.imread(r\"images/i32.png\")\n",
    "\n",
    "if img is not None:\n",
    "    text1 = \"To lose patience is to\"\n",
    "    text2 = \"Lose the battle.\"\n",
    "    cv2.putText(img, text1, (370, 420),cv2.FONT_HERSHEY_SIMPLEX, 0.75, (0, 102, 0), 2)\n",
    "    cv2.putText(img, text2, (370, 440),cv2.FONT_HERSHEY_SIMPLEX, 0.75, (0, 102, 0), 2)\n",
    "    cv2.imshow('window', img)\n",
    "\n",
    "    while True:\n",
    "        key = cv2.waitKey(0) & 0xFF\n",
    "\n",
    "        if key == ord('s'):\n",
    "            filename = r\"images\\i32.png\"\n",
    "            cv2.imwrite(filename, img)\n",
    "            print(\"Image saved\")\n",
    "            break\n",
    "\n",
    "        if key == ord('q'):\n",
    "            break\n",
    "\n",
    "    cv2.destroyAllWindows()\n",
    "else:\n",
    "    print(\"Image not loaded. Check the file path or format.\")\n"
   ]
  },
  {
   "cell_type": "code",
   "execution_count": 60,
   "id": "5034f36a-5746-4b22-88e3-b1fe2c28d7da",
   "metadata": {},
   "outputs": [
    {
     "name": "stdout",
     "output_type": "stream",
     "text": [
      "Image saved\n"
     ]
    }
   ],
   "source": [
    "# IMG40\n",
    "img = cv2.imread(r\"FINAL_IMAGES/i40.png\")\n",
    "\n",
    "if img is not None:\n",
    "    text1 = \"Hard work beats\"\n",
    "    text2 = \"talent, When talent\"\n",
    "    text3 = \"doesn't work hard.\"\n",
    "    cv2.putText(img, text1, (485,340),cv2.FONT_HERSHEY_SIMPLEX, 0.70, (0, 102, 0), 2)\n",
    "    cv2.putText(img, text2, (485,360),cv2.FONT_HERSHEY_SIMPLEX, 0.70, (0, 102, 0), 2)\n",
    "    cv2.putText(img, text3, (485,380),cv2.FONT_HERSHEY_SIMPLEX, 0.70, (0, 102, 0), 2)\n",
    "    cv2.imshow('window', img)\n",
    "\n",
    "    while True:\n",
    "        key = cv2.waitKey(0) & 0xFF\n",
    "\n",
    "        if key == ord('s'):\n",
    "            filename = r\"images\\i40.png\"\n",
    "            cv2.imwrite(filename, img)\n",
    "            print(\"Image saved\")\n",
    "            break\n",
    "\n",
    "        if key == ord('q'):\n",
    "            break\n",
    "\n",
    "    cv2.destroyAllWindows()\n",
    "else:\n",
    "    print(\"Image not loaded. Check the file path or format.\")\n"
   ]
  },
  {
   "cell_type": "code",
   "execution_count": 104,
   "id": "6a543a9f-aa2d-46e2-9414-0a09eb2d06f5",
   "metadata": {},
   "outputs": [
    {
     "name": "stdout",
     "output_type": "stream",
     "text": [
      "Image saved\n"
     ]
    }
   ],
   "source": [
    "# IMG 43\n",
    "img = cv2.imread(r\"FINAL_IMAGES/i43.png\")\n",
    "\n",
    "if img is not None:\n",
    "    text1 = \"Failure is not the opposite of success\"\n",
    "    cv2.putText(img, text1, (70,630),cv2.FONT_HERSHEY_SIMPLEX, 1, (0, 102, 0), 2)\n",
    "    cv2.imshow('window', img)\n",
    "\n",
    "    while True:\n",
    "        key = cv2.waitKey(0) & 0xFF\n",
    "\n",
    "        if key == ord('s'):\n",
    "            filename = r\"images\\i43.png\"\n",
    "            cv2.imwrite(filename, img)\n",
    "            print(\"Image saved\")\n",
    "            break\n",
    "\n",
    "        if key == ord('q'):\n",
    "            break\n",
    "\n",
    "    cv2.destroyAllWindows()\n",
    "else:\n",
    "    print(\"Image not loaded. Check the file path or format.\")\n"
   ]
  },
  {
   "cell_type": "code",
   "execution_count": 103,
   "id": "032b5d1c-9a8b-422b-95ad-3947de8ee6b7",
   "metadata": {},
   "outputs": [
    {
     "name": "stdout",
     "output_type": "stream",
     "text": [
      "Image saved\n"
     ]
    }
   ],
   "source": [
    "# IMG 44\n",
    "img = cv2.imread(r\"FINAL_IMAGES/i44.png\")\n",
    "\n",
    "if img is not None:\n",
    "    text1 = \"Failure is not the opposite of success\"\n",
    "    text2 = \"it's part of SUCCESS.\"\n",
    "    cv2.putText(img, text1, (70,630),cv2.FONT_HERSHEY_SIMPLEX, 1, (0, 102, 0), 2)\n",
    "    cv2.putText(img, text2, (70,660),cv2.FONT_HERSHEY_SIMPLEX, 1, (0, 102, 0), 2)\n",
    "    cv2.imshow('window', img)\n",
    "\n",
    "    while True:\n",
    "        key = cv2.waitKey(0) & 0xFF\n",
    "\n",
    "        if key == ord('s'):\n",
    "            filename = r\"images\\i44.png\"\n",
    "            cv2.imwrite(filename, img)\n",
    "            print(\"Image saved\")\n",
    "            break\n",
    "\n",
    "        if key == ord('q'):\n",
    "            break\n",
    "\n",
    "    cv2.destroyAllWindows()\n",
    "else:\n",
    "    print(\"Image not loaded. Check the file path or format.\")\n"
   ]
  },
  {
   "cell_type": "code",
   "execution_count": 120,
   "id": "3ef53d52-5c46-4bb5-8914-ded20d72139d",
   "metadata": {},
   "outputs": [],
   "source": [
    "# Reading images\n",
    "count=1\n",
    "while True:\n",
    "    imgf=cv2.imread(r\"C:\\Users\\NAVYA\\Downloads\\MY_PYTHON_PRACTICE\\Module_3\\Deep_Learning\\env_dl\\Scripts\\Module_3\\Deep_Learning\\Open_CV\\images\\i{}.png\".format(count))\n",
    "    cv2.imshow('window', imgf)\n",
    "    count=count+1\n",
    "    if count==45:\n",
    "        count=1\n",
    "    if cv2.waitKey(450) & 255 ==ord(\"q\"):  \n",
    "        break\n",
    "cv2.destroyAllWindows()    "
   ]
  },
  {
   "cell_type": "code",
   "execution_count": null,
   "id": "649b3fd0-b035-4428-866a-ddf45209a053",
   "metadata": {},
   "outputs": [],
   "source": []
  }
 ],
 "metadata": {
  "kernelspec": {
   "display_name": "Python 3 (ipykernel)",
   "language": "python",
   "name": "python3"
  },
  "language_info": {
   "codemirror_mode": {
    "name": "ipython",
    "version": 3
   },
   "file_extension": ".py",
   "mimetype": "text/x-python",
   "name": "python",
   "nbconvert_exporter": "python",
   "pygments_lexer": "ipython3",
   "version": "3.9.13"
  }
 },
 "nbformat": 4,
 "nbformat_minor": 5
}
