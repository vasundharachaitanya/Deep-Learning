{
 "cells": [
  {
   "cell_type": "markdown",
   "id": "a975a417",
   "metadata": {},
   "source": [
    "## Importing Libraries"
   ]
  },
  {
   "cell_type": "code",
   "execution_count": 1,
   "id": "bbe366ff",
   "metadata": {},
   "outputs": [],
   "source": [
    "import numpy as np\n",
    "import pandas as pd \n",
    "import matplotlib.pyplot as plt \n",
    "import cv2\n",
    "from sklearn.model_selection import train_test_split\n",
    "from sklearn.preprocessing import StandardScaler\n",
    "from keras import Sequential\n",
    "from keras.layers import Dense,Dropout \n",
    "from keras.regularizers import  L1,L2 "
   ]
  },
  {
   "cell_type": "markdown",
   "id": "a20abe6d",
   "metadata": {},
   "source": [
    "## creating datapoints on the image with mouse click"
   ]
  },
  {
   "cell_type": "code",
   "execution_count": 2,
   "id": "3aa1f6a7",
   "metadata": {},
   "outputs": [],
   "source": [
    "dataset=[]\n",
    " \n",
    "def draw(event,x,y,flag,param):\n",
    "    if event==cv2.EVENT_FLAG_LBUTTON:\n",
    "        dataset.append((x,y,0))\n",
    "        cv2.circle(img,(x,y),4,(0,0,255),-1)\n",
    "    elif event==cv2.EVENT_FLAG_RBUTTON:\n",
    "        dataset.append((x,y,1))\n",
    "        cv2.circle(img,(x,y),4,(0,255,0),-1) "
   ]
  },
  {
   "cell_type": "code",
   "execution_count": 4,
   "id": "617329e9",
   "metadata": {},
   "outputs": [],
   "source": [
    "img=np.full((400,400,3),255,np.uint8)\n",
    "cv2.namedWindow(\"window name\",cv2.WINDOW_NORMAL)\n",
    "cv2.setMouseCallback(\"window name\",draw)\n",
    "\n",
    "while True:\n",
    "    cv2.imshow(\"window name\",img)\n",
    "    if cv2.waitKey(1)&255==ord(\"q\"):\n",
    "        break \n",
    "cv2.destroyAllWindows() "
   ]
  },
  {
   "cell_type": "code",
   "execution_count": 5,
   "id": "1411caa8",
   "metadata": {},
   "outputs": [
    {
     "data": {
      "text/plain": [
       "291"
      ]
     },
     "execution_count": 5,
     "metadata": {},
     "output_type": "execute_result"
    }
   ],
   "source": [
    "len(dataset) "
   ]
  },
  {
   "cell_type": "code",
   "execution_count": 6,
   "id": "b874761e",
   "metadata": {},
   "outputs": [],
   "source": [
    "df=pd.DataFrame(dataset)"
   ]
  },
  {
   "cell_type": "code",
   "execution_count": 7,
   "id": "0960879a",
   "metadata": {},
   "outputs": [
    {
     "data": {
      "text/html": [
       "<div>\n",
       "<style scoped>\n",
       "    .dataframe tbody tr th:only-of-type {\n",
       "        vertical-align: middle;\n",
       "    }\n",
       "\n",
       "    .dataframe tbody tr th {\n",
       "        vertical-align: top;\n",
       "    }\n",
       "\n",
       "    .dataframe thead th {\n",
       "        text-align: right;\n",
       "    }\n",
       "</style>\n",
       "<table border=\"1\" class=\"dataframe\">\n",
       "  <thead>\n",
       "    <tr style=\"text-align: right;\">\n",
       "      <th></th>\n",
       "      <th>0</th>\n",
       "      <th>1</th>\n",
       "      <th>2</th>\n",
       "    </tr>\n",
       "  </thead>\n",
       "  <tbody>\n",
       "    <tr>\n",
       "      <th>0</th>\n",
       "      <td>55</td>\n",
       "      <td>45</td>\n",
       "      <td>0</td>\n",
       "    </tr>\n",
       "    <tr>\n",
       "      <th>1</th>\n",
       "      <td>55</td>\n",
       "      <td>35</td>\n",
       "      <td>0</td>\n",
       "    </tr>\n",
       "    <tr>\n",
       "      <th>2</th>\n",
       "      <td>67</td>\n",
       "      <td>41</td>\n",
       "      <td>0</td>\n",
       "    </tr>\n",
       "    <tr>\n",
       "      <th>3</th>\n",
       "      <td>63</td>\n",
       "      <td>60</td>\n",
       "      <td>0</td>\n",
       "    </tr>\n",
       "    <tr>\n",
       "      <th>4</th>\n",
       "      <td>77</td>\n",
       "      <td>52</td>\n",
       "      <td>0</td>\n",
       "    </tr>\n",
       "    <tr>\n",
       "      <th>...</th>\n",
       "      <td>...</td>\n",
       "      <td>...</td>\n",
       "      <td>...</td>\n",
       "    </tr>\n",
       "    <tr>\n",
       "      <th>286</th>\n",
       "      <td>276</td>\n",
       "      <td>196</td>\n",
       "      <td>1</td>\n",
       "    </tr>\n",
       "    <tr>\n",
       "      <th>287</th>\n",
       "      <td>273</td>\n",
       "      <td>215</td>\n",
       "      <td>1</td>\n",
       "    </tr>\n",
       "    <tr>\n",
       "      <th>288</th>\n",
       "      <td>138</td>\n",
       "      <td>268</td>\n",
       "      <td>1</td>\n",
       "    </tr>\n",
       "    <tr>\n",
       "      <th>289</th>\n",
       "      <td>157</td>\n",
       "      <td>273</td>\n",
       "      <td>1</td>\n",
       "    </tr>\n",
       "    <tr>\n",
       "      <th>290</th>\n",
       "      <td>182</td>\n",
       "      <td>268</td>\n",
       "      <td>1</td>\n",
       "    </tr>\n",
       "  </tbody>\n",
       "</table>\n",
       "<p>291 rows × 3 columns</p>\n",
       "</div>"
      ],
      "text/plain": [
       "       0    1  2\n",
       "0     55   45  0\n",
       "1     55   35  0\n",
       "2     67   41  0\n",
       "3     63   60  0\n",
       "4     77   52  0\n",
       "..   ...  ... ..\n",
       "286  276  196  1\n",
       "287  273  215  1\n",
       "288  138  268  1\n",
       "289  157  273  1\n",
       "290  182  268  1\n",
       "\n",
       "[291 rows x 3 columns]"
      ]
     },
     "execution_count": 7,
     "metadata": {},
     "output_type": "execute_result"
    }
   ],
   "source": [
    "df "
   ]
  },
  {
   "cell_type": "code",
   "execution_count": 8,
   "id": "fe5f2d68",
   "metadata": {},
   "outputs": [
    {
     "data": {
      "text/plain": [
       "2\n",
       "0    188\n",
       "1    103\n",
       "Name: count, dtype: int64"
      ]
     },
     "execution_count": 8,
     "metadata": {},
     "output_type": "execute_result"
    }
   ],
   "source": [
    "df.iloc[:,2].value_counts()"
   ]
  },
  {
   "cell_type": "markdown",
   "id": "c1e9ff2f",
   "metadata": {},
   "source": [
    "## saving the data to a csv file"
   ]
  },
  {
   "cell_type": "code",
   "execution_count": 9,
   "id": "13da06f5",
   "metadata": {},
   "outputs": [],
   "source": [
    "# df.to_csv(\"data_points.csv\",index=False)"
   ]
  },
  {
   "cell_type": "markdown",
   "id": "a669154d",
   "metadata": {},
   "source": [
    "## Import the csv file "
   ]
  },
  {
   "cell_type": "code",
   "execution_count": 10,
   "id": "5f56c9d1",
   "metadata": {},
   "outputs": [
    {
     "data": {
      "text/html": [
       "<div>\n",
       "<style scoped>\n",
       "    .dataframe tbody tr th:only-of-type {\n",
       "        vertical-align: middle;\n",
       "    }\n",
       "\n",
       "    .dataframe tbody tr th {\n",
       "        vertical-align: top;\n",
       "    }\n",
       "\n",
       "    .dataframe thead th {\n",
       "        text-align: right;\n",
       "    }\n",
       "</style>\n",
       "<table border=\"1\" class=\"dataframe\">\n",
       "  <thead>\n",
       "    <tr style=\"text-align: right;\">\n",
       "      <th></th>\n",
       "      <th>0</th>\n",
       "      <th>1</th>\n",
       "      <th>2</th>\n",
       "    </tr>\n",
       "  </thead>\n",
       "  <tbody>\n",
       "    <tr>\n",
       "      <th>0</th>\n",
       "      <td>55</td>\n",
       "      <td>45</td>\n",
       "      <td>0</td>\n",
       "    </tr>\n",
       "    <tr>\n",
       "      <th>1</th>\n",
       "      <td>55</td>\n",
       "      <td>35</td>\n",
       "      <td>0</td>\n",
       "    </tr>\n",
       "    <tr>\n",
       "      <th>2</th>\n",
       "      <td>67</td>\n",
       "      <td>41</td>\n",
       "      <td>0</td>\n",
       "    </tr>\n",
       "    <tr>\n",
       "      <th>3</th>\n",
       "      <td>63</td>\n",
       "      <td>60</td>\n",
       "      <td>0</td>\n",
       "    </tr>\n",
       "    <tr>\n",
       "      <th>4</th>\n",
       "      <td>77</td>\n",
       "      <td>52</td>\n",
       "      <td>0</td>\n",
       "    </tr>\n",
       "  </tbody>\n",
       "</table>\n",
       "</div>"
      ],
      "text/plain": [
       "    0   1  2\n",
       "0  55  45  0\n",
       "1  55  35  0\n",
       "2  67  41  0\n",
       "3  63  60  0\n",
       "4  77  52  0"
      ]
     },
     "execution_count": 10,
     "metadata": {},
     "output_type": "execute_result"
    }
   ],
   "source": [
    "df=pd.read_csv(\"data_points.csv\")\n",
    "df.head() "
   ]
  },
  {
   "cell_type": "markdown",
   "id": "9cc03f9e",
   "metadata": {},
   "source": [
    "## splitting into input and output features"
   ]
  },
  {
   "cell_type": "code",
   "execution_count": 11,
   "id": "658e3c34",
   "metadata": {},
   "outputs": [],
   "source": [
    "x=df.iloc[:,0:2]\n",
    "y=df.iloc[:,2].astype(int)"
   ]
  },
  {
   "cell_type": "markdown",
   "id": "e1c4ea6d",
   "metadata": {},
   "source": [
    "## splitting the data into train and test "
   ]
  },
  {
   "cell_type": "code",
   "execution_count": 12,
   "id": "3bed73d8",
   "metadata": {},
   "outputs": [],
   "source": [
    "x_train,x_test,y_train,y_test=train_test_split(x,y,test_size=0.1) "
   ]
  },
  {
   "cell_type": "markdown",
   "id": "f9608afa",
   "metadata": {},
   "source": [
    "## Standardizing the input features"
   ]
  },
  {
   "cell_type": "code",
   "execution_count": 13,
   "id": "e546ea75",
   "metadata": {},
   "outputs": [],
   "source": [
    "std=StandardScaler()\n",
    "X_train=std.fit_transform(x_train)\n",
    "X_test=std.transform(x_test) "
   ]
  },
  {
   "cell_type": "markdown",
   "id": "2eb3ca1e",
   "metadata": {},
   "source": [
    "## creating the logical structure"
   ]
  },
  {
   "cell_type": "code",
   "execution_count": 14,
   "id": "45764cd0",
   "metadata": {},
   "outputs": [],
   "source": [
    "model=Sequential()\n",
    "model.add(Dense(8,activation=\"relu\",input_dim=2)) \n",
    "model.add(Dense(6,activation=\"relu\"))\n",
    "model.add(Dense(1,activation=\"sigmoid\"))"
   ]
  },
  {
   "cell_type": "code",
   "execution_count": 15,
   "id": "d358b24b",
   "metadata": {},
   "outputs": [
    {
     "name": "stdout",
     "output_type": "stream",
     "text": [
      "Model: \"sequential\"\n",
      "_________________________________________________________________\n",
      " Layer (type)                Output Shape              Param #   \n",
      "=================================================================\n",
      " dense (Dense)               (None, 8)                 24        \n",
      "                                                                 \n",
      " dense_1 (Dense)             (None, 6)                 54        \n",
      "                                                                 \n",
      " dense_2 (Dense)             (None, 1)                 7         \n",
      "                                                                 \n",
      "=================================================================\n",
      "Total params: 85 (340.00 Byte)\n",
      "Trainable params: 85 (340.00 Byte)\n",
      "Non-trainable params: 0 (0.00 Byte)\n",
      "_________________________________________________________________\n"
     ]
    }
   ],
   "source": [
    "model.summary()  "
   ]
  },
  {
   "cell_type": "markdown",
   "id": "0cf8d8fd",
   "metadata": {},
   "source": [
    "## compiling the model"
   ]
  },
  {
   "cell_type": "code",
   "execution_count": 16,
   "id": "b888f834",
   "metadata": {},
   "outputs": [],
   "source": [
    "from keras.optimizers import SGD "
   ]
  },
  {
   "cell_type": "code",
   "execution_count": 17,
   "id": "fbba38ce",
   "metadata": {},
   "outputs": [
    {
     "name": "stdout",
     "output_type": "stream",
     "text": [
      "Epoch 1/50\n",
      "24/24 [==============================] - 2s 17ms/step - loss: 0.8149 - accuracy: 0.2650 - val_loss: 0.7873 - val_accuracy: 0.2222\n",
      "Epoch 2/50\n",
      "24/24 [==============================] - 0s 5ms/step - loss: 0.7688 - accuracy: 0.1709 - val_loss: 0.7500 - val_accuracy: 0.2593\n",
      "Epoch 3/50\n",
      "24/24 [==============================] - 0s 6ms/step - loss: 0.7349 - accuracy: 0.1838 - val_loss: 0.7207 - val_accuracy: 0.2963\n",
      "Epoch 4/50\n",
      "24/24 [==============================] - 0s 5ms/step - loss: 0.7080 - accuracy: 0.4402 - val_loss: 0.6980 - val_accuracy: 0.5185\n",
      "Epoch 5/50\n",
      "24/24 [==============================] - 0s 5ms/step - loss: 0.6884 - accuracy: 0.5684 - val_loss: 0.6808 - val_accuracy: 0.5926\n",
      "Epoch 6/50\n",
      "24/24 [==============================] - 0s 5ms/step - loss: 0.6726 - accuracy: 0.6026 - val_loss: 0.6659 - val_accuracy: 0.5926\n",
      "Epoch 7/50\n",
      "24/24 [==============================] - 0s 5ms/step - loss: 0.6590 - accuracy: 0.6239 - val_loss: 0.6536 - val_accuracy: 0.6296\n",
      "Epoch 8/50\n",
      "24/24 [==============================] - 0s 5ms/step - loss: 0.6482 - accuracy: 0.6282 - val_loss: 0.6444 - val_accuracy: 0.6296\n",
      "Epoch 9/50\n",
      "24/24 [==============================] - 0s 5ms/step - loss: 0.6401 - accuracy: 0.6282 - val_loss: 0.6367 - val_accuracy: 0.6667\n",
      "Epoch 10/50\n",
      "24/24 [==============================] - 0s 5ms/step - loss: 0.6332 - accuracy: 0.6282 - val_loss: 0.6298 - val_accuracy: 0.6667\n",
      "Epoch 11/50\n",
      "24/24 [==============================] - 0s 5ms/step - loss: 0.6266 - accuracy: 0.6282 - val_loss: 0.6244 - val_accuracy: 0.6667\n",
      "Epoch 12/50\n",
      "24/24 [==============================] - 0s 5ms/step - loss: 0.6208 - accuracy: 0.6282 - val_loss: 0.6187 - val_accuracy: 0.6667\n",
      "Epoch 13/50\n",
      "24/24 [==============================] - 0s 5ms/step - loss: 0.6150 - accuracy: 0.6282 - val_loss: 0.6131 - val_accuracy: 0.6667\n",
      "Epoch 14/50\n",
      "24/24 [==============================] - 0s 5ms/step - loss: 0.6088 - accuracy: 0.6282 - val_loss: 0.6075 - val_accuracy: 0.6667\n",
      "Epoch 15/50\n",
      "24/24 [==============================] - 0s 6ms/step - loss: 0.6027 - accuracy: 0.6282 - val_loss: 0.6027 - val_accuracy: 0.6667\n",
      "Epoch 16/50\n",
      "24/24 [==============================] - 0s 5ms/step - loss: 0.5971 - accuracy: 0.6282 - val_loss: 0.5978 - val_accuracy: 0.6667\n",
      "Epoch 17/50\n",
      "24/24 [==============================] - 0s 5ms/step - loss: 0.5914 - accuracy: 0.6282 - val_loss: 0.5931 - val_accuracy: 0.6667\n",
      "Epoch 18/50\n",
      "24/24 [==============================] - 0s 6ms/step - loss: 0.5859 - accuracy: 0.6325 - val_loss: 0.5887 - val_accuracy: 0.7037\n",
      "Epoch 19/50\n",
      "24/24 [==============================] - 0s 6ms/step - loss: 0.5807 - accuracy: 0.6410 - val_loss: 0.5844 - val_accuracy: 0.7037\n",
      "Epoch 20/50\n",
      "24/24 [==============================] - 0s 5ms/step - loss: 0.5757 - accuracy: 0.6538 - val_loss: 0.5803 - val_accuracy: 0.7407\n",
      "Epoch 21/50\n",
      "24/24 [==============================] - 0s 5ms/step - loss: 0.5705 - accuracy: 0.6581 - val_loss: 0.5755 - val_accuracy: 0.7778\n",
      "Epoch 22/50\n",
      "24/24 [==============================] - 0s 6ms/step - loss: 0.5652 - accuracy: 0.6752 - val_loss: 0.5709 - val_accuracy: 0.7778\n",
      "Epoch 23/50\n",
      "24/24 [==============================] - 0s 5ms/step - loss: 0.5588 - accuracy: 0.6966 - val_loss: 0.5660 - val_accuracy: 0.7778\n",
      "Epoch 24/50\n",
      "24/24 [==============================] - 0s 6ms/step - loss: 0.5518 - accuracy: 0.7094 - val_loss: 0.5605 - val_accuracy: 0.8148\n",
      "Epoch 25/50\n",
      "24/24 [==============================] - 0s 5ms/step - loss: 0.5452 - accuracy: 0.7222 - val_loss: 0.5559 - val_accuracy: 0.8148\n",
      "Epoch 26/50\n",
      "24/24 [==============================] - 0s 5ms/step - loss: 0.5386 - accuracy: 0.7265 - val_loss: 0.5511 - val_accuracy: 0.8148\n",
      "Epoch 27/50\n",
      "24/24 [==============================] - 0s 5ms/step - loss: 0.5321 - accuracy: 0.7436 - val_loss: 0.5458 - val_accuracy: 0.8148\n",
      "Epoch 28/50\n",
      "24/24 [==============================] - 0s 5ms/step - loss: 0.5257 - accuracy: 0.7479 - val_loss: 0.5410 - val_accuracy: 0.8519\n",
      "Epoch 29/50\n",
      "24/24 [==============================] - 0s 5ms/step - loss: 0.5193 - accuracy: 0.7650 - val_loss: 0.5363 - val_accuracy: 0.8519\n",
      "Epoch 30/50\n",
      "24/24 [==============================] - 0s 5ms/step - loss: 0.5126 - accuracy: 0.7650 - val_loss: 0.5313 - val_accuracy: 0.8519\n",
      "Epoch 31/50\n",
      "24/24 [==============================] - 0s 6ms/step - loss: 0.5060 - accuracy: 0.7692 - val_loss: 0.5256 - val_accuracy: 0.8519\n",
      "Epoch 32/50\n",
      "24/24 [==============================] - 0s 5ms/step - loss: 0.4990 - accuracy: 0.7692 - val_loss: 0.5205 - val_accuracy: 0.8519\n",
      "Epoch 33/50\n",
      "24/24 [==============================] - 0s 6ms/step - loss: 0.4920 - accuracy: 0.7821 - val_loss: 0.5152 - val_accuracy: 0.8148\n",
      "Epoch 34/50\n",
      "24/24 [==============================] - 0s 5ms/step - loss: 0.4848 - accuracy: 0.7778 - val_loss: 0.5096 - val_accuracy: 0.8148\n",
      "Epoch 35/50\n",
      "24/24 [==============================] - 0s 6ms/step - loss: 0.4775 - accuracy: 0.7949 - val_loss: 0.5035 - val_accuracy: 0.8148\n",
      "Epoch 36/50\n",
      "24/24 [==============================] - 0s 5ms/step - loss: 0.4702 - accuracy: 0.7991 - val_loss: 0.4973 - val_accuracy: 0.8519\n",
      "Epoch 37/50\n",
      "24/24 [==============================] - 0s 5ms/step - loss: 0.4626 - accuracy: 0.8077 - val_loss: 0.4907 - val_accuracy: 0.8519\n",
      "Epoch 38/50\n",
      "24/24 [==============================] - 0s 5ms/step - loss: 0.4551 - accuracy: 0.8077 - val_loss: 0.4840 - val_accuracy: 0.8519\n",
      "Epoch 39/50\n",
      "24/24 [==============================] - 0s 5ms/step - loss: 0.4471 - accuracy: 0.8248 - val_loss: 0.4774 - val_accuracy: 0.8519\n",
      "Epoch 40/50\n",
      "24/24 [==============================] - 0s 6ms/step - loss: 0.4390 - accuracy: 0.8333 - val_loss: 0.4706 - val_accuracy: 0.8519\n",
      "Epoch 41/50\n",
      "24/24 [==============================] - 0s 5ms/step - loss: 0.4310 - accuracy: 0.8419 - val_loss: 0.4624 - val_accuracy: 0.8519\n",
      "Epoch 42/50\n",
      "24/24 [==============================] - 0s 5ms/step - loss: 0.4224 - accuracy: 0.8590 - val_loss: 0.4546 - val_accuracy: 0.8519\n",
      "Epoch 43/50\n",
      "24/24 [==============================] - 0s 5ms/step - loss: 0.4138 - accuracy: 0.8718 - val_loss: 0.4466 - val_accuracy: 0.8519\n",
      "Epoch 44/50\n",
      "24/24 [==============================] - 0s 5ms/step - loss: 0.4049 - accuracy: 0.8803 - val_loss: 0.4383 - val_accuracy: 0.8889\n",
      "Epoch 45/50\n",
      "24/24 [==============================] - 0s 5ms/step - loss: 0.3959 - accuracy: 0.8846 - val_loss: 0.4300 - val_accuracy: 0.8889\n",
      "Epoch 46/50\n",
      "24/24 [==============================] - 0s 5ms/step - loss: 0.3869 - accuracy: 0.8974 - val_loss: 0.4214 - val_accuracy: 0.9259\n",
      "Epoch 47/50\n",
      "24/24 [==============================] - 0s 5ms/step - loss: 0.3775 - accuracy: 0.9188 - val_loss: 0.4120 - val_accuracy: 0.9259\n",
      "Epoch 48/50\n",
      "24/24 [==============================] - 0s 5ms/step - loss: 0.3680 - accuracy: 0.9359 - val_loss: 0.4030 - val_accuracy: 0.9259\n",
      "Epoch 49/50\n",
      "24/24 [==============================] - 0s 5ms/step - loss: 0.3582 - accuracy: 0.9487 - val_loss: 0.3943 - val_accuracy: 0.9630\n",
      "Epoch 50/50\n",
      "24/24 [==============================] - 0s 6ms/step - loss: 0.3487 - accuracy: 0.9573 - val_loss: 0.3841 - val_accuracy: 0.9630\n"
     ]
    }
   ],
   "source": [
    "model.compile(loss=\"binary_crossentropy\",optimizer=SGD(0.01),metrics=[\"accuracy\"])\n",
    "history=model.fit(X_train,y_train,batch_size=10,epochs=50,validation_split=0.1)"
   ]
  },
  {
   "cell_type": "code",
   "execution_count": 18,
   "id": "d5d54ad9",
   "metadata": {},
   "outputs": [
    {
     "data": {
      "text/plain": [
       "<matplotlib.legend.Legend at 0x230f7f9b6a0>"
      ]
     },
     "execution_count": 18,
     "metadata": {},
     "output_type": "execute_result"
    },
    {
     "data": {
      "image/png": "[encoded data removed]",
      "text/plain": [
       "<Figure size 640x480 with 1 Axes>"
      ]
     },
     "metadata": {},
     "output_type": "display_data"
    }
   ],
   "source": [
    "plt.plot(range(1,51),history.history[\"loss\"],label=\"train_loss\")\n",
    "plt.plot(range(1,51),history.history[\"val_loss\"],label=\"test_loss\") \n",
    "plt.legend()  "
   ]
  },
  {
   "cell_type": "markdown",
   "id": "10a2bb49",
   "metadata": {},
   "source": [
    "## make predictions using the model"
   ]
  },
  {
   "cell_type": "code",
   "execution_count": 19,
   "id": "68ff9537",
   "metadata": {},
   "outputs": [
    {
     "name": "stdout",
     "output_type": "stream",
     "text": [
      "1/1 [==============================] - 0s 136ms/step\n"
     ]
    },
    {
     "data": {
      "text/plain": [
       "array([[0.5158577 ],\n",
       "       [0.02661472],\n",
       "       [0.270528  ],\n",
       "       [0.31978482],\n",
       "       [0.2490447 ],\n",
       "       [0.44048953],\n",
       "       [0.33094668],\n",
       "       [0.476996  ],\n",
       "       [0.01920812],\n",
       "       [0.50688255],\n",
       "       [0.17606209],\n",
       "       [0.06649718],\n",
       "       [0.04067171],\n",
       "       [0.2916692 ],\n",
       "       [0.33101845],\n",
       "       [0.26631212],\n",
       "       [0.06599766],\n",
       "       [0.09767767],\n",
       "       [0.6455757 ],\n",
       "       [0.7083472 ],\n",
       "       [0.46043488],\n",
       "       [0.59208417],\n",
       "       [0.24836728],\n",
       "       [0.15486436],\n",
       "       [0.47390008],\n",
       "       [0.5264235 ],\n",
       "       [0.3501224 ],\n",
       "       [0.20251274],\n",
       "       [0.02743526],\n",
       "       [0.66575396]], dtype=float32)"
      ]
     },
     "execution_count": 19,
     "metadata": {},
     "output_type": "execute_result"
    }
   ],
   "source": [
    "predicted=model.predict(X_test)\n",
    "predicted "
   ]
  },
  {
   "cell_type": "code",
   "execution_count": 20,
   "id": "d9b7373f",
   "metadata": {},
   "outputs": [
    {
     "data": {
      "text/plain": [
       "array([[1],\n",
       "       [0],\n",
       "       [0],\n",
       "       [0],\n",
       "       [0],\n",
       "       [0],\n",
       "       [0],\n",
       "       [0],\n",
       "       [0],\n",
       "       [1],\n",
       "       [0],\n",
       "       [0],\n",
       "       [0],\n",
       "       [0],\n",
       "       [0],\n",
       "       [0],\n",
       "       [0],\n",
       "       [0],\n",
       "       [1],\n",
       "       [1],\n",
       "       [0],\n",
       "       [1],\n",
       "       [0],\n",
       "       [0],\n",
       "       [0],\n",
       "       [1],\n",
       "       [0],\n",
       "       [0],\n",
       "       [0],\n",
       "       [1]])"
      ]
     },
     "execution_count": 20,
     "metadata": {},
     "output_type": "execute_result"
    }
   ],
   "source": [
    "predicted=np.where(predicted>0.5,1,0)\n",
    "predicted "
   ]
  },
  {
   "cell_type": "markdown",
   "id": "2c8cf6b4",
   "metadata": {},
   "source": [
    "## evaluating the model"
   ]
  },
  {
   "cell_type": "code",
   "execution_count": 21,
   "id": "35bbffbc",
   "metadata": {},
   "outputs": [
    {
     "name": "stdout",
     "output_type": "stream",
     "text": [
      "0.9333333333333333\n"
     ]
    },
    {
     "data": {
      "image/png": "[encoded data removed]",
      "text/plain": [
       "<Figure size 640x480 with 2 Axes>"
      ]
     },
     "metadata": {},
     "output_type": "display_data"
    }
   ],
   "source": [
    "from sklearn.metrics import accuracy_score,confusion_matrix,ConfusionMatrixDisplay\n",
    "print(accuracy_score(y_test,predicted))\n",
    "cm=confusion_matrix(y_test,predicted)\n",
    "va=ConfusionMatrixDisplay(cm)\n",
    "va.plot() \n",
    "plt.show() \n",
    " "
   ]
  },
  {
   "cell_type": "markdown",
   "id": "0c7cb3e3",
   "metadata": {},
   "source": [
    "## plotting the decision surface"
   ]
  },
  {
   "cell_type": "code",
   "execution_count": 22,
   "id": "d3720cf4",
   "metadata": {},
   "outputs": [],
   "source": [
    "from mlxtend.plotting  import plot_decision_regions "
   ]
  },
  {
   "cell_type": "code",
   "execution_count": 23,
   "id": "dfe641f9",
   "metadata": {},
   "outputs": [
    {
     "name": "stdout",
     "output_type": "stream",
     "text": [
      "9600/9600 [==============================] - 21s 2ms/step\n"
     ]
    },
    {
     "data": {
      "text/plain": [
       "<Axes: >"
      ]
     },
     "execution_count": 23,
     "metadata": {},
     "output_type": "execute_result"
    },
    {
     "data": {
      "image/png": "[encoded data removed]",
      "text/plain": [
       "<Figure size 640x480 with 1 Axes>"
      ]
     },
     "metadata": {},
     "output_type": "display_data"
    }
   ],
   "source": [
    "plot_decision_regions(X_train,y_train.values,clf=model) "
   ]
  },
  {
   "cell_type": "code",
   "execution_count": 24,
   "id": "7f6c7f94",
   "metadata": {},
   "outputs": [
    {
     "name": "stdout",
     "output_type": "stream",
     "text": [
      "9600/9600 [==============================] - 20s 2ms/step\n"
     ]
    },
    {
     "data": {
      "text/plain": [
       "<Axes: >"
      ]
     },
     "execution_count": 24,
     "metadata": {},
     "output_type": "execute_result"
    },
    {
     "data": {
      "image/png": "[encoded data removed]",
      "text/plain": [
       "<Figure size 640x480 with 1 Axes>"
      ]
     },
     "metadata": {},
     "output_type": "display_data"
    }
   ],
   "source": [
    "#for test data \n",
    "plot_decision_regions(X_test,y_test.values,clf=model) "
   ]
  },
  {
   "cell_type": "markdown",
   "id": "44e3dbaa",
   "metadata": {},
   "source": [
    "## Conclusions:\n",
    "\n",
    "###### This neural network model achieves an accuracy of 93%. The model architecture consists of 2 hidden layers with the following specifications:\n",
    "\n",
    "- In the first hidden layer, there are 8 neurons with the ReLU activation function.\n",
    "- In the second hidden layer, there are 6 neurons with the ReLU activation function.\n",
    "\n",
    "\n",
    "###### The output layer uses the sigmoid activation function.\n",
    "\n",
    "##### For model compilation, the following settings were used:\n",
    "\n",
    "###### Loss function: Binary cross-entropy.\n",
    "- Optimizer: Stochastic Gradient Descent (SGD) with a batch size of 5 and a learning rate of 0.01.\n",
    "- The model was trained for 50 epochs.\n",
    "\n",
    "###### Overall, this neural network model architecture and training configuration achieve an accuracy of 93%.  "
   ]
  },
  {
   "cell_type": "code",
   "execution_count": null,
   "id": "2e99b148",
   "metadata": {},
   "outputs": [],
   "source": []
  }
 ],
 "metadata": {
  "kernelspec": {
   "display_name": "Python 3 (ipykernel)",
   "language": "python",
   "name": "python3"
  },
  "language_info": {
   "codemirror_mode": {
    "name": "ipython",
    "version": 3
   },
   "file_extension": ".py",
   "mimetype": "text/x-python",
   "name": "python",
   "nbconvert_exporter": "python",
   "pygments_lexer": "ipython3",
   "version": "3.9.13"
  }
 },
 "nbformat": 4,
 "nbformat_minor": 5
}
