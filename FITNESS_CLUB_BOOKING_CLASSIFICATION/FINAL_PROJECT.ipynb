{
 "cells": [
  {
   "cell_type": "markdown",
   "id": "dc4847fb",
   "metadata": {},
   "source": [
    "## Import the required Libraries"
   ]
  },
  {
   "cell_type": "code",
   "execution_count": 1,
   "id": "7b014ec2",
   "metadata": {},
   "outputs": [
    {
     "name": "stdout",
     "output_type": "stream",
     "text": [
      "Using TensorFlow backend\n"
     ]
    }
   ],
   "source": [
    "import pandas as pd \n",
    "import numpy as np \n",
    "import matplotlib.pyplot as plt  \n",
    "from sklearn.model_selection import train_test_split \n",
    "import keras\n",
    "from keras import Sequential # creates network in sequential form\n",
    "from keras.layers import Dense,Dropout,BatchNormalization,Input  # creates fully connected layers\n",
    "from sklearn.preprocessing import StandardScaler\n",
    "from sklearn.metrics import accuracy_score \n",
    "from keras.initializers import Zeros,Ones,glorot_normal,glorot_uniform,he_normal,he_uniform,random_uniform,random_normal \n",
    "import keras_tuner as k \n",
    "import warnings\n",
    "warnings.filterwarnings('ignore') "
   ]
  },
  {
   "cell_type": "markdown",
   "id": "1df5c2a6",
   "metadata": {},
   "source": [
    "## Import the CSV file"
   ]
  },
  {
   "cell_type": "code",
   "execution_count": 2,
   "id": "f6bac38b",
   "metadata": {},
   "outputs": [],
   "source": [
    "df = pd.read_csv(r\"C:\\Users\\sss\\Downloads\\Deep_Learning related\\DL_CLASS\\KERAS_TUNER_PROJECT\\fitness_class_2212.csv\") "
   ]
  },
  {
   "cell_type": "code",
   "execution_count": 3,
   "id": "e790a814",
   "metadata": {},
   "outputs": [
    {
     "data": {
      "text/html": [
       "<div>\n",
       "<style scoped>\n",
       "    .dataframe tbody tr th:only-of-type {\n",
       "        vertical-align: middle;\n",
       "    }\n",
       "\n",
       "    .dataframe tbody tr th {\n",
       "        vertical-align: top;\n",
       "    }\n",
       "\n",
       "    .dataframe thead th {\n",
       "        text-align: right;\n",
       "    }\n",
       "</style>\n",
       "<table border=\"1\" class=\"dataframe\">\n",
       "  <thead>\n",
       "    <tr style=\"text-align: right;\">\n",
       "      <th></th>\n",
       "      <th>booking_id</th>\n",
       "      <th>months_as_member</th>\n",
       "      <th>weight</th>\n",
       "      <th>days_before</th>\n",
       "      <th>day_of_week</th>\n",
       "      <th>time</th>\n",
       "      <th>category</th>\n",
       "      <th>attended</th>\n",
       "    </tr>\n",
       "  </thead>\n",
       "  <tbody>\n",
       "    <tr>\n",
       "      <th>0</th>\n",
       "      <td>1</td>\n",
       "      <td>17</td>\n",
       "      <td>79.56</td>\n",
       "      <td>8</td>\n",
       "      <td>Wed</td>\n",
       "      <td>PM</td>\n",
       "      <td>Strength</td>\n",
       "      <td>0</td>\n",
       "    </tr>\n",
       "    <tr>\n",
       "      <th>1</th>\n",
       "      <td>2</td>\n",
       "      <td>10</td>\n",
       "      <td>79.01</td>\n",
       "      <td>2</td>\n",
       "      <td>Mon</td>\n",
       "      <td>AM</td>\n",
       "      <td>HIIT</td>\n",
       "      <td>0</td>\n",
       "    </tr>\n",
       "    <tr>\n",
       "      <th>2</th>\n",
       "      <td>3</td>\n",
       "      <td>16</td>\n",
       "      <td>74.53</td>\n",
       "      <td>14</td>\n",
       "      <td>Sun</td>\n",
       "      <td>AM</td>\n",
       "      <td>Strength</td>\n",
       "      <td>0</td>\n",
       "    </tr>\n",
       "    <tr>\n",
       "      <th>3</th>\n",
       "      <td>4</td>\n",
       "      <td>5</td>\n",
       "      <td>86.12</td>\n",
       "      <td>10</td>\n",
       "      <td>Fri</td>\n",
       "      <td>AM</td>\n",
       "      <td>Cycling</td>\n",
       "      <td>0</td>\n",
       "    </tr>\n",
       "    <tr>\n",
       "      <th>4</th>\n",
       "      <td>5</td>\n",
       "      <td>15</td>\n",
       "      <td>69.29</td>\n",
       "      <td>8</td>\n",
       "      <td>Thu</td>\n",
       "      <td>AM</td>\n",
       "      <td>HIIT</td>\n",
       "      <td>0</td>\n",
       "    </tr>\n",
       "    <tr>\n",
       "      <th>...</th>\n",
       "      <td>...</td>\n",
       "      <td>...</td>\n",
       "      <td>...</td>\n",
       "      <td>...</td>\n",
       "      <td>...</td>\n",
       "      <td>...</td>\n",
       "      <td>...</td>\n",
       "      <td>...</td>\n",
       "    </tr>\n",
       "    <tr>\n",
       "      <th>1495</th>\n",
       "      <td>1496</td>\n",
       "      <td>21</td>\n",
       "      <td>79.51</td>\n",
       "      <td>10</td>\n",
       "      <td>Fri</td>\n",
       "      <td>AM</td>\n",
       "      <td>HIIT</td>\n",
       "      <td>0</td>\n",
       "    </tr>\n",
       "    <tr>\n",
       "      <th>1496</th>\n",
       "      <td>1497</td>\n",
       "      <td>29</td>\n",
       "      <td>89.55</td>\n",
       "      <td>2</td>\n",
       "      <td>Mon</td>\n",
       "      <td>AM</td>\n",
       "      <td>Strength</td>\n",
       "      <td>0</td>\n",
       "    </tr>\n",
       "    <tr>\n",
       "      <th>1497</th>\n",
       "      <td>1498</td>\n",
       "      <td>9</td>\n",
       "      <td>87.38</td>\n",
       "      <td>4</td>\n",
       "      <td>Tue</td>\n",
       "      <td>AM</td>\n",
       "      <td>HIIT</td>\n",
       "      <td>0</td>\n",
       "    </tr>\n",
       "    <tr>\n",
       "      <th>1498</th>\n",
       "      <td>1499</td>\n",
       "      <td>34</td>\n",
       "      <td>68.64</td>\n",
       "      <td>14</td>\n",
       "      <td>Sun</td>\n",
       "      <td>AM</td>\n",
       "      <td>Aqua</td>\n",
       "      <td>0</td>\n",
       "    </tr>\n",
       "    <tr>\n",
       "      <th>1499</th>\n",
       "      <td>1500</td>\n",
       "      <td>20</td>\n",
       "      <td>94.39</td>\n",
       "      <td>8</td>\n",
       "      <td>Thu</td>\n",
       "      <td>AM</td>\n",
       "      <td>Cycling</td>\n",
       "      <td>1</td>\n",
       "    </tr>\n",
       "  </tbody>\n",
       "</table>\n",
       "<p>1500 rows × 8 columns</p>\n",
       "</div>"
      ],
      "text/plain": [
       "      booking_id  months_as_member  weight days_before day_of_week time  \\\n",
       "0              1                17   79.56           8         Wed   PM   \n",
       "1              2                10   79.01           2         Mon   AM   \n",
       "2              3                16   74.53          14         Sun   AM   \n",
       "3              4                 5   86.12          10         Fri   AM   \n",
       "4              5                15   69.29           8         Thu   AM   \n",
       "...          ...               ...     ...         ...         ...  ...   \n",
       "1495        1496                21   79.51          10         Fri   AM   \n",
       "1496        1497                29   89.55           2         Mon   AM   \n",
       "1497        1498                 9   87.38           4         Tue   AM   \n",
       "1498        1499                34   68.64          14         Sun   AM   \n",
       "1499        1500                20   94.39           8         Thu   AM   \n",
       "\n",
       "      category  attended  \n",
       "0     Strength         0  \n",
       "1         HIIT         0  \n",
       "2     Strength         0  \n",
       "3      Cycling         0  \n",
       "4         HIIT         0  \n",
       "...        ...       ...  \n",
       "1495      HIIT         0  \n",
       "1496  Strength         0  \n",
       "1497      HIIT         0  \n",
       "1498      Aqua         0  \n",
       "1499   Cycling         1  \n",
       "\n",
       "[1500 rows x 8 columns]"
      ]
     },
     "execution_count": 3,
     "metadata": {},
     "output_type": "execute_result"
    }
   ],
   "source": [
    "df"
   ]
  },
  {
   "cell_type": "code",
   "execution_count": 4,
   "id": "0ec639c5",
   "metadata": {},
   "outputs": [
    {
     "name": "stdout",
     "output_type": "stream",
     "text": [
      "<class 'pandas.core.frame.DataFrame'>\n",
      "RangeIndex: 1500 entries, 0 to 1499\n",
      "Data columns (total 8 columns):\n",
      " #   Column            Non-Null Count  Dtype  \n",
      "---  ------            --------------  -----  \n",
      " 0   booking_id        1500 non-null   int64  \n",
      " 1   months_as_member  1500 non-null   int64  \n",
      " 2   weight            1480 non-null   float64\n",
      " 3   days_before       1500 non-null   object \n",
      " 4   day_of_week       1500 non-null   object \n",
      " 5   time              1500 non-null   object \n",
      " 6   category          1500 non-null   object \n",
      " 7   attended          1500 non-null   int64  \n",
      "dtypes: float64(1), int64(3), object(4)\n",
      "memory usage: 93.9+ KB\n"
     ]
    }
   ],
   "source": [
    "df.info() "
   ]
  },
  {
   "cell_type": "markdown",
   "id": "78dbbf4a",
   "metadata": {},
   "source": [
    "- The Data types of all the columns are correct except days_before column.\n",
    "- weight column having 20 null values."
   ]
  },
  {
   "cell_type": "markdown",
   "id": "cc7e4ad1",
   "metadata": {},
   "source": [
    "## Data Cleaning"
   ]
  },
  {
   "cell_type": "code",
   "execution_count": 5,
   "id": "e026c2f8",
   "metadata": {},
   "outputs": [],
   "source": [
    "df['days_before'] = df['days_before'].astype(str).str.replace('days', '', regex=True).astype(int)\n",
    "df['day_of_week'] = df['day_of_week'].replace('Wednesday','Wed')\n",
    "df['day_of_week'] = df['day_of_week'].replace('Monday','Mon')\n",
    "df['day_of_week'] = df['day_of_week'].replace('Fri.','Fri') \n",
    "# df['category'] = df['category'].str.replace('-','NA') \n",
    "df['weight'] = df['weight'].apply(lambda x: round(float(x), 2)) "
   ]
  },
  {
   "cell_type": "code",
   "execution_count": 6,
   "id": "a0dfac0b",
   "metadata": {},
   "outputs": [
    {
     "data": {
      "text/html": [
       "<div>\n",
       "<style scoped>\n",
       "    .dataframe tbody tr th:only-of-type {\n",
       "        vertical-align: middle;\n",
       "    }\n",
       "\n",
       "    .dataframe tbody tr th {\n",
       "        vertical-align: top;\n",
       "    }\n",
       "\n",
       "    .dataframe thead th {\n",
       "        text-align: right;\n",
       "    }\n",
       "</style>\n",
       "<table border=\"1\" class=\"dataframe\">\n",
       "  <thead>\n",
       "    <tr style=\"text-align: right;\">\n",
       "      <th></th>\n",
       "      <th>booking_id</th>\n",
       "      <th>months_as_member</th>\n",
       "      <th>weight</th>\n",
       "      <th>days_before</th>\n",
       "      <th>day_of_week</th>\n",
       "      <th>time</th>\n",
       "      <th>category</th>\n",
       "      <th>attended</th>\n",
       "    </tr>\n",
       "  </thead>\n",
       "  <tbody>\n",
       "    <tr>\n",
       "      <th>0</th>\n",
       "      <td>1</td>\n",
       "      <td>17</td>\n",
       "      <td>79.56</td>\n",
       "      <td>8</td>\n",
       "      <td>Wed</td>\n",
       "      <td>PM</td>\n",
       "      <td>Strength</td>\n",
       "      <td>0</td>\n",
       "    </tr>\n",
       "    <tr>\n",
       "      <th>1</th>\n",
       "      <td>2</td>\n",
       "      <td>10</td>\n",
       "      <td>79.01</td>\n",
       "      <td>2</td>\n",
       "      <td>Mon</td>\n",
       "      <td>AM</td>\n",
       "      <td>HIIT</td>\n",
       "      <td>0</td>\n",
       "    </tr>\n",
       "    <tr>\n",
       "      <th>2</th>\n",
       "      <td>3</td>\n",
       "      <td>16</td>\n",
       "      <td>74.53</td>\n",
       "      <td>14</td>\n",
       "      <td>Sun</td>\n",
       "      <td>AM</td>\n",
       "      <td>Strength</td>\n",
       "      <td>0</td>\n",
       "    </tr>\n",
       "    <tr>\n",
       "      <th>3</th>\n",
       "      <td>4</td>\n",
       "      <td>5</td>\n",
       "      <td>86.12</td>\n",
       "      <td>10</td>\n",
       "      <td>Fri</td>\n",
       "      <td>AM</td>\n",
       "      <td>Cycling</td>\n",
       "      <td>0</td>\n",
       "    </tr>\n",
       "    <tr>\n",
       "      <th>4</th>\n",
       "      <td>5</td>\n",
       "      <td>15</td>\n",
       "      <td>69.29</td>\n",
       "      <td>8</td>\n",
       "      <td>Thu</td>\n",
       "      <td>AM</td>\n",
       "      <td>HIIT</td>\n",
       "      <td>0</td>\n",
       "    </tr>\n",
       "    <tr>\n",
       "      <th>...</th>\n",
       "      <td>...</td>\n",
       "      <td>...</td>\n",
       "      <td>...</td>\n",
       "      <td>...</td>\n",
       "      <td>...</td>\n",
       "      <td>...</td>\n",
       "      <td>...</td>\n",
       "      <td>...</td>\n",
       "    </tr>\n",
       "    <tr>\n",
       "      <th>1495</th>\n",
       "      <td>1496</td>\n",
       "      <td>21</td>\n",
       "      <td>79.51</td>\n",
       "      <td>10</td>\n",
       "      <td>Fri</td>\n",
       "      <td>AM</td>\n",
       "      <td>HIIT</td>\n",
       "      <td>0</td>\n",
       "    </tr>\n",
       "    <tr>\n",
       "      <th>1496</th>\n",
       "      <td>1497</td>\n",
       "      <td>29</td>\n",
       "      <td>89.55</td>\n",
       "      <td>2</td>\n",
       "      <td>Mon</td>\n",
       "      <td>AM</td>\n",
       "      <td>Strength</td>\n",
       "      <td>0</td>\n",
       "    </tr>\n",
       "    <tr>\n",
       "      <th>1497</th>\n",
       "      <td>1498</td>\n",
       "      <td>9</td>\n",
       "      <td>87.38</td>\n",
       "      <td>4</td>\n",
       "      <td>Tue</td>\n",
       "      <td>AM</td>\n",
       "      <td>HIIT</td>\n",
       "      <td>0</td>\n",
       "    </tr>\n",
       "    <tr>\n",
       "      <th>1498</th>\n",
       "      <td>1499</td>\n",
       "      <td>34</td>\n",
       "      <td>68.64</td>\n",
       "      <td>14</td>\n",
       "      <td>Sun</td>\n",
       "      <td>AM</td>\n",
       "      <td>Aqua</td>\n",
       "      <td>0</td>\n",
       "    </tr>\n",
       "    <tr>\n",
       "      <th>1499</th>\n",
       "      <td>1500</td>\n",
       "      <td>20</td>\n",
       "      <td>94.39</td>\n",
       "      <td>8</td>\n",
       "      <td>Thu</td>\n",
       "      <td>AM</td>\n",
       "      <td>Cycling</td>\n",
       "      <td>1</td>\n",
       "    </tr>\n",
       "  </tbody>\n",
       "</table>\n",
       "<p>1500 rows × 8 columns</p>\n",
       "</div>"
      ],
      "text/plain": [
       "      booking_id  months_as_member  weight  days_before day_of_week time  \\\n",
       "0              1                17   79.56            8         Wed   PM   \n",
       "1              2                10   79.01            2         Mon   AM   \n",
       "2              3                16   74.53           14         Sun   AM   \n",
       "3              4                 5   86.12           10         Fri   AM   \n",
       "4              5                15   69.29            8         Thu   AM   \n",
       "...          ...               ...     ...          ...         ...  ...   \n",
       "1495        1496                21   79.51           10         Fri   AM   \n",
       "1496        1497                29   89.55            2         Mon   AM   \n",
       "1497        1498                 9   87.38            4         Tue   AM   \n",
       "1498        1499                34   68.64           14         Sun   AM   \n",
       "1499        1500                20   94.39            8         Thu   AM   \n",
       "\n",
       "      category  attended  \n",
       "0     Strength         0  \n",
       "1         HIIT         0  \n",
       "2     Strength         0  \n",
       "3      Cycling         0  \n",
       "4         HIIT         0  \n",
       "...        ...       ...  \n",
       "1495      HIIT         0  \n",
       "1496  Strength         0  \n",
       "1497      HIIT         0  \n",
       "1498      Aqua         0  \n",
       "1499   Cycling         1  \n",
       "\n",
       "[1500 rows x 8 columns]"
      ]
     },
     "execution_count": 6,
     "metadata": {},
     "output_type": "execute_result"
    }
   ],
   "source": [
    "df"
   ]
  },
  {
   "cell_type": "code",
   "execution_count": 7,
   "id": "e5d792d0",
   "metadata": {},
   "outputs": [],
   "source": [
    "# removing null values in the data\n",
    "df= df.dropna() "
   ]
  },
  {
   "cell_type": "code",
   "execution_count": 8,
   "id": "352c74d9",
   "metadata": {},
   "outputs": [
    {
     "data": {
      "text/html": [
       "<div>\n",
       "<style scoped>\n",
       "    .dataframe tbody tr th:only-of-type {\n",
       "        vertical-align: middle;\n",
       "    }\n",
       "\n",
       "    .dataframe tbody tr th {\n",
       "        vertical-align: top;\n",
       "    }\n",
       "\n",
       "    .dataframe thead th {\n",
       "        text-align: right;\n",
       "    }\n",
       "</style>\n",
       "<table border=\"1\" class=\"dataframe\">\n",
       "  <thead>\n",
       "    <tr style=\"text-align: right;\">\n",
       "      <th></th>\n",
       "      <th>booking_id</th>\n",
       "      <th>months_as_member</th>\n",
       "      <th>weight</th>\n",
       "      <th>days_before</th>\n",
       "      <th>day_of_week</th>\n",
       "      <th>time</th>\n",
       "      <th>category</th>\n",
       "      <th>attended</th>\n",
       "    </tr>\n",
       "  </thead>\n",
       "  <tbody>\n",
       "    <tr>\n",
       "      <th>0</th>\n",
       "      <td>1</td>\n",
       "      <td>17</td>\n",
       "      <td>79.56</td>\n",
       "      <td>8</td>\n",
       "      <td>Wed</td>\n",
       "      <td>PM</td>\n",
       "      <td>Strength</td>\n",
       "      <td>0</td>\n",
       "    </tr>\n",
       "    <tr>\n",
       "      <th>1</th>\n",
       "      <td>2</td>\n",
       "      <td>10</td>\n",
       "      <td>79.01</td>\n",
       "      <td>2</td>\n",
       "      <td>Mon</td>\n",
       "      <td>AM</td>\n",
       "      <td>HIIT</td>\n",
       "      <td>0</td>\n",
       "    </tr>\n",
       "    <tr>\n",
       "      <th>2</th>\n",
       "      <td>3</td>\n",
       "      <td>16</td>\n",
       "      <td>74.53</td>\n",
       "      <td>14</td>\n",
       "      <td>Sun</td>\n",
       "      <td>AM</td>\n",
       "      <td>Strength</td>\n",
       "      <td>0</td>\n",
       "    </tr>\n",
       "    <tr>\n",
       "      <th>3</th>\n",
       "      <td>4</td>\n",
       "      <td>5</td>\n",
       "      <td>86.12</td>\n",
       "      <td>10</td>\n",
       "      <td>Fri</td>\n",
       "      <td>AM</td>\n",
       "      <td>Cycling</td>\n",
       "      <td>0</td>\n",
       "    </tr>\n",
       "    <tr>\n",
       "      <th>4</th>\n",
       "      <td>5</td>\n",
       "      <td>15</td>\n",
       "      <td>69.29</td>\n",
       "      <td>8</td>\n",
       "      <td>Thu</td>\n",
       "      <td>AM</td>\n",
       "      <td>HIIT</td>\n",
       "      <td>0</td>\n",
       "    </tr>\n",
       "    <tr>\n",
       "      <th>...</th>\n",
       "      <td>...</td>\n",
       "      <td>...</td>\n",
       "      <td>...</td>\n",
       "      <td>...</td>\n",
       "      <td>...</td>\n",
       "      <td>...</td>\n",
       "      <td>...</td>\n",
       "      <td>...</td>\n",
       "    </tr>\n",
       "    <tr>\n",
       "      <th>1495</th>\n",
       "      <td>1496</td>\n",
       "      <td>21</td>\n",
       "      <td>79.51</td>\n",
       "      <td>10</td>\n",
       "      <td>Fri</td>\n",
       "      <td>AM</td>\n",
       "      <td>HIIT</td>\n",
       "      <td>0</td>\n",
       "    </tr>\n",
       "    <tr>\n",
       "      <th>1496</th>\n",
       "      <td>1497</td>\n",
       "      <td>29</td>\n",
       "      <td>89.55</td>\n",
       "      <td>2</td>\n",
       "      <td>Mon</td>\n",
       "      <td>AM</td>\n",
       "      <td>Strength</td>\n",
       "      <td>0</td>\n",
       "    </tr>\n",
       "    <tr>\n",
       "      <th>1497</th>\n",
       "      <td>1498</td>\n",
       "      <td>9</td>\n",
       "      <td>87.38</td>\n",
       "      <td>4</td>\n",
       "      <td>Tue</td>\n",
       "      <td>AM</td>\n",
       "      <td>HIIT</td>\n",
       "      <td>0</td>\n",
       "    </tr>\n",
       "    <tr>\n",
       "      <th>1498</th>\n",
       "      <td>1499</td>\n",
       "      <td>34</td>\n",
       "      <td>68.64</td>\n",
       "      <td>14</td>\n",
       "      <td>Sun</td>\n",
       "      <td>AM</td>\n",
       "      <td>Aqua</td>\n",
       "      <td>0</td>\n",
       "    </tr>\n",
       "    <tr>\n",
       "      <th>1499</th>\n",
       "      <td>1500</td>\n",
       "      <td>20</td>\n",
       "      <td>94.39</td>\n",
       "      <td>8</td>\n",
       "      <td>Thu</td>\n",
       "      <td>AM</td>\n",
       "      <td>Cycling</td>\n",
       "      <td>1</td>\n",
       "    </tr>\n",
       "  </tbody>\n",
       "</table>\n",
       "<p>1480 rows × 8 columns</p>\n",
       "</div>"
      ],
      "text/plain": [
       "      booking_id  months_as_member  weight  days_before day_of_week time  \\\n",
       "0              1                17   79.56            8         Wed   PM   \n",
       "1              2                10   79.01            2         Mon   AM   \n",
       "2              3                16   74.53           14         Sun   AM   \n",
       "3              4                 5   86.12           10         Fri   AM   \n",
       "4              5                15   69.29            8         Thu   AM   \n",
       "...          ...               ...     ...          ...         ...  ...   \n",
       "1495        1496                21   79.51           10         Fri   AM   \n",
       "1496        1497                29   89.55            2         Mon   AM   \n",
       "1497        1498                 9   87.38            4         Tue   AM   \n",
       "1498        1499                34   68.64           14         Sun   AM   \n",
       "1499        1500                20   94.39            8         Thu   AM   \n",
       "\n",
       "      category  attended  \n",
       "0     Strength         0  \n",
       "1         HIIT         0  \n",
       "2     Strength         0  \n",
       "3      Cycling         0  \n",
       "4         HIIT         0  \n",
       "...        ...       ...  \n",
       "1495      HIIT         0  \n",
       "1496  Strength         0  \n",
       "1497      HIIT         0  \n",
       "1498      Aqua         0  \n",
       "1499   Cycling         1  \n",
       "\n",
       "[1480 rows x 8 columns]"
      ]
     },
     "execution_count": 8,
     "metadata": {},
     "output_type": "execute_result"
    }
   ],
   "source": [
    "df"
   ]
  },
  {
   "cell_type": "code",
   "execution_count": 9,
   "id": "7fd1db80",
   "metadata": {},
   "outputs": [],
   "source": [
    "#df.to_csv('dataframe.csv', index=False) "
   ]
  },
  {
   "cell_type": "code",
   "execution_count": 10,
   "id": "6274e228",
   "metadata": {},
   "outputs": [],
   "source": [
    "df = pd.read_csv(\"dataframe.csv\") "
   ]
  },
  {
   "cell_type": "code",
   "execution_count": 11,
   "id": "cfc50290",
   "metadata": {},
   "outputs": [
    {
     "data": {
      "text/html": [
       "<div>\n",
       "<style scoped>\n",
       "    .dataframe tbody tr th:only-of-type {\n",
       "        vertical-align: middle;\n",
       "    }\n",
       "\n",
       "    .dataframe tbody tr th {\n",
       "        vertical-align: top;\n",
       "    }\n",
       "\n",
       "    .dataframe thead th {\n",
       "        text-align: right;\n",
       "    }\n",
       "</style>\n",
       "<table border=\"1\" class=\"dataframe\">\n",
       "  <thead>\n",
       "    <tr style=\"text-align: right;\">\n",
       "      <th></th>\n",
       "      <th>booking_id</th>\n",
       "      <th>months_as_member</th>\n",
       "      <th>weight</th>\n",
       "      <th>days_before</th>\n",
       "      <th>day_of_week</th>\n",
       "      <th>time</th>\n",
       "      <th>category</th>\n",
       "      <th>attended</th>\n",
       "    </tr>\n",
       "  </thead>\n",
       "  <tbody>\n",
       "    <tr>\n",
       "      <th>0</th>\n",
       "      <td>1</td>\n",
       "      <td>17</td>\n",
       "      <td>79.56</td>\n",
       "      <td>8</td>\n",
       "      <td>Wed</td>\n",
       "      <td>PM</td>\n",
       "      <td>Strength</td>\n",
       "      <td>0</td>\n",
       "    </tr>\n",
       "    <tr>\n",
       "      <th>1</th>\n",
       "      <td>2</td>\n",
       "      <td>10</td>\n",
       "      <td>79.01</td>\n",
       "      <td>2</td>\n",
       "      <td>Mon</td>\n",
       "      <td>AM</td>\n",
       "      <td>HIIT</td>\n",
       "      <td>0</td>\n",
       "    </tr>\n",
       "    <tr>\n",
       "      <th>2</th>\n",
       "      <td>3</td>\n",
       "      <td>16</td>\n",
       "      <td>74.53</td>\n",
       "      <td>14</td>\n",
       "      <td>Sun</td>\n",
       "      <td>AM</td>\n",
       "      <td>Strength</td>\n",
       "      <td>0</td>\n",
       "    </tr>\n",
       "    <tr>\n",
       "      <th>3</th>\n",
       "      <td>4</td>\n",
       "      <td>5</td>\n",
       "      <td>86.12</td>\n",
       "      <td>10</td>\n",
       "      <td>Fri</td>\n",
       "      <td>AM</td>\n",
       "      <td>Cycling</td>\n",
       "      <td>0</td>\n",
       "    </tr>\n",
       "    <tr>\n",
       "      <th>4</th>\n",
       "      <td>5</td>\n",
       "      <td>15</td>\n",
       "      <td>69.29</td>\n",
       "      <td>8</td>\n",
       "      <td>Thu</td>\n",
       "      <td>AM</td>\n",
       "      <td>HIIT</td>\n",
       "      <td>0</td>\n",
       "    </tr>\n",
       "    <tr>\n",
       "      <th>...</th>\n",
       "      <td>...</td>\n",
       "      <td>...</td>\n",
       "      <td>...</td>\n",
       "      <td>...</td>\n",
       "      <td>...</td>\n",
       "      <td>...</td>\n",
       "      <td>...</td>\n",
       "      <td>...</td>\n",
       "    </tr>\n",
       "    <tr>\n",
       "      <th>1475</th>\n",
       "      <td>1496</td>\n",
       "      <td>21</td>\n",
       "      <td>79.51</td>\n",
       "      <td>10</td>\n",
       "      <td>Fri</td>\n",
       "      <td>AM</td>\n",
       "      <td>HIIT</td>\n",
       "      <td>0</td>\n",
       "    </tr>\n",
       "    <tr>\n",
       "      <th>1476</th>\n",
       "      <td>1497</td>\n",
       "      <td>29</td>\n",
       "      <td>89.55</td>\n",
       "      <td>2</td>\n",
       "      <td>Mon</td>\n",
       "      <td>AM</td>\n",
       "      <td>Strength</td>\n",
       "      <td>0</td>\n",
       "    </tr>\n",
       "    <tr>\n",
       "      <th>1477</th>\n",
       "      <td>1498</td>\n",
       "      <td>9</td>\n",
       "      <td>87.38</td>\n",
       "      <td>4</td>\n",
       "      <td>Tue</td>\n",
       "      <td>AM</td>\n",
       "      <td>HIIT</td>\n",
       "      <td>0</td>\n",
       "    </tr>\n",
       "    <tr>\n",
       "      <th>1478</th>\n",
       "      <td>1499</td>\n",
       "      <td>34</td>\n",
       "      <td>68.64</td>\n",
       "      <td>14</td>\n",
       "      <td>Sun</td>\n",
       "      <td>AM</td>\n",
       "      <td>Aqua</td>\n",
       "      <td>0</td>\n",
       "    </tr>\n",
       "    <tr>\n",
       "      <th>1479</th>\n",
       "      <td>1500</td>\n",
       "      <td>20</td>\n",
       "      <td>94.39</td>\n",
       "      <td>8</td>\n",
       "      <td>Thu</td>\n",
       "      <td>AM</td>\n",
       "      <td>Cycling</td>\n",
       "      <td>1</td>\n",
       "    </tr>\n",
       "  </tbody>\n",
       "</table>\n",
       "<p>1480 rows × 8 columns</p>\n",
       "</div>"
      ],
      "text/plain": [
       "      booking_id  months_as_member  weight  days_before day_of_week time  \\\n",
       "0              1                17   79.56            8         Wed   PM   \n",
       "1              2                10   79.01            2         Mon   AM   \n",
       "2              3                16   74.53           14         Sun   AM   \n",
       "3              4                 5   86.12           10         Fri   AM   \n",
       "4              5                15   69.29            8         Thu   AM   \n",
       "...          ...               ...     ...          ...         ...  ...   \n",
       "1475        1496                21   79.51           10         Fri   AM   \n",
       "1476        1497                29   89.55            2         Mon   AM   \n",
       "1477        1498                 9   87.38            4         Tue   AM   \n",
       "1478        1499                34   68.64           14         Sun   AM   \n",
       "1479        1500                20   94.39            8         Thu   AM   \n",
       "\n",
       "      category  attended  \n",
       "0     Strength         0  \n",
       "1         HIIT         0  \n",
       "2     Strength         0  \n",
       "3      Cycling         0  \n",
       "4         HIIT         0  \n",
       "...        ...       ...  \n",
       "1475      HIIT         0  \n",
       "1476  Strength         0  \n",
       "1477      HIIT         0  \n",
       "1478      Aqua         0  \n",
       "1479   Cycling         1  \n",
       "\n",
       "[1480 rows x 8 columns]"
      ]
     },
     "execution_count": 11,
     "metadata": {},
     "output_type": "execute_result"
    }
   ],
   "source": [
    "df "
   ]
  },
  {
   "cell_type": "markdown",
   "id": "b7956f9f",
   "metadata": {},
   "source": [
    "- The 'days_before' column is converted to integers after removing 'days' from the values.\n",
    "- The 'day_of_week' column is abbreviated for consistency (e.g., 'Wednesday' to 'Wed').\n",
    "- Certain day abbreviations are corrected (e.g., 'Fri.' to 'Fri','Wednesday' to 'Wed', 'Monday' to 'Mon').\n",
    "- The 'category' column is standardized by replacing hyphens with 'NA.'\n",
    "- The 'weight' column is rounded to two decimal places for uniform precision."
   ]
  },
  {
   "cell_type": "markdown",
   "id": "c6b8571f",
   "metadata": {},
   "source": [
    "##  EDA"
   ]
  },
  {
   "cell_type": "markdown",
   "id": "e96f4f8d",
   "metadata": {},
   "source": [
    "# Analysing Features-Univariate\n",
    "##### Non Viz\n",
    "- Min\n",
    "- Max\n",
    "- Central Tendency\n",
    "- Percentiles\n",
    "- Dispersion\n",
    "\n",
    "##### Viz\n",
    "- Plot of Dist- Distribution\n",
    " "
   ]
  },
  {
   "cell_type": "markdown",
   "id": "2306214b",
   "metadata": {},
   "source": [
    "#### Analysing months_as_member feature-Univariate"
   ]
  },
  {
   "cell_type": "code",
   "execution_count": 12,
   "id": "bb645cf4",
   "metadata": {},
   "outputs": [
    {
     "name": "stdout",
     "output_type": "stream",
     "text": [
      "min of months_as_member: 1\n",
      "max of months_as_member: 148\n",
      "mean of months_as_member: 15.659459459459459\n",
      "median of months_as_member: 12.0\n",
      "standard deviation of months_as_member: 12.971137866722273\n"
     ]
    }
   ],
   "source": [
    "# Non-vizualisation statistical analysis \n",
    "print(\"min of months_as_member:\",df[\"months_as_member\"].min())\n",
    "print(\"max of months_as_member:\",df[\"months_as_member\"].max())\n",
    "print(\"mean of months_as_member:\",df[\"months_as_member\"].mean())\n",
    "print(\"median of months_as_member:\",df[\"months_as_member\"].median())\n",
    "print(\"standard deviation of months_as_member:\",df[\"months_as_member\"].std()) "
   ]
  },
  {
   "cell_type": "code",
   "execution_count": 13,
   "id": "fc805f8f",
   "metadata": {},
   "outputs": [
    {
     "data": {
      "text/plain": [
       "<Axes: ylabel='Density'>"
      ]
     },
     "execution_count": 13,
     "metadata": {},
     "output_type": "execute_result"
    },
    {
     "data": {
      "image/png": "[encoded data removed]",
      "text/plain": [
       "<Figure size 640x480 with 1 Axes>"
      ]
     },
     "metadata": {},
     "output_type": "display_data"
    }
   ],
   "source": [
    "# plotting the distribution for months_as_member column\n",
    "df[\"months_as_member\"].plot(kind=\"kde\")  "
   ]
  },
  {
   "cell_type": "code",
   "execution_count": 14,
   "id": "3f014f82",
   "metadata": {},
   "outputs": [
    {
     "data": {
      "text/plain": [
       "<Axes: ylabel='months_as_member'>"
      ]
     },
     "execution_count": 14,
     "metadata": {},
     "output_type": "execute_result"
    },
    {
     "data": {
      "image/png": "[encoded data removed]",
      "text/plain": [
       "<Figure size 640x480 with 1 Axes>"
      ]
     },
     "metadata": {},
     "output_type": "display_data"
    }
   ],
   "source": [
    "import seaborn as sns\n",
    "sns.boxplot(data=df, y='months_as_member') "
   ]
  },
  {
   "cell_type": "code",
   "execution_count": 15,
   "id": "8b61281f",
   "metadata": {},
   "outputs": [],
   "source": [
    "median = df[\"months_as_member\"].median()\n",
    "\n",
    "# Calculate the interquartile range (IQR)\n",
    "q1 = df[\"months_as_member\"].quantile(0.25)\n",
    "q3 = df[\"months_as_member\"].quantile(0.75)\n",
    "iqr = q3 - q1\n",
    "\n",
    "# Define the lower and upper bounds for outliers\n",
    "lower_bound = q1 - 1.5 * iqr\n",
    "upper_bound = q3 + 1.5 * iqr\n",
    "\n",
    "# Replace outliers with the median\n",
    "df.loc[df[\"months_as_member\"] < lower_bound, \"months_as_member\"] = median\n",
    "df.loc[df[\"months_as_member\"] > upper_bound, \"months_as_member\"] = median"
   ]
  },
  {
   "cell_type": "code",
   "execution_count": 16,
   "id": "00d05ac9",
   "metadata": {},
   "outputs": [
    {
     "data": {
      "text/plain": [
       "<Axes: ylabel='months_as_member'>"
      ]
     },
     "execution_count": 16,
     "metadata": {},
     "output_type": "execute_result"
    },
    {
     "data": {
      "image/png": "[encoded data removed]",
      "text/plain": [
       "<Figure size 640x480 with 1 Axes>"
      ]
     },
     "metadata": {},
     "output_type": "display_data"
    }
   ],
   "source": [
    "sns.boxplot(data=df, y='months_as_member') "
   ]
  },
  {
   "cell_type": "markdown",
   "id": "610e12c3",
   "metadata": {},
   "source": [
    "#### Analysing weight feature-Univariate"
   ]
  },
  {
   "cell_type": "code",
   "execution_count": 17,
   "id": "65e2979b",
   "metadata": {},
   "outputs": [
    {
     "name": "stdout",
     "output_type": "stream",
     "text": [
      "min of weight: 55.41\n",
      "max of weight: 170.52\n",
      "mean of weight: 82.61037837837839\n",
      "median of weight: 80.76\n",
      "standard deviation of weight: 12.765859091428053\n"
     ]
    }
   ],
   "source": [
    "# Non-vizualisation statistical analysis \n",
    "print(\"min of weight:\",df[\"weight\"].min())\n",
    "print(\"max of weight:\",df[\"weight\"].max())\n",
    "print(\"mean of weight:\",df[\"weight\"].mean())\n",
    "print(\"median of weight:\",df[\"weight\"].median())\n",
    "print(\"standard deviation of weight:\",df[\"weight\"].std())  "
   ]
  },
  {
   "cell_type": "code",
   "execution_count": 18,
   "id": "1d5190db",
   "metadata": {},
   "outputs": [
    {
     "data": {
      "text/plain": [
       "<Axes: ylabel='Density'>"
      ]
     },
     "execution_count": 18,
     "metadata": {},
     "output_type": "execute_result"
    },
    {
     "data": {
      "image/png": "[encoded data removed]",
      "text/plain": [
       "<Figure size 640x480 with 1 Axes>"
      ]
     },
     "metadata": {},
     "output_type": "display_data"
    }
   ],
   "source": [
    "# plotting the distribution for weight column\n",
    "df[\"weight\"].plot(kind=\"kde\")   "
   ]
  },
  {
   "cell_type": "code",
   "execution_count": 19,
   "id": "3ad376f2",
   "metadata": {},
   "outputs": [
    {
     "data": {
      "text/plain": [
       "<Axes: ylabel='weight'>"
      ]
     },
     "execution_count": 19,
     "metadata": {},
     "output_type": "execute_result"
    },
    {
     "data": {
      "image/png": "[encoded data removed]",
      "text/plain": [
       "<Figure size 640x480 with 1 Axes>"
      ]
     },
     "metadata": {},
     "output_type": "display_data"
    }
   ],
   "source": [
    "sns.boxplot(data=df, y='weight')  "
   ]
  },
  {
   "cell_type": "code",
   "execution_count": 20,
   "id": "0cba2d7a",
   "metadata": {},
   "outputs": [],
   "source": [
    "median = df[\"weight\"].median()\n",
    "\n",
    "# Calculate the interquartile range (IQR)\n",
    "q1 = df[\"weight\"].quantile(0.25)\n",
    "q3 = df[\"weight\"].quantile(0.75)\n",
    "iqr = q3 - q1\n",
    "\n",
    "# Define the lower and upper bounds for outliers\n",
    "lower_bound = q1 - 1.5 * iqr\n",
    "upper_bound = q3 + 1.5 * iqr\n",
    "\n",
    "# Replace outliers with the median\n",
    "df.loc[df[\"weight\"] < lower_bound, \"weight\"] = median\n",
    "df.loc[df[\"weight\"] > upper_bound, \"weight\"] = median "
   ]
  },
  {
   "cell_type": "code",
   "execution_count": 21,
   "id": "ca18f673",
   "metadata": {},
   "outputs": [
    {
     "data": {
      "text/plain": [
       "<Axes: ylabel='weight'>"
      ]
     },
     "execution_count": 21,
     "metadata": {},
     "output_type": "execute_result"
    },
    {
     "data": {
      "image/png": "[encoded data removed]",
      "text/plain": [
       "<Figure size 640x480 with 1 Axes>"
      ]
     },
     "metadata": {},
     "output_type": "display_data"
    }
   ],
   "source": [
    "sns.boxplot(data=df, y='weight')   "
   ]
  },
  {
   "cell_type": "markdown",
   "id": "f824f2a9",
   "metadata": {},
   "source": [
    "#### Analysing days_before feature-Univariate "
   ]
  },
  {
   "cell_type": "code",
   "execution_count": 22,
   "id": "4a6be255",
   "metadata": {},
   "outputs": [
    {
     "name": "stdout",
     "output_type": "stream",
     "text": [
      "min of days_before: 1\n",
      "max of days_before: 29\n",
      "mean of days_before: 8.356081081081081\n",
      "median of days_before: 9.0\n",
      "standard deviation of days_before: 4.082097433001245\n"
     ]
    }
   ],
   "source": [
    "# Non-vizualisation statistical analysis \n",
    "print(\"min of days_before:\",df[\"days_before\"].min())\n",
    "print(\"max of days_before:\",df[\"days_before\"].max())\n",
    "print(\"mean of days_before:\",df[\"days_before\"].mean())\n",
    "print(\"median of days_before:\",df[\"days_before\"].median())\n",
    "print(\"standard deviation of days_before:\",df[\"days_before\"].std())   "
   ]
  },
  {
   "cell_type": "code",
   "execution_count": 23,
   "id": "195ded17",
   "metadata": {},
   "outputs": [
    {
     "data": {
      "text/plain": [
       "<Axes: ylabel='Density'>"
      ]
     },
     "execution_count": 23,
     "metadata": {},
     "output_type": "execute_result"
    },
    {
     "data": {
      "image/png": "[encoded data removed]",
      "text/plain": [
       "<Figure size 640x480 with 1 Axes>"
      ]
     },
     "metadata": {},
     "output_type": "display_data"
    }
   ],
   "source": [
    "# plotting the distribution for weight column\n",
    "df[\"days_before\"].plot(kind=\"kde\")  "
   ]
  },
  {
   "cell_type": "code",
   "execution_count": 24,
   "id": "5bdfb1de",
   "metadata": {},
   "outputs": [
    {
     "data": {
      "text/plain": [
       "<Axes: ylabel='days_before'>"
      ]
     },
     "execution_count": 24,
     "metadata": {},
     "output_type": "execute_result"
    },
    {
     "data": {
      "image/png": "[encoded data removed]",
      "text/plain": [
       "<Figure size 640x480 with 1 Axes>"
      ]
     },
     "metadata": {},
     "output_type": "display_data"
    }
   ],
   "source": [
    "sns.boxplot(data=df, y='days_before')  "
   ]
  },
  {
   "cell_type": "code",
   "execution_count": 25,
   "id": "504b57e8",
   "metadata": {},
   "outputs": [],
   "source": [
    "# removing outlier in the days_before column\n",
    "df = df[df['days_before'] <= 20] "
   ]
  },
  {
   "cell_type": "code",
   "execution_count": 26,
   "id": "94618a77",
   "metadata": {},
   "outputs": [
    {
     "data": {
      "text/plain": [
       "<Axes: ylabel='days_before'>"
      ]
     },
     "execution_count": 26,
     "metadata": {},
     "output_type": "execute_result"
    },
    {
     "data": {
      "image/png": "[encoded data removed]",
      "text/plain": [
       "<Figure size 640x480 with 1 Axes>"
      ]
     },
     "metadata": {},
     "output_type": "display_data"
    }
   ],
   "source": [
    "sns.boxplot(data=df, y='days_before')  "
   ]
  },
  {
   "cell_type": "code",
   "execution_count": 27,
   "id": "2a7520d8",
   "metadata": {},
   "outputs": [
    {
     "data": {
      "text/html": [
       "<div>\n",
       "<style scoped>\n",
       "    .dataframe tbody tr th:only-of-type {\n",
       "        vertical-align: middle;\n",
       "    }\n",
       "\n",
       "    .dataframe tbody tr th {\n",
       "        vertical-align: top;\n",
       "    }\n",
       "\n",
       "    .dataframe thead th {\n",
       "        text-align: right;\n",
       "    }\n",
       "</style>\n",
       "<table border=\"1\" class=\"dataframe\">\n",
       "  <thead>\n",
       "    <tr style=\"text-align: right;\">\n",
       "      <th></th>\n",
       "      <th>booking_id</th>\n",
       "      <th>months_as_member</th>\n",
       "      <th>weight</th>\n",
       "      <th>days_before</th>\n",
       "      <th>day_of_week</th>\n",
       "      <th>time</th>\n",
       "      <th>category</th>\n",
       "      <th>attended</th>\n",
       "    </tr>\n",
       "  </thead>\n",
       "  <tbody>\n",
       "    <tr>\n",
       "      <th>0</th>\n",
       "      <td>1</td>\n",
       "      <td>17</td>\n",
       "      <td>79.56</td>\n",
       "      <td>8</td>\n",
       "      <td>Wed</td>\n",
       "      <td>PM</td>\n",
       "      <td>Strength</td>\n",
       "      <td>0</td>\n",
       "    </tr>\n",
       "    <tr>\n",
       "      <th>1</th>\n",
       "      <td>2</td>\n",
       "      <td>10</td>\n",
       "      <td>79.01</td>\n",
       "      <td>2</td>\n",
       "      <td>Mon</td>\n",
       "      <td>AM</td>\n",
       "      <td>HIIT</td>\n",
       "      <td>0</td>\n",
       "    </tr>\n",
       "    <tr>\n",
       "      <th>2</th>\n",
       "      <td>3</td>\n",
       "      <td>16</td>\n",
       "      <td>74.53</td>\n",
       "      <td>14</td>\n",
       "      <td>Sun</td>\n",
       "      <td>AM</td>\n",
       "      <td>Strength</td>\n",
       "      <td>0</td>\n",
       "    </tr>\n",
       "    <tr>\n",
       "      <th>3</th>\n",
       "      <td>4</td>\n",
       "      <td>5</td>\n",
       "      <td>86.12</td>\n",
       "      <td>10</td>\n",
       "      <td>Fri</td>\n",
       "      <td>AM</td>\n",
       "      <td>Cycling</td>\n",
       "      <td>0</td>\n",
       "    </tr>\n",
       "    <tr>\n",
       "      <th>4</th>\n",
       "      <td>5</td>\n",
       "      <td>15</td>\n",
       "      <td>69.29</td>\n",
       "      <td>8</td>\n",
       "      <td>Thu</td>\n",
       "      <td>AM</td>\n",
       "      <td>HIIT</td>\n",
       "      <td>0</td>\n",
       "    </tr>\n",
       "    <tr>\n",
       "      <th>...</th>\n",
       "      <td>...</td>\n",
       "      <td>...</td>\n",
       "      <td>...</td>\n",
       "      <td>...</td>\n",
       "      <td>...</td>\n",
       "      <td>...</td>\n",
       "      <td>...</td>\n",
       "      <td>...</td>\n",
       "    </tr>\n",
       "    <tr>\n",
       "      <th>1475</th>\n",
       "      <td>1496</td>\n",
       "      <td>21</td>\n",
       "      <td>79.51</td>\n",
       "      <td>10</td>\n",
       "      <td>Fri</td>\n",
       "      <td>AM</td>\n",
       "      <td>HIIT</td>\n",
       "      <td>0</td>\n",
       "    </tr>\n",
       "    <tr>\n",
       "      <th>1476</th>\n",
       "      <td>1497</td>\n",
       "      <td>29</td>\n",
       "      <td>89.55</td>\n",
       "      <td>2</td>\n",
       "      <td>Mon</td>\n",
       "      <td>AM</td>\n",
       "      <td>Strength</td>\n",
       "      <td>0</td>\n",
       "    </tr>\n",
       "    <tr>\n",
       "      <th>1477</th>\n",
       "      <td>1498</td>\n",
       "      <td>9</td>\n",
       "      <td>87.38</td>\n",
       "      <td>4</td>\n",
       "      <td>Tue</td>\n",
       "      <td>AM</td>\n",
       "      <td>HIIT</td>\n",
       "      <td>0</td>\n",
       "    </tr>\n",
       "    <tr>\n",
       "      <th>1478</th>\n",
       "      <td>1499</td>\n",
       "      <td>34</td>\n",
       "      <td>68.64</td>\n",
       "      <td>14</td>\n",
       "      <td>Sun</td>\n",
       "      <td>AM</td>\n",
       "      <td>Aqua</td>\n",
       "      <td>0</td>\n",
       "    </tr>\n",
       "    <tr>\n",
       "      <th>1479</th>\n",
       "      <td>1500</td>\n",
       "      <td>20</td>\n",
       "      <td>94.39</td>\n",
       "      <td>8</td>\n",
       "      <td>Thu</td>\n",
       "      <td>AM</td>\n",
       "      <td>Cycling</td>\n",
       "      <td>1</td>\n",
       "    </tr>\n",
       "  </tbody>\n",
       "</table>\n",
       "<p>1479 rows × 8 columns</p>\n",
       "</div>"
      ],
      "text/plain": [
       "      booking_id  months_as_member  weight  days_before day_of_week time  \\\n",
       "0              1                17   79.56            8         Wed   PM   \n",
       "1              2                10   79.01            2         Mon   AM   \n",
       "2              3                16   74.53           14         Sun   AM   \n",
       "3              4                 5   86.12           10         Fri   AM   \n",
       "4              5                15   69.29            8         Thu   AM   \n",
       "...          ...               ...     ...          ...         ...  ...   \n",
       "1475        1496                21   79.51           10         Fri   AM   \n",
       "1476        1497                29   89.55            2         Mon   AM   \n",
       "1477        1498                 9   87.38            4         Tue   AM   \n",
       "1478        1499                34   68.64           14         Sun   AM   \n",
       "1479        1500                20   94.39            8         Thu   AM   \n",
       "\n",
       "      category  attended  \n",
       "0     Strength         0  \n",
       "1         HIIT         0  \n",
       "2     Strength         0  \n",
       "3      Cycling         0  \n",
       "4         HIIT         0  \n",
       "...        ...       ...  \n",
       "1475      HIIT         0  \n",
       "1476  Strength         0  \n",
       "1477      HIIT         0  \n",
       "1478      Aqua         0  \n",
       "1479   Cycling         1  \n",
       "\n",
       "[1479 rows x 8 columns]"
      ]
     },
     "execution_count": 27,
     "metadata": {},
     "output_type": "execute_result"
    }
   ],
   "source": [
    "df "
   ]
  },
  {
   "cell_type": "markdown",
   "id": "7c1b6072",
   "metadata": {},
   "source": [
    "#### Analysing day_of_week feature-Univariate "
   ]
  },
  {
   "cell_type": "code",
   "execution_count": 28,
   "id": "6fc1e367",
   "metadata": {},
   "outputs": [
    {
     "data": {
      "text/plain": [
       "day_of_week\n",
       "Fri    303\n",
       "Thu    235\n",
       "Mon    225\n",
       "Sun    210\n",
       "Sat    200\n",
       "Tue    192\n",
       "Wed    114\n",
       "Name: count, dtype: int64"
      ]
     },
     "execution_count": 28,
     "metadata": {},
     "output_type": "execute_result"
    }
   ],
   "source": [
    "# getting value_counts for day_of_wee feature\n",
    "df[\"day_of_week\"].value_counts() "
   ]
  },
  {
   "cell_type": "code",
   "execution_count": 29,
   "id": "2bded4f9",
   "metadata": {},
   "outputs": [
    {
     "data": {
      "text/plain": [
       "<Axes: xlabel='day_of_week', ylabel='count'>"
      ]
     },
     "execution_count": 29,
     "metadata": {},
     "output_type": "execute_result"
    },
    {
     "data": {
      "image/png": "[encoded data removed]",
      "text/plain": [
       "<Figure size 640x480 with 1 Axes>"
      ]
     },
     "metadata": {},
     "output_type": "display_data"
    }
   ],
   "source": [
    " sns.countplot(x='day_of_week',data=df)  "
   ]
  },
  {
   "cell_type": "markdown",
   "id": "98c5896d",
   "metadata": {},
   "source": [
    "#### Analysing time feature-Univariate"
   ]
  },
  {
   "cell_type": "code",
   "execution_count": 30,
   "id": "81708ff4",
   "metadata": {},
   "outputs": [
    {
     "data": {
      "text/plain": [
       "time\n",
       "AM    1130\n",
       "PM     349\n",
       "Name: count, dtype: int64"
      ]
     },
     "execution_count": 30,
     "metadata": {},
     "output_type": "execute_result"
    }
   ],
   "source": [
    "df['time'].value_counts() "
   ]
  },
  {
   "cell_type": "code",
   "execution_count": 31,
   "id": "79261ceb",
   "metadata": {},
   "outputs": [
    {
     "data": {
      "text/plain": [
       "<Axes: xlabel='time', ylabel='count'>"
      ]
     },
     "execution_count": 31,
     "metadata": {},
     "output_type": "execute_result"
    },
    {
     "data": {
      "image/png": "[encoded data removed]",
      "text/plain": [
       "<Figure size 640x480 with 1 Axes>"
      ]
     },
     "metadata": {},
     "output_type": "display_data"
    }
   ],
   "source": [
    " sns.countplot(x='time',data=df) "
   ]
  },
  {
   "cell_type": "markdown",
   "id": "d8e58948",
   "metadata": {},
   "source": [
    "#### Analysing category feature-Univariate"
   ]
  },
  {
   "cell_type": "code",
   "execution_count": 32,
   "id": "c71d12b4",
   "metadata": {},
   "outputs": [
    {
     "data": {
      "text/plain": [
       "category\n",
       "HIIT        657\n",
       "Cycling     370\n",
       "Strength    230\n",
       "Yoga        135\n",
       "Aqua         74\n",
       "-            13\n",
       "Name: count, dtype: int64"
      ]
     },
     "execution_count": 32,
     "metadata": {},
     "output_type": "execute_result"
    }
   ],
   "source": [
    "df['category'].value_counts() "
   ]
  },
  {
   "cell_type": "code",
   "execution_count": 33,
   "id": "1f575089",
   "metadata": {},
   "outputs": [],
   "source": [
    "df['category'] = df['category'].str.replace('-','NA') "
   ]
  },
  {
   "cell_type": "code",
   "execution_count": 34,
   "id": "c5127317",
   "metadata": {},
   "outputs": [
    {
     "data": {
      "text/plain": [
       "<Axes: xlabel='category', ylabel='count'>"
      ]
     },
     "execution_count": 34,
     "metadata": {},
     "output_type": "execute_result"
    },
    {
     "data": {
      "image/png": "[encoded data removed]",
      "text/plain": [
       "<Figure size 640x480 with 1 Axes>"
      ]
     },
     "metadata": {},
     "output_type": "display_data"
    }
   ],
   "source": [
    "sns.countplot(x='category',data=df)  "
   ]
  },
  {
   "cell_type": "markdown",
   "id": "dc084dd2",
   "metadata": {},
   "source": [
    "#### Analysing attended feature-Univariate "
   ]
  },
  {
   "cell_type": "code",
   "execution_count": 35,
   "id": "49b1fd9e",
   "metadata": {},
   "outputs": [
    {
     "data": {
      "text/plain": [
       "<Axes: xlabel='attended', ylabel='count'>"
      ]
     },
     "execution_count": 35,
     "metadata": {},
     "output_type": "execute_result"
    },
    {
     "data": {
      "image/png": "[encoded data removed]",
      "text/plain": [
       "<Figure size 640x480 with 1 Axes>"
      ]
     },
     "metadata": {},
     "output_type": "display_data"
    }
   ],
   "source": [
    " sns.countplot(x='attended',data=df)"
   ]
  },
  {
   "cell_type": "markdown",
   "id": "ce02109e",
   "metadata": {},
   "source": [
    "## Bivariate Analysis"
   ]
  },
  {
   "cell_type": "markdown",
   "id": "af4dd447",
   "metadata": {},
   "source": [
    "### Analysing relationship between target variable(attended) and reamining  features."
   ]
  },
  {
   "cell_type": "markdown",
   "id": "0a01cc4f",
   "metadata": {},
   "source": [
    "#### Analysing relationship between attended and months_as_member features "
   ]
  },
  {
   "cell_type": "code",
   "execution_count": 36,
   "id": "39ec473c",
   "metadata": {},
   "outputs": [
    {
     "data": {
      "text/plain": [
       "<Axes: xlabel='months_as_member', ylabel='attended'>"
      ]
     },
     "execution_count": 36,
     "metadata": {},
     "output_type": "execute_result"
    },
    {
     "data": {
      "image/png": "[encoded data removed]",
      "text/plain": [
       "<Figure size 640x480 with 1 Axes>"
      ]
     },
     "metadata": {},
     "output_type": "display_data"
    }
   ],
   "source": [
    "sns.scatterplot(data=df, x='months_as_member', y='attended', hue='attended') "
   ]
  },
  {
   "cell_type": "markdown",
   "id": "c5682cf9",
   "metadata": {},
   "source": [
    "#### Analysing relationship between attended and weight features "
   ]
  },
  {
   "cell_type": "code",
   "execution_count": 37,
   "id": "e8ee74cf",
   "metadata": {},
   "outputs": [
    {
     "data": {
      "text/plain": [
       "<Axes: xlabel='weight', ylabel='attended'>"
      ]
     },
     "execution_count": 37,
     "metadata": {},
     "output_type": "execute_result"
    },
    {
     "data": {
      "image/png": "[encoded data removed]",
      "text/plain": [
       "<Figure size 640x480 with 1 Axes>"
      ]
     },
     "metadata": {},
     "output_type": "display_data"
    }
   ],
   "source": [
    "sns.scatterplot(data=df, x='weight', y='attended', hue='attended') "
   ]
  },
  {
   "cell_type": "markdown",
   "id": "93fc9a3b",
   "metadata": {},
   "source": [
    "#### Analysing relationship between attended and days_before features "
   ]
  },
  {
   "cell_type": "code",
   "execution_count": 38,
   "id": "84c84f4c",
   "metadata": {},
   "outputs": [
    {
     "data": {
      "text/plain": [
       "<Axes: xlabel='days_before', ylabel='attended'>"
      ]
     },
     "execution_count": 38,
     "metadata": {},
     "output_type": "execute_result"
    },
    {
     "data": {
      "image/png": "[encoded data removed]",
      "text/plain": [
       "<Figure size 640x480 with 1 Axes>"
      ]
     },
     "metadata": {},
     "output_type": "display_data"
    }
   ],
   "source": [
    "sns.scatterplot(data=df, x='days_before', y='attended', hue='attended')  "
   ]
  },
  {
   "cell_type": "markdown",
   "id": "12e9b568",
   "metadata": {},
   "source": [
    "#### Analysing relationship between attended and days_of_week features"
   ]
  },
  {
   "cell_type": "code",
   "execution_count": 39,
   "id": "5f98fa11",
   "metadata": {},
   "outputs": [
    {
     "data": {
      "image/png": "[encoded data removed]",
      "text/plain": [
       "<Figure size 640x480 with 1 Axes>"
      ]
     },
     "metadata": {},
     "output_type": "display_data"
    }
   ],
   "source": [
    "# Counting the occurrences of each combination\n",
    "count_df = df.groupby(['attended', 'day_of_week']).size().reset_index(name='count')\n",
    "\n",
    "# Reshaping the data for stacked bar plot\n",
    "stacked_df = count_df.pivot(index='day_of_week', columns='attended', values='count')\n",
    "\n",
    "# Creating the stacked bar plot\n",
    "stacked_df.plot(kind='bar', stacked=True)\n",
    "\n",
    "# Adding labels and titles\n",
    "plt.xlabel('attended')\n",
    "plt.ylabel('Count')\n",
    "plt.title('attended by day_of_week')\n",
    "\n",
    "# Display the plot  \n",
    "plt.show() "
   ]
  },
  {
   "cell_type": "markdown",
   "id": "89fe9386",
   "metadata": {},
   "source": [
    "#### Analysing relationship between attended and time features"
   ]
  },
  {
   "cell_type": "code",
   "execution_count": 40,
   "id": "e38ae177",
   "metadata": {},
   "outputs": [
    {
     "data": {
      "image/png": "[encoded data removed]",
      "text/plain": [
       "<Figure size 640x480 with 1 Axes>"
      ]
     },
     "metadata": {},
     "output_type": "display_data"
    }
   ],
   "source": [
    "# Counting the occurrences of each combination\n",
    "count_df = df.groupby(['attended', 'time']).size().reset_index(name='count')\n",
    "\n",
    "# Reshaping the data for stacked bar plot\n",
    "stacked_df = count_df.pivot(index='time', columns='attended', values='count')\n",
    "\n",
    "# Creating the stacked bar plot\n",
    "stacked_df.plot(kind='bar', stacked=True)\n",
    "\n",
    "# Adding labels and titles\n",
    "plt.xlabel('attended')\n",
    "plt.ylabel('Count')\n",
    "plt.title('attended by time')\n",
    "\n",
    "# Display the plot  \n",
    "plt.show() "
   ]
  },
  {
   "cell_type": "markdown",
   "id": "9f0b9e0a",
   "metadata": {},
   "source": [
    "#### Analysing relationship between attended and category features"
   ]
  },
  {
   "cell_type": "code",
   "execution_count": 41,
   "id": "84bfe0f8",
   "metadata": {},
   "outputs": [
    {
     "data": {
      "image/png": "[encoded data removed]",
      "text/plain": [
       "<Figure size 640x480 with 1 Axes>"
      ]
     },
     "metadata": {},
     "output_type": "display_data"
    }
   ],
   "source": [
    "# Counting the occurrences of each combination\n",
    "count_df = df.groupby(['attended', 'category']).size().reset_index(name='count')\n",
    "\n",
    "# Reshaping the data for stacked bar plot\n",
    "stacked_df = count_df.pivot(index='category', columns='attended', values='count')\n",
    "\n",
    "# Creating the stacked bar plot\n",
    "stacked_df.plot(kind='bar', stacked=True)\n",
    "\n",
    "# Adding labels and titles\n",
    "plt.xlabel('attended')\n",
    "plt.ylabel('Count')\n",
    "plt.title('attended by category')\n",
    "\n",
    "# Display the plot   \n",
    "plt.show()"
   ]
  },
  {
   "cell_type": "markdown",
   "id": "805f8da1",
   "metadata": {},
   "source": [
    "## Model Building "
   ]
  },
  {
   "cell_type": "code",
   "execution_count": 42,
   "id": "0aeb905f",
   "metadata": {},
   "outputs": [
    {
     "name": "stdout",
     "output_type": "stream",
     "text": [
      "<class 'pandas.core.frame.DataFrame'>\n",
      "RangeIndex: 1480 entries, 0 to 1479\n",
      "Data columns (total 8 columns):\n",
      " #   Column            Non-Null Count  Dtype  \n",
      "---  ------            --------------  -----  \n",
      " 0   booking_id        1480 non-null   int64  \n",
      " 1   months_as_member  1480 non-null   int64  \n",
      " 2   weight            1480 non-null   float64\n",
      " 3   days_before       1480 non-null   int64  \n",
      " 4   day_of_week       1480 non-null   object \n",
      " 5   time              1480 non-null   object \n",
      " 6   category          1480 non-null   object \n",
      " 7   attended          1480 non-null   int64  \n",
      "dtypes: float64(1), int64(4), object(3)\n",
      "memory usage: 92.6+ KB\n"
     ]
    }
   ],
   "source": [
    "df.info() "
   ]
  },
  {
   "cell_type": "code",
   "execution_count": 43,
   "id": "9b5e4547",
   "metadata": {},
   "outputs": [],
   "source": [
    "x=df.iloc[:,0:7]\n",
    "y=df.iloc[:,-1]  "
   ]
  },
  {
   "cell_type": "code",
   "execution_count": 44,
   "id": "adaefd2f",
   "metadata": {},
   "outputs": [],
   "source": [
    "x_train,x_test,y_train,y_test = train_test_split(x,y,test_size=0.20) "
   ]
  },
  {
   "cell_type": "code",
   "execution_count": 45,
   "id": "6ab73cf7",
   "metadata": {},
   "outputs": [
    {
     "data": {
      "text/plain": [
       "(1184, 7)"
      ]
     },
     "execution_count": 45,
     "metadata": {},
     "output_type": "execute_result"
    }
   ],
   "source": [
    "x_train.shape "
   ]
  },
  {
   "cell_type": "code",
   "execution_count": 46,
   "id": "3904a284",
   "metadata": {},
   "outputs": [
    {
     "data": {
      "text/plain": [
       "(296, 7)"
      ]
     },
     "execution_count": 46,
     "metadata": {},
     "output_type": "execute_result"
    }
   ],
   "source": [
    "x_test.shape  "
   ]
  },
  {
   "cell_type": "markdown",
   "id": "a27adf7b",
   "metadata": {},
   "source": [
    "## Data Preprocessing"
   ]
  },
  {
   "cell_type": "markdown",
   "id": "e76a8c8d",
   "metadata": {},
   "source": [
    "### separating Numerical and categorical columns "
   ]
  },
  {
   "cell_type": "code",
   "execution_count": 47,
   "id": "b36047c9",
   "metadata": {},
   "outputs": [
    {
     "data": {
      "text/html": [
       "<div>\n",
       "<style scoped>\n",
       "    .dataframe tbody tr th:only-of-type {\n",
       "        vertical-align: middle;\n",
       "    }\n",
       "\n",
       "    .dataframe tbody tr th {\n",
       "        vertical-align: top;\n",
       "    }\n",
       "\n",
       "    .dataframe thead th {\n",
       "        text-align: right;\n",
       "    }\n",
       "</style>\n",
       "<table border=\"1\" class=\"dataframe\">\n",
       "  <thead>\n",
       "    <tr style=\"text-align: right;\">\n",
       "      <th></th>\n",
       "      <th>day_of_week</th>\n",
       "      <th>time</th>\n",
       "      <th>category</th>\n",
       "    </tr>\n",
       "  </thead>\n",
       "  <tbody>\n",
       "    <tr>\n",
       "      <th>1103</th>\n",
       "      <td>Thu</td>\n",
       "      <td>AM</td>\n",
       "      <td>Cycling</td>\n",
       "    </tr>\n",
       "    <tr>\n",
       "      <th>405</th>\n",
       "      <td>Sat</td>\n",
       "      <td>PM</td>\n",
       "      <td>HIIT</td>\n",
       "    </tr>\n",
       "    <tr>\n",
       "      <th>693</th>\n",
       "      <td>Sun</td>\n",
       "      <td>AM</td>\n",
       "      <td>Cycling</td>\n",
       "    </tr>\n",
       "    <tr>\n",
       "      <th>335</th>\n",
       "      <td>Mon</td>\n",
       "      <td>AM</td>\n",
       "      <td>Yoga</td>\n",
       "    </tr>\n",
       "    <tr>\n",
       "      <th>587</th>\n",
       "      <td>Fri</td>\n",
       "      <td>AM</td>\n",
       "      <td>HIIT</td>\n",
       "    </tr>\n",
       "  </tbody>\n",
       "</table>\n",
       "</div>"
      ],
      "text/plain": [
       "     day_of_week time category\n",
       "1103         Thu   AM  Cycling\n",
       "405          Sat   PM     HIIT\n",
       "693          Sun   AM  Cycling\n",
       "335          Mon   AM     Yoga\n",
       "587          Fri   AM     HIIT"
      ]
     },
     "execution_count": 47,
     "metadata": {},
     "output_type": "execute_result"
    }
   ],
   "source": [
    "# categorical coulmns\n",
    "x_train_cat = x_train.select_dtypes(include=['object'])\n",
    "\n",
    "x_train_cat.head()  "
   ]
  },
  {
   "cell_type": "code",
   "execution_count": 48,
   "id": "17475208",
   "metadata": {},
   "outputs": [
    {
     "data": {
      "text/html": [
       "<div>\n",
       "<style scoped>\n",
       "    .dataframe tbody tr th:only-of-type {\n",
       "        vertical-align: middle;\n",
       "    }\n",
       "\n",
       "    .dataframe tbody tr th {\n",
       "        vertical-align: top;\n",
       "    }\n",
       "\n",
       "    .dataframe thead th {\n",
       "        text-align: right;\n",
       "    }\n",
       "</style>\n",
       "<table border=\"1\" class=\"dataframe\">\n",
       "  <thead>\n",
       "    <tr style=\"text-align: right;\">\n",
       "      <th></th>\n",
       "      <th>booking_id</th>\n",
       "      <th>months_as_member</th>\n",
       "      <th>weight</th>\n",
       "      <th>days_before</th>\n",
       "    </tr>\n",
       "  </thead>\n",
       "  <tbody>\n",
       "    <tr>\n",
       "      <th>1103</th>\n",
       "      <td>1119</td>\n",
       "      <td>3</td>\n",
       "      <td>127.59</td>\n",
       "      <td>8</td>\n",
       "    </tr>\n",
       "    <tr>\n",
       "      <th>405</th>\n",
       "      <td>410</td>\n",
       "      <td>10</td>\n",
       "      <td>85.31</td>\n",
       "      <td>12</td>\n",
       "    </tr>\n",
       "    <tr>\n",
       "      <th>693</th>\n",
       "      <td>701</td>\n",
       "      <td>10</td>\n",
       "      <td>82.74</td>\n",
       "      <td>14</td>\n",
       "    </tr>\n",
       "    <tr>\n",
       "      <th>335</th>\n",
       "      <td>339</td>\n",
       "      <td>13</td>\n",
       "      <td>71.22</td>\n",
       "      <td>3</td>\n",
       "    </tr>\n",
       "    <tr>\n",
       "      <th>587</th>\n",
       "      <td>594</td>\n",
       "      <td>48</td>\n",
       "      <td>65.02</td>\n",
       "      <td>10</td>\n",
       "    </tr>\n",
       "  </tbody>\n",
       "</table>\n",
       "</div>"
      ],
      "text/plain": [
       "      booking_id  months_as_member  weight  days_before\n",
       "1103        1119                 3  127.59            8\n",
       "405          410                10   85.31           12\n",
       "693          701                10   82.74           14\n",
       "335          339                13   71.22            3\n",
       "587          594                48   65.02           10"
      ]
     },
     "execution_count": 48,
     "metadata": {},
     "output_type": "execute_result"
    }
   ],
   "source": [
    "# Numerical columns\n",
    "x_train_num = x_train.select_dtypes(include=['int64', 'float64'])\n",
    "\n",
    "x_train_num.head()  "
   ]
  },
  {
   "cell_type": "markdown",
   "id": "7704c075",
   "metadata": {},
   "source": [
    "## Preprocessing the Train_data"
   ]
  },
  {
   "cell_type": "markdown",
   "id": "cd047bff",
   "metadata": {},
   "source": [
    "### Scaling the Numerical columns"
   ]
  },
  {
   "cell_type": "code",
   "execution_count": 49,
   "id": "99ae3219",
   "metadata": {},
   "outputs": [
    {
     "data": {
      "text/html": [
       "<div>\n",
       "<style scoped>\n",
       "    .dataframe tbody tr th:only-of-type {\n",
       "        vertical-align: middle;\n",
       "    }\n",
       "\n",
       "    .dataframe tbody tr th {\n",
       "        vertical-align: top;\n",
       "    }\n",
       "\n",
       "    .dataframe thead th {\n",
       "        text-align: right;\n",
       "    }\n",
       "</style>\n",
       "<table border=\"1\" class=\"dataframe\">\n",
       "  <thead>\n",
       "    <tr style=\"text-align: right;\">\n",
       "      <th></th>\n",
       "      <th>booking_id</th>\n",
       "      <th>months_as_member</th>\n",
       "      <th>weight</th>\n",
       "      <th>days_before</th>\n",
       "    </tr>\n",
       "  </thead>\n",
       "  <tbody>\n",
       "    <tr>\n",
       "      <th>1103</th>\n",
       "      <td>1119</td>\n",
       "      <td>3</td>\n",
       "      <td>127.59</td>\n",
       "      <td>8</td>\n",
       "    </tr>\n",
       "    <tr>\n",
       "      <th>405</th>\n",
       "      <td>410</td>\n",
       "      <td>10</td>\n",
       "      <td>85.31</td>\n",
       "      <td>12</td>\n",
       "    </tr>\n",
       "    <tr>\n",
       "      <th>693</th>\n",
       "      <td>701</td>\n",
       "      <td>10</td>\n",
       "      <td>82.74</td>\n",
       "      <td>14</td>\n",
       "    </tr>\n",
       "    <tr>\n",
       "      <th>335</th>\n",
       "      <td>339</td>\n",
       "      <td>13</td>\n",
       "      <td>71.22</td>\n",
       "      <td>3</td>\n",
       "    </tr>\n",
       "    <tr>\n",
       "      <th>587</th>\n",
       "      <td>594</td>\n",
       "      <td>48</td>\n",
       "      <td>65.02</td>\n",
       "      <td>10</td>\n",
       "    </tr>\n",
       "  </tbody>\n",
       "</table>\n",
       "</div>"
      ],
      "text/plain": [
       "      booking_id  months_as_member  weight  days_before\n",
       "1103        1119                 3  127.59            8\n",
       "405          410                10   85.31           12\n",
       "693          701                10   82.74           14\n",
       "335          339                13   71.22            3\n",
       "587          594                48   65.02           10"
      ]
     },
     "execution_count": 49,
     "metadata": {},
     "output_type": "execute_result"
    }
   ],
   "source": [
    "x_train_num.head()  "
   ]
  },
  {
   "cell_type": "code",
   "execution_count": 50,
   "id": "4a7fe74e",
   "metadata": {},
   "outputs": [
    {
     "data": {
      "text/html": [
       "<div>\n",
       "<style scoped>\n",
       "    .dataframe tbody tr th:only-of-type {\n",
       "        vertical-align: middle;\n",
       "    }\n",
       "\n",
       "    .dataframe tbody tr th {\n",
       "        vertical-align: top;\n",
       "    }\n",
       "\n",
       "    .dataframe thead th {\n",
       "        text-align: right;\n",
       "    }\n",
       "</style>\n",
       "<table border=\"1\" class=\"dataframe\">\n",
       "  <thead>\n",
       "    <tr style=\"text-align: right;\">\n",
       "      <th></th>\n",
       "      <th>booking_id</th>\n",
       "      <th>months_as_member</th>\n",
       "      <th>weight</th>\n",
       "      <th>days_before</th>\n",
       "    </tr>\n",
       "  </thead>\n",
       "  <tbody>\n",
       "    <tr>\n",
       "      <th>1103</th>\n",
       "      <td>0.858140</td>\n",
       "      <td>-0.972225</td>\n",
       "      <td>3.497808</td>\n",
       "      <td>-0.098481</td>\n",
       "    </tr>\n",
       "    <tr>\n",
       "      <th>405</th>\n",
       "      <td>-0.768126</td>\n",
       "      <td>-0.428734</td>\n",
       "      <td>0.204046</td>\n",
       "      <td>0.895990</td>\n",
       "    </tr>\n",
       "    <tr>\n",
       "      <th>693</th>\n",
       "      <td>-0.100646</td>\n",
       "      <td>-0.428734</td>\n",
       "      <td>0.003834</td>\n",
       "      <td>1.393226</td>\n",
       "    </tr>\n",
       "    <tr>\n",
       "      <th>335</th>\n",
       "      <td>-0.930982</td>\n",
       "      <td>-0.195809</td>\n",
       "      <td>-0.893615</td>\n",
       "      <td>-1.341570</td>\n",
       "    </tr>\n",
       "    <tr>\n",
       "      <th>587</th>\n",
       "      <td>-0.346077</td>\n",
       "      <td>2.521648</td>\n",
       "      <td>-1.376617</td>\n",
       "      <td>0.398754</td>\n",
       "    </tr>\n",
       "  </tbody>\n",
       "</table>\n",
       "</div>"
      ],
      "text/plain": [
       "      booking_id  months_as_member    weight  days_before\n",
       "1103    0.858140         -0.972225  3.497808    -0.098481\n",
       "405    -0.768126         -0.428734  0.204046     0.895990\n",
       "693    -0.100646         -0.428734  0.003834     1.393226\n",
       "335    -0.930982         -0.195809 -0.893615    -1.341570\n",
       "587    -0.346077          2.521648 -1.376617     0.398754"
      ]
     },
     "execution_count": 50,
     "metadata": {},
     "output_type": "execute_result"
    }
   ],
   "source": [
    "# scaling the numerical features using standardization\n",
    "from sklearn.preprocessing import StandardScaler\n",
    "\n",
    "scaler = StandardScaler()\n",
    "\n",
    "# column names are (annoyingly) lost after Scaling\n",
    "# (i.e. the dataframe is converted to a numpy ndarray)\n",
    "\n",
    "x_train_num_rescaled = pd.DataFrame(scaler.fit_transform(x_train_num), \n",
    "                                    columns = x_train_num.columns, \n",
    "                                    index = x_train_num.index)\n",
    "\n",
    "x_train_num_rescaled.head() "
   ]
  },
  {
   "cell_type": "code",
   "execution_count": 51,
   "id": "d06ca232",
   "metadata": {},
   "outputs": [
    {
     "data": {
      "text/html": [
       "<div>\n",
       "<style scoped>\n",
       "    .dataframe tbody tr th:only-of-type {\n",
       "        vertical-align: middle;\n",
       "    }\n",
       "\n",
       "    .dataframe tbody tr th {\n",
       "        vertical-align: top;\n",
       "    }\n",
       "\n",
       "    .dataframe thead th {\n",
       "        text-align: right;\n",
       "    }\n",
       "</style>\n",
       "<table border=\"1\" class=\"dataframe\">\n",
       "  <thead>\n",
       "    <tr style=\"text-align: right;\">\n",
       "      <th></th>\n",
       "      <th>booking_id</th>\n",
       "      <th>months_as_member</th>\n",
       "      <th>weight</th>\n",
       "      <th>days_before</th>\n",
       "    </tr>\n",
       "  </thead>\n",
       "  <tbody>\n",
       "    <tr>\n",
       "      <th>count</th>\n",
       "      <td>1184.000000</td>\n",
       "      <td>1184.000000</td>\n",
       "      <td>1184.000000</td>\n",
       "      <td>1184.000000</td>\n",
       "    </tr>\n",
       "    <tr>\n",
       "      <th>mean</th>\n",
       "      <td>744.878378</td>\n",
       "      <td>15.521959</td>\n",
       "      <td>82.690785</td>\n",
       "      <td>8.396115</td>\n",
       "    </tr>\n",
       "    <tr>\n",
       "      <th>std</th>\n",
       "      <td>436.152050</td>\n",
       "      <td>12.885130</td>\n",
       "      <td>12.841809</td>\n",
       "      <td>4.023937</td>\n",
       "    </tr>\n",
       "    <tr>\n",
       "      <th>min</th>\n",
       "      <td>1.000000</td>\n",
       "      <td>1.000000</td>\n",
       "      <td>55.410000</td>\n",
       "      <td>1.000000</td>\n",
       "    </tr>\n",
       "    <tr>\n",
       "      <th>25%</th>\n",
       "      <td>365.750000</td>\n",
       "      <td>8.000000</td>\n",
       "      <td>73.410000</td>\n",
       "      <td>4.000000</td>\n",
       "    </tr>\n",
       "    <tr>\n",
       "      <th>50%</th>\n",
       "      <td>743.000000</td>\n",
       "      <td>12.000000</td>\n",
       "      <td>81.125000</td>\n",
       "      <td>9.500000</td>\n",
       "    </tr>\n",
       "    <tr>\n",
       "      <th>75%</th>\n",
       "      <td>1129.250000</td>\n",
       "      <td>19.000000</td>\n",
       "      <td>89.687500</td>\n",
       "      <td>12.000000</td>\n",
       "    </tr>\n",
       "    <tr>\n",
       "      <th>max</th>\n",
       "      <td>1500.000000</td>\n",
       "      <td>148.000000</td>\n",
       "      <td>170.520000</td>\n",
       "      <td>20.000000</td>\n",
       "    </tr>\n",
       "  </tbody>\n",
       "</table>\n",
       "</div>"
      ],
      "text/plain": [
       "        booking_id  months_as_member       weight  days_before\n",
       "count  1184.000000       1184.000000  1184.000000  1184.000000\n",
       "mean    744.878378         15.521959    82.690785     8.396115\n",
       "std     436.152050         12.885130    12.841809     4.023937\n",
       "min       1.000000          1.000000    55.410000     1.000000\n",
       "25%     365.750000          8.000000    73.410000     4.000000\n",
       "50%     743.000000         12.000000    81.125000     9.500000\n",
       "75%    1129.250000         19.000000    89.687500    12.000000\n",
       "max    1500.000000        148.000000   170.520000    20.000000"
      ]
     },
     "execution_count": 51,
     "metadata": {},
     "output_type": "execute_result"
    }
   ],
   "source": [
    "# checking mean,median,standard deviation of numerical columns after rescaling\n",
    "x_train_num.describe() "
   ]
  },
  {
   "cell_type": "code",
   "execution_count": 52,
   "id": "d1f848ac",
   "metadata": {},
   "outputs": [
    {
     "data": {
      "text/html": [
       "<div>\n",
       "<style scoped>\n",
       "    .dataframe tbody tr th:only-of-type {\n",
       "        vertical-align: middle;\n",
       "    }\n",
       "\n",
       "    .dataframe tbody tr th {\n",
       "        vertical-align: top;\n",
       "    }\n",
       "\n",
       "    .dataframe thead th {\n",
       "        text-align: right;\n",
       "    }\n",
       "</style>\n",
       "<table border=\"1\" class=\"dataframe\">\n",
       "  <thead>\n",
       "    <tr style=\"text-align: right;\">\n",
       "      <th></th>\n",
       "      <th>day_of_week_Mon</th>\n",
       "      <th>day_of_week_Sat</th>\n",
       "      <th>day_of_week_Sun</th>\n",
       "      <th>day_of_week_Thu</th>\n",
       "      <th>day_of_week_Tue</th>\n",
       "      <th>day_of_week_Wed</th>\n",
       "      <th>time_PM</th>\n",
       "      <th>category_Cycling</th>\n",
       "      <th>category_HIIT</th>\n",
       "      <th>category_NA</th>\n",
       "      <th>category_Strength</th>\n",
       "      <th>category_Yoga</th>\n",
       "    </tr>\n",
       "  </thead>\n",
       "  <tbody>\n",
       "    <tr>\n",
       "      <th>1103</th>\n",
       "      <td>0.0</td>\n",
       "      <td>0.0</td>\n",
       "      <td>0.0</td>\n",
       "      <td>1.0</td>\n",
       "      <td>0.0</td>\n",
       "      <td>0.0</td>\n",
       "      <td>0.0</td>\n",
       "      <td>1.0</td>\n",
       "      <td>0.0</td>\n",
       "      <td>0.0</td>\n",
       "      <td>0.0</td>\n",
       "      <td>0.0</td>\n",
       "    </tr>\n",
       "    <tr>\n",
       "      <th>405</th>\n",
       "      <td>0.0</td>\n",
       "      <td>1.0</td>\n",
       "      <td>0.0</td>\n",
       "      <td>0.0</td>\n",
       "      <td>0.0</td>\n",
       "      <td>0.0</td>\n",
       "      <td>1.0</td>\n",
       "      <td>0.0</td>\n",
       "      <td>1.0</td>\n",
       "      <td>0.0</td>\n",
       "      <td>0.0</td>\n",
       "      <td>0.0</td>\n",
       "    </tr>\n",
       "    <tr>\n",
       "      <th>693</th>\n",
       "      <td>0.0</td>\n",
       "      <td>0.0</td>\n",
       "      <td>1.0</td>\n",
       "      <td>0.0</td>\n",
       "      <td>0.0</td>\n",
       "      <td>0.0</td>\n",
       "      <td>0.0</td>\n",
       "      <td>1.0</td>\n",
       "      <td>0.0</td>\n",
       "      <td>0.0</td>\n",
       "      <td>0.0</td>\n",
       "      <td>0.0</td>\n",
       "    </tr>\n",
       "    <tr>\n",
       "      <th>335</th>\n",
       "      <td>1.0</td>\n",
       "      <td>0.0</td>\n",
       "      <td>0.0</td>\n",
       "      <td>0.0</td>\n",
       "      <td>0.0</td>\n",
       "      <td>0.0</td>\n",
       "      <td>0.0</td>\n",
       "      <td>0.0</td>\n",
       "      <td>0.0</td>\n",
       "      <td>0.0</td>\n",
       "      <td>0.0</td>\n",
       "      <td>1.0</td>\n",
       "    </tr>\n",
       "    <tr>\n",
       "      <th>587</th>\n",
       "      <td>0.0</td>\n",
       "      <td>0.0</td>\n",
       "      <td>0.0</td>\n",
       "      <td>0.0</td>\n",
       "      <td>0.0</td>\n",
       "      <td>0.0</td>\n",
       "      <td>0.0</td>\n",
       "      <td>0.0</td>\n",
       "      <td>1.0</td>\n",
       "      <td>0.0</td>\n",
       "      <td>0.0</td>\n",
       "      <td>0.0</td>\n",
       "    </tr>\n",
       "  </tbody>\n",
       "</table>\n",
       "</div>"
      ],
      "text/plain": [
       "      day_of_week_Mon  day_of_week_Sat  day_of_week_Sun  day_of_week_Thu  \\\n",
       "1103              0.0              0.0              0.0              1.0   \n",
       "405               0.0              1.0              0.0              0.0   \n",
       "693               0.0              0.0              1.0              0.0   \n",
       "335               1.0              0.0              0.0              0.0   \n",
       "587               0.0              0.0              0.0              0.0   \n",
       "\n",
       "      day_of_week_Tue  day_of_week_Wed  time_PM  category_Cycling  \\\n",
       "1103              0.0              0.0      0.0               1.0   \n",
       "405               0.0              0.0      1.0               0.0   \n",
       "693               0.0              0.0      0.0               1.0   \n",
       "335               0.0              0.0      0.0               0.0   \n",
       "587               0.0              0.0      0.0               0.0   \n",
       "\n",
       "      category_HIIT  category_NA  category_Strength  category_Yoga  \n",
       "1103            0.0          0.0                0.0            0.0  \n",
       "405             1.0          0.0                0.0            0.0  \n",
       "693             0.0          0.0                0.0            0.0  \n",
       "335             0.0          0.0                0.0            1.0  \n",
       "587             1.0          0.0                0.0            0.0  "
      ]
     },
     "execution_count": 52,
     "metadata": {},
     "output_type": "execute_result"
    }
   ],
   "source": [
    "# OneHotEncoding the categorical features\n",
    "\n",
    "from sklearn.preprocessing import OneHotEncoder\n",
    "\n",
    "encoder = OneHotEncoder(drop='first', sparse=False)\n",
    "\n",
    "# column names are (annoyingly) lost after OneHotEncoding\n",
    "# (i.e. the dataframe is converted to a numpy ndarray)\n",
    "x_train_cat_OneEnc = pd.DataFrame(encoder.fit_transform(x_train_cat), \n",
    "                               columns=encoder.get_feature_names_out(x_train_cat.columns), \n",
    "                               index = x_train_cat.index)\n",
    "\n",
    "x_train_cat_OneEnc.head()   "
   ]
  },
  {
   "cell_type": "markdown",
   "id": "2bd6bc89",
   "metadata": {},
   "source": [
    "### Concatinating the Categorical Features and Numerical Features: "
   ]
  },
  {
   "cell_type": "code",
   "execution_count": 53,
   "id": "fa390272",
   "metadata": {},
   "outputs": [
    {
     "data": {
      "text/html": [
       "<div>\n",
       "<style scoped>\n",
       "    .dataframe tbody tr th:only-of-type {\n",
       "        vertical-align: middle;\n",
       "    }\n",
       "\n",
       "    .dataframe tbody tr th {\n",
       "        vertical-align: top;\n",
       "    }\n",
       "\n",
       "    .dataframe thead th {\n",
       "        text-align: right;\n",
       "    }\n",
       "</style>\n",
       "<table border=\"1\" class=\"dataframe\">\n",
       "  <thead>\n",
       "    <tr style=\"text-align: right;\">\n",
       "      <th></th>\n",
       "      <th>booking_id</th>\n",
       "      <th>months_as_member</th>\n",
       "      <th>weight</th>\n",
       "      <th>days_before</th>\n",
       "      <th>day_of_week_Mon</th>\n",
       "      <th>day_of_week_Sat</th>\n",
       "      <th>day_of_week_Sun</th>\n",
       "      <th>day_of_week_Thu</th>\n",
       "      <th>day_of_week_Tue</th>\n",
       "      <th>day_of_week_Wed</th>\n",
       "      <th>time_PM</th>\n",
       "      <th>category_Cycling</th>\n",
       "      <th>category_HIIT</th>\n",
       "      <th>category_NA</th>\n",
       "      <th>category_Strength</th>\n",
       "      <th>category_Yoga</th>\n",
       "    </tr>\n",
       "  </thead>\n",
       "  <tbody>\n",
       "    <tr>\n",
       "      <th>1103</th>\n",
       "      <td>0.858140</td>\n",
       "      <td>-0.972225</td>\n",
       "      <td>3.497808</td>\n",
       "      <td>-0.098481</td>\n",
       "      <td>0.0</td>\n",
       "      <td>0.0</td>\n",
       "      <td>0.0</td>\n",
       "      <td>1.0</td>\n",
       "      <td>0.0</td>\n",
       "      <td>0.0</td>\n",
       "      <td>0.0</td>\n",
       "      <td>1.0</td>\n",
       "      <td>0.0</td>\n",
       "      <td>0.0</td>\n",
       "      <td>0.0</td>\n",
       "      <td>0.0</td>\n",
       "    </tr>\n",
       "    <tr>\n",
       "      <th>405</th>\n",
       "      <td>-0.768126</td>\n",
       "      <td>-0.428734</td>\n",
       "      <td>0.204046</td>\n",
       "      <td>0.895990</td>\n",
       "      <td>0.0</td>\n",
       "      <td>1.0</td>\n",
       "      <td>0.0</td>\n",
       "      <td>0.0</td>\n",
       "      <td>0.0</td>\n",
       "      <td>0.0</td>\n",
       "      <td>1.0</td>\n",
       "      <td>0.0</td>\n",
       "      <td>1.0</td>\n",
       "      <td>0.0</td>\n",
       "      <td>0.0</td>\n",
       "      <td>0.0</td>\n",
       "    </tr>\n",
       "    <tr>\n",
       "      <th>693</th>\n",
       "      <td>-0.100646</td>\n",
       "      <td>-0.428734</td>\n",
       "      <td>0.003834</td>\n",
       "      <td>1.393226</td>\n",
       "      <td>0.0</td>\n",
       "      <td>0.0</td>\n",
       "      <td>1.0</td>\n",
       "      <td>0.0</td>\n",
       "      <td>0.0</td>\n",
       "      <td>0.0</td>\n",
       "      <td>0.0</td>\n",
       "      <td>1.0</td>\n",
       "      <td>0.0</td>\n",
       "      <td>0.0</td>\n",
       "      <td>0.0</td>\n",
       "      <td>0.0</td>\n",
       "    </tr>\n",
       "    <tr>\n",
       "      <th>335</th>\n",
       "      <td>-0.930982</td>\n",
       "      <td>-0.195809</td>\n",
       "      <td>-0.893615</td>\n",
       "      <td>-1.341570</td>\n",
       "      <td>1.0</td>\n",
       "      <td>0.0</td>\n",
       "      <td>0.0</td>\n",
       "      <td>0.0</td>\n",
       "      <td>0.0</td>\n",
       "      <td>0.0</td>\n",
       "      <td>0.0</td>\n",
       "      <td>0.0</td>\n",
       "      <td>0.0</td>\n",
       "      <td>0.0</td>\n",
       "      <td>0.0</td>\n",
       "      <td>1.0</td>\n",
       "    </tr>\n",
       "    <tr>\n",
       "      <th>587</th>\n",
       "      <td>-0.346077</td>\n",
       "      <td>2.521648</td>\n",
       "      <td>-1.376617</td>\n",
       "      <td>0.398754</td>\n",
       "      <td>0.0</td>\n",
       "      <td>0.0</td>\n",
       "      <td>0.0</td>\n",
       "      <td>0.0</td>\n",
       "      <td>0.0</td>\n",
       "      <td>0.0</td>\n",
       "      <td>0.0</td>\n",
       "      <td>0.0</td>\n",
       "      <td>1.0</td>\n",
       "      <td>0.0</td>\n",
       "      <td>0.0</td>\n",
       "      <td>0.0</td>\n",
       "    </tr>\n",
       "  </tbody>\n",
       "</table>\n",
       "</div>"
      ],
      "text/plain": [
       "      booking_id  months_as_member    weight  days_before  day_of_week_Mon  \\\n",
       "1103    0.858140         -0.972225  3.497808    -0.098481              0.0   \n",
       "405    -0.768126         -0.428734  0.204046     0.895990              0.0   \n",
       "693    -0.100646         -0.428734  0.003834     1.393226              0.0   \n",
       "335    -0.930982         -0.195809 -0.893615    -1.341570              1.0   \n",
       "587    -0.346077          2.521648 -1.376617     0.398754              0.0   \n",
       "\n",
       "      day_of_week_Sat  day_of_week_Sun  day_of_week_Thu  day_of_week_Tue  \\\n",
       "1103              0.0              0.0              1.0              0.0   \n",
       "405               1.0              0.0              0.0              0.0   \n",
       "693               0.0              1.0              0.0              0.0   \n",
       "335               0.0              0.0              0.0              0.0   \n",
       "587               0.0              0.0              0.0              0.0   \n",
       "\n",
       "      day_of_week_Wed  time_PM  category_Cycling  category_HIIT  category_NA  \\\n",
       "1103              0.0      0.0               1.0            0.0          0.0   \n",
       "405               0.0      1.0               0.0            1.0          0.0   \n",
       "693               0.0      0.0               1.0            0.0          0.0   \n",
       "335               0.0      0.0               0.0            0.0          0.0   \n",
       "587               0.0      0.0               0.0            1.0          0.0   \n",
       "\n",
       "      category_Strength  category_Yoga  \n",
       "1103                0.0            0.0  \n",
       "405                 0.0            0.0  \n",
       "693                 0.0            0.0  \n",
       "335                 0.0            1.0  \n",
       "587                 0.0            0.0  "
      ]
     },
     "execution_count": 53,
     "metadata": {},
     "output_type": "execute_result"
    }
   ],
   "source": [
    "x_train_transform = pd.concat([x_train_num_rescaled,x_train_cat_OneEnc], axis=1)\n",
    "\n",
    "x_train_transform.head()  "
   ]
  },
  {
   "cell_type": "markdown",
   "id": "8ab682ae",
   "metadata": {},
   "source": [
    "## Preprocessing the Test_data "
   ]
  },
  {
   "cell_type": "code",
   "execution_count": 54,
   "id": "38f1a931",
   "metadata": {},
   "outputs": [
    {
     "data": {
      "text/html": [
       "<div>\n",
       "<style scoped>\n",
       "    .dataframe tbody tr th:only-of-type {\n",
       "        vertical-align: middle;\n",
       "    }\n",
       "\n",
       "    .dataframe tbody tr th {\n",
       "        vertical-align: top;\n",
       "    }\n",
       "\n",
       "    .dataframe thead th {\n",
       "        text-align: right;\n",
       "    }\n",
       "</style>\n",
       "<table border=\"1\" class=\"dataframe\">\n",
       "  <thead>\n",
       "    <tr style=\"text-align: right;\">\n",
       "      <th></th>\n",
       "      <th>booking_id</th>\n",
       "      <th>months_as_member</th>\n",
       "      <th>weight</th>\n",
       "      <th>days_before</th>\n",
       "      <th>day_of_week</th>\n",
       "      <th>time</th>\n",
       "      <th>category</th>\n",
       "    </tr>\n",
       "  </thead>\n",
       "  <tbody>\n",
       "    <tr>\n",
       "      <th>615</th>\n",
       "      <td>622</td>\n",
       "      <td>4</td>\n",
       "      <td>117.81</td>\n",
       "      <td>2</td>\n",
       "      <td>Mon</td>\n",
       "      <td>AM</td>\n",
       "      <td>Yoga</td>\n",
       "    </tr>\n",
       "    <tr>\n",
       "      <th>946</th>\n",
       "      <td>959</td>\n",
       "      <td>7</td>\n",
       "      <td>97.28</td>\n",
       "      <td>4</td>\n",
       "      <td>Tue</td>\n",
       "      <td>PM</td>\n",
       "      <td>Aqua</td>\n",
       "    </tr>\n",
       "    <tr>\n",
       "      <th>848</th>\n",
       "      <td>859</td>\n",
       "      <td>5</td>\n",
       "      <td>112.43</td>\n",
       "      <td>3</td>\n",
       "      <td>Tue</td>\n",
       "      <td>PM</td>\n",
       "      <td>HIIT</td>\n",
       "    </tr>\n",
       "    <tr>\n",
       "      <th>1472</th>\n",
       "      <td>1493</td>\n",
       "      <td>18</td>\n",
       "      <td>74.32</td>\n",
       "      <td>6</td>\n",
       "      <td>Wed</td>\n",
       "      <td>PM</td>\n",
       "      <td>HIIT</td>\n",
       "    </tr>\n",
       "    <tr>\n",
       "      <th>1432</th>\n",
       "      <td>1453</td>\n",
       "      <td>17</td>\n",
       "      <td>67.91</td>\n",
       "      <td>12</td>\n",
       "      <td>Sat</td>\n",
       "      <td>AM</td>\n",
       "      <td>Strength</td>\n",
       "    </tr>\n",
       "  </tbody>\n",
       "</table>\n",
       "</div>"
      ],
      "text/plain": [
       "      booking_id  months_as_member  weight  days_before day_of_week time  \\\n",
       "615          622                 4  117.81            2         Mon   AM   \n",
       "946          959                 7   97.28            4         Tue   PM   \n",
       "848          859                 5  112.43            3         Tue   PM   \n",
       "1472        1493                18   74.32            6         Wed   PM   \n",
       "1432        1453                17   67.91           12         Sat   AM   \n",
       "\n",
       "      category  \n",
       "615       Yoga  \n",
       "946       Aqua  \n",
       "848       HIIT  \n",
       "1472      HIIT  \n",
       "1432  Strength  "
      ]
     },
     "execution_count": 54,
     "metadata": {},
     "output_type": "execute_result"
    }
   ],
   "source": [
    "x_test.head()  "
   ]
  },
  {
   "cell_type": "code",
   "execution_count": 55,
   "id": "6d5ced17",
   "metadata": {},
   "outputs": [
    {
     "data": {
      "text/html": [
       "<div>\n",
       "<style scoped>\n",
       "    .dataframe tbody tr th:only-of-type {\n",
       "        vertical-align: middle;\n",
       "    }\n",
       "\n",
       "    .dataframe tbody tr th {\n",
       "        vertical-align: top;\n",
       "    }\n",
       "\n",
       "    .dataframe thead th {\n",
       "        text-align: right;\n",
       "    }\n",
       "</style>\n",
       "<table border=\"1\" class=\"dataframe\">\n",
       "  <thead>\n",
       "    <tr style=\"text-align: right;\">\n",
       "      <th></th>\n",
       "      <th>day_of_week</th>\n",
       "      <th>time</th>\n",
       "      <th>category</th>\n",
       "    </tr>\n",
       "  </thead>\n",
       "  <tbody>\n",
       "    <tr>\n",
       "      <th>615</th>\n",
       "      <td>Mon</td>\n",
       "      <td>AM</td>\n",
       "      <td>Yoga</td>\n",
       "    </tr>\n",
       "    <tr>\n",
       "      <th>946</th>\n",
       "      <td>Tue</td>\n",
       "      <td>PM</td>\n",
       "      <td>Aqua</td>\n",
       "    </tr>\n",
       "    <tr>\n",
       "      <th>848</th>\n",
       "      <td>Tue</td>\n",
       "      <td>PM</td>\n",
       "      <td>HIIT</td>\n",
       "    </tr>\n",
       "    <tr>\n",
       "      <th>1472</th>\n",
       "      <td>Wed</td>\n",
       "      <td>PM</td>\n",
       "      <td>HIIT</td>\n",
       "    </tr>\n",
       "    <tr>\n",
       "      <th>1432</th>\n",
       "      <td>Sat</td>\n",
       "      <td>AM</td>\n",
       "      <td>Strength</td>\n",
       "    </tr>\n",
       "  </tbody>\n",
       "</table>\n",
       "</div>"
      ],
      "text/plain": [
       "     day_of_week time  category\n",
       "615          Mon   AM      Yoga\n",
       "946          Tue   PM      Aqua\n",
       "848          Tue   PM      HIIT\n",
       "1472         Wed   PM      HIIT\n",
       "1432         Sat   AM  Strength"
      ]
     },
     "execution_count": 55,
     "metadata": {},
     "output_type": "execute_result"
    }
   ],
   "source": [
    "# separating categorical columns\n",
    "x_test_cat = x_test.select_dtypes(include=['object'])\n",
    "\n",
    "x_test_cat.head() "
   ]
  },
  {
   "cell_type": "code",
   "execution_count": 56,
   "id": "028a3183",
   "metadata": {},
   "outputs": [
    {
     "data": {
      "text/html": [
       "<div>\n",
       "<style scoped>\n",
       "    .dataframe tbody tr th:only-of-type {\n",
       "        vertical-align: middle;\n",
       "    }\n",
       "\n",
       "    .dataframe tbody tr th {\n",
       "        vertical-align: top;\n",
       "    }\n",
       "\n",
       "    .dataframe thead th {\n",
       "        text-align: right;\n",
       "    }\n",
       "</style>\n",
       "<table border=\"1\" class=\"dataframe\">\n",
       "  <thead>\n",
       "    <tr style=\"text-align: right;\">\n",
       "      <th></th>\n",
       "      <th>booking_id</th>\n",
       "      <th>months_as_member</th>\n",
       "      <th>weight</th>\n",
       "      <th>days_before</th>\n",
       "    </tr>\n",
       "  </thead>\n",
       "  <tbody>\n",
       "    <tr>\n",
       "      <th>615</th>\n",
       "      <td>622</td>\n",
       "      <td>4</td>\n",
       "      <td>117.81</td>\n",
       "      <td>2</td>\n",
       "    </tr>\n",
       "    <tr>\n",
       "      <th>946</th>\n",
       "      <td>959</td>\n",
       "      <td>7</td>\n",
       "      <td>97.28</td>\n",
       "      <td>4</td>\n",
       "    </tr>\n",
       "    <tr>\n",
       "      <th>848</th>\n",
       "      <td>859</td>\n",
       "      <td>5</td>\n",
       "      <td>112.43</td>\n",
       "      <td>3</td>\n",
       "    </tr>\n",
       "    <tr>\n",
       "      <th>1472</th>\n",
       "      <td>1493</td>\n",
       "      <td>18</td>\n",
       "      <td>74.32</td>\n",
       "      <td>6</td>\n",
       "    </tr>\n",
       "    <tr>\n",
       "      <th>1432</th>\n",
       "      <td>1453</td>\n",
       "      <td>17</td>\n",
       "      <td>67.91</td>\n",
       "      <td>12</td>\n",
       "    </tr>\n",
       "  </tbody>\n",
       "</table>\n",
       "</div>"
      ],
      "text/plain": [
       "      booking_id  months_as_member  weight  days_before\n",
       "615          622                 4  117.81            2\n",
       "946          959                 7   97.28            4\n",
       "848          859                 5  112.43            3\n",
       "1472        1493                18   74.32            6\n",
       "1432        1453                17   67.91           12"
      ]
     },
     "execution_count": 56,
     "metadata": {},
     "output_type": "execute_result"
    }
   ],
   "source": [
    "# separarting numerical columns of test data\n",
    "x_test_num = x_test.select_dtypes(include=['int64', 'float64'])\n",
    "\n",
    "x_test_num.head()   "
   ]
  },
  {
   "cell_type": "code",
   "execution_count": 57,
   "id": "2ede7865",
   "metadata": {},
   "outputs": [
    {
     "data": {
      "text/html": [
       "<div>\n",
       "<style scoped>\n",
       "    .dataframe tbody tr th:only-of-type {\n",
       "        vertical-align: middle;\n",
       "    }\n",
       "\n",
       "    .dataframe tbody tr th {\n",
       "        vertical-align: top;\n",
       "    }\n",
       "\n",
       "    .dataframe thead th {\n",
       "        text-align: right;\n",
       "    }\n",
       "</style>\n",
       "<table border=\"1\" class=\"dataframe\">\n",
       "  <thead>\n",
       "    <tr style=\"text-align: right;\">\n",
       "      <th></th>\n",
       "      <th>booking_id</th>\n",
       "      <th>months_as_member</th>\n",
       "      <th>weight</th>\n",
       "      <th>days_before</th>\n",
       "    </tr>\n",
       "  </thead>\n",
       "  <tbody>\n",
       "    <tr>\n",
       "      <th>615</th>\n",
       "      <td>-0.281852</td>\n",
       "      <td>-0.894584</td>\n",
       "      <td>2.735912</td>\n",
       "      <td>-1.590188</td>\n",
       "    </tr>\n",
       "    <tr>\n",
       "      <th>946</th>\n",
       "      <td>0.491141</td>\n",
       "      <td>-0.661659</td>\n",
       "      <td>1.136552</td>\n",
       "      <td>-1.092952</td>\n",
       "    </tr>\n",
       "    <tr>\n",
       "      <th>848</th>\n",
       "      <td>0.261766</td>\n",
       "      <td>-0.816942</td>\n",
       "      <td>2.316790</td>\n",
       "      <td>-1.341570</td>\n",
       "    </tr>\n",
       "    <tr>\n",
       "      <th>1472</th>\n",
       "      <td>1.716002</td>\n",
       "      <td>0.192399</td>\n",
       "      <td>-0.652114</td>\n",
       "      <td>-0.595717</td>\n",
       "    </tr>\n",
       "    <tr>\n",
       "      <th>1432</th>\n",
       "      <td>1.624252</td>\n",
       "      <td>0.114757</td>\n",
       "      <td>-1.151476</td>\n",
       "      <td>0.895990</td>\n",
       "    </tr>\n",
       "  </tbody>\n",
       "</table>\n",
       "</div>"
      ],
      "text/plain": [
       "      booking_id  months_as_member    weight  days_before\n",
       "615    -0.281852         -0.894584  2.735912    -1.590188\n",
       "946     0.491141         -0.661659  1.136552    -1.092952\n",
       "848     0.261766         -0.816942  2.316790    -1.341570\n",
       "1472    1.716002          0.192399 -0.652114    -0.595717\n",
       "1432    1.624252          0.114757 -1.151476     0.895990"
      ]
     },
     "execution_count": 57,
     "metadata": {},
     "output_type": "execute_result"
    }
   ],
   "source": [
    "# rescaling numerical columns of test data\n",
    "x_test_num_rescaled = pd.DataFrame(scaler.transform(x_test_num), \n",
    "                                   columns = x_test_num.columns, \n",
    "                                   index = x_test_num.index)\n",
    "\n",
    "x_test_num_rescaled.head() "
   ]
  },
  {
   "cell_type": "code",
   "execution_count": 58,
   "id": "2dae9f39",
   "metadata": {},
   "outputs": [
    {
     "data": {
      "text/html": [
       "<div>\n",
       "<style scoped>\n",
       "    .dataframe tbody tr th:only-of-type {\n",
       "        vertical-align: middle;\n",
       "    }\n",
       "\n",
       "    .dataframe tbody tr th {\n",
       "        vertical-align: top;\n",
       "    }\n",
       "\n",
       "    .dataframe thead th {\n",
       "        text-align: right;\n",
       "    }\n",
       "</style>\n",
       "<table border=\"1\" class=\"dataframe\">\n",
       "  <thead>\n",
       "    <tr style=\"text-align: right;\">\n",
       "      <th></th>\n",
       "      <th>day_of_week_Mon</th>\n",
       "      <th>day_of_week_Sat</th>\n",
       "      <th>day_of_week_Sun</th>\n",
       "      <th>day_of_week_Thu</th>\n",
       "      <th>day_of_week_Tue</th>\n",
       "      <th>day_of_week_Wed</th>\n",
       "      <th>time_PM</th>\n",
       "      <th>category_Cycling</th>\n",
       "      <th>category_HIIT</th>\n",
       "      <th>category_NA</th>\n",
       "      <th>category_Strength</th>\n",
       "      <th>category_Yoga</th>\n",
       "    </tr>\n",
       "  </thead>\n",
       "  <tbody>\n",
       "    <tr>\n",
       "      <th>615</th>\n",
       "      <td>1.0</td>\n",
       "      <td>0.0</td>\n",
       "      <td>0.0</td>\n",
       "      <td>0.0</td>\n",
       "      <td>0.0</td>\n",
       "      <td>0.0</td>\n",
       "      <td>0.0</td>\n",
       "      <td>0.0</td>\n",
       "      <td>0.0</td>\n",
       "      <td>0.0</td>\n",
       "      <td>0.0</td>\n",
       "      <td>1.0</td>\n",
       "    </tr>\n",
       "    <tr>\n",
       "      <th>946</th>\n",
       "      <td>0.0</td>\n",
       "      <td>0.0</td>\n",
       "      <td>0.0</td>\n",
       "      <td>0.0</td>\n",
       "      <td>1.0</td>\n",
       "      <td>0.0</td>\n",
       "      <td>1.0</td>\n",
       "      <td>0.0</td>\n",
       "      <td>0.0</td>\n",
       "      <td>0.0</td>\n",
       "      <td>0.0</td>\n",
       "      <td>0.0</td>\n",
       "    </tr>\n",
       "    <tr>\n",
       "      <th>848</th>\n",
       "      <td>0.0</td>\n",
       "      <td>0.0</td>\n",
       "      <td>0.0</td>\n",
       "      <td>0.0</td>\n",
       "      <td>1.0</td>\n",
       "      <td>0.0</td>\n",
       "      <td>1.0</td>\n",
       "      <td>0.0</td>\n",
       "      <td>1.0</td>\n",
       "      <td>0.0</td>\n",
       "      <td>0.0</td>\n",
       "      <td>0.0</td>\n",
       "    </tr>\n",
       "    <tr>\n",
       "      <th>1472</th>\n",
       "      <td>0.0</td>\n",
       "      <td>0.0</td>\n",
       "      <td>0.0</td>\n",
       "      <td>0.0</td>\n",
       "      <td>0.0</td>\n",
       "      <td>1.0</td>\n",
       "      <td>1.0</td>\n",
       "      <td>0.0</td>\n",
       "      <td>1.0</td>\n",
       "      <td>0.0</td>\n",
       "      <td>0.0</td>\n",
       "      <td>0.0</td>\n",
       "    </tr>\n",
       "    <tr>\n",
       "      <th>1432</th>\n",
       "      <td>0.0</td>\n",
       "      <td>1.0</td>\n",
       "      <td>0.0</td>\n",
       "      <td>0.0</td>\n",
       "      <td>0.0</td>\n",
       "      <td>0.0</td>\n",
       "      <td>0.0</td>\n",
       "      <td>0.0</td>\n",
       "      <td>0.0</td>\n",
       "      <td>0.0</td>\n",
       "      <td>1.0</td>\n",
       "      <td>0.0</td>\n",
       "    </tr>\n",
       "  </tbody>\n",
       "</table>\n",
       "</div>"
      ],
      "text/plain": [
       "      day_of_week_Mon  day_of_week_Sat  day_of_week_Sun  day_of_week_Thu  \\\n",
       "615               1.0              0.0              0.0              0.0   \n",
       "946               0.0              0.0              0.0              0.0   \n",
       "848               0.0              0.0              0.0              0.0   \n",
       "1472              0.0              0.0              0.0              0.0   \n",
       "1432              0.0              1.0              0.0              0.0   \n",
       "\n",
       "      day_of_week_Tue  day_of_week_Wed  time_PM  category_Cycling  \\\n",
       "615               0.0              0.0      0.0               0.0   \n",
       "946               1.0              0.0      1.0               0.0   \n",
       "848               1.0              0.0      1.0               0.0   \n",
       "1472              0.0              1.0      1.0               0.0   \n",
       "1432              0.0              0.0      0.0               0.0   \n",
       "\n",
       "      category_HIIT  category_NA  category_Strength  category_Yoga  \n",
       "615             0.0          0.0                0.0            1.0  \n",
       "946             0.0          0.0                0.0            0.0  \n",
       "848             1.0          0.0                0.0            0.0  \n",
       "1472            1.0          0.0                0.0            0.0  \n",
       "1432            0.0          0.0                1.0            0.0  "
      ]
     },
     "execution_count": 58,
     "metadata": {},
     "output_type": "execute_result"
    }
   ],
   "source": [
    "# OneHotEncoding the categorical features\n",
    "from sklearn.preprocessing import OneHotEncoder\n",
    "\n",
    "#encoder = OneHotEncoder(drop='first', sparse=False)\n",
    "\n",
    "x_test_cat_OneEnc = pd.DataFrame(encoder.transform(x_test_cat), \n",
    "                               columns=encoder.get_feature_names_out(x_test_cat.columns), \n",
    "                               index = x_test_cat.index)\n",
    "\n",
    "x_test_cat_OneEnc.head() "
   ]
  },
  {
   "cell_type": "markdown",
   "id": "4aba1ce6",
   "metadata": {},
   "source": [
    "### Concatinating Numerical and categorical columns"
   ]
  },
  {
   "cell_type": "code",
   "execution_count": 59,
   "id": "57a4b34e",
   "metadata": {},
   "outputs": [
    {
     "data": {
      "text/html": [
       "<div>\n",
       "<style scoped>\n",
       "    .dataframe tbody tr th:only-of-type {\n",
       "        vertical-align: middle;\n",
       "    }\n",
       "\n",
       "    .dataframe tbody tr th {\n",
       "        vertical-align: top;\n",
       "    }\n",
       "\n",
       "    .dataframe thead th {\n",
       "        text-align: right;\n",
       "    }\n",
       "</style>\n",
       "<table border=\"1\" class=\"dataframe\">\n",
       "  <thead>\n",
       "    <tr style=\"text-align: right;\">\n",
       "      <th></th>\n",
       "      <th>booking_id</th>\n",
       "      <th>months_as_member</th>\n",
       "      <th>weight</th>\n",
       "      <th>days_before</th>\n",
       "      <th>day_of_week_Mon</th>\n",
       "      <th>day_of_week_Sat</th>\n",
       "      <th>day_of_week_Sun</th>\n",
       "      <th>day_of_week_Thu</th>\n",
       "      <th>day_of_week_Tue</th>\n",
       "      <th>day_of_week_Wed</th>\n",
       "      <th>time_PM</th>\n",
       "      <th>category_Cycling</th>\n",
       "      <th>category_HIIT</th>\n",
       "      <th>category_NA</th>\n",
       "      <th>category_Strength</th>\n",
       "      <th>category_Yoga</th>\n",
       "    </tr>\n",
       "  </thead>\n",
       "  <tbody>\n",
       "    <tr>\n",
       "      <th>615</th>\n",
       "      <td>-0.281852</td>\n",
       "      <td>-0.894584</td>\n",
       "      <td>2.735912</td>\n",
       "      <td>-1.590188</td>\n",
       "      <td>1.0</td>\n",
       "      <td>0.0</td>\n",
       "      <td>0.0</td>\n",
       "      <td>0.0</td>\n",
       "      <td>0.0</td>\n",
       "      <td>0.0</td>\n",
       "      <td>0.0</td>\n",
       "      <td>0.0</td>\n",
       "      <td>0.0</td>\n",
       "      <td>0.0</td>\n",
       "      <td>0.0</td>\n",
       "      <td>1.0</td>\n",
       "    </tr>\n",
       "    <tr>\n",
       "      <th>946</th>\n",
       "      <td>0.491141</td>\n",
       "      <td>-0.661659</td>\n",
       "      <td>1.136552</td>\n",
       "      <td>-1.092952</td>\n",
       "      <td>0.0</td>\n",
       "      <td>0.0</td>\n",
       "      <td>0.0</td>\n",
       "      <td>0.0</td>\n",
       "      <td>1.0</td>\n",
       "      <td>0.0</td>\n",
       "      <td>1.0</td>\n",
       "      <td>0.0</td>\n",
       "      <td>0.0</td>\n",
       "      <td>0.0</td>\n",
       "      <td>0.0</td>\n",
       "      <td>0.0</td>\n",
       "    </tr>\n",
       "    <tr>\n",
       "      <th>848</th>\n",
       "      <td>0.261766</td>\n",
       "      <td>-0.816942</td>\n",
       "      <td>2.316790</td>\n",
       "      <td>-1.341570</td>\n",
       "      <td>0.0</td>\n",
       "      <td>0.0</td>\n",
       "      <td>0.0</td>\n",
       "      <td>0.0</td>\n",
       "      <td>1.0</td>\n",
       "      <td>0.0</td>\n",
       "      <td>1.0</td>\n",
       "      <td>0.0</td>\n",
       "      <td>1.0</td>\n",
       "      <td>0.0</td>\n",
       "      <td>0.0</td>\n",
       "      <td>0.0</td>\n",
       "    </tr>\n",
       "    <tr>\n",
       "      <th>1472</th>\n",
       "      <td>1.716002</td>\n",
       "      <td>0.192399</td>\n",
       "      <td>-0.652114</td>\n",
       "      <td>-0.595717</td>\n",
       "      <td>0.0</td>\n",
       "      <td>0.0</td>\n",
       "      <td>0.0</td>\n",
       "      <td>0.0</td>\n",
       "      <td>0.0</td>\n",
       "      <td>1.0</td>\n",
       "      <td>1.0</td>\n",
       "      <td>0.0</td>\n",
       "      <td>1.0</td>\n",
       "      <td>0.0</td>\n",
       "      <td>0.0</td>\n",
       "      <td>0.0</td>\n",
       "    </tr>\n",
       "    <tr>\n",
       "      <th>1432</th>\n",
       "      <td>1.624252</td>\n",
       "      <td>0.114757</td>\n",
       "      <td>-1.151476</td>\n",
       "      <td>0.895990</td>\n",
       "      <td>0.0</td>\n",
       "      <td>1.0</td>\n",
       "      <td>0.0</td>\n",
       "      <td>0.0</td>\n",
       "      <td>0.0</td>\n",
       "      <td>0.0</td>\n",
       "      <td>0.0</td>\n",
       "      <td>0.0</td>\n",
       "      <td>0.0</td>\n",
       "      <td>0.0</td>\n",
       "      <td>1.0</td>\n",
       "      <td>0.0</td>\n",
       "    </tr>\n",
       "  </tbody>\n",
       "</table>\n",
       "</div>"
      ],
      "text/plain": [
       "      booking_id  months_as_member    weight  days_before  day_of_week_Mon  \\\n",
       "615    -0.281852         -0.894584  2.735912    -1.590188              1.0   \n",
       "946     0.491141         -0.661659  1.136552    -1.092952              0.0   \n",
       "848     0.261766         -0.816942  2.316790    -1.341570              0.0   \n",
       "1472    1.716002          0.192399 -0.652114    -0.595717              0.0   \n",
       "1432    1.624252          0.114757 -1.151476     0.895990              0.0   \n",
       "\n",
       "      day_of_week_Sat  day_of_week_Sun  day_of_week_Thu  day_of_week_Tue  \\\n",
       "615               0.0              0.0              0.0              0.0   \n",
       "946               0.0              0.0              0.0              1.0   \n",
       "848               0.0              0.0              0.0              1.0   \n",
       "1472              0.0              0.0              0.0              0.0   \n",
       "1432              1.0              0.0              0.0              0.0   \n",
       "\n",
       "      day_of_week_Wed  time_PM  category_Cycling  category_HIIT  category_NA  \\\n",
       "615               0.0      0.0               0.0            0.0          0.0   \n",
       "946               0.0      1.0               0.0            0.0          0.0   \n",
       "848               0.0      1.0               0.0            1.0          0.0   \n",
       "1472              1.0      1.0               0.0            1.0          0.0   \n",
       "1432              0.0      0.0               0.0            0.0          0.0   \n",
       "\n",
       "      category_Strength  category_Yoga  \n",
       "615                 0.0            1.0  \n",
       "946                 0.0            0.0  \n",
       "848                 0.0            0.0  \n",
       "1472                0.0            0.0  \n",
       "1432                1.0            0.0  "
      ]
     },
     "execution_count": 59,
     "metadata": {},
     "output_type": "execute_result"
    }
   ],
   "source": [
    "x_test_transform = pd.concat([x_test_num_rescaled,x_test_cat_OneEnc ], axis=1)\n",
    "\n",
    "x_test_transform.head() "
   ]
  },
  {
   "cell_type": "code",
   "execution_count": null,
   "id": "e0660c43",
   "metadata": {},
   "outputs": [],
   "source": []
  },
  {
   "cell_type": "markdown",
   "id": "9d841a36",
   "metadata": {},
   "source": [
    "## Balancing the Data"
   ]
  },
  {
   "cell_type": "code",
   "execution_count": 60,
   "id": "e2455d52",
   "metadata": {},
   "outputs": [],
   "source": [
    "from imblearn.over_sampling import SMOTE "
   ]
  },
  {
   "cell_type": "code",
   "execution_count": 61,
   "id": "34038d0d",
   "metadata": {},
   "outputs": [],
   "source": [
    "s=SMOTE()"
   ]
  },
  {
   "cell_type": "code",
   "execution_count": 62,
   "id": "9872c3cc",
   "metadata": {},
   "outputs": [],
   "source": [
    "x_train,y_train=s.fit_resample(x_train_transform,y_train)  "
   ]
  },
  {
   "cell_type": "code",
   "execution_count": 63,
   "id": "f4854a72",
   "metadata": {},
   "outputs": [
    {
     "data": {
      "text/plain": [
       "attended\n",
       "0    826\n",
       "1    826\n",
       "Name: count, dtype: int64"
      ]
     },
     "execution_count": 63,
     "metadata": {},
     "output_type": "execute_result"
    }
   ],
   "source": [
    "y_train.value_counts() "
   ]
  },
  {
   "cell_type": "markdown",
   "id": "29275ed4",
   "metadata": {},
   "source": [
    "## Building Logical Structure"
   ]
  },
  {
   "cell_type": "code",
   "execution_count": 64,
   "id": "b2e0d7c3",
   "metadata": {},
   "outputs": [],
   "source": [
    "import keras_tuner as kt\n",
    "\n",
    "from keras import Sequential\n",
    "from keras.layers import Dense, Input "
   ]
  },
  {
   "cell_type": "markdown",
   "id": "df2f11ee",
   "metadata": {},
   "source": [
    "##### Step-1: creating a fucntion"
   ]
  },
  {
   "cell_type": "code",
   "execution_count": 65,
   "id": "3496946d",
   "metadata": {},
   "outputs": [],
   "source": [
    "# def modelss(hp):\n",
    "#     model=Sequential()\n",
    "#     model.add(Input(shape=(4,)))\n",
    "#     model.add(Dense(units=hp.Int(\"neurons\",min_value=4,max_value=100,step=1),activation=hp.Choice(\"activation\",values=[\"sigmoid\",\"tanh\",\"relu\"]),kernel_initializer=hp.Choice(\"weight_init\",values=[\"glorot_uniform\",\"glorot_normal\",\"he_uniform\",\"he_normal\"])))\n",
    "#     model.add(Dense(3,activation=\"softmax\"))\n",
    "#     model.compile(optimizer='sgd',loss=\"sparse_categorical_crossentropy\",metrics=[\"accuracy\"]) \n",
    "#     return model"
   ]
  },
  {
   "cell_type": "code",
   "execution_count": 66,
   "id": "ef31f5a8",
   "metadata": {},
   "outputs": [],
   "source": [
    "def best_model(hp):\n",
    "    model=Sequential()\n",
    "    model.add(Input(shape=(x_train_transform.shape[1],)))\n",
    "    \n",
    "    for i in range(hp.Int(\"hiddenlayers\",min_value=5,max_value=10)):\n",
    "                model.add(Dense(units=hp.Int(\"neurons{}\".format(i),min_value=1,max_value=15),activation=hp.Choice(\"activation\",values=[\"sigmoid\",\"tanh\",\"relu\"]),kernel_initializer=hp.Choice(\"weight_init\",values=[\"glorot_uniform\",\"glorot_normal\",\"he_uniform\",\"he_normal\"])))\n",
    "            \n",
    "    model.add(Dense(1,activation=\"sigmoid\"))\n",
    "    optimizer_choice = hp.Choice('optimizer', values=['sgd', 'adam', 'rmsprop', 'adadelta'])\n",
    "    \n",
    "    model.compile(loss='binary_crossentropy', optimizer=optimizer_choice, metrics=['accuracy'])\n",
    "    return model  "
   ]
  },
  {
   "cell_type": "markdown",
   "id": "7b5b9037",
   "metadata": {},
   "source": [
    "##### Step-2: calling function using tuner() "
   ]
  },
  {
   "cell_type": "code",
   "execution_count": 67,
   "id": "c201e16a",
   "metadata": {},
   "outputs": [
    {
     "name": "stdout",
     "output_type": "stream",
     "text": [
      "Reloading Tuner from C:\\Users\\sss\\Downloads\\Deep_Learning related\\DL_CLASS\\KERAS_TUNER_PROJECT\\keras_project\\list_of_models\\tuner0.json\n"
     ]
    }
   ],
   "source": [
    "tuner=kt.RandomSearch(best_model,objective=\"val_accuracy\",max_trials=5,directory=r\"C:\\Users\\sss\\Downloads\\Deep_Learning related\\DL_CLASS\\KERAS_TUNER_PROJECT\\keras_project\",project_name=\"list_of_models\")"
   ]
  },
  {
   "cell_type": "code",
   "execution_count": 68,
   "id": "c7347ba5",
   "metadata": {},
   "outputs": [
    {
     "data": {
      "text/plain": [
       "(1652, 16)"
      ]
     },
     "execution_count": 68,
     "metadata": {},
     "output_type": "execute_result"
    }
   ],
   "source": [
    "x_train.shape "
   ]
  },
  {
   "cell_type": "code",
   "execution_count": 69,
   "id": "8aa11f72",
   "metadata": {},
   "outputs": [
    {
     "data": {
      "text/plain": [
       "(1652,)"
      ]
     },
     "execution_count": 69,
     "metadata": {},
     "output_type": "execute_result"
    }
   ],
   "source": [
    "y_train.shape "
   ]
  },
  {
   "cell_type": "markdown",
   "id": "311d9957",
   "metadata": {},
   "source": [
    "### Step-3: Training"
   ]
  },
  {
   "cell_type": "code",
   "execution_count": 70,
   "id": "9381daeb",
   "metadata": {},
   "outputs": [],
   "source": [
    "tuner.search(x_train,y_train,epochs=15,validation_data=(x_test_transform,y_test)) "
   ]
  },
  {
   "cell_type": "code",
   "execution_count": 71,
   "id": "afafc8e4",
   "metadata": {},
   "outputs": [
    {
     "name": "stdout",
     "output_type": "stream",
     "text": [
      "Search space summary\n",
      "Default search space size: 13\n",
      "hiddenlayers (Int)\n",
      "{'default': None, 'conditions': [], 'min_value': 5, 'max_value': 10, 'step': 1, 'sampling': 'linear'}\n",
      "neurons0 (Int)\n",
      "{'default': None, 'conditions': [], 'min_value': 1, 'max_value': 15, 'step': 1, 'sampling': 'linear'}\n",
      "activation (Choice)\n",
      "{'default': 'sigmoid', 'conditions': [], 'values': ['sigmoid', 'tanh', 'relu'], 'ordered': False}\n",
      "weight_init (Choice)\n",
      "{'default': 'glorot_uniform', 'conditions': [], 'values': ['glorot_uniform', 'glorot_normal', 'he_uniform', 'he_normal'], 'ordered': False}\n",
      "neurons1 (Int)\n",
      "{'default': None, 'conditions': [], 'min_value': 1, 'max_value': 15, 'step': 1, 'sampling': 'linear'}\n",
      "neurons2 (Int)\n",
      "{'default': None, 'conditions': [], 'min_value': 1, 'max_value': 15, 'step': 1, 'sampling': 'linear'}\n",
      "neurons3 (Int)\n",
      "{'default': None, 'conditions': [], 'min_value': 1, 'max_value': 15, 'step': 1, 'sampling': 'linear'}\n",
      "neurons4 (Int)\n",
      "{'default': None, 'conditions': [], 'min_value': 1, 'max_value': 15, 'step': 1, 'sampling': 'linear'}\n",
      "optimizer (Choice)\n",
      "{'default': 'sgd', 'conditions': [], 'values': ['sgd', 'adam', 'rmsprop', 'adadelta'], 'ordered': False}\n",
      "neurons5 (Int)\n",
      "{'default': None, 'conditions': [], 'min_value': 1, 'max_value': 15, 'step': 1, 'sampling': 'linear'}\n",
      "neurons6 (Int)\n",
      "{'default': None, 'conditions': [], 'min_value': 1, 'max_value': 15, 'step': 1, 'sampling': 'linear'}\n",
      "neurons7 (Int)\n",
      "{'default': None, 'conditions': [], 'min_value': 1, 'max_value': 15, 'step': 1, 'sampling': 'linear'}\n",
      "neurons8 (Int)\n",
      "{'default': None, 'conditions': [], 'min_value': 1, 'max_value': 15, 'step': 1, 'sampling': 'linear'}\n"
     ]
    }
   ],
   "source": [
    "tuner.search_space_summary()"
   ]
  },
  {
   "cell_type": "code",
   "execution_count": 72,
   "id": "1c6f99c3",
   "metadata": {},
   "outputs": [
    {
     "name": "stdout",
     "output_type": "stream",
     "text": [
      "Results summary\n",
      "Results in C:\\Users\\sss\\Downloads\\Deep_Learning related\\DL_CLASS\\KERAS_TUNER_PROJECT\\keras_project\\list_of_models\n",
      "Showing 10 best trials\n",
      "Objective(name=\"val_accuracy\", direction=\"max\")\n",
      "\n",
      "Trial 3 summary\n",
      "Hyperparameters:\n",
      "hiddenlayers: 9\n",
      "neurons0: 5\n",
      "activation: tanh\n",
      "weight_init: glorot_normal\n",
      "neurons1: 10\n",
      "neurons2: 8\n",
      "neurons3: 8\n",
      "neurons4: 13\n",
      "optimizer: adam\n",
      "neurons5: 12\n",
      "neurons6: 1\n",
      "neurons7: 1\n",
      "neurons8: 1\n",
      "Score: 0.712837815284729\n",
      "\n",
      "Trial 2 summary\n",
      "Hyperparameters:\n",
      "hiddenlayers: 6\n",
      "neurons0: 9\n",
      "activation: sigmoid\n",
      "weight_init: he_normal\n",
      "neurons1: 3\n",
      "neurons2: 6\n",
      "neurons3: 12\n",
      "neurons4: 5\n",
      "optimizer: sgd\n",
      "neurons5: 14\n",
      "Score: 0.7060810923576355\n",
      "\n",
      "Trial 4 summary\n",
      "Hyperparameters:\n",
      "hiddenlayers: 6\n",
      "neurons0: 8\n",
      "activation: sigmoid\n",
      "weight_init: glorot_uniform\n",
      "neurons1: 13\n",
      "neurons2: 10\n",
      "neurons3: 3\n",
      "neurons4: 6\n",
      "optimizer: rmsprop\n",
      "neurons5: 2\n",
      "neurons6: 12\n",
      "neurons7: 1\n",
      "neurons8: 14\n",
      "Score: 0.7060810923576355\n",
      "\n",
      "Trial 0 summary\n",
      "Hyperparameters:\n",
      "hiddenlayers: 6\n",
      "neurons0: 8\n",
      "activation: sigmoid\n",
      "weight_init: glorot_normal\n",
      "neurons1: 2\n",
      "neurons2: 10\n",
      "neurons3: 8\n",
      "neurons4: 10\n",
      "optimizer: adadelta\n",
      "neurons5: 1\n",
      "Score: 0.2939189076423645\n",
      "\n",
      "Trial 1 summary\n",
      "Hyperparameters:\n",
      "hiddenlayers: 5\n",
      "neurons0: 9\n",
      "activation: sigmoid\n",
      "weight_init: he_normal\n",
      "neurons1: 2\n",
      "neurons2: 9\n",
      "neurons3: 9\n",
      "neurons4: 8\n",
      "optimizer: adadelta\n",
      "neurons5: 1\n",
      "Score: 0.2939189076423645\n"
     ]
    }
   ],
   "source": [
    "tuner.results_summary()"
   ]
  },
  {
   "cell_type": "code",
   "execution_count": 73,
   "id": "f845722d",
   "metadata": {},
   "outputs": [
    {
     "data": {
      "text/plain": [
       "{'hiddenlayers': 9,\n",
       " 'neurons0': 5,\n",
       " 'activation': 'tanh',\n",
       " 'weight_init': 'glorot_normal',\n",
       " 'neurons1': 10,\n",
       " 'neurons2': 8,\n",
       " 'neurons3': 8,\n",
       " 'neurons4': 13,\n",
       " 'optimizer': 'adam',\n",
       " 'neurons5': 12,\n",
       " 'neurons6': 1,\n",
       " 'neurons7': 1,\n",
       " 'neurons8': 1}"
      ]
     },
     "execution_count": 73,
     "metadata": {},
     "output_type": "execute_result"
    }
   ],
   "source": [
    "tuner.get_best_hyperparameters()[0].values"
   ]
  },
  {
   "cell_type": "code",
   "execution_count": 74,
   "id": "188c8e78",
   "metadata": {},
   "outputs": [],
   "source": [
    "fmodel = tuner.get_best_models(num_models=1)[0]"
   ]
  },
  {
   "cell_type": "code",
   "execution_count": 75,
   "id": "9f5b14a7",
   "metadata": {},
   "outputs": [
    {
     "name": "stdout",
     "output_type": "stream",
     "text": [
      "Model: \"sequential\"\n",
      "_________________________________________________________________\n",
      " Layer (type)                Output Shape              Param #   \n",
      "=================================================================\n",
      " dense (Dense)               (None, 5)                 85        \n",
      "                                                                 \n",
      " dense_1 (Dense)             (None, 10)                60        \n",
      "                                                                 \n",
      " dense_2 (Dense)             (None, 8)                 88        \n",
      "                                                                 \n",
      " dense_3 (Dense)             (None, 8)                 72        \n",
      "                                                                 \n",
      " dense_4 (Dense)             (None, 13)                117       \n",
      "                                                                 \n",
      " dense_5 (Dense)             (None, 12)                168       \n",
      "                                                                 \n",
      " dense_6 (Dense)             (None, 1)                 13        \n",
      "                                                                 \n",
      " dense_7 (Dense)             (None, 1)                 2         \n",
      "                                                                 \n",
      " dense_8 (Dense)             (None, 1)                 2         \n",
      "                                                                 \n",
      " dense_9 (Dense)             (None, 1)                 2         \n",
      "                                                                 \n",
      "=================================================================\n",
      "Total params: 609 (2.38 KB)\n",
      "Trainable params: 609 (2.38 KB)\n",
      "Non-trainable params: 0 (0.00 Byte)\n",
      "_________________________________________________________________\n"
     ]
    }
   ],
   "source": [
    "fmodel.summary()"
   ]
  },
  {
   "cell_type": "code",
   "execution_count": 76,
   "id": "16ca45e4",
   "metadata": {},
   "outputs": [
    {
     "name": "stdout",
     "output_type": "stream",
     "text": [
      "Epoch 1/10\n",
      "141/141 [==============================] - 4s 7ms/step - loss: 0.6137 - accuracy: 0.7030 - val_loss: 0.7100 - val_accuracy: 0.6089\n",
      "Epoch 2/10\n",
      "141/141 [==============================] - 1s 4ms/step - loss: 0.5922 - accuracy: 0.7251 - val_loss: 0.7071 - val_accuracy: 0.6290\n",
      "Epoch 3/10\n",
      "141/141 [==============================] - 1s 4ms/step - loss: 0.5799 - accuracy: 0.7293 - val_loss: 0.6418 - val_accuracy: 0.7419\n",
      "Epoch 4/10\n",
      "141/141 [==============================] - 1s 4ms/step - loss: 0.5674 - accuracy: 0.7422 - val_loss: 0.6915 - val_accuracy: 0.6653\n",
      "Epoch 5/10\n",
      "141/141 [==============================] - 1s 4ms/step - loss: 0.5631 - accuracy: 0.7358 - val_loss: 0.6905 - val_accuracy: 0.6855\n",
      "Epoch 6/10\n",
      "141/141 [==============================] - 1s 4ms/step - loss: 0.5566 - accuracy: 0.7315 - val_loss: 0.6600 - val_accuracy: 0.7298\n",
      "Epoch 7/10\n",
      "141/141 [==============================] - 1s 4ms/step - loss: 0.5492 - accuracy: 0.7457 - val_loss: 0.6652 - val_accuracy: 0.7177\n",
      "Epoch 8/10\n",
      "141/141 [==============================] - 1s 4ms/step - loss: 0.5461 - accuracy: 0.7400 - val_loss: 0.6101 - val_accuracy: 0.7944\n",
      "Epoch 9/10\n",
      "141/141 [==============================] - 1s 4ms/step - loss: 0.5396 - accuracy: 0.7507 - val_loss: 0.6558 - val_accuracy: 0.7218\n",
      "Epoch 10/10\n",
      "141/141 [==============================] - 1s 4ms/step - loss: 0.5442 - accuracy: 0.7429 - val_loss: 0.6196 - val_accuracy: 0.7903\n"
     ]
    }
   ],
   "source": [
    "hist=fmodel.fit(x_train,y_train,batch_size=10,epochs=10,validation_split=0.15)"
   ]
  },
  {
   "cell_type": "code",
   "execution_count": 77,
   "id": "fb527dce",
   "metadata": {},
   "outputs": [
    {
     "data": {
      "text/plain": [
       "<matplotlib.legend.Legend at 0x1e85acb79a0>"
      ]
     },
     "execution_count": 77,
     "metadata": {},
     "output_type": "execute_result"
    },
    {
     "data": {
      "image/png": "[encoded data removed]",
      "text/plain": [
       "<Figure size 640x480 with 1 Axes>"
      ]
     },
     "metadata": {},
     "output_type": "display_data"
    }
   ],
   "source": [
    "plt.plot(range(1,11),hist.history[\"loss\"],label=\"train_loss\")\n",
    "plt.plot(range(1,11),hist.history[\"val_loss\"],label=\"val_loss\")\n",
    "plt.legend()"
   ]
  },
  {
   "cell_type": "code",
   "execution_count": 78,
   "id": "53e1e5e8",
   "metadata": {},
   "outputs": [
    {
     "data": {
      "text/plain": [
       "[0.7100140452384949,\n",
       " 0.7071113586425781,\n",
       " 0.6418280005455017,\n",
       " 0.6915291547775269,\n",
       " 0.6904589533805847,\n",
       " 0.6600436568260193,\n",
       " 0.6652026176452637,\n",
       " 0.6101443767547607,\n",
       " 0.6557736396789551,\n",
       " 0.6195664405822754]"
      ]
     },
     "execution_count": 78,
     "metadata": {},
     "output_type": "execute_result"
    }
   ],
   "source": [
    "hist.history['val_loss']"
   ]
  },
  {
   "cell_type": "code",
   "execution_count": 80,
   "id": "a99e4e71",
   "metadata": {},
   "outputs": [
    {
     "name": "stdout",
     "output_type": "stream",
     "text": [
      "10/10 [==============================] - 0s 4ms/step\n"
     ]
    }
   ],
   "source": [
    "predicted=fmodel.predict(x_test_transform)   "
   ]
  },
  {
   "cell_type": "code",
   "execution_count": 81,
   "id": "c24fbb71",
   "metadata": {},
   "outputs": [],
   "source": [
    "predicted=np.where(predicted>0.5,1,0)"
   ]
  },
  {
   "cell_type": "code",
   "execution_count": 82,
   "id": "d6ece3aa",
   "metadata": {},
   "outputs": [],
   "source": [
    "from sklearn.metrics import accuracy_score, confusion_matrix, ConfusionMatrixDisplay"
   ]
  },
  {
   "cell_type": "code",
   "execution_count": 83,
   "id": "f0046ae9",
   "metadata": {},
   "outputs": [
    {
     "name": "stdout",
     "output_type": "stream",
     "text": [
      "accuracy: 0.793918918918919\n"
     ]
    }
   ],
   "source": [
    "print('accuracy:',accuracy_score(y_test,predicted))"
   ]
  },
  {
   "cell_type": "code",
   "execution_count": 84,
   "id": "a055d501",
   "metadata": {},
   "outputs": [
    {
     "data": {
      "image/png": "[encoded data removed]",
      "text/plain": [
       "<Figure size 640x480 with 2 Axes>"
      ]
     },
     "metadata": {},
     "output_type": "display_data"
    }
   ],
   "source": [
    "cm = confusion_matrix(y_test,predicted)\n",
    "va = ConfusionMatrixDisplay(cm)\n",
    "va.plot()\n",
    "plt.show()"
   ]
  },
  {
   "cell_type": "code",
   "execution_count": null,
   "id": "dd30b8b5",
   "metadata": {},
   "outputs": [],
   "source": []
  },
  {
   "cell_type": "code",
   "execution_count": null,
   "id": "ffc95833",
   "metadata": {},
   "outputs": [],
   "source": []
  }
 ],
 "metadata": {
  "kernelspec": {
   "display_name": "Python 3 (ipykernel)",
   "language": "python",
   "name": "python3"
  },
  "language_info": {
   "codemirror_mode": {
    "name": "ipython",
    "version": 3
   },
   "file_extension": ".py",
   "mimetype": "text/x-python",
   "name": "python",
   "nbconvert_exporter": "python",
   "pygments_lexer": "ipython3",
   "version": "3.9.13"
  }
 },
 "nbformat": 4,
 "nbformat_minor": 5
}
