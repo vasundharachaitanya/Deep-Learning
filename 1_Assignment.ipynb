{
 "cells": [
  {
   "cell_type": "markdown",
   "id": "5250922d",
   "metadata": {},
   "source": [
    "### Creating  a MCP based neuron with the help of Function "
   ]
  },
  {
   "cell_type": "code",
   "execution_count": 1,
   "id": "3d4ce33e",
   "metadata": {},
   "outputs": [],
   "source": [
    "import numpy as np"
   ]
  },
  {
   "cell_type": "code",
   "execution_count": 2,
   "id": "7211ccec",
   "metadata": {},
   "outputs": [
    {
     "name": "stdout",
     "output_type": "stream",
     "text": [
      "Inputs:\n",
      "input1: [0, 0, 1, 1]\n",
      "input2: [0, 1, 0, 1]\n",
      "Aggregation: [0 1 1 2]\n",
      "AND_Gate(Aggregation): [0, 0, 0, 1]\n",
      "OR_Gate(Aggregation): [0, 1, 1, 1]\n"
     ]
    }
   ],
   "source": [
    "def MCP_neuron(**kwargs):\n",
    "    inputs = [np.array(kwargs[key]) for key in kwargs]\n",
    "    aggregate = np.add(*inputs).astype(int)\n",
    "    \n",
    "    print('Inputs:')\n",
    "    for i, key in enumerate(kwargs):\n",
    "        print(f'{key}:', kwargs[key])\n",
    "    print(f'Aggregation: {aggregate}')\n",
    "\n",
    "    and_activation = []\n",
    "    for i in aggregate:\n",
    "        if i >= len(inputs):\n",
    "            and_activation.append(1)\n",
    "        else:\n",
    "            and_activation.append(0)\n",
    "    print('AND_Gate(Aggregation):', and_activation)\n",
    "\n",
    "    or_activation = []\n",
    "    for i in aggregate:\n",
    "        if i >= 1:\n",
    "            or_activation.append(1)\n",
    "        else:\n",
    "            or_activation.append(0)\n",
    "    print('OR_Gate(Aggregation):', or_activation)\n",
    "\n",
    "MCP_neuron(input1=[0, 0, 1, 1], input2=[0, 1, 0, 1])"
   ]
  },
  {
   "cell_type": "markdown",
   "id": "b20ca019",
   "metadata": {},
   "source": [
    "### creating MCP neuron by taking inputs manually "
   ]
  },
  {
   "cell_type": "code",
   "execution_count": 3,
   "id": "6c3eaca8",
   "metadata": {},
   "outputs": [
    {
     "name": "stdout",
     "output_type": "stream",
     "text": [
      "Input1: [0 0 1 1]\n",
      "Input2 [0 1 0 1]\n",
      "Aggregation: [0 1 1 2]\n",
      "AND_Gate(Aggregation): [0, 0, 0, 1]\n",
      "OR_Gate(Aggregation): [0, 1, 1, 1]\n"
     ]
    }
   ],
   "source": [
    "input1 = np.array([0,0,1,1])\n",
    "input2 = np.array([0,1,0,1])\n",
    "print('Input1:',input1)\n",
    "print('Input2',input2)\n",
    "aggregate = np.add(input1, input2) \n",
    "print(f'Aggregation: {aggregate}')\n",
    "and_activation = []\n",
    "for i in aggregate:\n",
    "    if i>= 2: # Based on inputs\n",
    "        and_activation.append(1)\n",
    "    else:\n",
    "        and_activation.append(0)\n",
    "        \n",
    "print('AND_Gate(Aggregation):',and_activation)\n",
    "or_activation = []\n",
    "for i in aggregate:\n",
    "    if i>= 1:\n",
    "        or_activation.append(1)\n",
    "    else:\n",
    "        or_activation.append(0)\n",
    "\n",
    "print('OR_Gate(Aggregation):',or_activation)"
   ]
  },
  {
   "cell_type": "code",
   "execution_count": 4,
   "id": "74e17132",
   "metadata": {},
   "outputs": [
    {
     "name": "stdout",
     "output_type": "stream",
     "text": [
      "AND_Predicted Values: [0, 0, 0, 1]\n",
      "OR_Predicted Values: [0, 1, 1, 1]\n"
     ]
    }
   ],
   "source": [
    "input1 = np.array([0,0,1,1])\n",
    "input2 = np.array([0,1,0,1])\n",
    "\n",
    "AND_predict_values = np.logical_and(input1, input2).astype(int).tolist()\n",
    "\n",
    "print(f'AND_Predicted Values: {AND_predict_values}')\n",
    "\n",
    "OR_predict_values = np.logical_or(input1, input2).astype(int).tolist()\n",
    "print(f'OR_Predicted Values: {OR_predict_values}')"
   ]
  },
  {
   "cell_type": "code",
   "execution_count": null,
   "id": "b986a50f",
   "metadata": {},
   "outputs": [],
   "source": []
  }
 ],
 "metadata": {
  "kernelspec": {
   "display_name": "Python 3 (ipykernel)",
   "language": "python",
   "name": "python3"
  },
  "language_info": {
   "codemirror_mode": {
    "name": "ipython",
    "version": 3
   },
   "file_extension": ".py",
   "mimetype": "text/x-python",
   "name": "python",
   "nbconvert_exporter": "python",
   "pygments_lexer": "ipython3",
   "version": "3.9.13"
  }
 },
 "nbformat": 4,
 "nbformat_minor": 5
}
